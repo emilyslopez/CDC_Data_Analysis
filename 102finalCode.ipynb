{
 "cells": [
  {
   "cell_type": "markdown",
   "source": "#### 1. Data Overview",
   "metadata": {
    "cell_id": "1a5c5a038eba425ab575082da1cb04ee",
    "tags": [],
    "deepnote_app_coordinates": {
     "x": 0,
     "y": null,
     "w": 12,
     "h": 5
    },
    "deepnote_cell_type": "markdown",
    "deepnote_cell_height": 54
   }
  },
  {
   "cell_type": "code",
   "metadata": {
    "tags": [],
    "cell_id": "9619a15e-6aeb-4ae2-b9cc-a114887d8f8a",
    "deepnote_to_be_reexecuted": false,
    "source_hash": "46bd6ed2",
    "execution_start": 1652130498817,
    "execution_millis": 3806,
    "deepnote_app_coordinates": {
     "x": 0,
     "y": 6,
     "w": 12,
     "h": 5
    },
    "deepnote_cell_type": "code",
    "deepnote_cell_height": 153,
    "deepnote_output_heights": [
     156
    ]
   },
   "source": "import pandas as pd\nimport numpy as np\nimport matplotlib.pyplot as plt\nimport seaborn as sns\nimport statsmodels.api as sm",
   "execution_count": 1,
   "outputs": []
  },
  {
   "cell_type": "code",
   "metadata": {
    "cell_id": "f31ec7d740484397be126bb1c003ba60",
    "tags": [],
    "deepnote_to_be_reexecuted": false,
    "source_hash": "b76c7064",
    "execution_start": 1652130502655,
    "execution_millis": 12988,
    "deepnote_app_coordinates": {
     "x": 0,
     "y": 12,
     "w": 12,
     "h": 5
    },
    "deepnote_cell_type": "code",
    "deepnote_cell_height": 723.890625
   },
   "source": "# Dataset 1: Chronic Disease and Air Quality\n# CDC: Annual State-Level U.S. Chronic Disease Indicators\nCDC_chronic_diseases = pd.read_csv('CDC_chronic_diseases.csv')\nCDC_chronic_diseases",
   "execution_count": 2,
   "outputs": [
    {
     "name": "stderr",
     "text": "/shared-libs/python3.7/py-core/lib/python3.7/site-packages/IPython/core/interactiveshell.py:3229: DtypeWarning: Columns (10) have mixed types.Specify dtype option on import or set low_memory=False.\n  interactivity=interactivity, compiler=compiler, result=result)\n",
     "output_type": "stream"
    },
    {
     "output_type": "execute_result",
     "execution_count": 2,
     "data": {
      "application/vnd.deepnote.dataframe.v3+json": {
       "column_count": 34,
       "row_count": 1082328,
       "columns": [
        {
         "name": "YearStart",
         "dtype": "int64"
        },
        {
         "name": "YearEnd",
         "dtype": "int64"
        },
        {
         "name": "LocationAbbr",
         "dtype": "object"
        },
        {
         "name": "LocationDesc",
         "dtype": "object"
        },
        {
         "name": "DataSource",
         "dtype": "object"
        },
        {
         "name": "Topic",
         "dtype": "object"
        },
        {
         "name": "Question",
         "dtype": "object"
        },
        {
         "name": "Response",
         "dtype": "float64"
        },
        {
         "name": "DataValueUnit",
         "dtype": "object"
        },
        {
         "name": "DataValueType",
         "dtype": "object"
        },
        {
         "name": "DataValue",
         "dtype": "object"
        },
        {
         "name": "DataValueAlt",
         "dtype": "float64"
        },
        {
         "name": "DataValueFootnoteSymbol",
         "dtype": "object"
        },
        {
         "name": "DatavalueFootnote",
         "dtype": "object"
        },
        {
         "name": "LowConfidenceLimit",
         "dtype": "float64"
        },
        {
         "name": "HighConfidenceLimit",
         "dtype": "float64"
        },
        {
         "name": "StratificationCategory1",
         "dtype": "object"
        },
        {
         "name": "Stratification1",
         "dtype": "object"
        },
        {
         "name": "StratificationCategory2",
         "dtype": "float64"
        },
        {
         "name": "Stratification2",
         "dtype": "float64"
        },
        {
         "name": "StratificationCategory3",
         "dtype": "float64"
        },
        {
         "name": "Stratification3",
         "dtype": "float64"
        },
        {
         "name": "GeoLocation",
         "dtype": "object"
        },
        {
         "name": "ResponseID",
         "dtype": "float64"
        },
        {
         "name": "LocationID",
         "dtype": "int64"
        },
        {
         "name": "TopicID",
         "dtype": "object"
        },
        {
         "name": "QuestionID",
         "dtype": "object"
        },
        {
         "name": "DataValueTypeID",
         "dtype": "object"
        },
        {
         "name": "StratificationCategoryID1",
         "dtype": "object"
        },
        {
         "name": "StratificationID1",
         "dtype": "object"
        },
        {
         "name": "StratificationCategoryID2",
         "dtype": "float64"
        },
        {
         "name": "StratificationID2",
         "dtype": "float64"
        },
        {
         "name": "StratificationCategoryID3",
         "dtype": "float64"
        },
        {
         "name": "StratificationID3",
         "dtype": "float64"
        },
        {
         "name": "_deepnote_index_column",
         "dtype": "int64"
        }
       ],
       "rows": [
        {
         "YearStart": 2011,
         "YearEnd": 2011,
         "LocationAbbr": "AK",
         "LocationDesc": "Alaska",
         "DataSource": "NVSS",
         "Topic": "Cardiovascular Disease",
         "Question": "Mortality from coronary heart disease",
         "Response": "nan",
         "DataValueUnit": "nan",
         "DataValueType": "Number",
         "DataValue": "305",
         "DataValueAlt": 305,
         "DataValueFootnoteSymbol": "nan",
         "DatavalueFootnote": "nan",
         "LowConfidenceLimit": "nan",
         "HighConfidenceLimit": "nan",
         "StratificationCategory1": "Gender",
         "Stratification1": "Male",
         "StratificationCategory2": "nan",
         "Stratification2": "nan",
         "StratificationCategory3": "nan",
         "Stratification3": "nan",
         "GeoLocation": "POINT (-147.72205903599973 64.84507995700051)",
         "ResponseID": "nan",
         "LocationID": 2,
         "TopicID": "CVD",
         "QuestionID": "CVD1_3",
         "DataValueTypeID": "NMBR",
         "StratificationCategoryID1": "GENDER",
         "StratificationID1": "GENM",
         "StratificationCategoryID2": "nan",
         "StratificationID2": "nan",
         "StratificationCategoryID3": "nan",
         "StratificationID3": "nan",
         "_deepnote_index_column": 0
        },
        {
         "YearStart": 2014,
         "YearEnd": 2014,
         "LocationAbbr": "AK",
         "LocationDesc": "Alaska",
         "DataSource": "NVSS",
         "Topic": "Cardiovascular Disease",
         "Question": "Mortality from heart failure",
         "Response": "nan",
         "DataValueUnit": "nan",
         "DataValueType": "Number",
         "DataValue": "193",
         "DataValueAlt": 193,
         "DataValueFootnoteSymbol": "nan",
         "DatavalueFootnote": "nan",
         "LowConfidenceLimit": "nan",
         "HighConfidenceLimit": "nan",
         "StratificationCategory1": "Gender",
         "Stratification1": "Female",
         "StratificationCategory2": "nan",
         "Stratification2": "nan",
         "StratificationCategory3": "nan",
         "Stratification3": "nan",
         "GeoLocation": "POINT (-147.72205903599973 64.84507995700051)",
         "ResponseID": "nan",
         "LocationID": 2,
         "TopicID": "CVD",
         "QuestionID": "CVD1_4",
         "DataValueTypeID": "NMBR",
         "StratificationCategoryID1": "GENDER",
         "StratificationID1": "GENF",
         "StratificationCategoryID2": "nan",
         "StratificationID2": "nan",
         "StratificationCategoryID3": "nan",
         "StratificationID3": "nan",
         "_deepnote_index_column": 1
        },
        {
         "YearStart": 2017,
         "YearEnd": 2017,
         "LocationAbbr": "AK",
         "LocationDesc": "Alaska",
         "DataSource": "SEDD; SID",
         "Topic": "Cardiovascular Disease",
         "Question": "Hospitalization for stroke",
         "Response": "nan",
         "DataValueUnit": "nan",
         "DataValueType": "Number",
         "DataValue": "748",
         "DataValueAlt": 748,
         "DataValueFootnoteSymbol": "nan",
         "DatavalueFootnote": "nan",
         "LowConfidenceLimit": "nan",
         "HighConfidenceLimit": "nan",
         "StratificationCategory1": "Gender",
         "Stratification1": "Female",
         "StratificationCategory2": "nan",
         "Stratification2": "nan",
         "StratificationCategory3": "nan",
         "Stratification3": "nan",
         "GeoLocation": "POINT (-147.72205903599973 64.84507995700051)",
         "ResponseID": "nan",
         "LocationID": 2,
         "TopicID": "CVD",
         "QuestionID": "CVD3_1",
         "DataValueTypeID": "NMBR",
         "StratificationCategoryID1": "GENDER",
         "StratificationID1": "GENF",
         "StratificationCategoryID2": "nan",
         "StratificationID2": "nan",
         "StratificationCategoryID3": "nan",
         "StratificationID3": "nan",
         "_deepnote_index_column": 2
        },
        {
         "YearStart": 2017,
         "YearEnd": 2017,
         "LocationAbbr": "AL",
         "LocationDesc": "Alabama",
         "DataSource": "NVSS",
         "Topic": "Asthma",
         "Question": "Asthma mortality rate",
         "Response": "nan",
         "DataValueUnit": "nan",
         "DataValueType": "Number",
         "DataValue": "40",
         "DataValueAlt": 40,
         "DataValueFootnoteSymbol": "nan",
         "DatavalueFootnote": "nan",
         "LowConfidenceLimit": "nan",
         "HighConfidenceLimit": "nan",
         "StratificationCategory1": "Race/Ethnicity",
         "Stratification1": "White, non-Hispanic",
         "StratificationCategory2": "nan",
         "Stratification2": "nan",
         "StratificationCategory3": "nan",
         "Stratification3": "nan",
         "GeoLocation": "POINT (-86.63186076199969 32.84057112200048)",
         "ResponseID": "nan",
         "LocationID": 1,
         "TopicID": "AST",
         "QuestionID": "AST4_1",
         "DataValueTypeID": "NMBR",
         "StratificationCategoryID1": "RACE",
         "StratificationID1": "WHT",
         "StratificationCategoryID2": "nan",
         "StratificationID2": "nan",
         "StratificationCategoryID3": "nan",
         "StratificationID3": "nan",
         "_deepnote_index_column": 3
        },
        {
         "YearStart": 2015,
         "YearEnd": 2015,
         "LocationAbbr": "AL",
         "LocationDesc": "Alabama",
         "DataSource": "SEDD; SID",
         "Topic": "Asthma",
         "Question": "Hospitalizations for asthma",
         "Response": "nan",
         "DataValueUnit": "nan",
         "DataValueType": "Number",
         "DataValue": "nan",
         "DataValueAlt": "nan",
         "DataValueFootnoteSymbol": "-",
         "DatavalueFootnote": "No data available",
         "LowConfidenceLimit": "nan",
         "HighConfidenceLimit": "nan",
         "StratificationCategory1": "Overall",
         "Stratification1": "Overall",
         "StratificationCategory2": "nan",
         "Stratification2": "nan",
         "StratificationCategory3": "nan",
         "Stratification3": "nan",
         "GeoLocation": "POINT (-86.63186076199969 32.84057112200048)",
         "ResponseID": "nan",
         "LocationID": 1,
         "TopicID": "AST",
         "QuestionID": "AST3_1",
         "DataValueTypeID": "NMBR",
         "StratificationCategoryID1": "OVERALL",
         "StratificationID1": "OVR",
         "StratificationCategoryID2": "nan",
         "StratificationID2": "nan",
         "StratificationCategoryID3": "nan",
         "StratificationID3": "nan",
         "_deepnote_index_column": 4
        },
        {
         "YearStart": 2015,
         "YearEnd": 2015,
         "LocationAbbr": "AR",
         "LocationDesc": "Arkansas",
         "DataSource": "NVSS",
         "Topic": "Alcohol",
         "Question": "Chronic liver disease mortality",
         "Response": "nan",
         "DataValueUnit": "nan",
         "DataValueType": "Number",
         "DataValue": "266",
         "DataValueAlt": 266,
         "DataValueFootnoteSymbol": "nan",
         "DatavalueFootnote": "nan",
         "LowConfidenceLimit": "nan",
         "HighConfidenceLimit": "nan",
         "StratificationCategory1": "Gender",
         "Stratification1": "Male",
         "StratificationCategory2": "nan",
         "Stratification2": "nan",
         "StratificationCategory3": "nan",
         "Stratification3": "nan",
         "GeoLocation": "POINT (-92.27449074299966 34.74865012400045)",
         "ResponseID": "nan",
         "LocationID": 5,
         "TopicID": "ALC",
         "QuestionID": "ALC6_0",
         "DataValueTypeID": "NMBR",
         "StratificationCategoryID1": "GENDER",
         "StratificationID1": "GENM",
         "StratificationCategoryID2": "nan",
         "StratificationID2": "nan",
         "StratificationCategoryID3": "nan",
         "StratificationID3": "nan",
         "_deepnote_index_column": 5
        },
        {
         "YearStart": 2018,
         "YearEnd": 2018,
         "LocationAbbr": "AR",
         "LocationDesc": "Arkansas",
         "DataSource": "NVSS",
         "Topic": "Alcohol",
         "Question": "Chronic liver disease mortality",
         "Response": "nan",
         "DataValueUnit": "nan",
         "DataValueType": "Number",
         "DataValue": "267",
         "DataValueAlt": 267,
         "DataValueFootnoteSymbol": "nan",
         "DatavalueFootnote": "nan",
         "LowConfidenceLimit": "nan",
         "HighConfidenceLimit": "nan",
         "StratificationCategory1": "Gender",
         "Stratification1": "Male",
         "StratificationCategory2": "nan",
         "Stratification2": "nan",
         "StratificationCategory3": "nan",
         "Stratification3": "nan",
         "GeoLocation": "POINT (-92.27449074299966 34.74865012400045)",
         "ResponseID": "nan",
         "LocationID": 5,
         "TopicID": "ALC",
         "QuestionID": "ALC6_0",
         "DataValueTypeID": "NMBR",
         "StratificationCategoryID1": "GENDER",
         "StratificationID1": "GENM",
         "StratificationCategoryID2": "nan",
         "StratificationID2": "nan",
         "StratificationCategoryID3": "nan",
         "StratificationID3": "nan",
         "_deepnote_index_column": 6
        },
        {
         "YearStart": 2015,
         "YearEnd": 2015,
         "LocationAbbr": "AZ",
         "LocationDesc": "Arizona",
         "DataSource": "NVSS",
         "Topic": "Asthma",
         "Question": "Asthma mortality rate",
         "Response": "nan",
         "DataValueUnit": "nan",
         "DataValueType": "Number",
         "DataValue": "49",
         "DataValueAlt": 49,
         "DataValueFootnoteSymbol": "nan",
         "DatavalueFootnote": "nan",
         "LowConfidenceLimit": "nan",
         "HighConfidenceLimit": "nan",
         "StratificationCategory1": "Gender",
         "Stratification1": "Female",
         "StratificationCategory2": "nan",
         "Stratification2": "nan",
         "StratificationCategory3": "nan",
         "Stratification3": "nan",
         "GeoLocation": "POINT (-111.76381127699972 34.865970280000454)",
         "ResponseID": "nan",
         "LocationID": 4,
         "TopicID": "AST",
         "QuestionID": "AST4_1",
         "DataValueTypeID": "NMBR",
         "StratificationCategoryID1": "GENDER",
         "StratificationID1": "GENF",
         "StratificationCategoryID2": "nan",
         "StratificationID2": "nan",
         "StratificationCategoryID3": "nan",
         "StratificationID3": "nan",
         "_deepnote_index_column": 7
        },
        {
         "YearStart": 2016,
         "YearEnd": 2016,
         "LocationAbbr": "AZ",
         "LocationDesc": "Arizona",
         "DataSource": "NVSS",
         "Topic": "Asthma",
         "Question": "Asthma mortality rate",
         "Response": "nan",
         "DataValueUnit": "nan",
         "DataValueType": "Number",
         "DataValue": "108",
         "DataValueAlt": 108,
         "DataValueFootnoteSymbol": "nan",
         "DatavalueFootnote": "nan",
         "LowConfidenceLimit": "nan",
         "HighConfidenceLimit": "nan",
         "StratificationCategory1": "Overall",
         "Stratification1": "Overall",
         "StratificationCategory2": "nan",
         "Stratification2": "nan",
         "StratificationCategory3": "nan",
         "Stratification3": "nan",
         "GeoLocation": "POINT (-111.76381127699972 34.865970280000454)",
         "ResponseID": "nan",
         "LocationID": 4,
         "TopicID": "AST",
         "QuestionID": "AST4_1",
         "DataValueTypeID": "NMBR",
         "StratificationCategoryID1": "OVERALL",
         "StratificationID1": "OVR",
         "StratificationCategoryID2": "nan",
         "StratificationID2": "nan",
         "StratificationCategoryID3": "nan",
         "StratificationID3": "nan",
         "_deepnote_index_column": 8
        },
        {
         "YearStart": 2014,
         "YearEnd": 2014,
         "LocationAbbr": "AZ",
         "LocationDesc": "Arizona",
         "DataSource": "SEDD; SID",
         "Topic": "Asthma",
         "Question": "Hospitalizations for asthma",
         "Response": "nan",
         "DataValueUnit": "nan",
         "DataValueType": "Number",
         "DataValue": "2294",
         "DataValueAlt": 2294,
         "DataValueFootnoteSymbol": "nan",
         "DatavalueFootnote": "nan",
         "LowConfidenceLimit": "nan",
         "HighConfidenceLimit": "nan",
         "StratificationCategory1": "Gender",
         "Stratification1": "Male",
         "StratificationCategory2": "nan",
         "Stratification2": "nan",
         "StratificationCategory3": "nan",
         "Stratification3": "nan",
         "GeoLocation": "POINT (-111.76381127699972 34.865970280000454)",
         "ResponseID": "nan",
         "LocationID": 4,
         "TopicID": "AST",
         "QuestionID": "AST3_1",
         "DataValueTypeID": "NMBR",
         "StratificationCategoryID1": "GENDER",
         "StratificationID1": "GENM",
         "StratificationCategoryID2": "nan",
         "StratificationID2": "nan",
         "StratificationCategoryID3": "nan",
         "StratificationID3": "nan",
         "_deepnote_index_column": 9
        }
       ]
      },
      "text/plain": "         YearStart  YearEnd LocationAbbr   LocationDesc DataSource  \\\n0             2011     2011           AK         Alaska       NVSS   \n1             2014     2014           AK         Alaska       NVSS   \n2             2017     2017           AK         Alaska  SEDD; SID   \n3             2017     2017           AL        Alabama       NVSS   \n4             2015     2015           AL        Alabama  SEDD; SID   \n...            ...      ...          ...            ...        ...   \n1082323       2020     2020           WA     Washington      BRFSS   \n1082324       2020     2020           WV  West Virginia      BRFSS   \n1082325       2020     2020           WY        Wyoming      BRFSS   \n1082326       2020     2020           VT        Vermont      BRFSS   \n1082327       2020     2020           WI      Wisconsin      BRFSS   \n\n                                                   Topic  \\\n0                                 Cardiovascular Disease   \n1                                 Cardiovascular Disease   \n2                                 Cardiovascular Disease   \n3                                                 Asthma   \n4                                                 Asthma   \n...                                                  ...   \n1082323  Nutrition, Physical Activity, and Weight Status   \n1082324            Chronic Obstructive Pulmonary Disease   \n1082325            Chronic Obstructive Pulmonary Disease   \n1082326                           Overarching Conditions   \n1082327                                         Diabetes   \n\n                                                  Question  Response  \\\n0                    Mortality from coronary heart disease       NaN   \n1                             Mortality from heart failure       NaN   \n2                               Hospitalization for stroke       NaN   \n3                                    Asthma mortality rate       NaN   \n4                              Hospitalizations for asthma       NaN   \n...                                                    ...       ...   \n1082323              Obesity among adults aged >= 18 years       NaN   \n1082324  Prevalence of current smoking among adults >= ...       NaN   \n1082325  Influenza vaccination among noninstitutionaliz...       NaN   \n1082326  Self-rated health status among women aged 18-4...       NaN   \n1082327  Prevalence of diagnosed diabetes among adults ...       NaN   \n\n        DataValueUnit            DataValueType  ... LocationID  TopicID  \\\n0                 NaN                   Number  ...          2      CVD   \n1                 NaN                   Number  ...          2      CVD   \n2                 NaN                   Number  ...          2      CVD   \n3                 NaN                   Number  ...          1      AST   \n4                 NaN                   Number  ...          1      AST   \n...               ...                      ...  ...        ...      ...   \n1082323             %         Crude Prevalence  ...         53     NPAW   \n1082324             %  Age-adjusted Prevalence  ...         54     COPD   \n1082325             %         Crude Prevalence  ...         56     COPD   \n1082326             %         Crude Prevalence  ...         50      OVC   \n1082327             %  Age-adjusted Prevalence  ...         55      DIA   \n\n        QuestionID DataValueTypeID  StratificationCategoryID1  \\\n0           CVD1_3            NMBR                     GENDER   \n1           CVD1_4            NMBR                     GENDER   \n2           CVD3_1            NMBR                     GENDER   \n3           AST4_1            NMBR                       RACE   \n4           AST3_1            NMBR                    OVERALL   \n...            ...             ...                        ...   \n1082323    NPAW1_1         CRDPREV                       RACE   \n1082324  COPD3_0_1      AGEADJPREV                       RACE   \n1082325    COPD7_0         CRDPREV                       RACE   \n1082326     OVC6_2         CRDPREV                       RACE   \n1082327     DIA2_1      AGEADJPREV                       RACE   \n\n         StratificationID1 StratificationCategoryID2 StratificationID2  \\\n0                     GENM                       NaN               NaN   \n1                     GENF                       NaN               NaN   \n2                     GENF                       NaN               NaN   \n3                      WHT                       NaN               NaN   \n4                      OVR                       NaN               NaN   \n...                    ...                       ...               ...   \n1082323                BLK                       NaN               NaN   \n1082324                WHT                       NaN               NaN   \n1082325                WHT                       NaN               NaN   \n1082326                OTH                       NaN               NaN   \n1082327                MRC                       NaN               NaN   \n\n         StratificationCategoryID3  StratificationID3  \n0                              NaN                NaN  \n1                              NaN                NaN  \n2                              NaN                NaN  \n3                              NaN                NaN  \n4                              NaN                NaN  \n...                            ...                ...  \n1082323                        NaN                NaN  \n1082324                        NaN                NaN  \n1082325                        NaN                NaN  \n1082326                        NaN                NaN  \n1082327                        NaN                NaN  \n\n[1082328 rows x 34 columns]",
      "text/html": "<div>\n<style scoped>\n    .dataframe tbody tr th:only-of-type {\n        vertical-align: middle;\n    }\n\n    .dataframe tbody tr th {\n        vertical-align: top;\n    }\n\n    .dataframe thead th {\n        text-align: right;\n    }\n</style>\n<table border=\"1\" class=\"dataframe\">\n  <thead>\n    <tr style=\"text-align: right;\">\n      <th></th>\n      <th>YearStart</th>\n      <th>YearEnd</th>\n      <th>LocationAbbr</th>\n      <th>LocationDesc</th>\n      <th>DataSource</th>\n      <th>Topic</th>\n      <th>Question</th>\n      <th>Response</th>\n      <th>DataValueUnit</th>\n      <th>DataValueType</th>\n      <th>...</th>\n      <th>LocationID</th>\n      <th>TopicID</th>\n      <th>QuestionID</th>\n      <th>DataValueTypeID</th>\n      <th>StratificationCategoryID1</th>\n      <th>StratificationID1</th>\n      <th>StratificationCategoryID2</th>\n      <th>StratificationID2</th>\n      <th>StratificationCategoryID3</th>\n      <th>StratificationID3</th>\n    </tr>\n  </thead>\n  <tbody>\n    <tr>\n      <th>0</th>\n      <td>2011</td>\n      <td>2011</td>\n      <td>AK</td>\n      <td>Alaska</td>\n      <td>NVSS</td>\n      <td>Cardiovascular Disease</td>\n      <td>Mortality from coronary heart disease</td>\n      <td>NaN</td>\n      <td>NaN</td>\n      <td>Number</td>\n      <td>...</td>\n      <td>2</td>\n      <td>CVD</td>\n      <td>CVD1_3</td>\n      <td>NMBR</td>\n      <td>GENDER</td>\n      <td>GENM</td>\n      <td>NaN</td>\n      <td>NaN</td>\n      <td>NaN</td>\n      <td>NaN</td>\n    </tr>\n    <tr>\n      <th>1</th>\n      <td>2014</td>\n      <td>2014</td>\n      <td>AK</td>\n      <td>Alaska</td>\n      <td>NVSS</td>\n      <td>Cardiovascular Disease</td>\n      <td>Mortality from heart failure</td>\n      <td>NaN</td>\n      <td>NaN</td>\n      <td>Number</td>\n      <td>...</td>\n      <td>2</td>\n      <td>CVD</td>\n      <td>CVD1_4</td>\n      <td>NMBR</td>\n      <td>GENDER</td>\n      <td>GENF</td>\n      <td>NaN</td>\n      <td>NaN</td>\n      <td>NaN</td>\n      <td>NaN</td>\n    </tr>\n    <tr>\n      <th>2</th>\n      <td>2017</td>\n      <td>2017</td>\n      <td>AK</td>\n      <td>Alaska</td>\n      <td>SEDD; SID</td>\n      <td>Cardiovascular Disease</td>\n      <td>Hospitalization for stroke</td>\n      <td>NaN</td>\n      <td>NaN</td>\n      <td>Number</td>\n      <td>...</td>\n      <td>2</td>\n      <td>CVD</td>\n      <td>CVD3_1</td>\n      <td>NMBR</td>\n      <td>GENDER</td>\n      <td>GENF</td>\n      <td>NaN</td>\n      <td>NaN</td>\n      <td>NaN</td>\n      <td>NaN</td>\n    </tr>\n    <tr>\n      <th>3</th>\n      <td>2017</td>\n      <td>2017</td>\n      <td>AL</td>\n      <td>Alabama</td>\n      <td>NVSS</td>\n      <td>Asthma</td>\n      <td>Asthma mortality rate</td>\n      <td>NaN</td>\n      <td>NaN</td>\n      <td>Number</td>\n      <td>...</td>\n      <td>1</td>\n      <td>AST</td>\n      <td>AST4_1</td>\n      <td>NMBR</td>\n      <td>RACE</td>\n      <td>WHT</td>\n      <td>NaN</td>\n      <td>NaN</td>\n      <td>NaN</td>\n      <td>NaN</td>\n    </tr>\n    <tr>\n      <th>4</th>\n      <td>2015</td>\n      <td>2015</td>\n      <td>AL</td>\n      <td>Alabama</td>\n      <td>SEDD; SID</td>\n      <td>Asthma</td>\n      <td>Hospitalizations for asthma</td>\n      <td>NaN</td>\n      <td>NaN</td>\n      <td>Number</td>\n      <td>...</td>\n      <td>1</td>\n      <td>AST</td>\n      <td>AST3_1</td>\n      <td>NMBR</td>\n      <td>OVERALL</td>\n      <td>OVR</td>\n      <td>NaN</td>\n      <td>NaN</td>\n      <td>NaN</td>\n      <td>NaN</td>\n    </tr>\n    <tr>\n      <th>...</th>\n      <td>...</td>\n      <td>...</td>\n      <td>...</td>\n      <td>...</td>\n      <td>...</td>\n      <td>...</td>\n      <td>...</td>\n      <td>...</td>\n      <td>...</td>\n      <td>...</td>\n      <td>...</td>\n      <td>...</td>\n      <td>...</td>\n      <td>...</td>\n      <td>...</td>\n      <td>...</td>\n      <td>...</td>\n      <td>...</td>\n      <td>...</td>\n      <td>...</td>\n      <td>...</td>\n    </tr>\n    <tr>\n      <th>1082323</th>\n      <td>2020</td>\n      <td>2020</td>\n      <td>WA</td>\n      <td>Washington</td>\n      <td>BRFSS</td>\n      <td>Nutrition, Physical Activity, and Weight Status</td>\n      <td>Obesity among adults aged &gt;= 18 years</td>\n      <td>NaN</td>\n      <td>%</td>\n      <td>Crude Prevalence</td>\n      <td>...</td>\n      <td>53</td>\n      <td>NPAW</td>\n      <td>NPAW1_1</td>\n      <td>CRDPREV</td>\n      <td>RACE</td>\n      <td>BLK</td>\n      <td>NaN</td>\n      <td>NaN</td>\n      <td>NaN</td>\n      <td>NaN</td>\n    </tr>\n    <tr>\n      <th>1082324</th>\n      <td>2020</td>\n      <td>2020</td>\n      <td>WV</td>\n      <td>West Virginia</td>\n      <td>BRFSS</td>\n      <td>Chronic Obstructive Pulmonary Disease</td>\n      <td>Prevalence of current smoking among adults &gt;= ...</td>\n      <td>NaN</td>\n      <td>%</td>\n      <td>Age-adjusted Prevalence</td>\n      <td>...</td>\n      <td>54</td>\n      <td>COPD</td>\n      <td>COPD3_0_1</td>\n      <td>AGEADJPREV</td>\n      <td>RACE</td>\n      <td>WHT</td>\n      <td>NaN</td>\n      <td>NaN</td>\n      <td>NaN</td>\n      <td>NaN</td>\n    </tr>\n    <tr>\n      <th>1082325</th>\n      <td>2020</td>\n      <td>2020</td>\n      <td>WY</td>\n      <td>Wyoming</td>\n      <td>BRFSS</td>\n      <td>Chronic Obstructive Pulmonary Disease</td>\n      <td>Influenza vaccination among noninstitutionaliz...</td>\n      <td>NaN</td>\n      <td>%</td>\n      <td>Crude Prevalence</td>\n      <td>...</td>\n      <td>56</td>\n      <td>COPD</td>\n      <td>COPD7_0</td>\n      <td>CRDPREV</td>\n      <td>RACE</td>\n      <td>WHT</td>\n      <td>NaN</td>\n      <td>NaN</td>\n      <td>NaN</td>\n      <td>NaN</td>\n    </tr>\n    <tr>\n      <th>1082326</th>\n      <td>2020</td>\n      <td>2020</td>\n      <td>VT</td>\n      <td>Vermont</td>\n      <td>BRFSS</td>\n      <td>Overarching Conditions</td>\n      <td>Self-rated health status among women aged 18-4...</td>\n      <td>NaN</td>\n      <td>%</td>\n      <td>Crude Prevalence</td>\n      <td>...</td>\n      <td>50</td>\n      <td>OVC</td>\n      <td>OVC6_2</td>\n      <td>CRDPREV</td>\n      <td>RACE</td>\n      <td>OTH</td>\n      <td>NaN</td>\n      <td>NaN</td>\n      <td>NaN</td>\n      <td>NaN</td>\n    </tr>\n    <tr>\n      <th>1082327</th>\n      <td>2020</td>\n      <td>2020</td>\n      <td>WI</td>\n      <td>Wisconsin</td>\n      <td>BRFSS</td>\n      <td>Diabetes</td>\n      <td>Prevalence of diagnosed diabetes among adults ...</td>\n      <td>NaN</td>\n      <td>%</td>\n      <td>Age-adjusted Prevalence</td>\n      <td>...</td>\n      <td>55</td>\n      <td>DIA</td>\n      <td>DIA2_1</td>\n      <td>AGEADJPREV</td>\n      <td>RACE</td>\n      <td>MRC</td>\n      <td>NaN</td>\n      <td>NaN</td>\n      <td>NaN</td>\n      <td>NaN</td>\n    </tr>\n  </tbody>\n</table>\n<p>1082328 rows × 34 columns</p>\n</div>"
     },
     "metadata": {}
    }
   ]
  },
  {
   "cell_type": "code",
   "source": "# CDC:  Chronic Obstructive Pulmonary Disease (COPD) \nCDC_COPD = pd.read_csv('CDC_COPD.csv')\nCDC_COPD",
   "metadata": {
    "cell_id": "8870e50b81714490a43af265b4a535bb",
    "tags": [],
    "deepnote_to_be_reexecuted": false,
    "source_hash": "777e131e",
    "execution_start": 1652130515647,
    "execution_millis": 1411,
    "deepnote_cell_type": "code",
    "deepnote_cell_height": 636
   },
   "outputs": [
    {
     "output_type": "execute_result",
     "execution_count": 3,
     "data": {
      "application/vnd.deepnote.dataframe.v3+json": {
       "column_count": 33,
       "row_count": 142704,
       "columns": [
        {
         "name": "YearStart",
         "dtype": "int64"
        },
        {
         "name": "YearEnd",
         "dtype": "int64"
        },
        {
         "name": "LocationAbbr",
         "dtype": "object"
        },
        {
         "name": "LocationDesc",
         "dtype": "object"
        },
        {
         "name": "DataSource",
         "dtype": "object"
        },
        {
         "name": "Topic",
         "dtype": "object"
        },
        {
         "name": "Question",
         "dtype": "object"
        },
        {
         "name": "Response",
         "dtype": "float64"
        },
        {
         "name": "DataValueUnit",
         "dtype": "object"
        },
        {
         "name": "DataValueType",
         "dtype": "object"
        },
        {
         "name": "DataValue",
         "dtype": "float64"
        },
        {
         "name": "DataValueAlt",
         "dtype": "float64"
        },
        {
         "name": "DataValueFootnoteSymbol",
         "dtype": "object"
        },
        {
         "name": "DatavalueFootnote",
         "dtype": "object"
        },
        {
         "name": "LowConfidenceLimit",
         "dtype": "float64"
        },
        {
         "name": "HighConfidenceLimit",
         "dtype": "float64"
        },
        {
         "name": "StratificationCategory1",
         "dtype": "object"
        },
        {
         "name": "Stratification1",
         "dtype": "object"
        },
        {
         "name": "StratificationCategory2",
         "dtype": "float64"
        },
        {
         "name": "Stratification2",
         "dtype": "float64"
        },
        {
         "name": "StratificationCategory3",
         "dtype": "float64"
        },
        {
         "name": "Stratification3",
         "dtype": "float64"
        },
        {
         "name": "ResponseID",
         "dtype": "float64"
        },
        {
         "name": "LocationID",
         "dtype": "int64"
        },
        {
         "name": "TopicID",
         "dtype": "object"
        },
        {
         "name": "QuestionID",
         "dtype": "object"
        },
        {
         "name": "DataValueTypeID",
         "dtype": "object"
        },
        {
         "name": "StratificationCategoryID1",
         "dtype": "object"
        },
        {
         "name": "StratificationID1",
         "dtype": "object"
        },
        {
         "name": "StratificationCategoryID2",
         "dtype": "float64"
        },
        {
         "name": "StratificationID2",
         "dtype": "float64"
        },
        {
         "name": "StratificationCategoryID3",
         "dtype": "float64"
        },
        {
         "name": "StratificationID3",
         "dtype": "float64"
        },
        {
         "name": "_deepnote_index_column",
         "dtype": "int64"
        }
       ],
       "rows": [
        {
         "YearStart": 2015,
         "YearEnd": 2015,
         "LocationAbbr": "AK",
         "LocationDesc": "Alaska",
         "DataSource": "NVSS",
         "Topic": "Chronic Obstructive Pulmonary Disease",
         "Question": "Mortality with chronic obstructive pulmonary disease as underlying or contributing cause among adults aged >= 45 years",
         "Response": "nan",
         "DataValueUnit": "cases per 100,000",
         "DataValueType": "Age-adjusted Rate",
         "DataValue": 216.5,
         "DataValueAlt": 216.5,
         "DataValueFootnoteSymbol": "nan",
         "DatavalueFootnote": "nan",
         "LowConfidenceLimit": 194.1,
         "HighConfidenceLimit": 238.8,
         "StratificationCategory1": "Overall",
         "Stratification1": "Overall",
         "StratificationCategory2": "nan",
         "Stratification2": "nan",
         "StratificationCategory3": "nan",
         "Stratification3": "nan",
         "ResponseID": "nan",
         "LocationID": 2,
         "TopicID": "COPD",
         "QuestionID": "COPD1_2",
         "DataValueTypeID": "AGEADJRATE",
         "StratificationCategoryID1": "OVERALL",
         "StratificationID1": "OVR",
         "StratificationCategoryID2": "nan",
         "StratificationID2": "nan",
         "StratificationCategoryID3": "nan",
         "StratificationID3": "nan",
         "_deepnote_index_column": 0
        },
        {
         "YearStart": 2015,
         "YearEnd": 2015,
         "LocationAbbr": "AK",
         "LocationDesc": "Alaska",
         "DataSource": "CMS Part A Claims Data",
         "Topic": "Chronic Obstructive Pulmonary Disease",
         "Question": "Hospitalization for chronic obstructive pulmonary disease as any diagnosis among Medicare-eligible persons aged >= 65 years",
         "Response": "nan",
         "DataValueUnit": "cases per 1,000",
         "DataValueType": "Age-adjusted Rate",
         "DataValue": 45.5,
         "DataValueAlt": 45.5,
         "DataValueFootnoteSymbol": "nan",
         "DatavalueFootnote": "nan",
         "LowConfidenceLimit": 43.77,
         "HighConfidenceLimit": 47.23,
         "StratificationCategory1": "Overall",
         "Stratification1": "Overall",
         "StratificationCategory2": "nan",
         "Stratification2": "nan",
         "StratificationCategory3": "nan",
         "Stratification3": "nan",
         "ResponseID": "nan",
         "LocationID": 2,
         "TopicID": "COPD",
         "QuestionID": "COPD5_4",
         "DataValueTypeID": "AGEADJRATE",
         "StratificationCategoryID1": "OVERALL",
         "StratificationID1": "OVR",
         "StratificationCategoryID2": "nan",
         "StratificationID2": "nan",
         "StratificationCategoryID3": "nan",
         "StratificationID3": "nan",
         "_deepnote_index_column": 1
        },
        {
         "YearStart": 2011,
         "YearEnd": 2011,
         "LocationAbbr": "AL",
         "LocationDesc": "Alabama",
         "DataSource": "NVSS",
         "Topic": "Chronic Obstructive Pulmonary Disease",
         "Question": "Mortality with chronic obstructive pulmonary disease as underlying cause among adults aged >= 45 years",
         "Response": "nan",
         "DataValueUnit": "cases per 100,000",
         "DataValueType": "Crude Rate",
         "DataValue": 172.4,
         "DataValueAlt": 172.4,
         "DataValueFootnoteSymbol": "nan",
         "DatavalueFootnote": "nan",
         "LowConfidenceLimit": 165.7,
         "HighConfidenceLimit": 179.1,
         "StratificationCategory1": "Race/Ethnicity",
         "Stratification1": "White, non-Hispanic",
         "StratificationCategory2": "nan",
         "Stratification2": "nan",
         "StratificationCategory3": "nan",
         "Stratification3": "nan",
         "ResponseID": "nan",
         "LocationID": 1,
         "TopicID": "COPD",
         "QuestionID": "COPD1_1",
         "DataValueTypeID": "CRDRATE",
         "StratificationCategoryID1": "RACE",
         "StratificationID1": "WHT",
         "StratificationCategoryID2": "nan",
         "StratificationID2": "nan",
         "StratificationCategoryID3": "nan",
         "StratificationID3": "nan",
         "_deepnote_index_column": 2
        },
        {
         "YearStart": 2017,
         "YearEnd": 2017,
         "LocationAbbr": "AL",
         "LocationDesc": "Alabama",
         "DataSource": "SEDD; SID",
         "Topic": "Chronic Obstructive Pulmonary Disease",
         "Question": "Emergency department visit rate for chronic obstructive pulmonary disease as any diagnosis",
         "Response": "nan",
         "DataValueUnit": "nan",
         "DataValueType": "Number",
         "DataValue": "nan",
         "DataValueAlt": "nan",
         "DataValueFootnoteSymbol": "-",
         "DatavalueFootnote": "No data available",
         "LowConfidenceLimit": "nan",
         "HighConfidenceLimit": "nan",
         "StratificationCategory1": "Gender",
         "Stratification1": "Female",
         "StratificationCategory2": "nan",
         "Stratification2": "nan",
         "StratificationCategory3": "nan",
         "Stratification3": "nan",
         "ResponseID": "nan",
         "LocationID": 1,
         "TopicID": "COPD",
         "QuestionID": "COPD6_2",
         "DataValueTypeID": "NMBR",
         "StratificationCategoryID1": "GENDER",
         "StratificationID1": "GENF",
         "StratificationCategoryID2": "nan",
         "StratificationID2": "nan",
         "StratificationCategoryID3": "nan",
         "StratificationID3": "nan",
         "_deepnote_index_column": 3
        },
        {
         "YearStart": 2017,
         "YearEnd": 2017,
         "LocationAbbr": "AR",
         "LocationDesc": "Arkansas",
         "DataSource": "NVSS",
         "Topic": "Chronic Obstructive Pulmonary Disease",
         "Question": "Mortality with chronic obstructive pulmonary disease as underlying cause among adults aged >= 45 years",
         "Response": "nan",
         "DataValueUnit": "cases per 100,000",
         "DataValueType": "Crude Rate",
         "DataValue": 190.2,
         "DataValueAlt": 190.2,
         "DataValueFootnoteSymbol": "nan",
         "DatavalueFootnote": "nan",
         "LowConfidenceLimit": 179.1,
         "HighConfidenceLimit": 201.3,
         "StratificationCategory1": "Gender",
         "Stratification1": "Male",
         "StratificationCategory2": "nan",
         "Stratification2": "nan",
         "StratificationCategory3": "nan",
         "Stratification3": "nan",
         "ResponseID": "nan",
         "LocationID": 5,
         "TopicID": "COPD",
         "QuestionID": "COPD1_1",
         "DataValueTypeID": "CRDRATE",
         "StratificationCategoryID1": "GENDER",
         "StratificationID1": "GENM",
         "StratificationCategoryID2": "nan",
         "StratificationID2": "nan",
         "StratificationCategoryID3": "nan",
         "StratificationID3": "nan",
         "_deepnote_index_column": 4
        },
        {
         "YearStart": 2017,
         "YearEnd": 2017,
         "LocationAbbr": "AK",
         "LocationDesc": "Alaska",
         "DataSource": "NVSS",
         "Topic": "Chronic Obstructive Pulmonary Disease",
         "Question": "Mortality with chronic obstructive pulmonary disease as underlying or contributing cause among adults aged >= 45 years",
         "Response": "nan",
         "DataValueUnit": "cases per 100,000",
         "DataValueType": "Age-adjusted Rate",
         "DataValue": "nan",
         "DataValueAlt": "nan",
         "DataValueFootnoteSymbol": "~",
         "DatavalueFootnote": "Data not shown because of too few respondents or cases",
         "LowConfidenceLimit": "nan",
         "HighConfidenceLimit": "nan",
         "StratificationCategory1": "Race/Ethnicity",
         "Stratification1": "Black, non-Hispanic",
         "StratificationCategory2": "nan",
         "Stratification2": "nan",
         "StratificationCategory3": "nan",
         "Stratification3": "nan",
         "ResponseID": "nan",
         "LocationID": 2,
         "TopicID": "COPD",
         "QuestionID": "COPD1_2",
         "DataValueTypeID": "AGEADJRATE",
         "StratificationCategoryID1": "RACE",
         "StratificationID1": "BLK",
         "StratificationCategoryID2": "nan",
         "StratificationID2": "nan",
         "StratificationCategoryID3": "nan",
         "StratificationID3": "nan",
         "_deepnote_index_column": 5
        },
        {
         "YearStart": 2013,
         "YearEnd": 2013,
         "LocationAbbr": "AR",
         "LocationDesc": "Arkansas",
         "DataSource": "NVSS",
         "Topic": "Chronic Obstructive Pulmonary Disease",
         "Question": "Mortality with chronic obstructive pulmonary disease as underlying or contributing cause among adults aged >= 45 years",
         "Response": "nan",
         "DataValueUnit": "nan",
         "DataValueType": "Number",
         "DataValue": 3340,
         "DataValueAlt": 3340,
         "DataValueFootnoteSymbol": "nan",
         "DatavalueFootnote": "nan",
         "LowConfidenceLimit": "nan",
         "HighConfidenceLimit": "nan",
         "StratificationCategory1": "Overall",
         "Stratification1": "Overall",
         "StratificationCategory2": "nan",
         "Stratification2": "nan",
         "StratificationCategory3": "nan",
         "Stratification3": "nan",
         "ResponseID": "nan",
         "LocationID": 5,
         "TopicID": "COPD",
         "QuestionID": "COPD1_2",
         "DataValueTypeID": "NMBR",
         "StratificationCategoryID1": "OVERALL",
         "StratificationID1": "OVR",
         "StratificationCategoryID2": "nan",
         "StratificationID2": "nan",
         "StratificationCategoryID3": "nan",
         "StratificationID3": "nan",
         "_deepnote_index_column": 6
        },
        {
         "YearStart": 2012,
         "YearEnd": 2012,
         "LocationAbbr": "AL",
         "LocationDesc": "Alabama",
         "DataSource": "CMS Part A Claims Data",
         "Topic": "Chronic Obstructive Pulmonary Disease",
         "Question": "Hospitalization for chronic obstructive pulmonary disease as any diagnosis among Medicare-eligible persons aged >= 65 years",
         "Response": "nan",
         "DataValueUnit": "cases per 1,000",
         "DataValueType": "Crude Rate",
         "DataValue": 89.7,
         "DataValueAlt": 89.7,
         "DataValueFootnoteSymbol": "nan",
         "DatavalueFootnote": "nan",
         "LowConfidenceLimit": 88.67,
         "HighConfidenceLimit": 90.72,
         "StratificationCategory1": "Gender",
         "Stratification1": "Female",
         "StratificationCategory2": "nan",
         "Stratification2": "nan",
         "StratificationCategory3": "nan",
         "Stratification3": "nan",
         "ResponseID": "nan",
         "LocationID": 1,
         "TopicID": "COPD",
         "QuestionID": "COPD5_4",
         "DataValueTypeID": "CRDRATE",
         "StratificationCategoryID1": "GENDER",
         "StratificationID1": "GENF",
         "StratificationCategoryID2": "nan",
         "StratificationID2": "nan",
         "StratificationCategoryID3": "nan",
         "StratificationID3": "nan",
         "_deepnote_index_column": 7
        },
        {
         "YearStart": 2011,
         "YearEnd": 2011,
         "LocationAbbr": "AL",
         "LocationDesc": "Alabama",
         "DataSource": "NVSS",
         "Topic": "Chronic Obstructive Pulmonary Disease",
         "Question": "Mortality with chronic obstructive pulmonary disease as underlying cause among adults aged >= 45 years",
         "Response": "nan",
         "DataValueUnit": "nan",
         "DataValueType": "Number",
         "DataValue": 2842,
         "DataValueAlt": 2842,
         "DataValueFootnoteSymbol": "nan",
         "DatavalueFootnote": "nan",
         "LowConfidenceLimit": "nan",
         "HighConfidenceLimit": "nan",
         "StratificationCategory1": "Overall",
         "Stratification1": "Overall",
         "StratificationCategory2": "nan",
         "Stratification2": "nan",
         "StratificationCategory3": "nan",
         "Stratification3": "nan",
         "ResponseID": "nan",
         "LocationID": 1,
         "TopicID": "COPD",
         "QuestionID": "COPD1_1",
         "DataValueTypeID": "NMBR",
         "StratificationCategoryID1": "OVERALL",
         "StratificationID1": "OVR",
         "StratificationCategoryID2": "nan",
         "StratificationID2": "nan",
         "StratificationCategoryID3": "nan",
         "StratificationID3": "nan",
         "_deepnote_index_column": 8
        },
        {
         "YearStart": 2012,
         "YearEnd": 2012,
         "LocationAbbr": "AR",
         "LocationDesc": "Arkansas",
         "DataSource": "NVSS",
         "Topic": "Chronic Obstructive Pulmonary Disease",
         "Question": "Mortality with chronic obstructive pulmonary disease as underlying or contributing cause among adults aged >= 45 years",
         "Response": "nan",
         "DataValueUnit": "cases per 100,000",
         "DataValueType": "Crude Rate",
         "DataValue": 295.1,
         "DataValueAlt": 295.1,
         "DataValueFootnoteSymbol": "nan",
         "DatavalueFootnote": "nan",
         "LowConfidenceLimit": 280.9,
         "HighConfidenceLimit": 309.3,
         "StratificationCategory1": "Gender",
         "Stratification1": "Male",
         "StratificationCategory2": "nan",
         "Stratification2": "nan",
         "StratificationCategory3": "nan",
         "Stratification3": "nan",
         "ResponseID": "nan",
         "LocationID": 5,
         "TopicID": "COPD",
         "QuestionID": "COPD1_2",
         "DataValueTypeID": "CRDRATE",
         "StratificationCategoryID1": "GENDER",
         "StratificationID1": "GENM",
         "StratificationCategoryID2": "nan",
         "StratificationID2": "nan",
         "StratificationCategoryID3": "nan",
         "StratificationID3": "nan",
         "_deepnote_index_column": 9
        }
       ]
      },
      "text/plain": "        YearStart  YearEnd LocationAbbr   LocationDesc  \\\n0            2015     2015           AK         Alaska   \n1            2015     2015           AK         Alaska   \n2            2011     2011           AL        Alabama   \n3            2017     2017           AL        Alabama   \n4            2017     2017           AR       Arkansas   \n...           ...      ...          ...            ...   \n142699       2020     2020           VT        Vermont   \n142700       2020     2020           VT        Vermont   \n142701       2020     2020           WI      Wisconsin   \n142702       2020     2020           WV  West Virginia   \n142703       2020     2020           WY        Wyoming   \n\n                    DataSource                                  Topic  \\\n0                         NVSS  Chronic Obstructive Pulmonary Disease   \n1       CMS Part A Claims Data  Chronic Obstructive Pulmonary Disease   \n2                         NVSS  Chronic Obstructive Pulmonary Disease   \n3                    SEDD; SID  Chronic Obstructive Pulmonary Disease   \n4                         NVSS  Chronic Obstructive Pulmonary Disease   \n...                        ...                                    ...   \n142699                   BRFSS  Chronic Obstructive Pulmonary Disease   \n142700                   BRFSS  Chronic Obstructive Pulmonary Disease   \n142701                   BRFSS  Chronic Obstructive Pulmonary Disease   \n142702                   BRFSS  Chronic Obstructive Pulmonary Disease   \n142703                   BRFSS  Chronic Obstructive Pulmonary Disease   \n\n                                                 Question  Response  \\\n0       Mortality with chronic obstructive pulmonary d...       NaN   \n1       Hospitalization for chronic obstructive pulmon...       NaN   \n2       Mortality with chronic obstructive pulmonary d...       NaN   \n3       Emergency department visit rate for chronic ob...       NaN   \n4       Mortality with chronic obstructive pulmonary d...       NaN   \n...                                                   ...       ...   \n142699  Prevalence of chronic obstructive pulmonary di...       NaN   \n142700  Prevalence of current smoking among adults >= ...       NaN   \n142701  Pneumococcal vaccination among noninstitutiona...       NaN   \n142702  Prevalence of current smoking among adults >= ...       NaN   \n142703  Influenza vaccination among noninstitutionaliz...       NaN   \n\n            DataValueUnit            DataValueType  ...  LocationID  TopicID  \\\n0       cases per 100,000        Age-adjusted Rate  ...           2     COPD   \n1         cases per 1,000        Age-adjusted Rate  ...           2     COPD   \n2       cases per 100,000               Crude Rate  ...           1     COPD   \n3                     NaN                   Number  ...           1     COPD   \n4       cases per 100,000               Crude Rate  ...           5     COPD   \n...                   ...                      ...  ...         ...      ...   \n142699                  %  Age-adjusted Prevalence  ...          50     COPD   \n142700                  %         Crude Prevalence  ...          50     COPD   \n142701                  %  Age-adjusted Prevalence  ...          55     COPD   \n142702                  %  Age-adjusted Prevalence  ...          54     COPD   \n142703                  %         Crude Prevalence  ...          56     COPD   \n\n       QuestionID DataValueTypeID  StratificationCategoryID1  \\\n0         COPD1_2      AGEADJRATE                    OVERALL   \n1         COPD5_4      AGEADJRATE                    OVERALL   \n2         COPD1_1         CRDRATE                       RACE   \n3         COPD6_2            NMBR                     GENDER   \n4         COPD1_1         CRDRATE                     GENDER   \n...           ...             ...                        ...   \n142699  COPD2_0_1      AGEADJPREV                       RACE   \n142700    COPD3_0         CRDPREV                    OVERALL   \n142701    COPD8_0      AGEADJPREV                       RACE   \n142702  COPD3_0_1      AGEADJPREV                       RACE   \n142703    COPD7_0         CRDPREV                       RACE   \n\n        StratificationID1 StratificationCategoryID2 StratificationID2  \\\n0                     OVR                       NaN               NaN   \n1                     OVR                       NaN               NaN   \n2                     WHT                       NaN               NaN   \n3                    GENF                       NaN               NaN   \n4                    GENM                       NaN               NaN   \n...                   ...                       ...               ...   \n142699                HIS                       NaN               NaN   \n142700                OVR                       NaN               NaN   \n142701                HIS                       NaN               NaN   \n142702                WHT                       NaN               NaN   \n142703                WHT                       NaN               NaN   \n\n        StratificationCategoryID3  StratificationID3  \n0                             NaN                NaN  \n1                             NaN                NaN  \n2                             NaN                NaN  \n3                             NaN                NaN  \n4                             NaN                NaN  \n...                           ...                ...  \n142699                        NaN                NaN  \n142700                        NaN                NaN  \n142701                        NaN                NaN  \n142702                        NaN                NaN  \n142703                        NaN                NaN  \n\n[142704 rows x 33 columns]",
      "text/html": "<div>\n<style scoped>\n    .dataframe tbody tr th:only-of-type {\n        vertical-align: middle;\n    }\n\n    .dataframe tbody tr th {\n        vertical-align: top;\n    }\n\n    .dataframe thead th {\n        text-align: right;\n    }\n</style>\n<table border=\"1\" class=\"dataframe\">\n  <thead>\n    <tr style=\"text-align: right;\">\n      <th></th>\n      <th>YearStart</th>\n      <th>YearEnd</th>\n      <th>LocationAbbr</th>\n      <th>LocationDesc</th>\n      <th>DataSource</th>\n      <th>Topic</th>\n      <th>Question</th>\n      <th>Response</th>\n      <th>DataValueUnit</th>\n      <th>DataValueType</th>\n      <th>...</th>\n      <th>LocationID</th>\n      <th>TopicID</th>\n      <th>QuestionID</th>\n      <th>DataValueTypeID</th>\n      <th>StratificationCategoryID1</th>\n      <th>StratificationID1</th>\n      <th>StratificationCategoryID2</th>\n      <th>StratificationID2</th>\n      <th>StratificationCategoryID3</th>\n      <th>StratificationID3</th>\n    </tr>\n  </thead>\n  <tbody>\n    <tr>\n      <th>0</th>\n      <td>2015</td>\n      <td>2015</td>\n      <td>AK</td>\n      <td>Alaska</td>\n      <td>NVSS</td>\n      <td>Chronic Obstructive Pulmonary Disease</td>\n      <td>Mortality with chronic obstructive pulmonary d...</td>\n      <td>NaN</td>\n      <td>cases per 100,000</td>\n      <td>Age-adjusted Rate</td>\n      <td>...</td>\n      <td>2</td>\n      <td>COPD</td>\n      <td>COPD1_2</td>\n      <td>AGEADJRATE</td>\n      <td>OVERALL</td>\n      <td>OVR</td>\n      <td>NaN</td>\n      <td>NaN</td>\n      <td>NaN</td>\n      <td>NaN</td>\n    </tr>\n    <tr>\n      <th>1</th>\n      <td>2015</td>\n      <td>2015</td>\n      <td>AK</td>\n      <td>Alaska</td>\n      <td>CMS Part A Claims Data</td>\n      <td>Chronic Obstructive Pulmonary Disease</td>\n      <td>Hospitalization for chronic obstructive pulmon...</td>\n      <td>NaN</td>\n      <td>cases per 1,000</td>\n      <td>Age-adjusted Rate</td>\n      <td>...</td>\n      <td>2</td>\n      <td>COPD</td>\n      <td>COPD5_4</td>\n      <td>AGEADJRATE</td>\n      <td>OVERALL</td>\n      <td>OVR</td>\n      <td>NaN</td>\n      <td>NaN</td>\n      <td>NaN</td>\n      <td>NaN</td>\n    </tr>\n    <tr>\n      <th>2</th>\n      <td>2011</td>\n      <td>2011</td>\n      <td>AL</td>\n      <td>Alabama</td>\n      <td>NVSS</td>\n      <td>Chronic Obstructive Pulmonary Disease</td>\n      <td>Mortality with chronic obstructive pulmonary d...</td>\n      <td>NaN</td>\n      <td>cases per 100,000</td>\n      <td>Crude Rate</td>\n      <td>...</td>\n      <td>1</td>\n      <td>COPD</td>\n      <td>COPD1_1</td>\n      <td>CRDRATE</td>\n      <td>RACE</td>\n      <td>WHT</td>\n      <td>NaN</td>\n      <td>NaN</td>\n      <td>NaN</td>\n      <td>NaN</td>\n    </tr>\n    <tr>\n      <th>3</th>\n      <td>2017</td>\n      <td>2017</td>\n      <td>AL</td>\n      <td>Alabama</td>\n      <td>SEDD; SID</td>\n      <td>Chronic Obstructive Pulmonary Disease</td>\n      <td>Emergency department visit rate for chronic ob...</td>\n      <td>NaN</td>\n      <td>NaN</td>\n      <td>Number</td>\n      <td>...</td>\n      <td>1</td>\n      <td>COPD</td>\n      <td>COPD6_2</td>\n      <td>NMBR</td>\n      <td>GENDER</td>\n      <td>GENF</td>\n      <td>NaN</td>\n      <td>NaN</td>\n      <td>NaN</td>\n      <td>NaN</td>\n    </tr>\n    <tr>\n      <th>4</th>\n      <td>2017</td>\n      <td>2017</td>\n      <td>AR</td>\n      <td>Arkansas</td>\n      <td>NVSS</td>\n      <td>Chronic Obstructive Pulmonary Disease</td>\n      <td>Mortality with chronic obstructive pulmonary d...</td>\n      <td>NaN</td>\n      <td>cases per 100,000</td>\n      <td>Crude Rate</td>\n      <td>...</td>\n      <td>5</td>\n      <td>COPD</td>\n      <td>COPD1_1</td>\n      <td>CRDRATE</td>\n      <td>GENDER</td>\n      <td>GENM</td>\n      <td>NaN</td>\n      <td>NaN</td>\n      <td>NaN</td>\n      <td>NaN</td>\n    </tr>\n    <tr>\n      <th>...</th>\n      <td>...</td>\n      <td>...</td>\n      <td>...</td>\n      <td>...</td>\n      <td>...</td>\n      <td>...</td>\n      <td>...</td>\n      <td>...</td>\n      <td>...</td>\n      <td>...</td>\n      <td>...</td>\n      <td>...</td>\n      <td>...</td>\n      <td>...</td>\n      <td>...</td>\n      <td>...</td>\n      <td>...</td>\n      <td>...</td>\n      <td>...</td>\n      <td>...</td>\n      <td>...</td>\n    </tr>\n    <tr>\n      <th>142699</th>\n      <td>2020</td>\n      <td>2020</td>\n      <td>VT</td>\n      <td>Vermont</td>\n      <td>BRFSS</td>\n      <td>Chronic Obstructive Pulmonary Disease</td>\n      <td>Prevalence of chronic obstructive pulmonary di...</td>\n      <td>NaN</td>\n      <td>%</td>\n      <td>Age-adjusted Prevalence</td>\n      <td>...</td>\n      <td>50</td>\n      <td>COPD</td>\n      <td>COPD2_0_1</td>\n      <td>AGEADJPREV</td>\n      <td>RACE</td>\n      <td>HIS</td>\n      <td>NaN</td>\n      <td>NaN</td>\n      <td>NaN</td>\n      <td>NaN</td>\n    </tr>\n    <tr>\n      <th>142700</th>\n      <td>2020</td>\n      <td>2020</td>\n      <td>VT</td>\n      <td>Vermont</td>\n      <td>BRFSS</td>\n      <td>Chronic Obstructive Pulmonary Disease</td>\n      <td>Prevalence of current smoking among adults &gt;= ...</td>\n      <td>NaN</td>\n      <td>%</td>\n      <td>Crude Prevalence</td>\n      <td>...</td>\n      <td>50</td>\n      <td>COPD</td>\n      <td>COPD3_0</td>\n      <td>CRDPREV</td>\n      <td>OVERALL</td>\n      <td>OVR</td>\n      <td>NaN</td>\n      <td>NaN</td>\n      <td>NaN</td>\n      <td>NaN</td>\n    </tr>\n    <tr>\n      <th>142701</th>\n      <td>2020</td>\n      <td>2020</td>\n      <td>WI</td>\n      <td>Wisconsin</td>\n      <td>BRFSS</td>\n      <td>Chronic Obstructive Pulmonary Disease</td>\n      <td>Pneumococcal vaccination among noninstitutiona...</td>\n      <td>NaN</td>\n      <td>%</td>\n      <td>Age-adjusted Prevalence</td>\n      <td>...</td>\n      <td>55</td>\n      <td>COPD</td>\n      <td>COPD8_0</td>\n      <td>AGEADJPREV</td>\n      <td>RACE</td>\n      <td>HIS</td>\n      <td>NaN</td>\n      <td>NaN</td>\n      <td>NaN</td>\n      <td>NaN</td>\n    </tr>\n    <tr>\n      <th>142702</th>\n      <td>2020</td>\n      <td>2020</td>\n      <td>WV</td>\n      <td>West Virginia</td>\n      <td>BRFSS</td>\n      <td>Chronic Obstructive Pulmonary Disease</td>\n      <td>Prevalence of current smoking among adults &gt;= ...</td>\n      <td>NaN</td>\n      <td>%</td>\n      <td>Age-adjusted Prevalence</td>\n      <td>...</td>\n      <td>54</td>\n      <td>COPD</td>\n      <td>COPD3_0_1</td>\n      <td>AGEADJPREV</td>\n      <td>RACE</td>\n      <td>WHT</td>\n      <td>NaN</td>\n      <td>NaN</td>\n      <td>NaN</td>\n      <td>NaN</td>\n    </tr>\n    <tr>\n      <th>142703</th>\n      <td>2020</td>\n      <td>2020</td>\n      <td>WY</td>\n      <td>Wyoming</td>\n      <td>BRFSS</td>\n      <td>Chronic Obstructive Pulmonary Disease</td>\n      <td>Influenza vaccination among noninstitutionaliz...</td>\n      <td>NaN</td>\n      <td>%</td>\n      <td>Crude Prevalence</td>\n      <td>...</td>\n      <td>56</td>\n      <td>COPD</td>\n      <td>COPD7_0</td>\n      <td>CRDPREV</td>\n      <td>RACE</td>\n      <td>WHT</td>\n      <td>NaN</td>\n      <td>NaN</td>\n      <td>NaN</td>\n      <td>NaN</td>\n    </tr>\n  </tbody>\n</table>\n<p>142704 rows × 33 columns</p>\n</div>"
     },
     "metadata": {}
    }
   ],
   "execution_count": 3
  },
  {
   "cell_type": "code",
   "metadata": {
    "cell_id": "eeee676df12049c4995c4d45c62c2a92",
    "tags": [],
    "deepnote_to_be_reexecuted": false,
    "source_hash": "56ae4ea1",
    "execution_start": 1652130517060,
    "execution_millis": 22546,
    "deepnote_table_state": {
     "pageSize": 10,
     "pageIndex": 0,
     "filters": [],
     "sortBy": []
    },
    "deepnote_table_loading": false,
    "deepnote_app_coordinates": {
     "x": 0,
     "y": 36,
     "w": 12,
     "h": 5
    },
    "deepnote_cell_type": "code",
    "deepnote_cell_height": 690
   },
   "source": "# CDC Daily Census-Tract PM2.5 Concentrations for years 2011 -2014\npm25_2011 = pd.read_csv(\"Daily_Census_Tract-Level_PM2.5_Concentrations__2011.csv\")\npm25_2012 = pd.read_csv(\"Daily_Census_Tract-Level_PM2.5_Concentrations__2012.csv\")\npm25_2013 = pd.read_csv(\"Daily_Census_Tract-Level_PM2.5_Concentrations__2013.csv\")\npm25_2014 = pd.read_csv(\"Daily_Census_Tract-Level_PM2.5_Concentrations__2014.csv\")\npm25_2011",
   "execution_count": 4,
   "outputs": [
    {
     "output_type": "execute_result",
     "execution_count": 4,
     "data": {
      "application/vnd.deepnote.dataframe.v3+json": {
       "column_count": 9,
       "row_count": 3837585,
       "columns": [
        {
         "name": "year",
         "dtype": "int64"
        },
        {
         "name": "date",
         "dtype": "object"
        },
        {
         "name": "statefips",
         "dtype": "int64"
        },
        {
         "name": "countyfips",
         "dtype": "int64"
        },
        {
         "name": "ctfips",
         "dtype": "int64"
        },
        {
         "name": "latitude",
         "dtype": "float64"
        },
        {
         "name": "longitude",
         "dtype": "float64"
        },
        {
         "name": "ds_pm_pred",
         "dtype": "float64"
        },
        {
         "name": "ds_pm_stdd",
         "dtype": "float64"
        },
        {
         "name": "_deepnote_index_column",
         "dtype": "int64"
        }
       ],
       "rows": [
        {
         "year": 2011,
         "date": "16JAN2011",
         "statefips": 36,
         "countyfips": 36067,
         "ctfips": 36067016802,
         "latitude": 42.86482,
         "longitude": -76.22294,
         "ds_pm_pred": 7.163089,
         "ds_pm_stdd": 4.463915,
         "_deepnote_index_column": 0
        },
        {
         "year": 2011,
         "date": "16JAN2011",
         "statefips": 36,
         "countyfips": 36067,
         "ctfips": 36067016901,
         "latitude": 42.81138,
         "longitude": -76.1351,
         "ds_pm_pred": 7.112696,
         "ds_pm_stdd": 4.424604,
         "_deepnote_index_column": 1
        },
        {
         "year": 2011,
         "date": "16JAN2011",
         "statefips": 36,
         "countyfips": 36067,
         "ctfips": 36067016902,
         "latitude": 42.82194,
         "longitude": -75.99122,
         "ds_pm_pred": 7.090876,
         "ds_pm_stdd": 4.403247,
         "_deepnote_index_column": 2
        },
        {
         "year": 2011,
         "date": "16JAN2011",
         "statefips": 36,
         "countyfips": 36067,
         "ctfips": 36067940000,
         "latitude": 42.9402,
         "longitude": -76.15772,
         "ds_pm_pred": 7.663674,
         "ds_pm_stdd": 4.654235,
         "_deepnote_index_column": 3
        },
        {
         "year": 2011,
         "date": "16JAN2011",
         "statefips": 36,
         "countyfips": 36069,
         "ctfips": 36069050101,
         "latitude": 43.00244,
         "longitude": -77.4537,
         "ds_pm_pred": 6.471819,
         "ds_pm_stdd": 4.124993,
         "_deepnote_index_column": 4
        },
        {
         "year": 2011,
         "date": "16JAN2011",
         "statefips": 36,
         "countyfips": 36069,
         "ctfips": 36069050102,
         "latitude": 42.98267,
         "longitude": -77.41434,
         "ds_pm_pred": 6.308827,
         "ds_pm_stdd": 3.878997,
         "_deepnote_index_column": 5
        },
        {
         "year": 2011,
         "date": "16JAN2011",
         "statefips": 36,
         "countyfips": 36069,
         "ctfips": 36069050201,
         "latitude": 42.99439,
         "longitude": -77.30291,
         "ds_pm_pred": 6.615154,
         "ds_pm_stdd": 4.295973,
         "_deepnote_index_column": 6
        },
        {
         "year": 2011,
         "date": "16JAN2011",
         "statefips": 36,
         "countyfips": 36069,
         "ctfips": 36069050202,
         "latitude": 42.9592,
         "longitude": -77.34471,
         "ds_pm_pred": 6.334899,
         "ds_pm_stdd": 4.080571,
         "_deepnote_index_column": 7
        },
        {
         "year": 2011,
         "date": "16JAN2011",
         "statefips": 36,
         "countyfips": 36069,
         "ctfips": 36069050301,
         "latitude": 43.00348,
         "longitude": -77.18509,
         "ds_pm_pred": 6.476559,
         "ds_pm_stdd": 4.084757,
         "_deepnote_index_column": 8
        },
        {
         "year": 2011,
         "date": "16JAN2011",
         "statefips": 36,
         "countyfips": 36069,
         "ctfips": 36069050302,
         "latitude": 42.96018,
         "longitude": -77.20265,
         "ds_pm_pred": 6.43589,
         "ds_pm_stdd": 3.966845,
         "_deepnote_index_column": 9
        }
       ]
      },
      "text/plain": "         year       date  statefips  countyfips       ctfips  latitude  \\\n0        2011  16JAN2011         36       36067  36067016802  42.86482   \n1        2011  16JAN2011         36       36067  36067016901  42.81138   \n2        2011  16JAN2011         36       36067  36067016902  42.82194   \n3        2011  16JAN2011         36       36067  36067940000  42.94020   \n4        2011  16JAN2011         36       36069  36069050101  43.00244   \n...       ...        ...        ...         ...          ...       ...   \n3837580  2011  10MAR2011         39       39113  39113080500  39.82286   \n3837581  2011  10MAR2011         39       39113  39113080600  39.79832   \n3837582  2011  10MAR2011         39       39113  39113080700  39.81584   \n3837583  2011  10MAR2011         39       39113  39113090302  39.80024   \n3837584  2011  10MAR2011         39       39113  39113090303  39.83093   \n\n         longitude  ds_pm_pred  ds_pm_stdd  \n0        -76.22294    7.163089    4.463915  \n1        -76.13510    7.112696    4.424604  \n2        -75.99122    7.090876    4.403247  \n3        -76.15772    7.663674    4.654235  \n4        -77.45370    6.471819    4.124993  \n...            ...         ...         ...  \n3837580  -84.20442    7.902707    2.407351  \n3837581  -84.18509    7.929683    2.320257  \n3837582  -84.17165    8.002682    2.339427  \n3837583  -84.13126    8.227707    2.427825  \n3837584  -84.10420    8.247476    2.450670  \n\n[3837585 rows x 9 columns]",
      "text/html": "<div>\n<style scoped>\n    .dataframe tbody tr th:only-of-type {\n        vertical-align: middle;\n    }\n\n    .dataframe tbody tr th {\n        vertical-align: top;\n    }\n\n    .dataframe thead th {\n        text-align: right;\n    }\n</style>\n<table border=\"1\" class=\"dataframe\">\n  <thead>\n    <tr style=\"text-align: right;\">\n      <th></th>\n      <th>year</th>\n      <th>date</th>\n      <th>statefips</th>\n      <th>countyfips</th>\n      <th>ctfips</th>\n      <th>latitude</th>\n      <th>longitude</th>\n      <th>ds_pm_pred</th>\n      <th>ds_pm_stdd</th>\n    </tr>\n  </thead>\n  <tbody>\n    <tr>\n      <th>0</th>\n      <td>2011</td>\n      <td>16JAN2011</td>\n      <td>36</td>\n      <td>36067</td>\n      <td>36067016802</td>\n      <td>42.86482</td>\n      <td>-76.22294</td>\n      <td>7.163089</td>\n      <td>4.463915</td>\n    </tr>\n    <tr>\n      <th>1</th>\n      <td>2011</td>\n      <td>16JAN2011</td>\n      <td>36</td>\n      <td>36067</td>\n      <td>36067016901</td>\n      <td>42.81138</td>\n      <td>-76.13510</td>\n      <td>7.112696</td>\n      <td>4.424604</td>\n    </tr>\n    <tr>\n      <th>2</th>\n      <td>2011</td>\n      <td>16JAN2011</td>\n      <td>36</td>\n      <td>36067</td>\n      <td>36067016902</td>\n      <td>42.82194</td>\n      <td>-75.99122</td>\n      <td>7.090876</td>\n      <td>4.403247</td>\n    </tr>\n    <tr>\n      <th>3</th>\n      <td>2011</td>\n      <td>16JAN2011</td>\n      <td>36</td>\n      <td>36067</td>\n      <td>36067940000</td>\n      <td>42.94020</td>\n      <td>-76.15772</td>\n      <td>7.663674</td>\n      <td>4.654235</td>\n    </tr>\n    <tr>\n      <th>4</th>\n      <td>2011</td>\n      <td>16JAN2011</td>\n      <td>36</td>\n      <td>36069</td>\n      <td>36069050101</td>\n      <td>43.00244</td>\n      <td>-77.45370</td>\n      <td>6.471819</td>\n      <td>4.124993</td>\n    </tr>\n    <tr>\n      <th>...</th>\n      <td>...</td>\n      <td>...</td>\n      <td>...</td>\n      <td>...</td>\n      <td>...</td>\n      <td>...</td>\n      <td>...</td>\n      <td>...</td>\n      <td>...</td>\n    </tr>\n    <tr>\n      <th>3837580</th>\n      <td>2011</td>\n      <td>10MAR2011</td>\n      <td>39</td>\n      <td>39113</td>\n      <td>39113080500</td>\n      <td>39.82286</td>\n      <td>-84.20442</td>\n      <td>7.902707</td>\n      <td>2.407351</td>\n    </tr>\n    <tr>\n      <th>3837581</th>\n      <td>2011</td>\n      <td>10MAR2011</td>\n      <td>39</td>\n      <td>39113</td>\n      <td>39113080600</td>\n      <td>39.79832</td>\n      <td>-84.18509</td>\n      <td>7.929683</td>\n      <td>2.320257</td>\n    </tr>\n    <tr>\n      <th>3837582</th>\n      <td>2011</td>\n      <td>10MAR2011</td>\n      <td>39</td>\n      <td>39113</td>\n      <td>39113080700</td>\n      <td>39.81584</td>\n      <td>-84.17165</td>\n      <td>8.002682</td>\n      <td>2.339427</td>\n    </tr>\n    <tr>\n      <th>3837583</th>\n      <td>2011</td>\n      <td>10MAR2011</td>\n      <td>39</td>\n      <td>39113</td>\n      <td>39113090302</td>\n      <td>39.80024</td>\n      <td>-84.13126</td>\n      <td>8.227707</td>\n      <td>2.427825</td>\n    </tr>\n    <tr>\n      <th>3837584</th>\n      <td>2011</td>\n      <td>10MAR2011</td>\n      <td>39</td>\n      <td>39113</td>\n      <td>39113090303</td>\n      <td>39.83093</td>\n      <td>-84.10420</td>\n      <td>8.247476</td>\n      <td>2.450670</td>\n    </tr>\n  </tbody>\n</table>\n<p>3837585 rows × 9 columns</p>\n</div>"
     },
     "metadata": {}
    }
   ]
  },
  {
   "cell_type": "markdown",
   "source": "#### 2. EDA",
   "metadata": {
    "cell_id": "5a909507f6554c4eb7493a2a922486c2",
    "tags": [],
    "deepnote_app_coordinates": {
     "x": 0,
     "y": 48,
     "w": 12,
     "h": 5
    },
    "deepnote_cell_type": "markdown",
    "deepnote_cell_height": 54
   }
  },
  {
   "cell_type": "markdown",
   "source": "__•Visualize at least two quantitative variables and two categorical variables. Your visualizations\nmust be relevant to your research questions!__\n\n- Quantitative variables: pm2.5 emission(annual mean), average rates of COPD\n- Categorical variables: State, Hospitalization reason\n",
   "metadata": {
    "cell_id": "8b57eecaef4a447aa6dec86ed56bf9c8",
    "tags": [],
    "deepnote_app_coordinates": {
     "x": 0,
     "y": 162,
     "w": 12,
     "h": 5
    },
    "deepnote_cell_type": "markdown",
    "deepnote_cell_height": 150.59375
   }
  },
  {
   "cell_type": "markdown",
   "source": "__• Describe any trends you observe, and any relationships you may want to follow up on.__\n\n- The relationship between yearly avg pm25 levels and COPD shows majority of data points clustered in the lower left quadrant of the scatter plot. Lower COPD rate has lower yearly average PM2.5 concentration levels.\n- The yearly average PM2.5 concentration levels are not largely different across years. It appears years 2011 and 2014 have similar average PM2.5 concentration levels. And year 2012 has the lowest average PM2.5 concentration level whereas year 2013 has the highest. \n- The hospitalization reason 'Emergency department visit rate for chronic obstructive pulmonary disease as any diagnosis' stands out as having the highest COPD rate. The hospitalization reasons 'Hospitalization for chronic obstructive pulmonary disease as first-listed diagnosis among Medicare-eligible persons aged >= 65 years' and 'Hospitalization for chronic obstructive pulmonary disease as first-listed diagnosis' have significantly lower COPD rates.\n- Kentucky appears to have the highest average COPD rate out of all the states. \n- Utah appears to have the highest yearly average PM2.5 concentration levels out of all the states.\n\nMay want to follow up on average COPD rate and yearly average PM2.5 concentration levels confounding factors.",
   "metadata": {
    "cell_id": "fd172a29760c46799667accf09060caa",
    "tags": [],
    "deepnote_app_coordinates": {
     "x": 0,
     "y": 168,
     "w": 12,
     "h": 5
    },
    "deepnote_cell_type": "markdown",
    "deepnote_cell_height": 517.96875
   }
  },
  {
   "cell_type": "markdown",
   "source": "__• Describe any data cleaning steps you took. How will these decisions impact your models and\ninferences?__\n\nWhen loading the CDC COPD rates and PM25 Concentration datasets, there were multiple columns with only null/nan values, so the first step in cleaning the datasets was removing these columns. For the CDC COPD dataset, we looked at the Data Value Type that was specifically Age-adjusted Rate and created datasets that looked at COPD rates based on Race/Ethnicity and Gender, which may be confounders. For the PM25 concentration dataset, we loaded the Daily Census Tract-Level PM2.5 Concentrations for each year between 2011 and 2014 separately due to size. For each individual dataset, we grouped by state FIPS and took the mean over ds_pm_pred, which is the mean estimated 24-hour average PM2.5 concentration in μg/m3. We then merged the PM25 concentration dataset and COPD rates dataset based on year and state FIPS (PM25 concentration DS)/ LocationID (COPD rates DS). A decision made when cleaning the data that will impact our model and decisions was taking the annual mean by state PM2.5 emission; however, aggregating smooths out the data and allows for a more accurate analysis. We also converted all of the COPD rates into percentages in order to have a uniform dataset. \n",
   "metadata": {
    "cell_id": "b31638d01d494cc5b4c70cedbcf1b460",
    "tags": [],
    "deepnote_app_coordinates": {
     "x": 0,
     "y": 54,
     "w": 12,
     "h": 5
    },
    "deepnote_cell_type": "markdown",
    "deepnote_cell_height": 424.765625
   }
  },
  {
   "cell_type": "markdown",
   "source": "__• Explain how your visualizations should be relevant to your research questions: either by motivating the question, or suggesting a potential answer. You must explain why they are relevant.__\n\nResearch Questions: <br>\n1. Do increased levels of air pollution correspond with increased levels of Chronic Obstructive Pulmonary Disease (COPD)? We compute the average difference in rates of COPD in high air pollution areas and compare it to the average difference in rates of COPD in low air pollution areas. The first visualization is a simple graphic that shows trends relevant to levels of COPD. We can also look into splitting up the data by year to see how COPD levels change over time if at all. From this graphic, we can see that a simple comparison of PM2.5 levels to COPD rates have no clear correlation. This is likely due to confounding factors like location, age, and pre-existing conditions. <br>\n2. Do increased regulations correspond with decreased chronic illnesses? The unit we are using to look regulations is at the state level. The last two graphics looking at the average COPD and PM2.5 concentration levels are separated by state- will give us a basis to look at state regulations. State regulations is an instrumental variable because regulations can have an effect on air pollution levels but pollution regulations will have no direct impact on the rates of COPD.<br>",
   "metadata": {
    "cell_id": "d7f0dff61a9b42329e98c7409a8419d0",
    "tags": [],
    "deepnote_app_coordinates": {
     "x": 0,
     "y": 174,
     "w": 12,
     "h": 5
    },
    "owner_user_id": "a2dc5fba-6677-4846-a994-12c8e898e4e3",
    "deepnote_cell_type": "markdown",
    "deepnote_cell_height": 500.5625
   }
  },
  {
   "cell_type": "code",
   "metadata": {
    "cell_id": "90eec06b857c412da80c6f497f41b154",
    "tags": [],
    "deepnote_to_be_reexecuted": false,
    "source_hash": "137b7db3",
    "execution_start": 1652130539288,
    "execution_millis": 358,
    "deepnote_app_coordinates": {
     "x": 0,
     "y": 60,
     "w": 12,
     "h": 5
    },
    "deepnote_cell_type": "code",
    "deepnote_cell_height": 117
   },
   "source": "# dropping columns with null values\nCDC_chronic_diseases[CDC_chronic_diseases['Response'].notnull()]\nCDC_chronic_diseases_clean = CDC_chronic_diseases.drop(['Response','StratificationCategory2','Stratification2','StratificationCategory3','Stratification3','StratificationCategoryID2','StratificationID2','StratificationCategoryID3','StratificationID3','ResponseID'], axis=1)",
   "execution_count": 5,
   "outputs": []
  },
  {
   "cell_type": "code",
   "metadata": {
    "cell_id": "99c37d87c740471caaf376a7ab1f9191",
    "tags": [],
    "deepnote_to_be_reexecuted": false,
    "source_hash": "a44b7e08",
    "execution_start": 1652130539647,
    "execution_millis": 532,
    "deepnote_table_state": {
     "pageSize": 10,
     "pageIndex": 0,
     "filters": [],
     "sortBy": [
      {
       "id": "DataValueType",
       "type": "asc"
      }
     ]
    },
    "deepnote_table_loading": false,
    "deepnote_app_coordinates": {
     "x": 0,
     "y": 66,
     "w": 12,
     "h": 5
    },
    "deepnote_cell_type": "code",
    "deepnote_cell_height": 686
   },
   "source": "# dropping columns with null values\nCDC_COPD[CDC_COPD[\"Response\"].notnull()]\nCDC_COPD_clean = CDC_COPD.drop([\"Response\", \"ResponseID\",'StratificationCategory2','Stratification2','StratificationCategory3','Stratification3','StratificationCategoryID2','StratificationID2','StratificationCategoryID3','StratificationID3'], axis = 1)\nCDC_COPD_clean",
   "execution_count": 6,
   "outputs": [
    {
     "output_type": "execute_result",
     "execution_count": 6,
     "data": {
      "application/vnd.deepnote.dataframe.v3+json": {
       "column_count": 23,
       "row_count": 142704,
       "columns": [
        {
         "name": "YearStart",
         "dtype": "int64"
        },
        {
         "name": "YearEnd",
         "dtype": "int64"
        },
        {
         "name": "LocationAbbr",
         "dtype": "object"
        },
        {
         "name": "LocationDesc",
         "dtype": "object"
        },
        {
         "name": "DataSource",
         "dtype": "object"
        },
        {
         "name": "Topic",
         "dtype": "object"
        },
        {
         "name": "Question",
         "dtype": "object"
        },
        {
         "name": "DataValueUnit",
         "dtype": "object"
        },
        {
         "name": "DataValueType",
         "dtype": "object"
        },
        {
         "name": "DataValue",
         "dtype": "float64"
        },
        {
         "name": "DataValueAlt",
         "dtype": "float64"
        },
        {
         "name": "DataValueFootnoteSymbol",
         "dtype": "object"
        },
        {
         "name": "DatavalueFootnote",
         "dtype": "object"
        },
        {
         "name": "LowConfidenceLimit",
         "dtype": "float64"
        },
        {
         "name": "HighConfidenceLimit",
         "dtype": "float64"
        },
        {
         "name": "StratificationCategory1",
         "dtype": "object"
        },
        {
         "name": "Stratification1",
         "dtype": "object"
        },
        {
         "name": "LocationID",
         "dtype": "int64"
        },
        {
         "name": "TopicID",
         "dtype": "object"
        },
        {
         "name": "QuestionID",
         "dtype": "object"
        },
        {
         "name": "DataValueTypeID",
         "dtype": "object"
        },
        {
         "name": "StratificationCategoryID1",
         "dtype": "object"
        },
        {
         "name": "StratificationID1",
         "dtype": "object"
        },
        {
         "name": "_deepnote_index_column",
         "dtype": "int64"
        }
       ],
       "rows": [
        {
         "YearStart": 2017,
         "YearEnd": 2017,
         "LocationAbbr": "NE",
         "LocationDesc": "Nebraska",
         "DataSource": "BRFSS",
         "Topic": "Chronic Obstructive Pulmonary Disease",
         "Question": "Prevalence of current smoking among adults >= 45 years with diagnosed chronic obstructive pulmonary disease",
         "DataValueUnit": "%",
         "DataValueType": "Age-adjusted Prevalence",
         "DataValue": "nan",
         "DataValueAlt": "nan",
         "DataValueFootnoteSymbol": "****",
         "DatavalueFootnote": "Sample size of denominator and/or age group for age-standardization is less than 50 or relative standard error is more than 30%",
         "LowConfidenceLimit": "nan",
         "HighConfidenceLimit": "nan",
         "StratificationCategory1": "Race/Ethnicity",
         "Stratification1": "Black, non-Hispanic",
         "LocationID": 31,
         "TopicID": "COPD",
         "QuestionID": "COPD3_0_1",
         "DataValueTypeID": "AGEADJPREV",
         "StratificationCategoryID1": "RACE",
         "StratificationID1": "BLK",
         "_deepnote_index_column": 113694
        },
        {
         "YearStart": 2012,
         "YearEnd": 2012,
         "LocationAbbr": "TX",
         "LocationDesc": "Texas",
         "DataSource": "BRFSS",
         "Topic": "Chronic Obstructive Pulmonary Disease",
         "Question": "Prevalence of activity limitation among adults >= 18 with diagnosed chronic obstructive pulmonary disease",
         "DataValueUnit": "%",
         "DataValueType": "Age-adjusted Prevalence",
         "DataValue": "nan",
         "DataValueAlt": "nan",
         "DataValueFootnoteSymbol": "****",
         "DatavalueFootnote": "Sample size of denominator and/or age group for age-standardization is less than 50 or relative standard error is more than 30%",
         "LowConfidenceLimit": "nan",
         "HighConfidenceLimit": "nan",
         "StratificationCategory1": "Race/Ethnicity",
         "Stratification1": "Multiracial, non-Hispanic",
         "LocationID": 48,
         "TopicID": "COPD",
         "QuestionID": "COPD4_0",
         "DataValueTypeID": "AGEADJPREV",
         "StratificationCategoryID1": "RACE",
         "StratificationID1": "MRC",
         "_deepnote_index_column": 127865
        },
        {
         "YearStart": 2019,
         "YearEnd": 2019,
         "LocationAbbr": "NC",
         "LocationDesc": "North Carolina",
         "DataSource": "BRFSS",
         "Topic": "Chronic Obstructive Pulmonary Disease",
         "Question": "Prevalence of current smoking among adults >= 45 years with diagnosed chronic obstructive pulmonary disease",
         "DataValueUnit": "%",
         "DataValueType": "Age-adjusted Prevalence",
         "DataValue": 38,
         "DataValueAlt": 38,
         "DataValueFootnoteSymbol": "nan",
         "DatavalueFootnote": "nan",
         "LowConfidenceLimit": 27.1,
         "HighConfidenceLimit": 50.2,
         "StratificationCategory1": "Gender",
         "Stratification1": "Male",
         "LocationID": 37,
         "TopicID": "COPD",
         "QuestionID": "COPD3_0_1",
         "DataValueTypeID": "AGEADJPREV",
         "StratificationCategoryID1": "GENDER",
         "StratificationID1": "GENM",
         "_deepnote_index_column": 110326
        },
        {
         "YearStart": 2019,
         "YearEnd": 2019,
         "LocationAbbr": "NC",
         "LocationDesc": "North Carolina",
         "DataSource": "BRFSS",
         "Topic": "Chronic Obstructive Pulmonary Disease",
         "Question": "Influenza vaccination among noninstitutionalized adults aged >= 45 years with chronic obstructive pulmonary disease",
         "DataValueUnit": "%",
         "DataValueType": "Age-adjusted Prevalence",
         "DataValue": "nan",
         "DataValueAlt": "nan",
         "DataValueFootnoteSymbol": "****",
         "DatavalueFootnote": "Sample size of denominator and/or age group for age-standardization is less than 50 or relative standard error is more than 30%",
         "LowConfidenceLimit": "nan",
         "HighConfidenceLimit": "nan",
         "StratificationCategory1": "Race/Ethnicity",
         "Stratification1": "Hispanic",
         "LocationID": 37,
         "TopicID": "COPD",
         "QuestionID": "COPD7_0",
         "DataValueTypeID": "AGEADJPREV",
         "StratificationCategoryID1": "RACE",
         "StratificationID1": "HIS",
         "_deepnote_index_column": 110327
        },
        {
         "YearStart": 2017,
         "YearEnd": 2017,
         "LocationAbbr": "KY",
         "LocationDesc": "Kentucky",
         "DataSource": "BRFSS",
         "Topic": "Chronic Obstructive Pulmonary Disease",
         "Question": "Prevalence of current smoking among adults >= 18 with diagnosed chronic obstructive pulmonary disease",
         "DataValueUnit": "%",
         "DataValueType": "Age-adjusted Prevalence",
         "DataValue": "nan",
         "DataValueAlt": "nan",
         "DataValueFootnoteSymbol": "****",
         "DatavalueFootnote": "Sample size of denominator and/or age group for age-standardization is less than 50 or relative standard error is more than 30%",
         "LowConfidenceLimit": "nan",
         "HighConfidenceLimit": "nan",
         "StratificationCategory1": "Race/Ethnicity",
         "Stratification1": "Hispanic",
         "LocationID": 21,
         "TopicID": "COPD",
         "QuestionID": "COPD3_0",
         "DataValueTypeID": "AGEADJPREV",
         "StratificationCategoryID1": "RACE",
         "StratificationID1": "HIS",
         "_deepnote_index_column": 99546
        },
        {
         "YearStart": 2019,
         "YearEnd": 2019,
         "LocationAbbr": "NV",
         "LocationDesc": "Nevada",
         "DataSource": "BRFSS",
         "Topic": "Chronic Obstructive Pulmonary Disease",
         "Question": "Prevalence of chronic obstructive pulmonary disease among adults >= 45 years",
         "DataValueUnit": "%",
         "DataValueType": "Age-adjusted Prevalence",
         "DataValue": "nan",
         "DataValueAlt": "nan",
         "DataValueFootnoteSymbol": "****",
         "DatavalueFootnote": "Sample size of denominator and/or age group for age-standardization is less than 50 or relative standard error is more than 30%",
         "LowConfidenceLimit": "nan",
         "HighConfidenceLimit": "nan",
         "StratificationCategory1": "Race/Ethnicity",
         "Stratification1": "Other, non-Hispanic",
         "LocationID": 32,
         "TopicID": "COPD",
         "QuestionID": "COPD2_0_1",
         "DataValueTypeID": "AGEADJPREV",
         "StratificationCategoryID1": "RACE",
         "StratificationID1": "OTH",
         "_deepnote_index_column": 117096
        },
        {
         "YearStart": 2013,
         "YearEnd": 2013,
         "LocationAbbr": "TX",
         "LocationDesc": "Texas",
         "DataSource": "BRFSS",
         "Topic": "Chronic Obstructive Pulmonary Disease",
         "Question": "Prevalence of chronic obstructive pulmonary disease among adults >= 45 years",
         "DataValueUnit": "%",
         "DataValueType": "Age-adjusted Prevalence",
         "DataValue": 6.5,
         "DataValueAlt": 6.5,
         "DataValueFootnoteSymbol": "nan",
         "DatavalueFootnote": "nan",
         "LowConfidenceLimit": 5.4,
         "HighConfidenceLimit": 7.9,
         "StratificationCategory1": "Gender",
         "Stratification1": "Male",
         "LocationID": 48,
         "TopicID": "COPD",
         "QuestionID": "COPD2_0_1",
         "DataValueTypeID": "AGEADJPREV",
         "StratificationCategoryID1": "GENDER",
         "StratificationID1": "GENM",
         "_deepnote_index_column": 127871
        },
        {
         "YearStart": 2011,
         "YearEnd": 2011,
         "LocationAbbr": "TX",
         "LocationDesc": "Texas",
         "DataSource": "BRFSS",
         "Topic": "Chronic Obstructive Pulmonary Disease",
         "Question": "Pneumococcal vaccination among noninstitutionalized adults aged >= 45 years with chronic obstructive pulmonary disease",
         "DataValueUnit": "%",
         "DataValueType": "Age-adjusted Prevalence",
         "DataValue": "nan",
         "DataValueAlt": "nan",
         "DataValueFootnoteSymbol": "****",
         "DatavalueFootnote": "Sample size of denominator and/or age group for age-standardization is less than 50 or relative standard error is more than 30%",
         "LowConfidenceLimit": "nan",
         "HighConfidenceLimit": "nan",
         "StratificationCategory1": "Race/Ethnicity",
         "Stratification1": "Multiracial, non-Hispanic",
         "LocationID": 48,
         "TopicID": "COPD",
         "QuestionID": "COPD8_0",
         "DataValueTypeID": "AGEADJPREV",
         "StratificationCategoryID1": "RACE",
         "StratificationID1": "MRC",
         "_deepnote_index_column": 127872
        },
        {
         "YearStart": 2012,
         "YearEnd": 2012,
         "LocationAbbr": "US",
         "LocationDesc": "United States",
         "DataSource": "BRFSS",
         "Topic": "Chronic Obstructive Pulmonary Disease",
         "Question": "Prevalence of current smoking among adults >= 18 with diagnosed chronic obstructive pulmonary disease",
         "DataValueUnit": "%",
         "DataValueType": "Age-adjusted Prevalence",
         "DataValue": 46.5,
         "DataValueAlt": 46.5,
         "DataValueFootnoteSymbol": "*",
         "DatavalueFootnote": "50 States + DC: US Median",
         "LowConfidenceLimit": 43.9,
         "HighConfidenceLimit": 48.3,
         "StratificationCategory1": "Overall",
         "Stratification1": "Overall",
         "LocationID": 59,
         "TopicID": "COPD",
         "QuestionID": "COPD3_0",
         "DataValueTypeID": "AGEADJPREV",
         "StratificationCategoryID1": "OVERALL",
         "StratificationID1": "OVR",
         "_deepnote_index_column": 127873
        },
        {
         "YearStart": 2013,
         "YearEnd": 2013,
         "LocationAbbr": "TX",
         "LocationDesc": "Texas",
         "DataSource": "BRFSS",
         "Topic": "Chronic Obstructive Pulmonary Disease",
         "Question": "Influenza vaccination among noninstitutionalized adults aged >= 45 years with chronic obstructive pulmonary disease",
         "DataValueUnit": "%",
         "DataValueType": "Age-adjusted Prevalence",
         "DataValue": "nan",
         "DataValueAlt": "nan",
         "DataValueFootnoteSymbol": "****",
         "DatavalueFootnote": "Sample size of denominator and/or age group for age-standardization is less than 50 or relative standard error is more than 30%",
         "LowConfidenceLimit": "nan",
         "HighConfidenceLimit": "nan",
         "StratificationCategory1": "Race/Ethnicity",
         "Stratification1": "Other, non-Hispanic",
         "LocationID": 48,
         "TopicID": "COPD",
         "QuestionID": "COPD7_0",
         "DataValueTypeID": "AGEADJPREV",
         "StratificationCategoryID1": "RACE",
         "StratificationID1": "OTH",
         "_deepnote_index_column": 127875
        }
       ]
      },
      "text/plain": "        YearStart  YearEnd LocationAbbr   LocationDesc  \\\n0            2015     2015           AK         Alaska   \n1            2015     2015           AK         Alaska   \n2            2011     2011           AL        Alabama   \n3            2017     2017           AL        Alabama   \n4            2017     2017           AR       Arkansas   \n...           ...      ...          ...            ...   \n142699       2020     2020           VT        Vermont   \n142700       2020     2020           VT        Vermont   \n142701       2020     2020           WI      Wisconsin   \n142702       2020     2020           WV  West Virginia   \n142703       2020     2020           WY        Wyoming   \n\n                    DataSource                                  Topic  \\\n0                         NVSS  Chronic Obstructive Pulmonary Disease   \n1       CMS Part A Claims Data  Chronic Obstructive Pulmonary Disease   \n2                         NVSS  Chronic Obstructive Pulmonary Disease   \n3                    SEDD; SID  Chronic Obstructive Pulmonary Disease   \n4                         NVSS  Chronic Obstructive Pulmonary Disease   \n...                        ...                                    ...   \n142699                   BRFSS  Chronic Obstructive Pulmonary Disease   \n142700                   BRFSS  Chronic Obstructive Pulmonary Disease   \n142701                   BRFSS  Chronic Obstructive Pulmonary Disease   \n142702                   BRFSS  Chronic Obstructive Pulmonary Disease   \n142703                   BRFSS  Chronic Obstructive Pulmonary Disease   \n\n                                                 Question      DataValueUnit  \\\n0       Mortality with chronic obstructive pulmonary d...  cases per 100,000   \n1       Hospitalization for chronic obstructive pulmon...    cases per 1,000   \n2       Mortality with chronic obstructive pulmonary d...  cases per 100,000   \n3       Emergency department visit rate for chronic ob...                NaN   \n4       Mortality with chronic obstructive pulmonary d...  cases per 100,000   \n...                                                   ...                ...   \n142699  Prevalence of chronic obstructive pulmonary di...                  %   \n142700  Prevalence of current smoking among adults >= ...                  %   \n142701  Pneumococcal vaccination among noninstitutiona...                  %   \n142702  Prevalence of current smoking among adults >= ...                  %   \n142703  Influenza vaccination among noninstitutionaliz...                  %   \n\n                  DataValueType  DataValue  ...  LowConfidenceLimit  \\\n0             Age-adjusted Rate      216.5  ...              194.10   \n1             Age-adjusted Rate       45.5  ...               43.77   \n2                    Crude Rate      172.4  ...              165.70   \n3                        Number        NaN  ...                 NaN   \n4                    Crude Rate      190.2  ...              179.10   \n...                         ...        ...  ...                 ...   \n142699  Age-adjusted Prevalence        NaN  ...                 NaN   \n142700         Crude Prevalence       38.5  ...               32.60   \n142701  Age-adjusted Prevalence        NaN  ...                 NaN   \n142702  Age-adjusted Prevalence       47.6  ...               42.90   \n142703         Crude Prevalence       58.2  ...               50.40   \n\n       HighConfidenceLimit StratificationCategory1      Stratification1  \\\n0                   238.80                 Overall              Overall   \n1                    47.23                 Overall              Overall   \n2                   179.10          Race/Ethnicity  White, non-Hispanic   \n3                      NaN                  Gender               Female   \n4                   201.30                  Gender                 Male   \n...                    ...                     ...                  ...   \n142699                 NaN          Race/Ethnicity             Hispanic   \n142700               44.70                 Overall              Overall   \n142701                 NaN          Race/Ethnicity             Hispanic   \n142702               52.20          Race/Ethnicity  White, non-Hispanic   \n142703               65.60          Race/Ethnicity  White, non-Hispanic   \n\n        LocationID TopicID QuestionID  DataValueTypeID  \\\n0                2    COPD    COPD1_2       AGEADJRATE   \n1                2    COPD    COPD5_4       AGEADJRATE   \n2                1    COPD    COPD1_1          CRDRATE   \n3                1    COPD    COPD6_2             NMBR   \n4                5    COPD    COPD1_1          CRDRATE   \n...            ...     ...        ...              ...   \n142699          50    COPD  COPD2_0_1       AGEADJPREV   \n142700          50    COPD    COPD3_0          CRDPREV   \n142701          55    COPD    COPD8_0       AGEADJPREV   \n142702          54    COPD  COPD3_0_1       AGEADJPREV   \n142703          56    COPD    COPD7_0          CRDPREV   \n\n       StratificationCategoryID1 StratificationID1  \n0                        OVERALL               OVR  \n1                        OVERALL               OVR  \n2                           RACE               WHT  \n3                         GENDER              GENF  \n4                         GENDER              GENM  \n...                          ...               ...  \n142699                      RACE               HIS  \n142700                   OVERALL               OVR  \n142701                      RACE               HIS  \n142702                      RACE               WHT  \n142703                      RACE               WHT  \n\n[142704 rows x 23 columns]",
      "text/html": "<div>\n<style scoped>\n    .dataframe tbody tr th:only-of-type {\n        vertical-align: middle;\n    }\n\n    .dataframe tbody tr th {\n        vertical-align: top;\n    }\n\n    .dataframe thead th {\n        text-align: right;\n    }\n</style>\n<table border=\"1\" class=\"dataframe\">\n  <thead>\n    <tr style=\"text-align: right;\">\n      <th></th>\n      <th>YearStart</th>\n      <th>YearEnd</th>\n      <th>LocationAbbr</th>\n      <th>LocationDesc</th>\n      <th>DataSource</th>\n      <th>Topic</th>\n      <th>Question</th>\n      <th>DataValueUnit</th>\n      <th>DataValueType</th>\n      <th>DataValue</th>\n      <th>...</th>\n      <th>LowConfidenceLimit</th>\n      <th>HighConfidenceLimit</th>\n      <th>StratificationCategory1</th>\n      <th>Stratification1</th>\n      <th>LocationID</th>\n      <th>TopicID</th>\n      <th>QuestionID</th>\n      <th>DataValueTypeID</th>\n      <th>StratificationCategoryID1</th>\n      <th>StratificationID1</th>\n    </tr>\n  </thead>\n  <tbody>\n    <tr>\n      <th>0</th>\n      <td>2015</td>\n      <td>2015</td>\n      <td>AK</td>\n      <td>Alaska</td>\n      <td>NVSS</td>\n      <td>Chronic Obstructive Pulmonary Disease</td>\n      <td>Mortality with chronic obstructive pulmonary d...</td>\n      <td>cases per 100,000</td>\n      <td>Age-adjusted Rate</td>\n      <td>216.5</td>\n      <td>...</td>\n      <td>194.10</td>\n      <td>238.80</td>\n      <td>Overall</td>\n      <td>Overall</td>\n      <td>2</td>\n      <td>COPD</td>\n      <td>COPD1_2</td>\n      <td>AGEADJRATE</td>\n      <td>OVERALL</td>\n      <td>OVR</td>\n    </tr>\n    <tr>\n      <th>1</th>\n      <td>2015</td>\n      <td>2015</td>\n      <td>AK</td>\n      <td>Alaska</td>\n      <td>CMS Part A Claims Data</td>\n      <td>Chronic Obstructive Pulmonary Disease</td>\n      <td>Hospitalization for chronic obstructive pulmon...</td>\n      <td>cases per 1,000</td>\n      <td>Age-adjusted Rate</td>\n      <td>45.5</td>\n      <td>...</td>\n      <td>43.77</td>\n      <td>47.23</td>\n      <td>Overall</td>\n      <td>Overall</td>\n      <td>2</td>\n      <td>COPD</td>\n      <td>COPD5_4</td>\n      <td>AGEADJRATE</td>\n      <td>OVERALL</td>\n      <td>OVR</td>\n    </tr>\n    <tr>\n      <th>2</th>\n      <td>2011</td>\n      <td>2011</td>\n      <td>AL</td>\n      <td>Alabama</td>\n      <td>NVSS</td>\n      <td>Chronic Obstructive Pulmonary Disease</td>\n      <td>Mortality with chronic obstructive pulmonary d...</td>\n      <td>cases per 100,000</td>\n      <td>Crude Rate</td>\n      <td>172.4</td>\n      <td>...</td>\n      <td>165.70</td>\n      <td>179.10</td>\n      <td>Race/Ethnicity</td>\n      <td>White, non-Hispanic</td>\n      <td>1</td>\n      <td>COPD</td>\n      <td>COPD1_1</td>\n      <td>CRDRATE</td>\n      <td>RACE</td>\n      <td>WHT</td>\n    </tr>\n    <tr>\n      <th>3</th>\n      <td>2017</td>\n      <td>2017</td>\n      <td>AL</td>\n      <td>Alabama</td>\n      <td>SEDD; SID</td>\n      <td>Chronic Obstructive Pulmonary Disease</td>\n      <td>Emergency department visit rate for chronic ob...</td>\n      <td>NaN</td>\n      <td>Number</td>\n      <td>NaN</td>\n      <td>...</td>\n      <td>NaN</td>\n      <td>NaN</td>\n      <td>Gender</td>\n      <td>Female</td>\n      <td>1</td>\n      <td>COPD</td>\n      <td>COPD6_2</td>\n      <td>NMBR</td>\n      <td>GENDER</td>\n      <td>GENF</td>\n    </tr>\n    <tr>\n      <th>4</th>\n      <td>2017</td>\n      <td>2017</td>\n      <td>AR</td>\n      <td>Arkansas</td>\n      <td>NVSS</td>\n      <td>Chronic Obstructive Pulmonary Disease</td>\n      <td>Mortality with chronic obstructive pulmonary d...</td>\n      <td>cases per 100,000</td>\n      <td>Crude Rate</td>\n      <td>190.2</td>\n      <td>...</td>\n      <td>179.10</td>\n      <td>201.30</td>\n      <td>Gender</td>\n      <td>Male</td>\n      <td>5</td>\n      <td>COPD</td>\n      <td>COPD1_1</td>\n      <td>CRDRATE</td>\n      <td>GENDER</td>\n      <td>GENM</td>\n    </tr>\n    <tr>\n      <th>...</th>\n      <td>...</td>\n      <td>...</td>\n      <td>...</td>\n      <td>...</td>\n      <td>...</td>\n      <td>...</td>\n      <td>...</td>\n      <td>...</td>\n      <td>...</td>\n      <td>...</td>\n      <td>...</td>\n      <td>...</td>\n      <td>...</td>\n      <td>...</td>\n      <td>...</td>\n      <td>...</td>\n      <td>...</td>\n      <td>...</td>\n      <td>...</td>\n      <td>...</td>\n      <td>...</td>\n    </tr>\n    <tr>\n      <th>142699</th>\n      <td>2020</td>\n      <td>2020</td>\n      <td>VT</td>\n      <td>Vermont</td>\n      <td>BRFSS</td>\n      <td>Chronic Obstructive Pulmonary Disease</td>\n      <td>Prevalence of chronic obstructive pulmonary di...</td>\n      <td>%</td>\n      <td>Age-adjusted Prevalence</td>\n      <td>NaN</td>\n      <td>...</td>\n      <td>NaN</td>\n      <td>NaN</td>\n      <td>Race/Ethnicity</td>\n      <td>Hispanic</td>\n      <td>50</td>\n      <td>COPD</td>\n      <td>COPD2_0_1</td>\n      <td>AGEADJPREV</td>\n      <td>RACE</td>\n      <td>HIS</td>\n    </tr>\n    <tr>\n      <th>142700</th>\n      <td>2020</td>\n      <td>2020</td>\n      <td>VT</td>\n      <td>Vermont</td>\n      <td>BRFSS</td>\n      <td>Chronic Obstructive Pulmonary Disease</td>\n      <td>Prevalence of current smoking among adults &gt;= ...</td>\n      <td>%</td>\n      <td>Crude Prevalence</td>\n      <td>38.5</td>\n      <td>...</td>\n      <td>32.60</td>\n      <td>44.70</td>\n      <td>Overall</td>\n      <td>Overall</td>\n      <td>50</td>\n      <td>COPD</td>\n      <td>COPD3_0</td>\n      <td>CRDPREV</td>\n      <td>OVERALL</td>\n      <td>OVR</td>\n    </tr>\n    <tr>\n      <th>142701</th>\n      <td>2020</td>\n      <td>2020</td>\n      <td>WI</td>\n      <td>Wisconsin</td>\n      <td>BRFSS</td>\n      <td>Chronic Obstructive Pulmonary Disease</td>\n      <td>Pneumococcal vaccination among noninstitutiona...</td>\n      <td>%</td>\n      <td>Age-adjusted Prevalence</td>\n      <td>NaN</td>\n      <td>...</td>\n      <td>NaN</td>\n      <td>NaN</td>\n      <td>Race/Ethnicity</td>\n      <td>Hispanic</td>\n      <td>55</td>\n      <td>COPD</td>\n      <td>COPD8_0</td>\n      <td>AGEADJPREV</td>\n      <td>RACE</td>\n      <td>HIS</td>\n    </tr>\n    <tr>\n      <th>142702</th>\n      <td>2020</td>\n      <td>2020</td>\n      <td>WV</td>\n      <td>West Virginia</td>\n      <td>BRFSS</td>\n      <td>Chronic Obstructive Pulmonary Disease</td>\n      <td>Prevalence of current smoking among adults &gt;= ...</td>\n      <td>%</td>\n      <td>Age-adjusted Prevalence</td>\n      <td>47.6</td>\n      <td>...</td>\n      <td>42.90</td>\n      <td>52.20</td>\n      <td>Race/Ethnicity</td>\n      <td>White, non-Hispanic</td>\n      <td>54</td>\n      <td>COPD</td>\n      <td>COPD3_0_1</td>\n      <td>AGEADJPREV</td>\n      <td>RACE</td>\n      <td>WHT</td>\n    </tr>\n    <tr>\n      <th>142703</th>\n      <td>2020</td>\n      <td>2020</td>\n      <td>WY</td>\n      <td>Wyoming</td>\n      <td>BRFSS</td>\n      <td>Chronic Obstructive Pulmonary Disease</td>\n      <td>Influenza vaccination among noninstitutionaliz...</td>\n      <td>%</td>\n      <td>Crude Prevalence</td>\n      <td>58.2</td>\n      <td>...</td>\n      <td>50.40</td>\n      <td>65.60</td>\n      <td>Race/Ethnicity</td>\n      <td>White, non-Hispanic</td>\n      <td>56</td>\n      <td>COPD</td>\n      <td>COPD7_0</td>\n      <td>CRDPREV</td>\n      <td>RACE</td>\n      <td>WHT</td>\n    </tr>\n  </tbody>\n</table>\n<p>142704 rows × 23 columns</p>\n</div>"
     },
     "metadata": {}
    }
   ]
  },
  {
   "cell_type": "code",
   "metadata": {
    "cell_id": "2937747036294532acdfaddf19fb2e0d",
    "tags": [],
    "deepnote_to_be_reexecuted": false,
    "source_hash": "4b310a43",
    "execution_start": 1652130540179,
    "execution_millis": 126,
    "deepnote_table_state": {
     "pageSize": 10,
     "pageIndex": 0,
     "filters": [],
     "sortBy": [
      {
       "id": "LocationID",
       "type": "desc"
      }
     ]
    },
    "deepnote_table_loading": false,
    "deepnote_app_coordinates": {
     "x": 0,
     "y": 72,
     "w": 12,
     "h": 5
    },
    "deepnote_cell_type": "code",
    "deepnote_cell_height": 517
   },
   "source": "# locationID == statefips in pm25_year tables\nCDC_COPD_race = CDC_COPD_clean.loc[(CDC_COPD_clean['DataValueType'] == 'Age-adjusted Rate')]\nCDC_COPD_race = CDC_COPD_race.loc[(CDC_COPD_race['StratificationCategory1'] == 'Race/Ethnicity')]\nCDC_COPD_race = CDC_COPD_race[CDC_COPD_race['DataValue'].notna()]\nCDC_COPD_race =  CDC_COPD_race.drop(['LocationAbbr','YearEnd','TopicID','DataSource', 'DataValueUnit', 'DataValueAlt', 'DataValueType', 'DataValueFootnoteSymbol','DatavalueFootnote', 'LowConfidenceLimit', 'HighConfidenceLimit', 'StratificationCategory1', 'DataValueTypeID', 'StratificationCategoryID1','StratificationID1'], axis=1)\nCDC_COPD_race.head()",
   "execution_count": 7,
   "outputs": [
    {
     "output_type": "execute_result",
     "execution_count": 7,
     "data": {
      "application/vnd.deepnote.dataframe.v3+json": {
       "column_count": 8,
       "row_count": 5,
       "columns": [
        {
         "name": "YearStart",
         "dtype": "int64",
         "stats": {
          "unique_count": 5,
          "nan_count": 0,
          "min": "2010",
          "max": "2018",
          "histogram": [
           {
            "bin_start": 2010,
            "bin_end": 2010.8,
            "count": 1
           },
           {
            "bin_start": 2010.8,
            "bin_end": 2011.6,
            "count": 1
           },
           {
            "bin_start": 2011.6,
            "bin_end": 2012.4,
            "count": 1
           },
           {
            "bin_start": 2012.4,
            "bin_end": 2013.2,
            "count": 1
           },
           {
            "bin_start": 2013.2,
            "bin_end": 2014,
            "count": 0
           },
           {
            "bin_start": 2014,
            "bin_end": 2014.8,
            "count": 0
           },
           {
            "bin_start": 2014.8,
            "bin_end": 2015.6,
            "count": 0
           },
           {
            "bin_start": 2015.6,
            "bin_end": 2016.4,
            "count": 0
           },
           {
            "bin_start": 2016.4,
            "bin_end": 2017.2,
            "count": 0
           },
           {
            "bin_start": 2017.2,
            "bin_end": 2018,
            "count": 1
           }
          ]
         }
        },
        {
         "name": "LocationDesc",
         "dtype": "object",
         "stats": {
          "unique_count": 3,
          "nan_count": 0,
          "categories": [
           {
            "name": "Arkansas",
            "count": 3
           },
           {
            "name": "Alaska",
            "count": 1
           },
           {
            "name": "Alabama",
            "count": 1
           }
          ]
         }
        },
        {
         "name": "Topic",
         "dtype": "object",
         "stats": {
          "unique_count": 1,
          "nan_count": 0,
          "categories": [
           {
            "name": "Chronic Obstructive Pulmonary Disease",
            "count": 5
           }
          ]
         }
        },
        {
         "name": "Question",
         "dtype": "object",
         "stats": {
          "unique_count": 2,
          "nan_count": 0,
          "categories": [
           {
            "name": "Hospitalization for chronic obstructive pulmonary disease as any diagnosis among Medicare-eligible persons aged >= 65 years",
            "count": 4
           },
           {
            "name": "Mortality with chronic obstructive pulmonary disease as underlying or contributing cause among adults aged >= 45 years",
            "count": 1
           }
          ]
         }
        },
        {
         "name": "DataValue",
         "dtype": "float64",
         "stats": {
          "unique_count": 5,
          "nan_count": 0,
          "min": "28.43",
          "max": "233.7",
          "histogram": [
           {
            "bin_start": 28.43,
            "bin_end": 48.956999999999994,
            "count": 1
           },
           {
            "bin_start": 48.956999999999994,
            "bin_end": 69.484,
            "count": 3
           },
           {
            "bin_start": 69.484,
            "bin_end": 90.011,
            "count": 0
           },
           {
            "bin_start": 90.011,
            "bin_end": 110.53799999999998,
            "count": 0
           },
           {
            "bin_start": 110.53799999999998,
            "bin_end": 131.065,
            "count": 0
           },
           {
            "bin_start": 131.065,
            "bin_end": 151.59199999999998,
            "count": 0
           },
           {
            "bin_start": 151.59199999999998,
            "bin_end": 172.119,
            "count": 0
           },
           {
            "bin_start": 172.119,
            "bin_end": 192.646,
            "count": 0
           },
           {
            "bin_start": 192.646,
            "bin_end": 213.17299999999997,
            "count": 0
           },
           {
            "bin_start": 213.17299999999997,
            "bin_end": 233.7,
            "count": 1
           }
          ]
         }
        },
        {
         "name": "Stratification1",
         "dtype": "object",
         "stats": {
          "unique_count": 4,
          "nan_count": 0,
          "categories": [
           {
            "name": "Asian or Pacific Islander",
            "count": 2
           },
           {
            "name": "Black, non-Hispanic",
            "count": 1
           },
           {
            "name": "2 others",
            "count": 2
           }
          ]
         }
        },
        {
         "name": "LocationID",
         "dtype": "int64",
         "stats": {
          "unique_count": 3,
          "nan_count": 0,
          "min": "1",
          "max": "5",
          "histogram": [
           {
            "bin_start": 1,
            "bin_end": 1.4,
            "count": 1
           },
           {
            "bin_start": 1.4,
            "bin_end": 1.8,
            "count": 0
           },
           {
            "bin_start": 1.8,
            "bin_end": 2.2,
            "count": 1
           },
           {
            "bin_start": 2.2,
            "bin_end": 2.6,
            "count": 0
           },
           {
            "bin_start": 2.6,
            "bin_end": 3,
            "count": 0
           },
           {
            "bin_start": 3,
            "bin_end": 3.4000000000000004,
            "count": 0
           },
           {
            "bin_start": 3.4000000000000004,
            "bin_end": 3.8000000000000003,
            "count": 0
           },
           {
            "bin_start": 3.8000000000000003,
            "bin_end": 4.2,
            "count": 0
           },
           {
            "bin_start": 4.2,
            "bin_end": 4.6,
            "count": 0
           },
           {
            "bin_start": 4.6,
            "bin_end": 5,
            "count": 3
           }
          ]
         }
        },
        {
         "name": "QuestionID",
         "dtype": "object",
         "stats": {
          "unique_count": 2,
          "nan_count": 0,
          "categories": [
           {
            "name": "COPD5_4",
            "count": 4
           },
           {
            "name": "COPD1_2",
            "count": 1
           }
          ]
         }
        },
        {
         "name": "_deepnote_index_column",
         "dtype": "int64"
        }
       ],
       "rows": [
        {
         "YearStart": 2011,
         "LocationDesc": "Arkansas",
         "Topic": "Chronic Obstructive Pulmonary Disease",
         "Question": "Hospitalization for chronic obstructive pulmonary disease as any diagnosis among Medicare-eligible persons aged >= 65 years",
         "DataValue": 66.7,
         "Stratification1": "Black, non-Hispanic",
         "LocationID": 5,
         "QuestionID": "COPD5_4",
         "_deepnote_index_column": 12
        },
        {
         "YearStart": 2010,
         "LocationDesc": "Arkansas",
         "Topic": "Chronic Obstructive Pulmonary Disease",
         "Question": "Hospitalization for chronic obstructive pulmonary disease as any diagnosis among Medicare-eligible persons aged >= 65 years",
         "DataValue": 28.43,
         "Stratification1": "Asian or Pacific Islander",
         "LocationID": 5,
         "QuestionID": "COPD5_4",
         "_deepnote_index_column": 25
        },
        {
         "YearStart": 2013,
         "LocationDesc": "Arkansas",
         "Topic": "Chronic Obstructive Pulmonary Disease",
         "Question": "Hospitalization for chronic obstructive pulmonary disease as any diagnosis among Medicare-eligible persons aged >= 65 years",
         "DataValue": 49.5,
         "Stratification1": "Asian or Pacific Islander",
         "LocationID": 5,
         "QuestionID": "COPD5_4",
         "_deepnote_index_column": 51
        },
        {
         "YearStart": 2012,
         "LocationDesc": "Alaska",
         "Topic": "Chronic Obstructive Pulmonary Disease",
         "Question": "Mortality with chronic obstructive pulmonary disease as underlying or contributing cause among adults aged >= 45 years",
         "DataValue": 233.7,
         "Stratification1": "White, non-Hispanic",
         "LocationID": 2,
         "QuestionID": "COPD1_2",
         "_deepnote_index_column": 13
        },
        {
         "YearStart": 2018,
         "LocationDesc": "Alabama",
         "Topic": "Chronic Obstructive Pulmonary Disease",
         "Question": "Hospitalization for chronic obstructive pulmonary disease as any diagnosis among Medicare-eligible persons aged >= 65 years",
         "DataValue": 50.24,
         "Stratification1": "Hispanic",
         "LocationID": 1,
         "QuestionID": "COPD5_4",
         "_deepnote_index_column": 38
        }
       ]
      },
      "text/plain": "    YearStart LocationDesc                                  Topic  \\\n12       2011     Arkansas  Chronic Obstructive Pulmonary Disease   \n13       2012       Alaska  Chronic Obstructive Pulmonary Disease   \n25       2010     Arkansas  Chronic Obstructive Pulmonary Disease   \n38       2018      Alabama  Chronic Obstructive Pulmonary Disease   \n51       2013     Arkansas  Chronic Obstructive Pulmonary Disease   \n\n                                             Question  DataValue  \\\n12  Hospitalization for chronic obstructive pulmon...      66.70   \n13  Mortality with chronic obstructive pulmonary d...     233.70   \n25  Hospitalization for chronic obstructive pulmon...      28.43   \n38  Hospitalization for chronic obstructive pulmon...      50.24   \n51  Hospitalization for chronic obstructive pulmon...      49.50   \n\n              Stratification1  LocationID QuestionID  \n12        Black, non-Hispanic           5    COPD5_4  \n13        White, non-Hispanic           2    COPD1_2  \n25  Asian or Pacific Islander           5    COPD5_4  \n38                   Hispanic           1    COPD5_4  \n51  Asian or Pacific Islander           5    COPD5_4  ",
      "text/html": "<div>\n<style scoped>\n    .dataframe tbody tr th:only-of-type {\n        vertical-align: middle;\n    }\n\n    .dataframe tbody tr th {\n        vertical-align: top;\n    }\n\n    .dataframe thead th {\n        text-align: right;\n    }\n</style>\n<table border=\"1\" class=\"dataframe\">\n  <thead>\n    <tr style=\"text-align: right;\">\n      <th></th>\n      <th>YearStart</th>\n      <th>LocationDesc</th>\n      <th>Topic</th>\n      <th>Question</th>\n      <th>DataValue</th>\n      <th>Stratification1</th>\n      <th>LocationID</th>\n      <th>QuestionID</th>\n    </tr>\n  </thead>\n  <tbody>\n    <tr>\n      <th>12</th>\n      <td>2011</td>\n      <td>Arkansas</td>\n      <td>Chronic Obstructive Pulmonary Disease</td>\n      <td>Hospitalization for chronic obstructive pulmon...</td>\n      <td>66.70</td>\n      <td>Black, non-Hispanic</td>\n      <td>5</td>\n      <td>COPD5_4</td>\n    </tr>\n    <tr>\n      <th>13</th>\n      <td>2012</td>\n      <td>Alaska</td>\n      <td>Chronic Obstructive Pulmonary Disease</td>\n      <td>Mortality with chronic obstructive pulmonary d...</td>\n      <td>233.70</td>\n      <td>White, non-Hispanic</td>\n      <td>2</td>\n      <td>COPD1_2</td>\n    </tr>\n    <tr>\n      <th>25</th>\n      <td>2010</td>\n      <td>Arkansas</td>\n      <td>Chronic Obstructive Pulmonary Disease</td>\n      <td>Hospitalization for chronic obstructive pulmon...</td>\n      <td>28.43</td>\n      <td>Asian or Pacific Islander</td>\n      <td>5</td>\n      <td>COPD5_4</td>\n    </tr>\n    <tr>\n      <th>38</th>\n      <td>2018</td>\n      <td>Alabama</td>\n      <td>Chronic Obstructive Pulmonary Disease</td>\n      <td>Hospitalization for chronic obstructive pulmon...</td>\n      <td>50.24</td>\n      <td>Hispanic</td>\n      <td>1</td>\n      <td>COPD5_4</td>\n    </tr>\n    <tr>\n      <th>51</th>\n      <td>2013</td>\n      <td>Arkansas</td>\n      <td>Chronic Obstructive Pulmonary Disease</td>\n      <td>Hospitalization for chronic obstructive pulmon...</td>\n      <td>49.50</td>\n      <td>Asian or Pacific Islander</td>\n      <td>5</td>\n      <td>COPD5_4</td>\n    </tr>\n  </tbody>\n</table>\n</div>"
     },
     "metadata": {}
    }
   ]
  },
  {
   "cell_type": "code",
   "metadata": {
    "cell_id": "b44e429a8e394510b280bcd2d0fdd0a0",
    "tags": [],
    "deepnote_to_be_reexecuted": false,
    "source_hash": "10fe4725",
    "execution_start": 1652130540316,
    "execution_millis": 103,
    "deepnote_app_coordinates": {
     "x": 0,
     "y": 78,
     "w": 12,
     "h": 5
    },
    "deepnote_cell_type": "code",
    "deepnote_cell_height": 467
   },
   "source": "#One-Hot Encode Race\nd = pd.get_dummies(CDC_COPD_race['Stratification1'], prefix='Stratification')\nCDC_COPD_race_onehot = pd.concat([CDC_COPD_race, d], axis=1)\nCDC_COPD_race_onehot = CDC_COPD_race_onehot.rename(columns= {\"Stratification1\": \"Race/Ethnicity\"})\nCDC_COPD_race_onehot.head()",
   "execution_count": 8,
   "outputs": [
    {
     "output_type": "execute_result",
     "execution_count": 8,
     "data": {
      "application/vnd.deepnote.dataframe.v3+json": {
       "column_count": 13,
       "row_count": 5,
       "columns": [
        {
         "name": "YearStart",
         "dtype": "int64",
         "stats": {
          "unique_count": 5,
          "nan_count": 0,
          "min": "2010",
          "max": "2018",
          "histogram": [
           {
            "bin_start": 2010,
            "bin_end": 2010.8,
            "count": 1
           },
           {
            "bin_start": 2010.8,
            "bin_end": 2011.6,
            "count": 1
           },
           {
            "bin_start": 2011.6,
            "bin_end": 2012.4,
            "count": 1
           },
           {
            "bin_start": 2012.4,
            "bin_end": 2013.2,
            "count": 1
           },
           {
            "bin_start": 2013.2,
            "bin_end": 2014,
            "count": 0
           },
           {
            "bin_start": 2014,
            "bin_end": 2014.8,
            "count": 0
           },
           {
            "bin_start": 2014.8,
            "bin_end": 2015.6,
            "count": 0
           },
           {
            "bin_start": 2015.6,
            "bin_end": 2016.4,
            "count": 0
           },
           {
            "bin_start": 2016.4,
            "bin_end": 2017.2,
            "count": 0
           },
           {
            "bin_start": 2017.2,
            "bin_end": 2018,
            "count": 1
           }
          ]
         }
        },
        {
         "name": "LocationDesc",
         "dtype": "object",
         "stats": {
          "unique_count": 3,
          "nan_count": 0,
          "categories": [
           {
            "name": "Arkansas",
            "count": 3
           },
           {
            "name": "Alaska",
            "count": 1
           },
           {
            "name": "Alabama",
            "count": 1
           }
          ]
         }
        },
        {
         "name": "Topic",
         "dtype": "object",
         "stats": {
          "unique_count": 1,
          "nan_count": 0,
          "categories": [
           {
            "name": "Chronic Obstructive Pulmonary Disease",
            "count": 5
           }
          ]
         }
        },
        {
         "name": "Question",
         "dtype": "object",
         "stats": {
          "unique_count": 2,
          "nan_count": 0,
          "categories": [
           {
            "name": "Hospitalization for chronic obstructive pulmonary disease as any diagnosis among Medicare-eligible persons aged >= 65 years",
            "count": 4
           },
           {
            "name": "Mortality with chronic obstructive pulmonary disease as underlying or contributing cause among adults aged >= 45 years",
            "count": 1
           }
          ]
         }
        },
        {
         "name": "DataValue",
         "dtype": "float64",
         "stats": {
          "unique_count": 5,
          "nan_count": 0,
          "min": "28.43",
          "max": "233.7",
          "histogram": [
           {
            "bin_start": 28.43,
            "bin_end": 48.956999999999994,
            "count": 1
           },
           {
            "bin_start": 48.956999999999994,
            "bin_end": 69.484,
            "count": 3
           },
           {
            "bin_start": 69.484,
            "bin_end": 90.011,
            "count": 0
           },
           {
            "bin_start": 90.011,
            "bin_end": 110.53799999999998,
            "count": 0
           },
           {
            "bin_start": 110.53799999999998,
            "bin_end": 131.065,
            "count": 0
           },
           {
            "bin_start": 131.065,
            "bin_end": 151.59199999999998,
            "count": 0
           },
           {
            "bin_start": 151.59199999999998,
            "bin_end": 172.119,
            "count": 0
           },
           {
            "bin_start": 172.119,
            "bin_end": 192.646,
            "count": 0
           },
           {
            "bin_start": 192.646,
            "bin_end": 213.17299999999997,
            "count": 0
           },
           {
            "bin_start": 213.17299999999997,
            "bin_end": 233.7,
            "count": 1
           }
          ]
         }
        },
        {
         "name": "Race/Ethnicity",
         "dtype": "object",
         "stats": {
          "unique_count": 4,
          "nan_count": 0,
          "categories": [
           {
            "name": "Asian or Pacific Islander",
            "count": 2
           },
           {
            "name": "Black, non-Hispanic",
            "count": 1
           },
           {
            "name": "2 others",
            "count": 2
           }
          ]
         }
        },
        {
         "name": "LocationID",
         "dtype": "int64",
         "stats": {
          "unique_count": 3,
          "nan_count": 0,
          "min": "1",
          "max": "5",
          "histogram": [
           {
            "bin_start": 1,
            "bin_end": 1.4,
            "count": 1
           },
           {
            "bin_start": 1.4,
            "bin_end": 1.8,
            "count": 0
           },
           {
            "bin_start": 1.8,
            "bin_end": 2.2,
            "count": 1
           },
           {
            "bin_start": 2.2,
            "bin_end": 2.6,
            "count": 0
           },
           {
            "bin_start": 2.6,
            "bin_end": 3,
            "count": 0
           },
           {
            "bin_start": 3,
            "bin_end": 3.4000000000000004,
            "count": 0
           },
           {
            "bin_start": 3.4000000000000004,
            "bin_end": 3.8000000000000003,
            "count": 0
           },
           {
            "bin_start": 3.8000000000000003,
            "bin_end": 4.2,
            "count": 0
           },
           {
            "bin_start": 4.2,
            "bin_end": 4.6,
            "count": 0
           },
           {
            "bin_start": 4.6,
            "bin_end": 5,
            "count": 3
           }
          ]
         }
        },
        {
         "name": "QuestionID",
         "dtype": "object",
         "stats": {
          "unique_count": 2,
          "nan_count": 0,
          "categories": [
           {
            "name": "COPD5_4",
            "count": 4
           },
           {
            "name": "COPD1_2",
            "count": 1
           }
          ]
         }
        },
        {
         "name": "Stratification_American Indian or Alaska Native",
         "dtype": "uint8",
         "stats": {
          "unique_count": 1,
          "nan_count": 0,
          "min": "0",
          "max": "0",
          "histogram": [
           {
            "bin_start": -0.5,
            "bin_end": -0.4,
            "count": 0
           },
           {
            "bin_start": -0.4,
            "bin_end": -0.3,
            "count": 0
           },
           {
            "bin_start": -0.3,
            "bin_end": -0.19999999999999996,
            "count": 0
           },
           {
            "bin_start": -0.19999999999999996,
            "bin_end": -0.09999999999999998,
            "count": 0
           },
           {
            "bin_start": -0.09999999999999998,
            "bin_end": 0,
            "count": 0
           },
           {
            "bin_start": 0,
            "bin_end": 0.10000000000000009,
            "count": 5
           },
           {
            "bin_start": 0.10000000000000009,
            "bin_end": 0.20000000000000007,
            "count": 0
           },
           {
            "bin_start": 0.20000000000000007,
            "bin_end": 0.30000000000000004,
            "count": 0
           },
           {
            "bin_start": 0.30000000000000004,
            "bin_end": 0.4,
            "count": 0
           },
           {
            "bin_start": 0.4,
            "bin_end": 0.5,
            "count": 0
           }
          ]
         }
        },
        {
         "name": "Stratification_Asian or Pacific Islander",
         "dtype": "uint8",
         "stats": {
          "unique_count": 2,
          "nan_count": 0,
          "min": "0",
          "max": "1",
          "histogram": [
           {
            "bin_start": 0,
            "bin_end": 0.1,
            "count": 3
           },
           {
            "bin_start": 0.1,
            "bin_end": 0.2,
            "count": 0
           },
           {
            "bin_start": 0.2,
            "bin_end": 0.30000000000000004,
            "count": 0
           },
           {
            "bin_start": 0.30000000000000004,
            "bin_end": 0.4,
            "count": 0
           },
           {
            "bin_start": 0.4,
            "bin_end": 0.5,
            "count": 0
           },
           {
            "bin_start": 0.5,
            "bin_end": 0.6000000000000001,
            "count": 0
           },
           {
            "bin_start": 0.6000000000000001,
            "bin_end": 0.7000000000000001,
            "count": 0
           },
           {
            "bin_start": 0.7000000000000001,
            "bin_end": 0.8,
            "count": 0
           },
           {
            "bin_start": 0.8,
            "bin_end": 0.9,
            "count": 0
           },
           {
            "bin_start": 0.9,
            "bin_end": 1,
            "count": 2
           }
          ]
         }
        },
        {
         "name": "Stratification_Black, non-Hispanic",
         "dtype": "uint8",
         "stats": {
          "unique_count": 2,
          "nan_count": 0,
          "min": "0",
          "max": "1",
          "histogram": [
           {
            "bin_start": 0,
            "bin_end": 0.1,
            "count": 4
           },
           {
            "bin_start": 0.1,
            "bin_end": 0.2,
            "count": 0
           },
           {
            "bin_start": 0.2,
            "bin_end": 0.30000000000000004,
            "count": 0
           },
           {
            "bin_start": 0.30000000000000004,
            "bin_end": 0.4,
            "count": 0
           },
           {
            "bin_start": 0.4,
            "bin_end": 0.5,
            "count": 0
           },
           {
            "bin_start": 0.5,
            "bin_end": 0.6000000000000001,
            "count": 0
           },
           {
            "bin_start": 0.6000000000000001,
            "bin_end": 0.7000000000000001,
            "count": 0
           },
           {
            "bin_start": 0.7000000000000001,
            "bin_end": 0.8,
            "count": 0
           },
           {
            "bin_start": 0.8,
            "bin_end": 0.9,
            "count": 0
           },
           {
            "bin_start": 0.9,
            "bin_end": 1,
            "count": 1
           }
          ]
         }
        },
        {
         "name": "Stratification_Hispanic",
         "dtype": "uint8",
         "stats": {
          "unique_count": 2,
          "nan_count": 0,
          "min": "0",
          "max": "1",
          "histogram": [
           {
            "bin_start": 0,
            "bin_end": 0.1,
            "count": 4
           },
           {
            "bin_start": 0.1,
            "bin_end": 0.2,
            "count": 0
           },
           {
            "bin_start": 0.2,
            "bin_end": 0.30000000000000004,
            "count": 0
           },
           {
            "bin_start": 0.30000000000000004,
            "bin_end": 0.4,
            "count": 0
           },
           {
            "bin_start": 0.4,
            "bin_end": 0.5,
            "count": 0
           },
           {
            "bin_start": 0.5,
            "bin_end": 0.6000000000000001,
            "count": 0
           },
           {
            "bin_start": 0.6000000000000001,
            "bin_end": 0.7000000000000001,
            "count": 0
           },
           {
            "bin_start": 0.7000000000000001,
            "bin_end": 0.8,
            "count": 0
           },
           {
            "bin_start": 0.8,
            "bin_end": 0.9,
            "count": 0
           },
           {
            "bin_start": 0.9,
            "bin_end": 1,
            "count": 1
           }
          ]
         }
        },
        {
         "name": "Stratification_White, non-Hispanic",
         "dtype": "uint8",
         "stats": {
          "unique_count": 2,
          "nan_count": 0,
          "min": "0",
          "max": "1",
          "histogram": [
           {
            "bin_start": 0,
            "bin_end": 0.1,
            "count": 4
           },
           {
            "bin_start": 0.1,
            "bin_end": 0.2,
            "count": 0
           },
           {
            "bin_start": 0.2,
            "bin_end": 0.30000000000000004,
            "count": 0
           },
           {
            "bin_start": 0.30000000000000004,
            "bin_end": 0.4,
            "count": 0
           },
           {
            "bin_start": 0.4,
            "bin_end": 0.5,
            "count": 0
           },
           {
            "bin_start": 0.5,
            "bin_end": 0.6000000000000001,
            "count": 0
           },
           {
            "bin_start": 0.6000000000000001,
            "bin_end": 0.7000000000000001,
            "count": 0
           },
           {
            "bin_start": 0.7000000000000001,
            "bin_end": 0.8,
            "count": 0
           },
           {
            "bin_start": 0.8,
            "bin_end": 0.9,
            "count": 0
           },
           {
            "bin_start": 0.9,
            "bin_end": 1,
            "count": 1
           }
          ]
         }
        },
        {
         "name": "_deepnote_index_column",
         "dtype": "int64"
        }
       ],
       "rows": [
        {
         "YearStart": 2011,
         "LocationDesc": "Arkansas",
         "Topic": "Chronic Obstructive Pulmonary Disease",
         "Question": "Hospitalization for chronic obstructive pulmonary disease as any diagnosis among Medicare-eligible persons aged >= 65 years",
         "DataValue": 66.7,
         "Race/Ethnicity": "Black, non-Hispanic",
         "LocationID": 5,
         "QuestionID": "COPD5_4",
         "Stratification_American Indian or Alaska Native": 0,
         "Stratification_Asian or Pacific Islander": 0,
         "Stratification_Black, non-Hispanic": 1,
         "Stratification_Hispanic": 0,
         "Stratification_White, non-Hispanic": 0,
         "_deepnote_index_column": 12
        },
        {
         "YearStart": 2012,
         "LocationDesc": "Alaska",
         "Topic": "Chronic Obstructive Pulmonary Disease",
         "Question": "Mortality with chronic obstructive pulmonary disease as underlying or contributing cause among adults aged >= 45 years",
         "DataValue": 233.7,
         "Race/Ethnicity": "White, non-Hispanic",
         "LocationID": 2,
         "QuestionID": "COPD1_2",
         "Stratification_American Indian or Alaska Native": 0,
         "Stratification_Asian or Pacific Islander": 0,
         "Stratification_Black, non-Hispanic": 0,
         "Stratification_Hispanic": 0,
         "Stratification_White, non-Hispanic": 1,
         "_deepnote_index_column": 13
        },
        {
         "YearStart": 2010,
         "LocationDesc": "Arkansas",
         "Topic": "Chronic Obstructive Pulmonary Disease",
         "Question": "Hospitalization for chronic obstructive pulmonary disease as any diagnosis among Medicare-eligible persons aged >= 65 years",
         "DataValue": 28.43,
         "Race/Ethnicity": "Asian or Pacific Islander",
         "LocationID": 5,
         "QuestionID": "COPD5_4",
         "Stratification_American Indian or Alaska Native": 0,
         "Stratification_Asian or Pacific Islander": 1,
         "Stratification_Black, non-Hispanic": 0,
         "Stratification_Hispanic": 0,
         "Stratification_White, non-Hispanic": 0,
         "_deepnote_index_column": 25
        },
        {
         "YearStart": 2018,
         "LocationDesc": "Alabama",
         "Topic": "Chronic Obstructive Pulmonary Disease",
         "Question": "Hospitalization for chronic obstructive pulmonary disease as any diagnosis among Medicare-eligible persons aged >= 65 years",
         "DataValue": 50.24,
         "Race/Ethnicity": "Hispanic",
         "LocationID": 1,
         "QuestionID": "COPD5_4",
         "Stratification_American Indian or Alaska Native": 0,
         "Stratification_Asian or Pacific Islander": 0,
         "Stratification_Black, non-Hispanic": 0,
         "Stratification_Hispanic": 1,
         "Stratification_White, non-Hispanic": 0,
         "_deepnote_index_column": 38
        },
        {
         "YearStart": 2013,
         "LocationDesc": "Arkansas",
         "Topic": "Chronic Obstructive Pulmonary Disease",
         "Question": "Hospitalization for chronic obstructive pulmonary disease as any diagnosis among Medicare-eligible persons aged >= 65 years",
         "DataValue": 49.5,
         "Race/Ethnicity": "Asian or Pacific Islander",
         "LocationID": 5,
         "QuestionID": "COPD5_4",
         "Stratification_American Indian or Alaska Native": 0,
         "Stratification_Asian or Pacific Islander": 1,
         "Stratification_Black, non-Hispanic": 0,
         "Stratification_Hispanic": 0,
         "Stratification_White, non-Hispanic": 0,
         "_deepnote_index_column": 51
        }
       ]
      },
      "text/plain": "    YearStart LocationDesc                                  Topic  \\\n12       2011     Arkansas  Chronic Obstructive Pulmonary Disease   \n13       2012       Alaska  Chronic Obstructive Pulmonary Disease   \n25       2010     Arkansas  Chronic Obstructive Pulmonary Disease   \n38       2018      Alabama  Chronic Obstructive Pulmonary Disease   \n51       2013     Arkansas  Chronic Obstructive Pulmonary Disease   \n\n                                             Question  DataValue  \\\n12  Hospitalization for chronic obstructive pulmon...      66.70   \n13  Mortality with chronic obstructive pulmonary d...     233.70   \n25  Hospitalization for chronic obstructive pulmon...      28.43   \n38  Hospitalization for chronic obstructive pulmon...      50.24   \n51  Hospitalization for chronic obstructive pulmon...      49.50   \n\n               Race/Ethnicity  LocationID QuestionID  \\\n12        Black, non-Hispanic           5    COPD5_4   \n13        White, non-Hispanic           2    COPD1_2   \n25  Asian or Pacific Islander           5    COPD5_4   \n38                   Hispanic           1    COPD5_4   \n51  Asian or Pacific Islander           5    COPD5_4   \n\n    Stratification_American Indian or Alaska Native  \\\n12                                                0   \n13                                                0   \n25                                                0   \n38                                                0   \n51                                                0   \n\n    Stratification_Asian or Pacific Islander  \\\n12                                         0   \n13                                         0   \n25                                         1   \n38                                         0   \n51                                         1   \n\n    Stratification_Black, non-Hispanic  Stratification_Hispanic  \\\n12                                   1                        0   \n13                                   0                        0   \n25                                   0                        0   \n38                                   0                        1   \n51                                   0                        0   \n\n    Stratification_White, non-Hispanic  \n12                                   0  \n13                                   1  \n25                                   0  \n38                                   0  \n51                                   0  ",
      "text/html": "<div>\n<style scoped>\n    .dataframe tbody tr th:only-of-type {\n        vertical-align: middle;\n    }\n\n    .dataframe tbody tr th {\n        vertical-align: top;\n    }\n\n    .dataframe thead th {\n        text-align: right;\n    }\n</style>\n<table border=\"1\" class=\"dataframe\">\n  <thead>\n    <tr style=\"text-align: right;\">\n      <th></th>\n      <th>YearStart</th>\n      <th>LocationDesc</th>\n      <th>Topic</th>\n      <th>Question</th>\n      <th>DataValue</th>\n      <th>Race/Ethnicity</th>\n      <th>LocationID</th>\n      <th>QuestionID</th>\n      <th>Stratification_American Indian or Alaska Native</th>\n      <th>Stratification_Asian or Pacific Islander</th>\n      <th>Stratification_Black, non-Hispanic</th>\n      <th>Stratification_Hispanic</th>\n      <th>Stratification_White, non-Hispanic</th>\n    </tr>\n  </thead>\n  <tbody>\n    <tr>\n      <th>12</th>\n      <td>2011</td>\n      <td>Arkansas</td>\n      <td>Chronic Obstructive Pulmonary Disease</td>\n      <td>Hospitalization for chronic obstructive pulmon...</td>\n      <td>66.70</td>\n      <td>Black, non-Hispanic</td>\n      <td>5</td>\n      <td>COPD5_4</td>\n      <td>0</td>\n      <td>0</td>\n      <td>1</td>\n      <td>0</td>\n      <td>0</td>\n    </tr>\n    <tr>\n      <th>13</th>\n      <td>2012</td>\n      <td>Alaska</td>\n      <td>Chronic Obstructive Pulmonary Disease</td>\n      <td>Mortality with chronic obstructive pulmonary d...</td>\n      <td>233.70</td>\n      <td>White, non-Hispanic</td>\n      <td>2</td>\n      <td>COPD1_2</td>\n      <td>0</td>\n      <td>0</td>\n      <td>0</td>\n      <td>0</td>\n      <td>1</td>\n    </tr>\n    <tr>\n      <th>25</th>\n      <td>2010</td>\n      <td>Arkansas</td>\n      <td>Chronic Obstructive Pulmonary Disease</td>\n      <td>Hospitalization for chronic obstructive pulmon...</td>\n      <td>28.43</td>\n      <td>Asian or Pacific Islander</td>\n      <td>5</td>\n      <td>COPD5_4</td>\n      <td>0</td>\n      <td>1</td>\n      <td>0</td>\n      <td>0</td>\n      <td>0</td>\n    </tr>\n    <tr>\n      <th>38</th>\n      <td>2018</td>\n      <td>Alabama</td>\n      <td>Chronic Obstructive Pulmonary Disease</td>\n      <td>Hospitalization for chronic obstructive pulmon...</td>\n      <td>50.24</td>\n      <td>Hispanic</td>\n      <td>1</td>\n      <td>COPD5_4</td>\n      <td>0</td>\n      <td>0</td>\n      <td>0</td>\n      <td>1</td>\n      <td>0</td>\n    </tr>\n    <tr>\n      <th>51</th>\n      <td>2013</td>\n      <td>Arkansas</td>\n      <td>Chronic Obstructive Pulmonary Disease</td>\n      <td>Hospitalization for chronic obstructive pulmon...</td>\n      <td>49.50</td>\n      <td>Asian or Pacific Islander</td>\n      <td>5</td>\n      <td>COPD5_4</td>\n      <td>0</td>\n      <td>1</td>\n      <td>0</td>\n      <td>0</td>\n      <td>0</td>\n    </tr>\n  </tbody>\n</table>\n</div>"
     },
     "metadata": {}
    }
   ]
  },
  {
   "cell_type": "code",
   "metadata": {
    "cell_id": "90e7942833614001a7a3df5e747abd7a",
    "tags": [],
    "deepnote_to_be_reexecuted": false,
    "source_hash": "1d20f469",
    "execution_start": 1652130540420,
    "execution_millis": 168,
    "deepnote_app_coordinates": {
     "x": 0,
     "y": 84,
     "w": 12,
     "h": 5
    },
    "deepnote_cell_type": "code",
    "deepnote_cell_height": 485
   },
   "source": "# locationID == statefips in pm25_year tables\nCDC_COPD_gender = CDC_COPD_clean.loc[(CDC_COPD_clean['DataValueType'] == 'Age-adjusted Rate')]\nCDC_COPD_gender = CDC_COPD_gender.loc[(CDC_COPD_gender['StratificationCategory1'] == 'Gender')]\nCDC_COPD_gender = CDC_COPD_gender[CDC_COPD_gender['DataValue'].notna()]\nCDC_COPD_gender =  CDC_COPD_gender.drop(['LocationAbbr','YearEnd','TopicID','DataSource', 'DataValueUnit', 'DataValueAlt', 'DataValueType', 'DataValueFootnoteSymbol','DatavalueFootnote', 'LowConfidenceLimit', 'HighConfidenceLimit', 'StratificationCategory1', 'DataValueTypeID', 'StratificationCategoryID1','StratificationID1'], axis=1)\nCDC_COPD_gender.head()",
   "execution_count": 9,
   "outputs": [
    {
     "output_type": "execute_result",
     "execution_count": 9,
     "data": {
      "application/vnd.deepnote.dataframe.v3+json": {
       "column_count": 8,
       "row_count": 5,
       "columns": [
        {
         "name": "YearStart",
         "dtype": "int64",
         "stats": {
          "unique_count": 3,
          "nan_count": 0,
          "min": "2010",
          "max": "2017",
          "histogram": [
           {
            "bin_start": 2010,
            "bin_end": 2010.7,
            "count": 3
           },
           {
            "bin_start": 2010.7,
            "bin_end": 2011.4,
            "count": 0
           },
           {
            "bin_start": 2011.4,
            "bin_end": 2012.1,
            "count": 0
           },
           {
            "bin_start": 2012.1,
            "bin_end": 2012.8,
            "count": 0
           },
           {
            "bin_start": 2012.8,
            "bin_end": 2013.5,
            "count": 1
           },
           {
            "bin_start": 2013.5,
            "bin_end": 2014.2,
            "count": 0
           },
           {
            "bin_start": 2014.2,
            "bin_end": 2014.9,
            "count": 0
           },
           {
            "bin_start": 2014.9,
            "bin_end": 2015.6,
            "count": 0
           },
           {
            "bin_start": 2015.6,
            "bin_end": 2016.3,
            "count": 0
           },
           {
            "bin_start": 2016.3,
            "bin_end": 2017,
            "count": 1
           }
          ]
         }
        },
        {
         "name": "LocationDesc",
         "dtype": "object",
         "stats": {
          "unique_count": 2,
          "nan_count": 0,
          "categories": [
           {
            "name": "Arkansas",
            "count": 4
           },
           {
            "name": "Alaska",
            "count": 1
           }
          ]
         }
        },
        {
         "name": "Topic",
         "dtype": "object",
         "stats": {
          "unique_count": 1,
          "nan_count": 0,
          "categories": [
           {
            "name": "Chronic Obstructive Pulmonary Disease",
            "count": 5
           }
          ]
         }
        },
        {
         "name": "Question",
         "dtype": "object",
         "stats": {
          "unique_count": 3,
          "nan_count": 0,
          "categories": [
           {
            "name": "Hospitalization for chronic obstructive pulmonary disease as first-listed diagnosis among Medicare-eligible persons aged >= 65 years",
            "count": 3
           },
           {
            "name": "Mortality with chronic obstructive pulmonary disease as underlying or contributing cause among adults aged >= 45 years",
            "count": 1
           },
           {
            "name": "Mortality with chronic obstructive pulmonary disease as underlying cause among adults aged >= 45 years",
            "count": 1
           }
          ]
         }
        },
        {
         "name": "DataValue",
         "dtype": "float64",
         "stats": {
          "unique_count": 5,
          "nan_count": 0,
          "min": "5.53",
          "max": "339.5",
          "histogram": [
           {
            "bin_start": 5.53,
            "bin_end": 38.92700000000001,
            "count": 3
           },
           {
            "bin_start": 38.92700000000001,
            "bin_end": 72.32400000000001,
            "count": 0
           },
           {
            "bin_start": 72.32400000000001,
            "bin_end": 105.72100000000002,
            "count": 0
           },
           {
            "bin_start": 105.72100000000002,
            "bin_end": 139.11800000000002,
            "count": 1
           },
           {
            "bin_start": 139.11800000000002,
            "bin_end": 172.51500000000001,
            "count": 0
           },
           {
            "bin_start": 172.51500000000001,
            "bin_end": 205.91200000000003,
            "count": 0
           },
           {
            "bin_start": 205.91200000000003,
            "bin_end": 239.30900000000005,
            "count": 0
           },
           {
            "bin_start": 239.30900000000005,
            "bin_end": 272.706,
            "count": 0
           },
           {
            "bin_start": 272.706,
            "bin_end": 306.103,
            "count": 0
           },
           {
            "bin_start": 306.103,
            "bin_end": 339.5,
            "count": 1
           }
          ]
         }
        },
        {
         "name": "Stratification1",
         "dtype": "object",
         "stats": {
          "unique_count": 2,
          "nan_count": 0,
          "categories": [
           {
            "name": "Female",
            "count": 3
           },
           {
            "name": "Male",
            "count": 2
           }
          ]
         }
        },
        {
         "name": "LocationID",
         "dtype": "int64",
         "stats": {
          "unique_count": 2,
          "nan_count": 0,
          "min": "2",
          "max": "5",
          "histogram": [
           {
            "bin_start": 2,
            "bin_end": 2.3,
            "count": 1
           },
           {
            "bin_start": 2.3,
            "bin_end": 2.6,
            "count": 0
           },
           {
            "bin_start": 2.6,
            "bin_end": 2.9,
            "count": 0
           },
           {
            "bin_start": 2.9,
            "bin_end": 3.2,
            "count": 0
           },
           {
            "bin_start": 3.2,
            "bin_end": 3.5,
            "count": 0
           },
           {
            "bin_start": 3.5,
            "bin_end": 3.8,
            "count": 0
           },
           {
            "bin_start": 3.8,
            "bin_end": 4.1,
            "count": 0
           },
           {
            "bin_start": 4.1,
            "bin_end": 4.4,
            "count": 0
           },
           {
            "bin_start": 4.4,
            "bin_end": 4.699999999999999,
            "count": 0
           },
           {
            "bin_start": 4.699999999999999,
            "bin_end": 5,
            "count": 4
           }
          ]
         }
        },
        {
         "name": "QuestionID",
         "dtype": "object",
         "stats": {
          "unique_count": 3,
          "nan_count": 0,
          "categories": [
           {
            "name": "COPD5_3",
            "count": 3
           },
           {
            "name": "COPD1_2",
            "count": 1
           },
           {
            "name": "COPD1_1",
            "count": 1
           }
          ]
         }
        },
        {
         "name": "_deepnote_index_column",
         "dtype": "int64"
        }
       ],
       "rows": [
        {
         "YearStart": 2010,
         "LocationDesc": "Arkansas",
         "Topic": "Chronic Obstructive Pulmonary Disease",
         "Question": "Mortality with chronic obstructive pulmonary disease as underlying or contributing cause among adults aged >= 45 years",
         "DataValue": 339.5,
         "Stratification1": "Male",
         "LocationID": 5,
         "QuestionID": "COPD1_2",
         "_deepnote_index_column": 48
        },
        {
         "YearStart": 2010,
         "LocationDesc": "Arkansas",
         "Topic": "Chronic Obstructive Pulmonary Disease",
         "Question": "Hospitalization for chronic obstructive pulmonary disease as first-listed diagnosis among Medicare-eligible persons aged >= 65 years",
         "DataValue": 13.17,
         "Stratification1": "Female",
         "LocationID": 5,
         "QuestionID": "COPD5_3",
         "_deepnote_index_column": 55
        },
        {
         "YearStart": 2013,
         "LocationDesc": "Arkansas",
         "Topic": "Chronic Obstructive Pulmonary Disease",
         "Question": "Hospitalization for chronic obstructive pulmonary disease as first-listed diagnosis among Medicare-eligible persons aged >= 65 years",
         "DataValue": 13.37,
         "Stratification1": "Male",
         "LocationID": 5,
         "QuestionID": "COPD5_3",
         "_deepnote_index_column": 57
        },
        {
         "YearStart": 2010,
         "LocationDesc": "Arkansas",
         "Topic": "Chronic Obstructive Pulmonary Disease",
         "Question": "Mortality with chronic obstructive pulmonary disease as underlying cause among adults aged >= 45 years",
         "DataValue": 124.2,
         "Stratification1": "Female",
         "LocationID": 5,
         "QuestionID": "COPD1_1",
         "_deepnote_index_column": 63
        },
        {
         "YearStart": 2017,
         "LocationDesc": "Alaska",
         "Topic": "Chronic Obstructive Pulmonary Disease",
         "Question": "Hospitalization for chronic obstructive pulmonary disease as first-listed diagnosis among Medicare-eligible persons aged >= 65 years",
         "DataValue": 5.53,
         "Stratification1": "Female",
         "LocationID": 2,
         "QuestionID": "COPD5_3",
         "_deepnote_index_column": 71
        }
       ]
      },
      "text/plain": "    YearStart LocationDesc                                  Topic  \\\n48       2010     Arkansas  Chronic Obstructive Pulmonary Disease   \n55       2010     Arkansas  Chronic Obstructive Pulmonary Disease   \n57       2013     Arkansas  Chronic Obstructive Pulmonary Disease   \n63       2010     Arkansas  Chronic Obstructive Pulmonary Disease   \n71       2017       Alaska  Chronic Obstructive Pulmonary Disease   \n\n                                             Question  DataValue  \\\n48  Mortality with chronic obstructive pulmonary d...     339.50   \n55  Hospitalization for chronic obstructive pulmon...      13.17   \n57  Hospitalization for chronic obstructive pulmon...      13.37   \n63  Mortality with chronic obstructive pulmonary d...     124.20   \n71  Hospitalization for chronic obstructive pulmon...       5.53   \n\n   Stratification1  LocationID QuestionID  \n48            Male           5    COPD1_2  \n55          Female           5    COPD5_3  \n57            Male           5    COPD5_3  \n63          Female           5    COPD1_1  \n71          Female           2    COPD5_3  ",
      "text/html": "<div>\n<style scoped>\n    .dataframe tbody tr th:only-of-type {\n        vertical-align: middle;\n    }\n\n    .dataframe tbody tr th {\n        vertical-align: top;\n    }\n\n    .dataframe thead th {\n        text-align: right;\n    }\n</style>\n<table border=\"1\" class=\"dataframe\">\n  <thead>\n    <tr style=\"text-align: right;\">\n      <th></th>\n      <th>YearStart</th>\n      <th>LocationDesc</th>\n      <th>Topic</th>\n      <th>Question</th>\n      <th>DataValue</th>\n      <th>Stratification1</th>\n      <th>LocationID</th>\n      <th>QuestionID</th>\n    </tr>\n  </thead>\n  <tbody>\n    <tr>\n      <th>48</th>\n      <td>2010</td>\n      <td>Arkansas</td>\n      <td>Chronic Obstructive Pulmonary Disease</td>\n      <td>Mortality with chronic obstructive pulmonary d...</td>\n      <td>339.50</td>\n      <td>Male</td>\n      <td>5</td>\n      <td>COPD1_2</td>\n    </tr>\n    <tr>\n      <th>55</th>\n      <td>2010</td>\n      <td>Arkansas</td>\n      <td>Chronic Obstructive Pulmonary Disease</td>\n      <td>Hospitalization for chronic obstructive pulmon...</td>\n      <td>13.17</td>\n      <td>Female</td>\n      <td>5</td>\n      <td>COPD5_3</td>\n    </tr>\n    <tr>\n      <th>57</th>\n      <td>2013</td>\n      <td>Arkansas</td>\n      <td>Chronic Obstructive Pulmonary Disease</td>\n      <td>Hospitalization for chronic obstructive pulmon...</td>\n      <td>13.37</td>\n      <td>Male</td>\n      <td>5</td>\n      <td>COPD5_3</td>\n    </tr>\n    <tr>\n      <th>63</th>\n      <td>2010</td>\n      <td>Arkansas</td>\n      <td>Chronic Obstructive Pulmonary Disease</td>\n      <td>Mortality with chronic obstructive pulmonary d...</td>\n      <td>124.20</td>\n      <td>Female</td>\n      <td>5</td>\n      <td>COPD1_1</td>\n    </tr>\n    <tr>\n      <th>71</th>\n      <td>2017</td>\n      <td>Alaska</td>\n      <td>Chronic Obstructive Pulmonary Disease</td>\n      <td>Hospitalization for chronic obstructive pulmon...</td>\n      <td>5.53</td>\n      <td>Female</td>\n      <td>2</td>\n      <td>COPD5_3</td>\n    </tr>\n  </tbody>\n</table>\n</div>"
     },
     "metadata": {}
    }
   ]
  },
  {
   "cell_type": "code",
   "metadata": {
    "cell_id": "add2e1fdc3e646318fcbc0601da5e09a",
    "tags": [],
    "deepnote_to_be_reexecuted": false,
    "source_hash": "505573e6",
    "execution_start": 1652130540555,
    "execution_millis": 124,
    "deepnote_app_coordinates": {
     "x": 0,
     "y": 90,
     "w": 12,
     "h": 5
    },
    "deepnote_cell_type": "code",
    "deepnote_cell_height": 467
   },
   "source": "#One-Hot Encode Gender\nd = pd.get_dummies(CDC_COPD_gender['Stratification1'], prefix='Stratification')\nCDC_COPD_gender_onehot = pd.concat([CDC_COPD_gender, d], axis=1)\nCDC_COPD_gender_onehot = CDC_COPD_gender_onehot.rename(columns= {\"Stratification1\": \"Gender\"})\nCDC_COPD_gender_onehot.head()",
   "execution_count": 10,
   "outputs": [
    {
     "output_type": "execute_result",
     "execution_count": 10,
     "data": {
      "application/vnd.deepnote.dataframe.v3+json": {
       "column_count": 10,
       "row_count": 5,
       "columns": [
        {
         "name": "YearStart",
         "dtype": "int64",
         "stats": {
          "unique_count": 3,
          "nan_count": 0,
          "min": "2010",
          "max": "2017",
          "histogram": [
           {
            "bin_start": 2010,
            "bin_end": 2010.7,
            "count": 3
           },
           {
            "bin_start": 2010.7,
            "bin_end": 2011.4,
            "count": 0
           },
           {
            "bin_start": 2011.4,
            "bin_end": 2012.1,
            "count": 0
           },
           {
            "bin_start": 2012.1,
            "bin_end": 2012.8,
            "count": 0
           },
           {
            "bin_start": 2012.8,
            "bin_end": 2013.5,
            "count": 1
           },
           {
            "bin_start": 2013.5,
            "bin_end": 2014.2,
            "count": 0
           },
           {
            "bin_start": 2014.2,
            "bin_end": 2014.9,
            "count": 0
           },
           {
            "bin_start": 2014.9,
            "bin_end": 2015.6,
            "count": 0
           },
           {
            "bin_start": 2015.6,
            "bin_end": 2016.3,
            "count": 0
           },
           {
            "bin_start": 2016.3,
            "bin_end": 2017,
            "count": 1
           }
          ]
         }
        },
        {
         "name": "LocationDesc",
         "dtype": "object",
         "stats": {
          "unique_count": 2,
          "nan_count": 0,
          "categories": [
           {
            "name": "Arkansas",
            "count": 4
           },
           {
            "name": "Alaska",
            "count": 1
           }
          ]
         }
        },
        {
         "name": "Topic",
         "dtype": "object",
         "stats": {
          "unique_count": 1,
          "nan_count": 0,
          "categories": [
           {
            "name": "Chronic Obstructive Pulmonary Disease",
            "count": 5
           }
          ]
         }
        },
        {
         "name": "Question",
         "dtype": "object",
         "stats": {
          "unique_count": 3,
          "nan_count": 0,
          "categories": [
           {
            "name": "Hospitalization for chronic obstructive pulmonary disease as first-listed diagnosis among Medicare-eligible persons aged >= 65 years",
            "count": 3
           },
           {
            "name": "Mortality with chronic obstructive pulmonary disease as underlying or contributing cause among adults aged >= 45 years",
            "count": 1
           },
           {
            "name": "Mortality with chronic obstructive pulmonary disease as underlying cause among adults aged >= 45 years",
            "count": 1
           }
          ]
         }
        },
        {
         "name": "DataValue",
         "dtype": "float64",
         "stats": {
          "unique_count": 5,
          "nan_count": 0,
          "min": "5.53",
          "max": "339.5",
          "histogram": [
           {
            "bin_start": 5.53,
            "bin_end": 38.92700000000001,
            "count": 3
           },
           {
            "bin_start": 38.92700000000001,
            "bin_end": 72.32400000000001,
            "count": 0
           },
           {
            "bin_start": 72.32400000000001,
            "bin_end": 105.72100000000002,
            "count": 0
           },
           {
            "bin_start": 105.72100000000002,
            "bin_end": 139.11800000000002,
            "count": 1
           },
           {
            "bin_start": 139.11800000000002,
            "bin_end": 172.51500000000001,
            "count": 0
           },
           {
            "bin_start": 172.51500000000001,
            "bin_end": 205.91200000000003,
            "count": 0
           },
           {
            "bin_start": 205.91200000000003,
            "bin_end": 239.30900000000005,
            "count": 0
           },
           {
            "bin_start": 239.30900000000005,
            "bin_end": 272.706,
            "count": 0
           },
           {
            "bin_start": 272.706,
            "bin_end": 306.103,
            "count": 0
           },
           {
            "bin_start": 306.103,
            "bin_end": 339.5,
            "count": 1
           }
          ]
         }
        },
        {
         "name": "Gender",
         "dtype": "object",
         "stats": {
          "unique_count": 2,
          "nan_count": 0,
          "categories": [
           {
            "name": "Female",
            "count": 3
           },
           {
            "name": "Male",
            "count": 2
           }
          ]
         }
        },
        {
         "name": "LocationID",
         "dtype": "int64",
         "stats": {
          "unique_count": 2,
          "nan_count": 0,
          "min": "2",
          "max": "5",
          "histogram": [
           {
            "bin_start": 2,
            "bin_end": 2.3,
            "count": 1
           },
           {
            "bin_start": 2.3,
            "bin_end": 2.6,
            "count": 0
           },
           {
            "bin_start": 2.6,
            "bin_end": 2.9,
            "count": 0
           },
           {
            "bin_start": 2.9,
            "bin_end": 3.2,
            "count": 0
           },
           {
            "bin_start": 3.2,
            "bin_end": 3.5,
            "count": 0
           },
           {
            "bin_start": 3.5,
            "bin_end": 3.8,
            "count": 0
           },
           {
            "bin_start": 3.8,
            "bin_end": 4.1,
            "count": 0
           },
           {
            "bin_start": 4.1,
            "bin_end": 4.4,
            "count": 0
           },
           {
            "bin_start": 4.4,
            "bin_end": 4.699999999999999,
            "count": 0
           },
           {
            "bin_start": 4.699999999999999,
            "bin_end": 5,
            "count": 4
           }
          ]
         }
        },
        {
         "name": "QuestionID",
         "dtype": "object",
         "stats": {
          "unique_count": 3,
          "nan_count": 0,
          "categories": [
           {
            "name": "COPD5_3",
            "count": 3
           },
           {
            "name": "COPD1_2",
            "count": 1
           },
           {
            "name": "COPD1_1",
            "count": 1
           }
          ]
         }
        },
        {
         "name": "Stratification_Female",
         "dtype": "uint8",
         "stats": {
          "unique_count": 2,
          "nan_count": 0,
          "min": "0",
          "max": "1",
          "histogram": [
           {
            "bin_start": 0,
            "bin_end": 0.1,
            "count": 2
           },
           {
            "bin_start": 0.1,
            "bin_end": 0.2,
            "count": 0
           },
           {
            "bin_start": 0.2,
            "bin_end": 0.30000000000000004,
            "count": 0
           },
           {
            "bin_start": 0.30000000000000004,
            "bin_end": 0.4,
            "count": 0
           },
           {
            "bin_start": 0.4,
            "bin_end": 0.5,
            "count": 0
           },
           {
            "bin_start": 0.5,
            "bin_end": 0.6000000000000001,
            "count": 0
           },
           {
            "bin_start": 0.6000000000000001,
            "bin_end": 0.7000000000000001,
            "count": 0
           },
           {
            "bin_start": 0.7000000000000001,
            "bin_end": 0.8,
            "count": 0
           },
           {
            "bin_start": 0.8,
            "bin_end": 0.9,
            "count": 0
           },
           {
            "bin_start": 0.9,
            "bin_end": 1,
            "count": 3
           }
          ]
         }
        },
        {
         "name": "Stratification_Male",
         "dtype": "uint8",
         "stats": {
          "unique_count": 2,
          "nan_count": 0,
          "min": "0",
          "max": "1",
          "histogram": [
           {
            "bin_start": 0,
            "bin_end": 0.1,
            "count": 3
           },
           {
            "bin_start": 0.1,
            "bin_end": 0.2,
            "count": 0
           },
           {
            "bin_start": 0.2,
            "bin_end": 0.30000000000000004,
            "count": 0
           },
           {
            "bin_start": 0.30000000000000004,
            "bin_end": 0.4,
            "count": 0
           },
           {
            "bin_start": 0.4,
            "bin_end": 0.5,
            "count": 0
           },
           {
            "bin_start": 0.5,
            "bin_end": 0.6000000000000001,
            "count": 0
           },
           {
            "bin_start": 0.6000000000000001,
            "bin_end": 0.7000000000000001,
            "count": 0
           },
           {
            "bin_start": 0.7000000000000001,
            "bin_end": 0.8,
            "count": 0
           },
           {
            "bin_start": 0.8,
            "bin_end": 0.9,
            "count": 0
           },
           {
            "bin_start": 0.9,
            "bin_end": 1,
            "count": 2
           }
          ]
         }
        },
        {
         "name": "_deepnote_index_column",
         "dtype": "int64"
        }
       ],
       "rows": [
        {
         "YearStart": 2010,
         "LocationDesc": "Arkansas",
         "Topic": "Chronic Obstructive Pulmonary Disease",
         "Question": "Mortality with chronic obstructive pulmonary disease as underlying or contributing cause among adults aged >= 45 years",
         "DataValue": 339.5,
         "Gender": "Male",
         "LocationID": 5,
         "QuestionID": "COPD1_2",
         "Stratification_Female": 0,
         "Stratification_Male": 1,
         "_deepnote_index_column": 48
        },
        {
         "YearStart": 2010,
         "LocationDesc": "Arkansas",
         "Topic": "Chronic Obstructive Pulmonary Disease",
         "Question": "Hospitalization for chronic obstructive pulmonary disease as first-listed diagnosis among Medicare-eligible persons aged >= 65 years",
         "DataValue": 13.17,
         "Gender": "Female",
         "LocationID": 5,
         "QuestionID": "COPD5_3",
         "Stratification_Female": 1,
         "Stratification_Male": 0,
         "_deepnote_index_column": 55
        },
        {
         "YearStart": 2013,
         "LocationDesc": "Arkansas",
         "Topic": "Chronic Obstructive Pulmonary Disease",
         "Question": "Hospitalization for chronic obstructive pulmonary disease as first-listed diagnosis among Medicare-eligible persons aged >= 65 years",
         "DataValue": 13.37,
         "Gender": "Male",
         "LocationID": 5,
         "QuestionID": "COPD5_3",
         "Stratification_Female": 0,
         "Stratification_Male": 1,
         "_deepnote_index_column": 57
        },
        {
         "YearStart": 2010,
         "LocationDesc": "Arkansas",
         "Topic": "Chronic Obstructive Pulmonary Disease",
         "Question": "Mortality with chronic obstructive pulmonary disease as underlying cause among adults aged >= 45 years",
         "DataValue": 124.2,
         "Gender": "Female",
         "LocationID": 5,
         "QuestionID": "COPD1_1",
         "Stratification_Female": 1,
         "Stratification_Male": 0,
         "_deepnote_index_column": 63
        },
        {
         "YearStart": 2017,
         "LocationDesc": "Alaska",
         "Topic": "Chronic Obstructive Pulmonary Disease",
         "Question": "Hospitalization for chronic obstructive pulmonary disease as first-listed diagnosis among Medicare-eligible persons aged >= 65 years",
         "DataValue": 5.53,
         "Gender": "Female",
         "LocationID": 2,
         "QuestionID": "COPD5_3",
         "Stratification_Female": 1,
         "Stratification_Male": 0,
         "_deepnote_index_column": 71
        }
       ]
      },
      "text/plain": "    YearStart LocationDesc                                  Topic  \\\n48       2010     Arkansas  Chronic Obstructive Pulmonary Disease   \n55       2010     Arkansas  Chronic Obstructive Pulmonary Disease   \n57       2013     Arkansas  Chronic Obstructive Pulmonary Disease   \n63       2010     Arkansas  Chronic Obstructive Pulmonary Disease   \n71       2017       Alaska  Chronic Obstructive Pulmonary Disease   \n\n                                             Question  DataValue  Gender  \\\n48  Mortality with chronic obstructive pulmonary d...     339.50    Male   \n55  Hospitalization for chronic obstructive pulmon...      13.17  Female   \n57  Hospitalization for chronic obstructive pulmon...      13.37    Male   \n63  Mortality with chronic obstructive pulmonary d...     124.20  Female   \n71  Hospitalization for chronic obstructive pulmon...       5.53  Female   \n\n    LocationID QuestionID  Stratification_Female  Stratification_Male  \n48           5    COPD1_2                      0                    1  \n55           5    COPD5_3                      1                    0  \n57           5    COPD5_3                      0                    1  \n63           5    COPD1_1                      1                    0  \n71           2    COPD5_3                      1                    0  ",
      "text/html": "<div>\n<style scoped>\n    .dataframe tbody tr th:only-of-type {\n        vertical-align: middle;\n    }\n\n    .dataframe tbody tr th {\n        vertical-align: top;\n    }\n\n    .dataframe thead th {\n        text-align: right;\n    }\n</style>\n<table border=\"1\" class=\"dataframe\">\n  <thead>\n    <tr style=\"text-align: right;\">\n      <th></th>\n      <th>YearStart</th>\n      <th>LocationDesc</th>\n      <th>Topic</th>\n      <th>Question</th>\n      <th>DataValue</th>\n      <th>Gender</th>\n      <th>LocationID</th>\n      <th>QuestionID</th>\n      <th>Stratification_Female</th>\n      <th>Stratification_Male</th>\n    </tr>\n  </thead>\n  <tbody>\n    <tr>\n      <th>48</th>\n      <td>2010</td>\n      <td>Arkansas</td>\n      <td>Chronic Obstructive Pulmonary Disease</td>\n      <td>Mortality with chronic obstructive pulmonary d...</td>\n      <td>339.50</td>\n      <td>Male</td>\n      <td>5</td>\n      <td>COPD1_2</td>\n      <td>0</td>\n      <td>1</td>\n    </tr>\n    <tr>\n      <th>55</th>\n      <td>2010</td>\n      <td>Arkansas</td>\n      <td>Chronic Obstructive Pulmonary Disease</td>\n      <td>Hospitalization for chronic obstructive pulmon...</td>\n      <td>13.17</td>\n      <td>Female</td>\n      <td>5</td>\n      <td>COPD5_3</td>\n      <td>1</td>\n      <td>0</td>\n    </tr>\n    <tr>\n      <th>57</th>\n      <td>2013</td>\n      <td>Arkansas</td>\n      <td>Chronic Obstructive Pulmonary Disease</td>\n      <td>Hospitalization for chronic obstructive pulmon...</td>\n      <td>13.37</td>\n      <td>Male</td>\n      <td>5</td>\n      <td>COPD5_3</td>\n      <td>0</td>\n      <td>1</td>\n    </tr>\n    <tr>\n      <th>63</th>\n      <td>2010</td>\n      <td>Arkansas</td>\n      <td>Chronic Obstructive Pulmonary Disease</td>\n      <td>Mortality with chronic obstructive pulmonary d...</td>\n      <td>124.20</td>\n      <td>Female</td>\n      <td>5</td>\n      <td>COPD1_1</td>\n      <td>1</td>\n      <td>0</td>\n    </tr>\n    <tr>\n      <th>71</th>\n      <td>2017</td>\n      <td>Alaska</td>\n      <td>Chronic Obstructive Pulmonary Disease</td>\n      <td>Hospitalization for chronic obstructive pulmon...</td>\n      <td>5.53</td>\n      <td>Female</td>\n      <td>2</td>\n      <td>COPD5_3</td>\n      <td>1</td>\n      <td>0</td>\n    </tr>\n  </tbody>\n</table>\n</div>"
     },
     "metadata": {}
    }
   ]
  },
  {
   "cell_type": "code",
   "metadata": {
    "cell_id": "b442d3dba0ed4655bdbc3aa6eaa796bd",
    "tags": [],
    "deepnote_to_be_reexecuted": false,
    "source_hash": "79cf597f",
    "execution_start": 1652130540672,
    "execution_millis": 2329,
    "deepnote_table_state": {
     "pageSize": 10,
     "pageIndex": 5,
     "filters": [],
     "sortBy": []
    },
    "deepnote_table_loading": false,
    "deepnote_app_coordinates": {
     "x": 0,
     "y": 102,
     "w": 12,
     "h": 5
    },
    "deepnote_cell_type": "code",
    "deepnote_cell_height": 654
   },
   "source": "# merge the gender and race datasets that were one hot encoded\ndfs = [CDC_COPD_gender_onehot, CDC_COPD_race_onehot]\ndfs_merged = pd.merge(dfs[0], dfs[1], on = \"LocationID\", how = \"outer\")\ndfs_merged",
   "execution_count": 11,
   "outputs": [
    {
     "output_type": "execute_result",
     "execution_count": 11,
     "data": {
      "application/vnd.deepnote.dataframe.v3+json": {
       "column_count": 22,
       "row_count": 986160,
       "columns": [
        {
         "name": "YearStart_x",
         "dtype": "int64"
        },
        {
         "name": "LocationDesc_x",
         "dtype": "object"
        },
        {
         "name": "Topic_x",
         "dtype": "object"
        },
        {
         "name": "Question_x",
         "dtype": "object"
        },
        {
         "name": "DataValue_x",
         "dtype": "float64"
        },
        {
         "name": "Gender",
         "dtype": "object"
        },
        {
         "name": "LocationID",
         "dtype": "int64"
        },
        {
         "name": "QuestionID_x",
         "dtype": "object"
        },
        {
         "name": "Stratification_Female",
         "dtype": "uint8"
        },
        {
         "name": "Stratification_Male",
         "dtype": "uint8"
        },
        {
         "name": "YearStart_y",
         "dtype": "int64"
        },
        {
         "name": "LocationDesc_y",
         "dtype": "object"
        },
        {
         "name": "Topic_y",
         "dtype": "object"
        },
        {
         "name": "Question_y",
         "dtype": "object"
        },
        {
         "name": "DataValue_y",
         "dtype": "float64"
        },
        {
         "name": "Race/Ethnicity",
         "dtype": "object"
        },
        {
         "name": "QuestionID_y",
         "dtype": "object"
        },
        {
         "name": "Stratification_American Indian or Alaska Native",
         "dtype": "uint8"
        },
        {
         "name": "Stratification_Asian or Pacific Islander",
         "dtype": "uint8"
        },
        {
         "name": "Stratification_Black, non-Hispanic",
         "dtype": "uint8"
        },
        {
         "name": "Stratification_Hispanic",
         "dtype": "uint8"
        },
        {
         "name": "Stratification_White, non-Hispanic",
         "dtype": "uint8"
        },
        {
         "name": "_deepnote_index_column",
         "dtype": "int64"
        }
       ],
       "rows": [
        {
         "YearStart_x": 2010,
         "LocationDesc_x": "Arkansas",
         "Topic_x": "Chronic Obstructive Pulmonary Disease",
         "Question_x": "Mortality with chronic obstructive pulmonary disease as underlying or contributing cause among adults aged >= 45 years",
         "DataValue_x": 339.5,
         "Gender": "Male",
         "LocationID": 5,
         "QuestionID_x": "COPD1_2",
         "Stratification_Female": 0,
         "Stratification_Male": 1,
         "YearStart_y": 2012,
         "LocationDesc_y": "Arkansas",
         "Topic_y": "Chronic Obstructive Pulmonary Disease",
         "Question_y": "Mortality with chronic obstructive pulmonary disease as underlying or contributing cause among adults aged >= 45 years",
         "DataValue_y": 145.4,
         "Race/Ethnicity": "Black, non-Hispanic",
         "QuestionID_y": "COPD1_2",
         "Stratification_American Indian or Alaska Native": 0,
         "Stratification_Asian or Pacific Islander": 0,
         "Stratification_Black, non-Hispanic": 1,
         "Stratification_Hispanic": 0,
         "Stratification_White, non-Hispanic": 0,
         "_deepnote_index_column": 50
        },
        {
         "YearStart_x": 2010,
         "LocationDesc_x": "Arkansas",
         "Topic_x": "Chronic Obstructive Pulmonary Disease",
         "Question_x": "Mortality with chronic obstructive pulmonary disease as underlying or contributing cause among adults aged >= 45 years",
         "DataValue_x": 339.5,
         "Gender": "Male",
         "LocationID": 5,
         "QuestionID_x": "COPD1_2",
         "Stratification_Female": 0,
         "Stratification_Male": 1,
         "YearStart_y": 2014,
         "LocationDesc_y": "Arkansas",
         "Topic_y": "Chronic Obstructive Pulmonary Disease",
         "Question_y": "Hospitalization for chronic obstructive pulmonary disease as any diagnosis among Medicare-eligible persons aged >= 65 years",
         "DataValue_y": 65.85,
         "Race/Ethnicity": "Black, non-Hispanic",
         "QuestionID_y": "COPD5_4",
         "Stratification_American Indian or Alaska Native": 0,
         "Stratification_Asian or Pacific Islander": 0,
         "Stratification_Black, non-Hispanic": 1,
         "Stratification_Hispanic": 0,
         "Stratification_White, non-Hispanic": 0,
         "_deepnote_index_column": 51
        },
        {
         "YearStart_x": 2010,
         "LocationDesc_x": "Arkansas",
         "Topic_x": "Chronic Obstructive Pulmonary Disease",
         "Question_x": "Mortality with chronic obstructive pulmonary disease as underlying or contributing cause among adults aged >= 45 years",
         "DataValue_x": 339.5,
         "Gender": "Male",
         "LocationID": 5,
         "QuestionID_x": "COPD1_2",
         "Stratification_Female": 0,
         "Stratification_Male": 1,
         "YearStart_y": 2014,
         "LocationDesc_y": "Arkansas",
         "Topic_y": "Chronic Obstructive Pulmonary Disease",
         "Question_y": "Hospitalization for chronic obstructive pulmonary disease as any diagnosis among Medicare-eligible persons aged >= 65 years",
         "DataValue_y": 85.81,
         "Race/Ethnicity": "White, non-Hispanic",
         "QuestionID_y": "COPD5_4",
         "Stratification_American Indian or Alaska Native": 0,
         "Stratification_Asian or Pacific Islander": 0,
         "Stratification_Black, non-Hispanic": 0,
         "Stratification_Hispanic": 0,
         "Stratification_White, non-Hispanic": 1,
         "_deepnote_index_column": 52
        },
        {
         "YearStart_x": 2010,
         "LocationDesc_x": "Arkansas",
         "Topic_x": "Chronic Obstructive Pulmonary Disease",
         "Question_x": "Mortality with chronic obstructive pulmonary disease as underlying or contributing cause among adults aged >= 45 years",
         "DataValue_x": 339.5,
         "Gender": "Male",
         "LocationID": 5,
         "QuestionID_x": "COPD1_2",
         "Stratification_Female": 0,
         "Stratification_Male": 1,
         "YearStart_y": 2014,
         "LocationDesc_y": "Arkansas",
         "Topic_y": "Chronic Obstructive Pulmonary Disease",
         "Question_y": "Hospitalization for chronic obstructive pulmonary disease as first-listed diagnosis among Medicare-eligible persons aged >= 65 years",
         "DataValue_y": 9.24,
         "Race/Ethnicity": "Black, non-Hispanic",
         "QuestionID_y": "COPD5_3",
         "Stratification_American Indian or Alaska Native": 0,
         "Stratification_Asian or Pacific Islander": 0,
         "Stratification_Black, non-Hispanic": 1,
         "Stratification_Hispanic": 0,
         "Stratification_White, non-Hispanic": 0,
         "_deepnote_index_column": 53
        },
        {
         "YearStart_x": 2010,
         "LocationDesc_x": "Arkansas",
         "Topic_x": "Chronic Obstructive Pulmonary Disease",
         "Question_x": "Mortality with chronic obstructive pulmonary disease as underlying or contributing cause among adults aged >= 45 years",
         "DataValue_x": 339.5,
         "Gender": "Male",
         "LocationID": 5,
         "QuestionID_x": "COPD1_2",
         "Stratification_Female": 0,
         "Stratification_Male": 1,
         "YearStart_y": 2018,
         "LocationDesc_y": "Arkansas",
         "Topic_y": "Chronic Obstructive Pulmonary Disease",
         "Question_y": "Hospitalization for chronic obstructive pulmonary disease as any diagnosis among Medicare-eligible persons aged >= 65 years",
         "DataValue_y": 93.99,
         "Race/Ethnicity": "White, non-Hispanic",
         "QuestionID_y": "COPD5_4",
         "Stratification_American Indian or Alaska Native": 0,
         "Stratification_Asian or Pacific Islander": 0,
         "Stratification_Black, non-Hispanic": 0,
         "Stratification_Hispanic": 0,
         "Stratification_White, non-Hispanic": 1,
         "_deepnote_index_column": 54
        },
        {
         "YearStart_x": 2010,
         "LocationDesc_x": "Arkansas",
         "Topic_x": "Chronic Obstructive Pulmonary Disease",
         "Question_x": "Mortality with chronic obstructive pulmonary disease as underlying or contributing cause among adults aged >= 45 years",
         "DataValue_x": 339.5,
         "Gender": "Male",
         "LocationID": 5,
         "QuestionID_x": "COPD1_2",
         "Stratification_Female": 0,
         "Stratification_Male": 1,
         "YearStart_y": 2012,
         "LocationDesc_y": "Arkansas",
         "Topic_y": "Chronic Obstructive Pulmonary Disease",
         "Question_y": "Mortality with chronic obstructive pulmonary disease as underlying cause among adults aged >= 45 years",
         "DataValue_y": 166.7,
         "Race/Ethnicity": "White, non-Hispanic",
         "QuestionID_y": "COPD1_1",
         "Stratification_American Indian or Alaska Native": 0,
         "Stratification_Asian or Pacific Islander": 0,
         "Stratification_Black, non-Hispanic": 0,
         "Stratification_Hispanic": 0,
         "Stratification_White, non-Hispanic": 1,
         "_deepnote_index_column": 55
        },
        {
         "YearStart_x": 2010,
         "LocationDesc_x": "Arkansas",
         "Topic_x": "Chronic Obstructive Pulmonary Disease",
         "Question_x": "Mortality with chronic obstructive pulmonary disease as underlying or contributing cause among adults aged >= 45 years",
         "DataValue_x": 339.5,
         "Gender": "Male",
         "LocationID": 5,
         "QuestionID_x": "COPD1_2",
         "Stratification_Female": 0,
         "Stratification_Male": 1,
         "YearStart_y": 2014,
         "LocationDesc_y": "Arkansas",
         "Topic_y": "Chronic Obstructive Pulmonary Disease",
         "Question_y": "Hospitalization for chronic obstructive pulmonary disease as first-listed diagnosis among Medicare-eligible persons aged >= 65 years",
         "DataValue_y": 12.29,
         "Race/Ethnicity": "White, non-Hispanic",
         "QuestionID_y": "COPD5_3",
         "Stratification_American Indian or Alaska Native": 0,
         "Stratification_Asian or Pacific Islander": 0,
         "Stratification_Black, non-Hispanic": 0,
         "Stratification_Hispanic": 0,
         "Stratification_White, non-Hispanic": 1,
         "_deepnote_index_column": 56
        },
        {
         "YearStart_x": 2010,
         "LocationDesc_x": "Arkansas",
         "Topic_x": "Chronic Obstructive Pulmonary Disease",
         "Question_x": "Mortality with chronic obstructive pulmonary disease as underlying or contributing cause among adults aged >= 45 years",
         "DataValue_x": 339.5,
         "Gender": "Male",
         "LocationID": 5,
         "QuestionID_x": "COPD1_2",
         "Stratification_Female": 0,
         "Stratification_Male": 1,
         "YearStart_y": 2010,
         "LocationDesc_y": "Arkansas",
         "Topic_y": "Chronic Obstructive Pulmonary Disease",
         "Question_y": "Hospitalization for chronic obstructive pulmonary disease as first-listed diagnosis among Medicare-eligible persons aged >= 65 years",
         "DataValue_y": 25.19,
         "Race/Ethnicity": "American Indian or Alaska Native",
         "QuestionID_y": "COPD5_3",
         "Stratification_American Indian or Alaska Native": 1,
         "Stratification_Asian or Pacific Islander": 0,
         "Stratification_Black, non-Hispanic": 0,
         "Stratification_Hispanic": 0,
         "Stratification_White, non-Hispanic": 0,
         "_deepnote_index_column": 57
        },
        {
         "YearStart_x": 2010,
         "LocationDesc_x": "Arkansas",
         "Topic_x": "Chronic Obstructive Pulmonary Disease",
         "Question_x": "Mortality with chronic obstructive pulmonary disease as underlying or contributing cause among adults aged >= 45 years",
         "DataValue_x": 339.5,
         "Gender": "Male",
         "LocationID": 5,
         "QuestionID_x": "COPD1_2",
         "Stratification_Female": 0,
         "Stratification_Male": 1,
         "YearStart_y": 2016,
         "LocationDesc_y": "Arkansas",
         "Topic_y": "Chronic Obstructive Pulmonary Disease",
         "Question_y": "Mortality with chronic obstructive pulmonary disease as underlying or contributing cause among adults aged >= 45 years",
         "DataValue_y": 310.6,
         "Race/Ethnicity": "White, non-Hispanic",
         "QuestionID_y": "COPD1_2",
         "Stratification_American Indian or Alaska Native": 0,
         "Stratification_Asian or Pacific Islander": 0,
         "Stratification_Black, non-Hispanic": 0,
         "Stratification_Hispanic": 0,
         "Stratification_White, non-Hispanic": 1,
         "_deepnote_index_column": 58
        },
        {
         "YearStart_x": 2010,
         "LocationDesc_x": "Arkansas",
         "Topic_x": "Chronic Obstructive Pulmonary Disease",
         "Question_x": "Mortality with chronic obstructive pulmonary disease as underlying or contributing cause among adults aged >= 45 years",
         "DataValue_x": 339.5,
         "Gender": "Male",
         "LocationID": 5,
         "QuestionID_x": "COPD1_2",
         "Stratification_Female": 0,
         "Stratification_Male": 1,
         "YearStart_y": 2016,
         "LocationDesc_y": "Arkansas",
         "Topic_y": "Chronic Obstructive Pulmonary Disease",
         "Question_y": "Mortality with chronic obstructive pulmonary disease as underlying cause among adults aged >= 45 years",
         "DataValue_y": 179.5,
         "Race/Ethnicity": "White, non-Hispanic",
         "QuestionID_y": "COPD1_1",
         "Stratification_American Indian or Alaska Native": 0,
         "Stratification_Asian or Pacific Islander": 0,
         "Stratification_Black, non-Hispanic": 0,
         "Stratification_Hispanic": 0,
         "Stratification_White, non-Hispanic": 1,
         "_deepnote_index_column": 59
        }
       ]
      },
      "text/plain": "        YearStart_x LocationDesc_x                                Topic_x  \\\n0              2010       Arkansas  Chronic Obstructive Pulmonary Disease   \n1              2010       Arkansas  Chronic Obstructive Pulmonary Disease   \n2              2010       Arkansas  Chronic Obstructive Pulmonary Disease   \n3              2010       Arkansas  Chronic Obstructive Pulmonary Disease   \n4              2010       Arkansas  Chronic Obstructive Pulmonary Disease   \n...             ...            ...                                    ...   \n986155         2019        Wyoming  Chronic Obstructive Pulmonary Disease   \n986156         2019        Wyoming  Chronic Obstructive Pulmonary Disease   \n986157         2019        Wyoming  Chronic Obstructive Pulmonary Disease   \n986158         2019        Wyoming  Chronic Obstructive Pulmonary Disease   \n986159         2019        Wyoming  Chronic Obstructive Pulmonary Disease   \n\n                                               Question_x  DataValue_x  \\\n0       Mortality with chronic obstructive pulmonary d...        339.5   \n1       Mortality with chronic obstructive pulmonary d...        339.5   \n2       Mortality with chronic obstructive pulmonary d...        339.5   \n3       Mortality with chronic obstructive pulmonary d...        339.5   \n4       Mortality with chronic obstructive pulmonary d...        339.5   \n...                                                   ...          ...   \n986155  Mortality with chronic obstructive pulmonary d...        254.4   \n986156  Mortality with chronic obstructive pulmonary d...        254.4   \n986157  Mortality with chronic obstructive pulmonary d...        254.4   \n986158  Mortality with chronic obstructive pulmonary d...        254.4   \n986159  Mortality with chronic obstructive pulmonary d...        254.4   \n\n        Gender  LocationID QuestionID_x  Stratification_Female  \\\n0         Male           5      COPD1_2                      0   \n1         Male           5      COPD1_2                      0   \n2         Male           5      COPD1_2                      0   \n3         Male           5      COPD1_2                      0   \n4         Male           5      COPD1_2                      0   \n...        ...         ...          ...                    ...   \n986155  Female          56      COPD1_2                      1   \n986156  Female          56      COPD1_2                      1   \n986157  Female          56      COPD1_2                      1   \n986158  Female          56      COPD1_2                      1   \n986159  Female          56      COPD1_2                      1   \n\n        Stratification_Male  ...                                Topic_y  \\\n0                         1  ...  Chronic Obstructive Pulmonary Disease   \n1                         1  ...  Chronic Obstructive Pulmonary Disease   \n2                         1  ...  Chronic Obstructive Pulmonary Disease   \n3                         1  ...  Chronic Obstructive Pulmonary Disease   \n4                         1  ...  Chronic Obstructive Pulmonary Disease   \n...                     ...  ...                                    ...   \n986155                    0  ...  Chronic Obstructive Pulmonary Disease   \n986156                    0  ...  Chronic Obstructive Pulmonary Disease   \n986157                    0  ...  Chronic Obstructive Pulmonary Disease   \n986158                    0  ...  Chronic Obstructive Pulmonary Disease   \n986159                    0  ...  Chronic Obstructive Pulmonary Disease   \n\n                                               Question_y DataValue_y  \\\n0       Hospitalization for chronic obstructive pulmon...       66.70   \n1       Hospitalization for chronic obstructive pulmon...       28.43   \n2       Hospitalization for chronic obstructive pulmon...       49.50   \n3       Hospitalization for chronic obstructive pulmon...       10.04   \n4       Hospitalization for chronic obstructive pulmon...       10.17   \n...                                                   ...         ...   \n986155  Hospitalization for chronic obstructive pulmon...      106.87   \n986156  Mortality with chronic obstructive pulmonary d...      312.00   \n986157  Hospitalization for chronic obstructive pulmon...        4.37   \n986158  Hospitalization for chronic obstructive pulmon...       38.58   \n986159  Mortality with chronic obstructive pulmonary d...      150.20   \n\n                          Race/Ethnicity  QuestionID_y  \\\n0                    Black, non-Hispanic       COPD5_4   \n1              Asian or Pacific Islander       COPD5_4   \n2              Asian or Pacific Islander       COPD5_4   \n3                    Black, non-Hispanic       COPD5_3   \n4                    Black, non-Hispanic       COPD5_3   \n...                                  ...           ...   \n986155  American Indian or Alaska Native       COPD5_4   \n986156               White, non-Hispanic       COPD1_2   \n986157               White, non-Hispanic       COPD5_3   \n986158                          Hispanic       COPD5_4   \n986159               White, non-Hispanic       COPD1_1   \n\n       Stratification_American Indian or Alaska Native  \\\n0                                                    0   \n1                                                    0   \n2                                                    0   \n3                                                    0   \n4                                                    0   \n...                                                ...   \n986155                                               1   \n986156                                               0   \n986157                                               0   \n986158                                               0   \n986159                                               0   \n\n       Stratification_Asian or Pacific Islander  \\\n0                                             0   \n1                                             1   \n2                                             1   \n3                                             0   \n4                                             0   \n...                                         ...   \n986155                                        0   \n986156                                        0   \n986157                                        0   \n986158                                        0   \n986159                                        0   \n\n        Stratification_Black, non-Hispanic  Stratification_Hispanic  \\\n0                                        1                        0   \n1                                        0                        0   \n2                                        0                        0   \n3                                        1                        0   \n4                                        1                        0   \n...                                    ...                      ...   \n986155                                   0                        0   \n986156                                   0                        0   \n986157                                   0                        0   \n986158                                   0                        1   \n986159                                   0                        0   \n\n        Stratification_White, non-Hispanic  \n0                                        0  \n1                                        0  \n2                                        0  \n3                                        0  \n4                                        0  \n...                                    ...  \n986155                                   0  \n986156                                   1  \n986157                                   1  \n986158                                   0  \n986159                                   1  \n\n[986160 rows x 22 columns]",
      "text/html": "<div>\n<style scoped>\n    .dataframe tbody tr th:only-of-type {\n        vertical-align: middle;\n    }\n\n    .dataframe tbody tr th {\n        vertical-align: top;\n    }\n\n    .dataframe thead th {\n        text-align: right;\n    }\n</style>\n<table border=\"1\" class=\"dataframe\">\n  <thead>\n    <tr style=\"text-align: right;\">\n      <th></th>\n      <th>YearStart_x</th>\n      <th>LocationDesc_x</th>\n      <th>Topic_x</th>\n      <th>Question_x</th>\n      <th>DataValue_x</th>\n      <th>Gender</th>\n      <th>LocationID</th>\n      <th>QuestionID_x</th>\n      <th>Stratification_Female</th>\n      <th>Stratification_Male</th>\n      <th>...</th>\n      <th>Topic_y</th>\n      <th>Question_y</th>\n      <th>DataValue_y</th>\n      <th>Race/Ethnicity</th>\n      <th>QuestionID_y</th>\n      <th>Stratification_American Indian or Alaska Native</th>\n      <th>Stratification_Asian or Pacific Islander</th>\n      <th>Stratification_Black, non-Hispanic</th>\n      <th>Stratification_Hispanic</th>\n      <th>Stratification_White, non-Hispanic</th>\n    </tr>\n  </thead>\n  <tbody>\n    <tr>\n      <th>0</th>\n      <td>2010</td>\n      <td>Arkansas</td>\n      <td>Chronic Obstructive Pulmonary Disease</td>\n      <td>Mortality with chronic obstructive pulmonary d...</td>\n      <td>339.5</td>\n      <td>Male</td>\n      <td>5</td>\n      <td>COPD1_2</td>\n      <td>0</td>\n      <td>1</td>\n      <td>...</td>\n      <td>Chronic Obstructive Pulmonary Disease</td>\n      <td>Hospitalization for chronic obstructive pulmon...</td>\n      <td>66.70</td>\n      <td>Black, non-Hispanic</td>\n      <td>COPD5_4</td>\n      <td>0</td>\n      <td>0</td>\n      <td>1</td>\n      <td>0</td>\n      <td>0</td>\n    </tr>\n    <tr>\n      <th>1</th>\n      <td>2010</td>\n      <td>Arkansas</td>\n      <td>Chronic Obstructive Pulmonary Disease</td>\n      <td>Mortality with chronic obstructive pulmonary d...</td>\n      <td>339.5</td>\n      <td>Male</td>\n      <td>5</td>\n      <td>COPD1_2</td>\n      <td>0</td>\n      <td>1</td>\n      <td>...</td>\n      <td>Chronic Obstructive Pulmonary Disease</td>\n      <td>Hospitalization for chronic obstructive pulmon...</td>\n      <td>28.43</td>\n      <td>Asian or Pacific Islander</td>\n      <td>COPD5_4</td>\n      <td>0</td>\n      <td>1</td>\n      <td>0</td>\n      <td>0</td>\n      <td>0</td>\n    </tr>\n    <tr>\n      <th>2</th>\n      <td>2010</td>\n      <td>Arkansas</td>\n      <td>Chronic Obstructive Pulmonary Disease</td>\n      <td>Mortality with chronic obstructive pulmonary d...</td>\n      <td>339.5</td>\n      <td>Male</td>\n      <td>5</td>\n      <td>COPD1_2</td>\n      <td>0</td>\n      <td>1</td>\n      <td>...</td>\n      <td>Chronic Obstructive Pulmonary Disease</td>\n      <td>Hospitalization for chronic obstructive pulmon...</td>\n      <td>49.50</td>\n      <td>Asian or Pacific Islander</td>\n      <td>COPD5_4</td>\n      <td>0</td>\n      <td>1</td>\n      <td>0</td>\n      <td>0</td>\n      <td>0</td>\n    </tr>\n    <tr>\n      <th>3</th>\n      <td>2010</td>\n      <td>Arkansas</td>\n      <td>Chronic Obstructive Pulmonary Disease</td>\n      <td>Mortality with chronic obstructive pulmonary d...</td>\n      <td>339.5</td>\n      <td>Male</td>\n      <td>5</td>\n      <td>COPD1_2</td>\n      <td>0</td>\n      <td>1</td>\n      <td>...</td>\n      <td>Chronic Obstructive Pulmonary Disease</td>\n      <td>Hospitalization for chronic obstructive pulmon...</td>\n      <td>10.04</td>\n      <td>Black, non-Hispanic</td>\n      <td>COPD5_3</td>\n      <td>0</td>\n      <td>0</td>\n      <td>1</td>\n      <td>0</td>\n      <td>0</td>\n    </tr>\n    <tr>\n      <th>4</th>\n      <td>2010</td>\n      <td>Arkansas</td>\n      <td>Chronic Obstructive Pulmonary Disease</td>\n      <td>Mortality with chronic obstructive pulmonary d...</td>\n      <td>339.5</td>\n      <td>Male</td>\n      <td>5</td>\n      <td>COPD1_2</td>\n      <td>0</td>\n      <td>1</td>\n      <td>...</td>\n      <td>Chronic Obstructive Pulmonary Disease</td>\n      <td>Hospitalization for chronic obstructive pulmon...</td>\n      <td>10.17</td>\n      <td>Black, non-Hispanic</td>\n      <td>COPD5_3</td>\n      <td>0</td>\n      <td>0</td>\n      <td>1</td>\n      <td>0</td>\n      <td>0</td>\n    </tr>\n    <tr>\n      <th>...</th>\n      <td>...</td>\n      <td>...</td>\n      <td>...</td>\n      <td>...</td>\n      <td>...</td>\n      <td>...</td>\n      <td>...</td>\n      <td>...</td>\n      <td>...</td>\n      <td>...</td>\n      <td>...</td>\n      <td>...</td>\n      <td>...</td>\n      <td>...</td>\n      <td>...</td>\n      <td>...</td>\n      <td>...</td>\n      <td>...</td>\n      <td>...</td>\n      <td>...</td>\n      <td>...</td>\n    </tr>\n    <tr>\n      <th>986155</th>\n      <td>2019</td>\n      <td>Wyoming</td>\n      <td>Chronic Obstructive Pulmonary Disease</td>\n      <td>Mortality with chronic obstructive pulmonary d...</td>\n      <td>254.4</td>\n      <td>Female</td>\n      <td>56</td>\n      <td>COPD1_2</td>\n      <td>1</td>\n      <td>0</td>\n      <td>...</td>\n      <td>Chronic Obstructive Pulmonary Disease</td>\n      <td>Hospitalization for chronic obstructive pulmon...</td>\n      <td>106.87</td>\n      <td>American Indian or Alaska Native</td>\n      <td>COPD5_4</td>\n      <td>1</td>\n      <td>0</td>\n      <td>0</td>\n      <td>0</td>\n      <td>0</td>\n    </tr>\n    <tr>\n      <th>986156</th>\n      <td>2019</td>\n      <td>Wyoming</td>\n      <td>Chronic Obstructive Pulmonary Disease</td>\n      <td>Mortality with chronic obstructive pulmonary d...</td>\n      <td>254.4</td>\n      <td>Female</td>\n      <td>56</td>\n      <td>COPD1_2</td>\n      <td>1</td>\n      <td>0</td>\n      <td>...</td>\n      <td>Chronic Obstructive Pulmonary Disease</td>\n      <td>Mortality with chronic obstructive pulmonary d...</td>\n      <td>312.00</td>\n      <td>White, non-Hispanic</td>\n      <td>COPD1_2</td>\n      <td>0</td>\n      <td>0</td>\n      <td>0</td>\n      <td>0</td>\n      <td>1</td>\n    </tr>\n    <tr>\n      <th>986157</th>\n      <td>2019</td>\n      <td>Wyoming</td>\n      <td>Chronic Obstructive Pulmonary Disease</td>\n      <td>Mortality with chronic obstructive pulmonary d...</td>\n      <td>254.4</td>\n      <td>Female</td>\n      <td>56</td>\n      <td>COPD1_2</td>\n      <td>1</td>\n      <td>0</td>\n      <td>...</td>\n      <td>Chronic Obstructive Pulmonary Disease</td>\n      <td>Hospitalization for chronic obstructive pulmon...</td>\n      <td>4.37</td>\n      <td>White, non-Hispanic</td>\n      <td>COPD5_3</td>\n      <td>0</td>\n      <td>0</td>\n      <td>0</td>\n      <td>0</td>\n      <td>1</td>\n    </tr>\n    <tr>\n      <th>986158</th>\n      <td>2019</td>\n      <td>Wyoming</td>\n      <td>Chronic Obstructive Pulmonary Disease</td>\n      <td>Mortality with chronic obstructive pulmonary d...</td>\n      <td>254.4</td>\n      <td>Female</td>\n      <td>56</td>\n      <td>COPD1_2</td>\n      <td>1</td>\n      <td>0</td>\n      <td>...</td>\n      <td>Chronic Obstructive Pulmonary Disease</td>\n      <td>Hospitalization for chronic obstructive pulmon...</td>\n      <td>38.58</td>\n      <td>Hispanic</td>\n      <td>COPD5_4</td>\n      <td>0</td>\n      <td>0</td>\n      <td>0</td>\n      <td>1</td>\n      <td>0</td>\n    </tr>\n    <tr>\n      <th>986159</th>\n      <td>2019</td>\n      <td>Wyoming</td>\n      <td>Chronic Obstructive Pulmonary Disease</td>\n      <td>Mortality with chronic obstructive pulmonary d...</td>\n      <td>254.4</td>\n      <td>Female</td>\n      <td>56</td>\n      <td>COPD1_2</td>\n      <td>1</td>\n      <td>0</td>\n      <td>...</td>\n      <td>Chronic Obstructive Pulmonary Disease</td>\n      <td>Mortality with chronic obstructive pulmonary d...</td>\n      <td>150.20</td>\n      <td>White, non-Hispanic</td>\n      <td>COPD1_1</td>\n      <td>0</td>\n      <td>0</td>\n      <td>0</td>\n      <td>0</td>\n      <td>1</td>\n    </tr>\n  </tbody>\n</table>\n<p>986160 rows × 22 columns</p>\n</div>"
     },
     "metadata": {}
    }
   ]
  },
  {
   "cell_type": "code",
   "metadata": {
    "cell_id": "e207f4b49f534bd1a9d75a442a983496",
    "tags": [],
    "deepnote_to_be_reexecuted": false,
    "source_hash": "876762b8",
    "execution_start": 1652130542991,
    "execution_millis": 519,
    "deepnote_table_state": {
     "pageSize": 10,
     "pageIndex": 0,
     "filters": [],
     "sortBy": []
    },
    "deepnote_table_loading": false,
    "deepnote_app_coordinates": {
     "x": 0,
     "y": 132,
     "w": 12,
     "h": 5
    },
    "deepnote_cell_type": "code",
    "deepnote_cell_height": 449
   },
   "source": "# groupby states and take yearly average of PM2.5 concentrations for 2011\npm25_2011_mean = pm25_2011.groupby(\"statefips\").mean(\"ds_pm_pred\").reset_index()\npm25_2011_mean = pm25_2011_mean.drop([\"countyfips\",\"ctfips\",\"latitude\", \"longitude\", \"ds_pm_stdd\"], axis = 1)\npm25_2011_mean.head()",
   "execution_count": 12,
   "outputs": [
    {
     "output_type": "execute_result",
     "execution_count": 12,
     "data": {
      "application/vnd.deepnote.dataframe.v3+json": {
       "column_count": 3,
       "row_count": 5,
       "columns": [
        {
         "name": "statefips",
         "dtype": "int64",
         "stats": {
          "unique_count": 5,
          "nan_count": 0,
          "min": "1",
          "max": "8",
          "histogram": [
           {
            "bin_start": 1,
            "bin_end": 1.7,
            "count": 1
           },
           {
            "bin_start": 1.7,
            "bin_end": 2.4,
            "count": 0
           },
           {
            "bin_start": 2.4,
            "bin_end": 3.0999999999999996,
            "count": 0
           },
           {
            "bin_start": 3.0999999999999996,
            "bin_end": 3.8,
            "count": 0
           },
           {
            "bin_start": 3.8,
            "bin_end": 4.5,
            "count": 1
           },
           {
            "bin_start": 4.5,
            "bin_end": 5.199999999999999,
            "count": 1
           },
           {
            "bin_start": 5.199999999999999,
            "bin_end": 5.8999999999999995,
            "count": 0
           },
           {
            "bin_start": 5.8999999999999995,
            "bin_end": 6.6,
            "count": 1
           },
           {
            "bin_start": 6.6,
            "bin_end": 7.3,
            "count": 0
           },
           {
            "bin_start": 7.3,
            "bin_end": 8,
            "count": 1
           }
          ]
         }
        },
        {
         "name": "year",
         "dtype": "float64",
         "stats": {
          "unique_count": 1,
          "nan_count": 0,
          "min": "2011.0",
          "max": "2011.0",
          "histogram": [
           {
            "bin_start": 2010.5,
            "bin_end": 2010.6,
            "count": 0
           },
           {
            "bin_start": 2010.6,
            "bin_end": 2010.7,
            "count": 0
           },
           {
            "bin_start": 2010.7,
            "bin_end": 2010.8,
            "count": 0
           },
           {
            "bin_start": 2010.8,
            "bin_end": 2010.9,
            "count": 0
           },
           {
            "bin_start": 2010.9,
            "bin_end": 2011,
            "count": 0
           },
           {
            "bin_start": 2011,
            "bin_end": 2011.1,
            "count": 5
           },
           {
            "bin_start": 2011.1,
            "bin_end": 2011.2,
            "count": 0
           },
           {
            "bin_start": 2011.2,
            "bin_end": 2011.3,
            "count": 0
           },
           {
            "bin_start": 2011.3,
            "bin_end": 2011.4,
            "count": 0
           },
           {
            "bin_start": 2011.4,
            "bin_end": 2011.5,
            "count": 0
           }
          ]
         }
        },
        {
         "name": "ds_pm_pred",
         "dtype": "float64",
         "stats": {
          "unique_count": 5,
          "nan_count": 0,
          "min": "5.879013035485009",
          "max": "11.077399470872948",
          "histogram": [
           {
            "bin_start": 5.879013035485009,
            "bin_end": 6.398851679023803,
            "count": 1
           },
           {
            "bin_start": 6.398851679023803,
            "bin_end": 6.918690322562597,
            "count": 0
           },
           {
            "bin_start": 6.918690322562597,
            "bin_end": 7.438528966101391,
            "count": 0
           },
           {
            "bin_start": 7.438528966101391,
            "bin_end": 7.9583676096401845,
            "count": 0
           },
           {
            "bin_start": 7.9583676096401845,
            "bin_end": 8.478206253178978,
            "count": 1
           },
           {
            "bin_start": 8.478206253178978,
            "bin_end": 8.998044896717772,
            "count": 0
           },
           {
            "bin_start": 8.998044896717772,
            "bin_end": 9.517883540256566,
            "count": 0
           },
           {
            "bin_start": 9.517883540256566,
            "bin_end": 10.03772218379536,
            "count": 1
           },
           {
            "bin_start": 10.03772218379536,
            "bin_end": 10.557560827334154,
            "count": 0
           },
           {
            "bin_start": 10.557560827334154,
            "bin_end": 11.077399470872948,
            "count": 2
           }
          ]
         }
        },
        {
         "name": "_deepnote_index_column",
         "dtype": "int64"
        }
       ],
       "rows": [
        {
         "statefips": 1,
         "year": 2011,
         "ds_pm_pred": 10.80122384603192,
         "_deepnote_index_column": 0
        },
        {
         "statefips": 4,
         "year": 2011,
         "ds_pm_pred": 8.025835961373895,
         "_deepnote_index_column": 1
        },
        {
         "statefips": 5,
         "year": 2011,
         "ds_pm_pred": 11.077399470872948,
         "_deepnote_index_column": 2
        },
        {
         "statefips": 6,
         "year": 2011,
         "ds_pm_pred": 9.953601144062738,
         "_deepnote_index_column": 3
        },
        {
         "statefips": 8,
         "year": 2011,
         "ds_pm_pred": 5.879013035485009,
         "_deepnote_index_column": 4
        }
       ]
      },
      "text/plain": "   statefips    year  ds_pm_pred\n0          1  2011.0   10.801224\n1          4  2011.0    8.025836\n2          5  2011.0   11.077399\n3          6  2011.0    9.953601\n4          8  2011.0    5.879013",
      "text/html": "<div>\n<style scoped>\n    .dataframe tbody tr th:only-of-type {\n        vertical-align: middle;\n    }\n\n    .dataframe tbody tr th {\n        vertical-align: top;\n    }\n\n    .dataframe thead th {\n        text-align: right;\n    }\n</style>\n<table border=\"1\" class=\"dataframe\">\n  <thead>\n    <tr style=\"text-align: right;\">\n      <th></th>\n      <th>statefips</th>\n      <th>year</th>\n      <th>ds_pm_pred</th>\n    </tr>\n  </thead>\n  <tbody>\n    <tr>\n      <th>0</th>\n      <td>1</td>\n      <td>2011.0</td>\n      <td>10.801224</td>\n    </tr>\n    <tr>\n      <th>1</th>\n      <td>4</td>\n      <td>2011.0</td>\n      <td>8.025836</td>\n    </tr>\n    <tr>\n      <th>2</th>\n      <td>5</td>\n      <td>2011.0</td>\n      <td>11.077399</td>\n    </tr>\n    <tr>\n      <th>3</th>\n      <td>6</td>\n      <td>2011.0</td>\n      <td>9.953601</td>\n    </tr>\n    <tr>\n      <th>4</th>\n      <td>8</td>\n      <td>2011.0</td>\n      <td>5.879013</td>\n    </tr>\n  </tbody>\n</table>\n</div>"
     },
     "metadata": {}
    }
   ]
  },
  {
   "cell_type": "code",
   "metadata": {
    "cell_id": "463dd2a681654bdba024d7ffe6204d0c",
    "tags": [],
    "deepnote_to_be_reexecuted": false,
    "source_hash": "16048ef4",
    "execution_start": 1652130543514,
    "execution_millis": 1815,
    "deepnote_app_coordinates": {
     "x": 0,
     "y": 138,
     "w": 12,
     "h": 5
    },
    "deepnote_cell_type": "code",
    "deepnote_cell_height": 189
   },
   "source": "# groupby states and take yearly average of PM2.5 concentrations for 2012-2014\npm25_2012_mean = pm25_2012.groupby(\"statefips\").mean(\"ds_pm_pred\").reset_index()\npm25_2012_mean = pm25_2012_mean.drop([\"countyfips\",\"ctfips\",\"latitude\", \"longitude\", \"ds_pm_stdd\"], axis = 1)\npm25_2013_mean = pm25_2013.groupby(\"statefips\").mean(\"ds_pm_pred\").reset_index()\npm25_2013_mean = pm25_2013_mean.drop([\"countyfips\",\"ctfips\",\"latitude\", \"longitude\", \"ds_pm_stdd\"], axis = 1)\npm25_2014_mean = pm25_2014.groupby(\"statefips\").mean(\"ds_pm_pred\").reset_index()\npm25_2014_mean = pm25_2014_mean.drop([\"countyfips\",\"ctfips\",\"latitude\", \"longitude\", \"ds_pm_stdd\"], axis = 1)",
   "execution_count": 13,
   "outputs": []
  },
  {
   "cell_type": "code",
   "metadata": {
    "cell_id": "dbaa360464ff4c3aa6cc30bd7aacb39d",
    "tags": [],
    "deepnote_to_be_reexecuted": false,
    "source_hash": "9e62ce6",
    "execution_start": 1652130545335,
    "execution_millis": 75,
    "deepnote_table_state": {
     "pageSize": 10,
     "pageIndex": 0,
     "filters": [],
     "sortBy": [
      {
       "id": "statefips",
       "type": "asc"
      }
     ]
    },
    "deepnote_table_loading": false,
    "deepnote_app_coordinates": {
     "x": 0,
     "y": 144,
     "w": 12,
     "h": 5
    },
    "deepnote_cell_type": "code",
    "deepnote_cell_height": 467
   },
   "source": "# merge the datasets which were grouped by states and that have yearly averages for PM2.5 concentrations\ndata_frames = [pm25_2011_mean, pm25_2012_mean, pm25_2013_mean, pm25_2014_mean]\npm25_mean_merged = pd.concat(data_frames)\npm25_mean_merged = pm25_mean_merged.rename(columns = {\"statefips\":\"LocationID\"})\npm25_mean_merged.head() #missing statefip 2: Alaska",
   "execution_count": 14,
   "outputs": [
    {
     "output_type": "execute_result",
     "execution_count": 14,
     "data": {
      "application/vnd.deepnote.dataframe.v3+json": {
       "column_count": 3,
       "row_count": 5,
       "columns": [
        {
         "name": "LocationID",
         "dtype": "float64",
         "stats": {
          "unique_count": 5,
          "nan_count": 0,
          "min": "1.0",
          "max": "8.0",
          "histogram": [
           {
            "bin_start": 1,
            "bin_end": 1.7,
            "count": 1
           },
           {
            "bin_start": 1.7,
            "bin_end": 2.4,
            "count": 0
           },
           {
            "bin_start": 2.4,
            "bin_end": 3.0999999999999996,
            "count": 0
           },
           {
            "bin_start": 3.0999999999999996,
            "bin_end": 3.8,
            "count": 0
           },
           {
            "bin_start": 3.8,
            "bin_end": 4.5,
            "count": 1
           },
           {
            "bin_start": 4.5,
            "bin_end": 5.199999999999999,
            "count": 1
           },
           {
            "bin_start": 5.199999999999999,
            "bin_end": 5.8999999999999995,
            "count": 0
           },
           {
            "bin_start": 5.8999999999999995,
            "bin_end": 6.6,
            "count": 1
           },
           {
            "bin_start": 6.6,
            "bin_end": 7.3,
            "count": 0
           },
           {
            "bin_start": 7.3,
            "bin_end": 8,
            "count": 1
           }
          ]
         }
        },
        {
         "name": "year",
         "dtype": "float64",
         "stats": {
          "unique_count": 1,
          "nan_count": 0,
          "min": "2011.0",
          "max": "2011.0",
          "histogram": [
           {
            "bin_start": 2010.5,
            "bin_end": 2010.6,
            "count": 0
           },
           {
            "bin_start": 2010.6,
            "bin_end": 2010.7,
            "count": 0
           },
           {
            "bin_start": 2010.7,
            "bin_end": 2010.8,
            "count": 0
           },
           {
            "bin_start": 2010.8,
            "bin_end": 2010.9,
            "count": 0
           },
           {
            "bin_start": 2010.9,
            "bin_end": 2011,
            "count": 0
           },
           {
            "bin_start": 2011,
            "bin_end": 2011.1,
            "count": 5
           },
           {
            "bin_start": 2011.1,
            "bin_end": 2011.2,
            "count": 0
           },
           {
            "bin_start": 2011.2,
            "bin_end": 2011.3,
            "count": 0
           },
           {
            "bin_start": 2011.3,
            "bin_end": 2011.4,
            "count": 0
           },
           {
            "bin_start": 2011.4,
            "bin_end": 2011.5,
            "count": 0
           }
          ]
         }
        },
        {
         "name": "ds_pm_pred",
         "dtype": "float64",
         "stats": {
          "unique_count": 5,
          "nan_count": 0,
          "min": "5.879013035485009",
          "max": "11.077399470872948",
          "histogram": [
           {
            "bin_start": 5.879013035485009,
            "bin_end": 6.398851679023803,
            "count": 1
           },
           {
            "bin_start": 6.398851679023803,
            "bin_end": 6.918690322562597,
            "count": 0
           },
           {
            "bin_start": 6.918690322562597,
            "bin_end": 7.438528966101391,
            "count": 0
           },
           {
            "bin_start": 7.438528966101391,
            "bin_end": 7.9583676096401845,
            "count": 0
           },
           {
            "bin_start": 7.9583676096401845,
            "bin_end": 8.478206253178978,
            "count": 1
           },
           {
            "bin_start": 8.478206253178978,
            "bin_end": 8.998044896717772,
            "count": 0
           },
           {
            "bin_start": 8.998044896717772,
            "bin_end": 9.517883540256566,
            "count": 0
           },
           {
            "bin_start": 9.517883540256566,
            "bin_end": 10.03772218379536,
            "count": 1
           },
           {
            "bin_start": 10.03772218379536,
            "bin_end": 10.557560827334154,
            "count": 0
           },
           {
            "bin_start": 10.557560827334154,
            "bin_end": 11.077399470872948,
            "count": 2
           }
          ]
         }
        },
        {
         "name": "_deepnote_index_column",
         "dtype": "int64"
        }
       ],
       "rows": [
        {
         "LocationID": 1,
         "year": 2011,
         "ds_pm_pred": 10.80122384603192,
         "_deepnote_index_column": 0
        },
        {
         "LocationID": 4,
         "year": 2011,
         "ds_pm_pred": 8.025835961373895,
         "_deepnote_index_column": 1
        },
        {
         "LocationID": 5,
         "year": 2011,
         "ds_pm_pred": 11.077399470872948,
         "_deepnote_index_column": 2
        },
        {
         "LocationID": 6,
         "year": 2011,
         "ds_pm_pred": 9.953601144062738,
         "_deepnote_index_column": 3
        },
        {
         "LocationID": 8,
         "year": 2011,
         "ds_pm_pred": 5.879013035485009,
         "_deepnote_index_column": 4
        }
       ]
      },
      "text/plain": "   LocationID    year  ds_pm_pred\n0         1.0  2011.0   10.801224\n1         4.0  2011.0    8.025836\n2         5.0  2011.0   11.077399\n3         6.0  2011.0    9.953601\n4         8.0  2011.0    5.879013",
      "text/html": "<div>\n<style scoped>\n    .dataframe tbody tr th:only-of-type {\n        vertical-align: middle;\n    }\n\n    .dataframe tbody tr th {\n        vertical-align: top;\n    }\n\n    .dataframe thead th {\n        text-align: right;\n    }\n</style>\n<table border=\"1\" class=\"dataframe\">\n  <thead>\n    <tr style=\"text-align: right;\">\n      <th></th>\n      <th>LocationID</th>\n      <th>year</th>\n      <th>ds_pm_pred</th>\n    </tr>\n  </thead>\n  <tbody>\n    <tr>\n      <th>0</th>\n      <td>1.0</td>\n      <td>2011.0</td>\n      <td>10.801224</td>\n    </tr>\n    <tr>\n      <th>1</th>\n      <td>4.0</td>\n      <td>2011.0</td>\n      <td>8.025836</td>\n    </tr>\n    <tr>\n      <th>2</th>\n      <td>5.0</td>\n      <td>2011.0</td>\n      <td>11.077399</td>\n    </tr>\n    <tr>\n      <th>3</th>\n      <td>6.0</td>\n      <td>2011.0</td>\n      <td>9.953601</td>\n    </tr>\n    <tr>\n      <th>4</th>\n      <td>8.0</td>\n      <td>2011.0</td>\n      <td>5.879013</td>\n    </tr>\n  </tbody>\n</table>\n</div>"
     },
     "metadata": {}
    }
   ]
  },
  {
   "cell_type": "code",
   "metadata": {
    "cell_id": "43312f212c124c67a5108f55b0e3327f",
    "tags": [],
    "deepnote_to_be_reexecuted": false,
    "source_hash": "65fb5cba",
    "execution_start": 1652130545399,
    "execution_millis": 215,
    "deepnote_table_state": {
     "pageSize": 10,
     "pageIndex": 8,
     "filters": [],
     "sortBy": [
      {
       "id": "DataValue",
       "type": "desc"
      }
     ]
    },
    "deepnote_table_loading": false,
    "deepnote_app_coordinates": {
     "x": 0,
     "y": 156,
     "w": 12,
     "h": 5
    },
    "deepnote_cell_type": "code",
    "deepnote_cell_height": 722
   },
   "source": "# merge the PM2.5 yearly average dataset for years 2011-2014 with the dataset on COPD chronic illness\nCDC_COPD_race_2011_2014 = CDC_COPD_race_onehot[CDC_COPD_race_onehot[\"YearStart\"] < 2015]\nCDC_COPD_race_2011_2014 = CDC_COPD_race_2011_2014.rename(columns = {\"YearStart\": \"year\"})\ndfs = [CDC_COPD_race_2011_2014, pm25_mean_merged]\nmerged_df = pd.merge(dfs[0], dfs[1], on = [\"year\", \"LocationID\"])\nmerged_df",
   "execution_count": 15,
   "outputs": [
    {
     "output_type": "execute_result",
     "execution_count": 15,
     "data": {
      "application/vnd.deepnote.dataframe.v3+json": {
       "column_count": 14,
       "row_count": 3116,
       "columns": [
        {
         "name": "year",
         "dtype": "int64",
         "stats": {
          "unique_count": 4,
          "nan_count": 0,
          "min": "2011",
          "max": "2014",
          "histogram": [
           {
            "bin_start": 2011,
            "bin_end": 2011.3,
            "count": 623
           },
           {
            "bin_start": 2011.3,
            "bin_end": 2011.6,
            "count": 0
           },
           {
            "bin_start": 2011.6,
            "bin_end": 2011.9,
            "count": 0
           },
           {
            "bin_start": 2011.9,
            "bin_end": 2012.2,
            "count": 627
           },
           {
            "bin_start": 2012.2,
            "bin_end": 2012.5,
            "count": 0
           },
           {
            "bin_start": 2012.5,
            "bin_end": 2012.8,
            "count": 0
           },
           {
            "bin_start": 2012.8,
            "bin_end": 2013.1,
            "count": 895
           },
           {
            "bin_start": 2013.1,
            "bin_end": 2013.4,
            "count": 0
           },
           {
            "bin_start": 2013.4,
            "bin_end": 2013.7,
            "count": 0
           },
           {
            "bin_start": 2013.7,
            "bin_end": 2014,
            "count": 971
           }
          ]
         }
        },
        {
         "name": "LocationDesc",
         "dtype": "object",
         "stats": {
          "unique_count": 49,
          "nan_count": 0,
          "categories": [
           {
            "name": "Arizona",
            "count": 116
           },
           {
            "name": "Florida",
            "count": 115
           },
           {
            "name": "47 others",
            "count": 2885
           }
          ]
         }
        },
        {
         "name": "Topic",
         "dtype": "object",
         "stats": {
          "unique_count": 1,
          "nan_count": 0,
          "categories": [
           {
            "name": "Chronic Obstructive Pulmonary Disease",
            "count": 3116
           }
          ]
         }
        },
        {
         "name": "Question",
         "dtype": "object",
         "stats": {
          "unique_count": 8,
          "nan_count": 0,
          "categories": [
           {
            "name": "Hospitalization for chronic obstructive pulmonary disease as any diagnosis among Medicare-eligible persons aged >= 65 years",
            "count": 849
           },
           {
            "name": "Mortality with chronic obstructive pulmonary disease as underlying or contributing cause among adults aged >= 45 years",
            "count": 610
           },
           {
            "name": "6 others",
            "count": 1657
           }
          ]
         }
        },
        {
         "name": "DataValue",
         "dtype": "float64",
         "stats": {
          "unique_count": 2718,
          "nan_count": 0,
          "min": "2.11",
          "max": "1369.09",
          "histogram": [
           {
            "bin_start": 2.11,
            "bin_end": 138.80800000000002,
            "count": 2284
           },
           {
            "bin_start": 138.80800000000002,
            "bin_end": 275.50600000000003,
            "count": 565
           },
           {
            "bin_start": 275.50600000000003,
            "bin_end": 412.20400000000006,
            "count": 173
           },
           {
            "bin_start": 412.20400000000006,
            "bin_end": 548.902,
            "count": 43
           },
           {
            "bin_start": 548.902,
            "bin_end": 685.6,
            "count": 25
           },
           {
            "bin_start": 685.6,
            "bin_end": 822.2980000000001,
            "count": 8
           },
           {
            "bin_start": 822.2980000000001,
            "bin_end": 958.9960000000001,
            "count": 9
           },
           {
            "bin_start": 958.9960000000001,
            "bin_end": 1095.694,
            "count": 3
           },
           {
            "bin_start": 1095.694,
            "bin_end": 1232.392,
            "count": 4
           },
           {
            "bin_start": 1232.392,
            "bin_end": 1369.09,
            "count": 2
           }
          ]
         }
        },
        {
         "name": "Race/Ethnicity",
         "dtype": "object",
         "stats": {
          "unique_count": 5,
          "nan_count": 0,
          "categories": [
           {
            "name": "White, non-Hispanic",
            "count": 916
           },
           {
            "name": "Black, non-Hispanic",
            "count": 757
           },
           {
            "name": "3 others",
            "count": 1443
           }
          ]
         }
        },
        {
         "name": "LocationID",
         "dtype": "int64",
         "stats": {
          "unique_count": 49,
          "nan_count": 0,
          "min": "1",
          "max": "56",
          "histogram": [
           {
            "bin_start": 1,
            "bin_end": 6.5,
            "count": 313
           },
           {
            "bin_start": 6.5,
            "bin_end": 12,
            "count": 216
           },
           {
            "bin_start": 12,
            "bin_end": 17.5,
            "count": 288
           },
           {
            "bin_start": 17.5,
            "bin_end": 23,
            "count": 312
           },
           {
            "bin_start": 23,
            "bin_end": 28.5,
            "count": 362
           },
           {
            "bin_start": 28.5,
            "bin_end": 34,
            "count": 253
           },
           {
            "bin_start": 34,
            "bin_end": 39.5,
            "count": 479
           },
           {
            "bin_start": 39.5,
            "bin_end": 45,
            "count": 257
           },
           {
            "bin_start": 45,
            "bin_end": 50.5,
            "count": 311
           },
           {
            "bin_start": 50.5,
            "bin_end": 56,
            "count": 325
           }
          ]
         }
        },
        {
         "name": "QuestionID",
         "dtype": "object",
         "stats": {
          "unique_count": 8,
          "nan_count": 0,
          "categories": [
           {
            "name": "COPD5_4",
            "count": 849
           },
           {
            "name": "COPD1_2",
            "count": 610
           },
           {
            "name": "6 others",
            "count": 1657
           }
          ]
         }
        },
        {
         "name": "Stratification_American Indian or Alaska Native",
         "dtype": "uint8",
         "stats": {
          "unique_count": 2,
          "nan_count": 0,
          "min": "0",
          "max": "1",
          "histogram": [
           {
            "bin_start": 0,
            "bin_end": 0.1,
            "count": 2659
           },
           {
            "bin_start": 0.1,
            "bin_end": 0.2,
            "count": 0
           },
           {
            "bin_start": 0.2,
            "bin_end": 0.30000000000000004,
            "count": 0
           },
           {
            "bin_start": 0.30000000000000004,
            "bin_end": 0.4,
            "count": 0
           },
           {
            "bin_start": 0.4,
            "bin_end": 0.5,
            "count": 0
           },
           {
            "bin_start": 0.5,
            "bin_end": 0.6000000000000001,
            "count": 0
           },
           {
            "bin_start": 0.6000000000000001,
            "bin_end": 0.7000000000000001,
            "count": 0
           },
           {
            "bin_start": 0.7000000000000001,
            "bin_end": 0.8,
            "count": 0
           },
           {
            "bin_start": 0.8,
            "bin_end": 0.9,
            "count": 0
           },
           {
            "bin_start": 0.9,
            "bin_end": 1,
            "count": 457
           }
          ]
         }
        },
        {
         "name": "Stratification_Asian or Pacific Islander",
         "dtype": "uint8",
         "stats": {
          "unique_count": 2,
          "nan_count": 0,
          "min": "0",
          "max": "1",
          "histogram": [
           {
            "bin_start": 0,
            "bin_end": 0.1,
            "count": 2666
           },
           {
            "bin_start": 0.1,
            "bin_end": 0.2,
            "count": 0
           },
           {
            "bin_start": 0.2,
            "bin_end": 0.30000000000000004,
            "count": 0
           },
           {
            "bin_start": 0.30000000000000004,
            "bin_end": 0.4,
            "count": 0
           },
           {
            "bin_start": 0.4,
            "bin_end": 0.5,
            "count": 0
           },
           {
            "bin_start": 0.5,
            "bin_end": 0.6000000000000001,
            "count": 0
           },
           {
            "bin_start": 0.6000000000000001,
            "bin_end": 0.7000000000000001,
            "count": 0
           },
           {
            "bin_start": 0.7000000000000001,
            "bin_end": 0.8,
            "count": 0
           },
           {
            "bin_start": 0.8,
            "bin_end": 0.9,
            "count": 0
           },
           {
            "bin_start": 0.9,
            "bin_end": 1,
            "count": 450
           }
          ]
         }
        },
        {
         "name": "Stratification_Black, non-Hispanic",
         "dtype": "uint8",
         "stats": {
          "unique_count": 2,
          "nan_count": 0,
          "min": "0",
          "max": "1",
          "histogram": [
           {
            "bin_start": 0,
            "bin_end": 0.1,
            "count": 2359
           },
           {
            "bin_start": 0.1,
            "bin_end": 0.2,
            "count": 0
           },
           {
            "bin_start": 0.2,
            "bin_end": 0.30000000000000004,
            "count": 0
           },
           {
            "bin_start": 0.30000000000000004,
            "bin_end": 0.4,
            "count": 0
           },
           {
            "bin_start": 0.4,
            "bin_end": 0.5,
            "count": 0
           },
           {
            "bin_start": 0.5,
            "bin_end": 0.6000000000000001,
            "count": 0
           },
           {
            "bin_start": 0.6000000000000001,
            "bin_end": 0.7000000000000001,
            "count": 0
           },
           {
            "bin_start": 0.7000000000000001,
            "bin_end": 0.8,
            "count": 0
           },
           {
            "bin_start": 0.8,
            "bin_end": 0.9,
            "count": 0
           },
           {
            "bin_start": 0.9,
            "bin_end": 1,
            "count": 757
           }
          ]
         }
        },
        {
         "name": "Stratification_Hispanic",
         "dtype": "uint8",
         "stats": {
          "unique_count": 2,
          "nan_count": 0,
          "min": "0",
          "max": "1",
          "histogram": [
           {
            "bin_start": 0,
            "bin_end": 0.1,
            "count": 2580
           },
           {
            "bin_start": 0.1,
            "bin_end": 0.2,
            "count": 0
           },
           {
            "bin_start": 0.2,
            "bin_end": 0.30000000000000004,
            "count": 0
           },
           {
            "bin_start": 0.30000000000000004,
            "bin_end": 0.4,
            "count": 0
           },
           {
            "bin_start": 0.4,
            "bin_end": 0.5,
            "count": 0
           },
           {
            "bin_start": 0.5,
            "bin_end": 0.6000000000000001,
            "count": 0
           },
           {
            "bin_start": 0.6000000000000001,
            "bin_end": 0.7000000000000001,
            "count": 0
           },
           {
            "bin_start": 0.7000000000000001,
            "bin_end": 0.8,
            "count": 0
           },
           {
            "bin_start": 0.8,
            "bin_end": 0.9,
            "count": 0
           },
           {
            "bin_start": 0.9,
            "bin_end": 1,
            "count": 536
           }
          ]
         }
        },
        {
         "name": "Stratification_White, non-Hispanic",
         "dtype": "uint8",
         "stats": {
          "unique_count": 2,
          "nan_count": 0,
          "min": "0",
          "max": "1",
          "histogram": [
           {
            "bin_start": 0,
            "bin_end": 0.1,
            "count": 2200
           },
           {
            "bin_start": 0.1,
            "bin_end": 0.2,
            "count": 0
           },
           {
            "bin_start": 0.2,
            "bin_end": 0.30000000000000004,
            "count": 0
           },
           {
            "bin_start": 0.30000000000000004,
            "bin_end": 0.4,
            "count": 0
           },
           {
            "bin_start": 0.4,
            "bin_end": 0.5,
            "count": 0
           },
           {
            "bin_start": 0.5,
            "bin_end": 0.6000000000000001,
            "count": 0
           },
           {
            "bin_start": 0.6000000000000001,
            "bin_end": 0.7000000000000001,
            "count": 0
           },
           {
            "bin_start": 0.7000000000000001,
            "bin_end": 0.8,
            "count": 0
           },
           {
            "bin_start": 0.8,
            "bin_end": 0.9,
            "count": 0
           },
           {
            "bin_start": 0.9,
            "bin_end": 1,
            "count": 916
           }
          ]
         }
        },
        {
         "name": "ds_pm_pred",
         "dtype": "float64",
         "stats": {
          "unique_count": 196,
          "nan_count": 0,
          "min": "3.33372839465972",
          "max": "34.121102464814285",
          "histogram": [
           {
            "bin_start": 3.33372839465972,
            "bin_end": 6.412465801675177,
            "count": 147
           },
           {
            "bin_start": 6.412465801675177,
            "bin_end": 9.491203208690633,
            "count": 1339
           },
           {
            "bin_start": 9.491203208690633,
            "bin_end": 12.569940615706091,
            "count": 1234
           },
           {
            "bin_start": 12.569940615706091,
            "bin_end": 15.648678022721548,
            "count": 334
           },
           {
            "bin_start": 15.648678022721548,
            "bin_end": 18.727415429737004,
            "count": 6
           },
           {
            "bin_start": 18.727415429737004,
            "bin_end": 21.80615283675246,
            "count": 47
           },
           {
            "bin_start": 21.80615283675246,
            "bin_end": 24.884890243767916,
            "count": 0
           },
           {
            "bin_start": 24.884890243767916,
            "bin_end": 27.963627650783373,
            "count": 0
           },
           {
            "bin_start": 27.963627650783373,
            "bin_end": 31.04236505779883,
            "count": 0
           },
           {
            "bin_start": 31.04236505779883,
            "bin_end": 34.121102464814285,
            "count": 9
           }
          ]
         }
        },
        {
         "name": "_deepnote_index_column",
         "dtype": "int64"
        }
       ],
       "rows": [
        {
         "year": 2014,
         "LocationDesc": "Arizona",
         "Topic": "Chronic Obstructive Pulmonary Disease",
         "Question": "Emergency department visit rate for chronic obstructive pulmonary disease as any diagnosis",
         "DataValue": 445.44,
         "Race/Ethnicity": "White, non-Hispanic",
         "LocationID": 4,
         "QuestionID": "COPD6_2",
         "Stratification_American Indian or Alaska Native": 0,
         "Stratification_Asian or Pacific Islander": 0,
         "Stratification_Black, non-Hispanic": 0,
         "Stratification_Hispanic": 0,
         "Stratification_White, non-Hispanic": 1,
         "ds_pm_pred": 12.040023541939746,
         "_deepnote_index_column": 248
        },
        {
         "year": 2013,
         "LocationDesc": "Arizona",
         "Topic": "Chronic Obstructive Pulmonary Disease",
         "Question": "Emergency department visit rate for chronic obstructive pulmonary disease as any diagnosis",
         "DataValue": 443.64,
         "Race/Ethnicity": "White, non-Hispanic",
         "LocationID": 4,
         "QuestionID": "COPD6_2",
         "Stratification_American Indian or Alaska Native": 0,
         "Stratification_Asian or Pacific Islander": 0,
         "Stratification_Black, non-Hispanic": 0,
         "Stratification_Hispanic": 0,
         "Stratification_White, non-Hispanic": 1,
         "ds_pm_pred": 9.59702316240717,
         "_deepnote_index_column": 181
        },
        {
         "year": 2014,
         "LocationDesc": "Minnesota",
         "Topic": "Chronic Obstructive Pulmonary Disease",
         "Question": "Mortality with chronic obstructive pulmonary disease as underlying or contributing cause among adults aged >= 45 years",
         "DataValue": 438.3,
         "Race/Ethnicity": "American Indian or Alaska Native",
         "LocationID": 27,
         "QuestionID": "COPD1_2",
         "Stratification_American Indian or Alaska Native": 1,
         "Stratification_Asian or Pacific Islander": 0,
         "Stratification_Black, non-Hispanic": 0,
         "Stratification_Hispanic": 0,
         "Stratification_White, non-Hispanic": 0,
         "ds_pm_pred": 8.230764913857692,
         "_deepnote_index_column": 1411
        },
        {
         "year": 2013,
         "LocationDesc": "Michigan",
         "Topic": "Chronic Obstructive Pulmonary Disease",
         "Question": "Hospitalization for chronic obstructive pulmonary disease as any diagnosis",
         "DataValue": 437.21,
         "Race/Ethnicity": "American Indian or Alaska Native",
         "LocationID": 26,
         "QuestionID": "COPD5_2",
         "Stratification_American Indian or Alaska Native": 1,
         "Stratification_Asian or Pacific Islander": 0,
         "Stratification_Black, non-Hispanic": 0,
         "Stratification_Hispanic": 0,
         "Stratification_White, non-Hispanic": 0,
         "ds_pm_pred": 11.491908349427757,
         "_deepnote_index_column": 1342
        },
        {
         "year": 2014,
         "LocationDesc": "Maryland",
         "Topic": "Chronic Obstructive Pulmonary Disease",
         "Question": "Emergency department visit rate for chronic obstructive pulmonary disease as any diagnosis",
         "DataValue": 431.06,
         "Race/Ethnicity": "White, non-Hispanic",
         "LocationID": 24,
         "QuestionID": "COPD6_2",
         "Stratification_American Indian or Alaska Native": 0,
         "Stratification_Asian or Pacific Islander": 0,
         "Stratification_Black, non-Hispanic": 0,
         "Stratification_Hispanic": 0,
         "Stratification_White, non-Hispanic": 1,
         "ds_pm_pred": 10.587753057747536,
         "_deepnote_index_column": 1268
        },
        {
         "year": 2013,
         "LocationDesc": "Kentucky",
         "Topic": "Chronic Obstructive Pulmonary Disease",
         "Question": "Emergency department visit rate for chronic obstructive pulmonary disease as first-listed diagnosis",
         "DataValue": 430.77,
         "Race/Ethnicity": "Hispanic",
         "LocationID": 21,
         "QuestionID": "COPD6_1",
         "Stratification_American Indian or Alaska Native": 0,
         "Stratification_Asian or Pacific Islander": 0,
         "Stratification_Black, non-Hispanic": 0,
         "Stratification_Hispanic": 1,
         "Stratification_White, non-Hispanic": 0,
         "ds_pm_pred": 11.85852455156968,
         "_deepnote_index_column": 1062
        },
        {
         "year": 2014,
         "LocationDesc": "Rhode Island",
         "Topic": "Chronic Obstructive Pulmonary Disease",
         "Question": "Emergency department visit rate for chronic obstructive pulmonary disease as any diagnosis",
         "DataValue": 428.2,
         "Race/Ethnicity": "White, non-Hispanic",
         "LocationID": 44,
         "QuestionID": "COPD6_2",
         "Stratification_American Indian or Alaska Native": 0,
         "Stratification_Asian or Pacific Islander": 0,
         "Stratification_Black, non-Hispanic": 0,
         "Stratification_Hispanic": 0,
         "Stratification_White, non-Hispanic": 1,
         "ds_pm_pred": 9.275567092709275,
         "_deepnote_index_column": 2429
        },
        {
         "year": 2013,
         "LocationDesc": "North Dakota",
         "Topic": "Chronic Obstructive Pulmonary Disease",
         "Question": "Mortality with chronic obstructive pulmonary disease as underlying or contributing cause among adults aged >= 45 years",
         "DataValue": 427.6,
         "Race/Ethnicity": "American Indian or Alaska Native",
         "LocationID": 38,
         "QuestionID": "COPD1_2",
         "Stratification_American Indian or Alaska Native": 1,
         "Stratification_Asian or Pacific Islander": 0,
         "Stratification_Black, non-Hispanic": 0,
         "Stratification_Hispanic": 0,
         "Stratification_White, non-Hispanic": 0,
         "ds_pm_pred": 6.599539957582171,
         "_deepnote_index_column": 1703
        },
        {
         "year": 2013,
         "LocationDesc": "Wisconsin",
         "Topic": "Chronic Obstructive Pulmonary Disease",
         "Question": "Hospitalization for chronic obstructive pulmonary disease as any diagnosis",
         "DataValue": 426.29,
         "Race/Ethnicity": "Black, non-Hispanic",
         "LocationID": 55,
         "QuestionID": "COPD5_2",
         "Stratification_American Indian or Alaska Native": 0,
         "Stratification_Asian or Pacific Islander": 0,
         "Stratification_Black, non-Hispanic": 1,
         "Stratification_Hispanic": 0,
         "Stratification_White, non-Hispanic": 0,
         "ds_pm_pred": 11.830560280504933,
         "_deepnote_index_column": 2960
        },
        {
         "year": 2014,
         "LocationDesc": "Michigan",
         "Topic": "Chronic Obstructive Pulmonary Disease",
         "Question": "Mortality with chronic obstructive pulmonary disease as underlying or contributing cause among adults aged >= 45 years",
         "DataValue": 422,
         "Race/Ethnicity": "American Indian or Alaska Native",
         "LocationID": 26,
         "QuestionID": "COPD1_2",
         "Stratification_American Indian or Alaska Native": 1,
         "Stratification_Asian or Pacific Islander": 0,
         "Stratification_Black, non-Hispanic": 0,
         "Stratification_Hispanic": 0,
         "Stratification_White, non-Hispanic": 0,
         "ds_pm_pred": 11.37100600844743,
         "_deepnote_index_column": 1292
        }
       ]
      },
      "text/plain": "      year LocationDesc                                  Topic  \\\n0     2011     Arkansas  Chronic Obstructive Pulmonary Disease   \n1     2011     Arkansas  Chronic Obstructive Pulmonary Disease   \n2     2011     Arkansas  Chronic Obstructive Pulmonary Disease   \n3     2011     Arkansas  Chronic Obstructive Pulmonary Disease   \n4     2011     Arkansas  Chronic Obstructive Pulmonary Disease   \n...    ...          ...                                    ...   \n3111  2014      Wyoming  Chronic Obstructive Pulmonary Disease   \n3112  2014      Wyoming  Chronic Obstructive Pulmonary Disease   \n3113  2014      Wyoming  Chronic Obstructive Pulmonary Disease   \n3114  2014      Wyoming  Chronic Obstructive Pulmonary Disease   \n3115  2014      Wyoming  Chronic Obstructive Pulmonary Disease   \n\n                                               Question  DataValue  \\\n0     Hospitalization for chronic obstructive pulmon...      66.70   \n1     Hospitalization for chronic obstructive pulmon...      10.17   \n2     Mortality with chronic obstructive pulmonary d...      85.10   \n3     Mortality with chronic obstructive pulmonary d...     174.40   \n4     Hospitalization for chronic obstructive pulmon...      20.41   \n...                                                 ...        ...   \n3111  Mortality with chronic obstructive pulmonary d...     295.60   \n3112  Hospitalization for chronic obstructive pulmon...      98.48   \n3113  Hospitalization for chronic obstructive pulmon...       6.16   \n3114  Mortality with chronic obstructive pulmonary d...     162.10   \n3115  Hospitalization for chronic obstructive pulmon...      51.95   \n\n                        Race/Ethnicity  LocationID QuestionID  \\\n0                  Black, non-Hispanic           5    COPD5_4   \n1                  Black, non-Hispanic           5    COPD5_3   \n2                  Black, non-Hispanic           5    COPD1_1   \n3                  White, non-Hispanic           5    COPD1_1   \n4     American Indian or Alaska Native           5    COPD5_3   \n...                                ...         ...        ...   \n3111               White, non-Hispanic          56    COPD1_2   \n3112  American Indian or Alaska Native          56    COPD5_4   \n3113               White, non-Hispanic          56    COPD5_3   \n3114               White, non-Hispanic          56    COPD1_1   \n3115               White, non-Hispanic          56    COPD5_4   \n\n      Stratification_American Indian or Alaska Native  \\\n0                                                   0   \n1                                                   0   \n2                                                   0   \n3                                                   0   \n4                                                   1   \n...                                               ...   \n3111                                                0   \n3112                                                1   \n3113                                                0   \n3114                                                0   \n3115                                                0   \n\n      Stratification_Asian or Pacific Islander  \\\n0                                            0   \n1                                            0   \n2                                            0   \n3                                            0   \n4                                            0   \n...                                        ...   \n3111                                         0   \n3112                                         0   \n3113                                         0   \n3114                                         0   \n3115                                         0   \n\n      Stratification_Black, non-Hispanic  Stratification_Hispanic  \\\n0                                      1                        0   \n1                                      1                        0   \n2                                      1                        0   \n3                                      0                        0   \n4                                      0                        0   \n...                                  ...                      ...   \n3111                                   0                        0   \n3112                                   0                        0   \n3113                                   0                        0   \n3114                                   0                        0   \n3115                                   0                        0   \n\n      Stratification_White, non-Hispanic  ds_pm_pred  \n0                                      0   11.077399  \n1                                      0   11.077399  \n2                                      0   11.077399  \n3                                      1   11.077399  \n4                                      0   11.077399  \n...                                  ...         ...  \n3111                                   1    3.333728  \n3112                                   0    3.333728  \n3113                                   1    3.333728  \n3114                                   1    3.333728  \n3115                                   1    3.333728  \n\n[3116 rows x 14 columns]",
      "text/html": "<div>\n<style scoped>\n    .dataframe tbody tr th:only-of-type {\n        vertical-align: middle;\n    }\n\n    .dataframe tbody tr th {\n        vertical-align: top;\n    }\n\n    .dataframe thead th {\n        text-align: right;\n    }\n</style>\n<table border=\"1\" class=\"dataframe\">\n  <thead>\n    <tr style=\"text-align: right;\">\n      <th></th>\n      <th>year</th>\n      <th>LocationDesc</th>\n      <th>Topic</th>\n      <th>Question</th>\n      <th>DataValue</th>\n      <th>Race/Ethnicity</th>\n      <th>LocationID</th>\n      <th>QuestionID</th>\n      <th>Stratification_American Indian or Alaska Native</th>\n      <th>Stratification_Asian or Pacific Islander</th>\n      <th>Stratification_Black, non-Hispanic</th>\n      <th>Stratification_Hispanic</th>\n      <th>Stratification_White, non-Hispanic</th>\n      <th>ds_pm_pred</th>\n    </tr>\n  </thead>\n  <tbody>\n    <tr>\n      <th>0</th>\n      <td>2011</td>\n      <td>Arkansas</td>\n      <td>Chronic Obstructive Pulmonary Disease</td>\n      <td>Hospitalization for chronic obstructive pulmon...</td>\n      <td>66.70</td>\n      <td>Black, non-Hispanic</td>\n      <td>5</td>\n      <td>COPD5_4</td>\n      <td>0</td>\n      <td>0</td>\n      <td>1</td>\n      <td>0</td>\n      <td>0</td>\n      <td>11.077399</td>\n    </tr>\n    <tr>\n      <th>1</th>\n      <td>2011</td>\n      <td>Arkansas</td>\n      <td>Chronic Obstructive Pulmonary Disease</td>\n      <td>Hospitalization for chronic obstructive pulmon...</td>\n      <td>10.17</td>\n      <td>Black, non-Hispanic</td>\n      <td>5</td>\n      <td>COPD5_3</td>\n      <td>0</td>\n      <td>0</td>\n      <td>1</td>\n      <td>0</td>\n      <td>0</td>\n      <td>11.077399</td>\n    </tr>\n    <tr>\n      <th>2</th>\n      <td>2011</td>\n      <td>Arkansas</td>\n      <td>Chronic Obstructive Pulmonary Disease</td>\n      <td>Mortality with chronic obstructive pulmonary d...</td>\n      <td>85.10</td>\n      <td>Black, non-Hispanic</td>\n      <td>5</td>\n      <td>COPD1_1</td>\n      <td>0</td>\n      <td>0</td>\n      <td>1</td>\n      <td>0</td>\n      <td>0</td>\n      <td>11.077399</td>\n    </tr>\n    <tr>\n      <th>3</th>\n      <td>2011</td>\n      <td>Arkansas</td>\n      <td>Chronic Obstructive Pulmonary Disease</td>\n      <td>Mortality with chronic obstructive pulmonary d...</td>\n      <td>174.40</td>\n      <td>White, non-Hispanic</td>\n      <td>5</td>\n      <td>COPD1_1</td>\n      <td>0</td>\n      <td>0</td>\n      <td>0</td>\n      <td>0</td>\n      <td>1</td>\n      <td>11.077399</td>\n    </tr>\n    <tr>\n      <th>4</th>\n      <td>2011</td>\n      <td>Arkansas</td>\n      <td>Chronic Obstructive Pulmonary Disease</td>\n      <td>Hospitalization for chronic obstructive pulmon...</td>\n      <td>20.41</td>\n      <td>American Indian or Alaska Native</td>\n      <td>5</td>\n      <td>COPD5_3</td>\n      <td>1</td>\n      <td>0</td>\n      <td>0</td>\n      <td>0</td>\n      <td>0</td>\n      <td>11.077399</td>\n    </tr>\n    <tr>\n      <th>...</th>\n      <td>...</td>\n      <td>...</td>\n      <td>...</td>\n      <td>...</td>\n      <td>...</td>\n      <td>...</td>\n      <td>...</td>\n      <td>...</td>\n      <td>...</td>\n      <td>...</td>\n      <td>...</td>\n      <td>...</td>\n      <td>...</td>\n      <td>...</td>\n    </tr>\n    <tr>\n      <th>3111</th>\n      <td>2014</td>\n      <td>Wyoming</td>\n      <td>Chronic Obstructive Pulmonary Disease</td>\n      <td>Mortality with chronic obstructive pulmonary d...</td>\n      <td>295.60</td>\n      <td>White, non-Hispanic</td>\n      <td>56</td>\n      <td>COPD1_2</td>\n      <td>0</td>\n      <td>0</td>\n      <td>0</td>\n      <td>0</td>\n      <td>1</td>\n      <td>3.333728</td>\n    </tr>\n    <tr>\n      <th>3112</th>\n      <td>2014</td>\n      <td>Wyoming</td>\n      <td>Chronic Obstructive Pulmonary Disease</td>\n      <td>Hospitalization for chronic obstructive pulmon...</td>\n      <td>98.48</td>\n      <td>American Indian or Alaska Native</td>\n      <td>56</td>\n      <td>COPD5_4</td>\n      <td>1</td>\n      <td>0</td>\n      <td>0</td>\n      <td>0</td>\n      <td>0</td>\n      <td>3.333728</td>\n    </tr>\n    <tr>\n      <th>3113</th>\n      <td>2014</td>\n      <td>Wyoming</td>\n      <td>Chronic Obstructive Pulmonary Disease</td>\n      <td>Hospitalization for chronic obstructive pulmon...</td>\n      <td>6.16</td>\n      <td>White, non-Hispanic</td>\n      <td>56</td>\n      <td>COPD5_3</td>\n      <td>0</td>\n      <td>0</td>\n      <td>0</td>\n      <td>0</td>\n      <td>1</td>\n      <td>3.333728</td>\n    </tr>\n    <tr>\n      <th>3114</th>\n      <td>2014</td>\n      <td>Wyoming</td>\n      <td>Chronic Obstructive Pulmonary Disease</td>\n      <td>Mortality with chronic obstructive pulmonary d...</td>\n      <td>162.10</td>\n      <td>White, non-Hispanic</td>\n      <td>56</td>\n      <td>COPD1_1</td>\n      <td>0</td>\n      <td>0</td>\n      <td>0</td>\n      <td>0</td>\n      <td>1</td>\n      <td>3.333728</td>\n    </tr>\n    <tr>\n      <th>3115</th>\n      <td>2014</td>\n      <td>Wyoming</td>\n      <td>Chronic Obstructive Pulmonary Disease</td>\n      <td>Hospitalization for chronic obstructive pulmon...</td>\n      <td>51.95</td>\n      <td>White, non-Hispanic</td>\n      <td>56</td>\n      <td>COPD5_4</td>\n      <td>0</td>\n      <td>0</td>\n      <td>0</td>\n      <td>0</td>\n      <td>1</td>\n      <td>3.333728</td>\n    </tr>\n  </tbody>\n</table>\n<p>3116 rows × 14 columns</p>\n</div>"
     },
     "metadata": {}
    }
   ]
  },
  {
   "cell_type": "code",
   "metadata": {
    "cell_id": "fce8af75bbbb416aaa5996643228ea23",
    "tags": [],
    "deepnote_to_be_reexecuted": false,
    "source_hash": "143b83c4",
    "execution_start": 1652130545606,
    "execution_millis": 626,
    "deepnote_app_coordinates": {
     "x": 0,
     "y": 180,
     "w": 12,
     "h": 5
    },
    "deepnote_cell_type": "code",
    "deepnote_cell_height": 510,
    "deepnote_output_heights": [
     21,
     306.390625
    ]
   },
   "source": "#relationship between yearly avg pm25 levels and COPD \nsns.set(rc = {'figure.figsize':(15,8)})\nqs = sns.scatterplot(x='ds_pm_pred', y = 'DataValue', data = merged_df)\nqs.set(xlabel='PM25 Concentration (avg/year)', ylabel='COPD Rate')",
   "execution_count": 16,
   "outputs": [
    {
     "output_type": "execute_result",
     "execution_count": 16,
     "data": {
      "text/plain": "[Text(0.5, 0, 'PM25 Concentration (avg/year)'), Text(0, 0.5, 'COPD Rate')]"
     },
     "metadata": {}
    },
    {
     "data": {
      "text/plain": "<Figure size 1080x576 with 1 Axes>",
      "image/png": "[encoded data removed]"
     },
     "metadata": {
      "image/png": {
       "width": 905,
       "height": 485
      }
     },
     "output_type": "display_data"
    }
   ]
  },
  {
   "cell_type": "code",
   "metadata": {
    "cell_id": "27078290ce3e42a48fecabc089c234c9",
    "tags": [],
    "deepnote_to_be_reexecuted": false,
    "source_hash": "d03cbf94",
    "execution_start": 1652130546246,
    "execution_millis": 812,
    "deepnote_app_coordinates": {
     "x": 0,
     "y": 186,
     "w": 12,
     "h": 5
    },
    "deepnote_cell_type": "code",
    "deepnote_cell_height": 514.171875,
    "deepnote_output_heights": [
     21,
     311.171875
    ]
   },
   "source": "# average pm25 levels per year\n#sns.set(rc = {'figure.figsize':(15,8)})\nqs = sns.barplot( x = 'year', y='ds_pm_pred', data = merged_df)\nqs.set(xlabel='Year', ylabel='PM25 Concentration')",
   "execution_count": 17,
   "outputs": [
    {
     "output_type": "execute_result",
     "execution_count": 17,
     "data": {
      "text/plain": "[Text(0.5, 0, 'Year'), Text(0, 0.5, 'PM25 Concentration')]"
     },
     "metadata": {}
    },
    {
     "data": {
      "text/plain": "<Figure size 1080x576 with 1 Axes>",
      "image/png": "[encoded data removed]"
     },
     "metadata": {
      "image/png": {
       "width": 891,
       "height": 485
      }
     },
     "output_type": "display_data"
    }
   ]
  },
  {
   "cell_type": "code",
   "metadata": {
    "cell_id": "e91474045f1a49daa0f84407bdcaf328",
    "tags": [],
    "deepnote_to_be_reexecuted": false,
    "source_hash": "30057684",
    "execution_start": 1652130547066,
    "execution_millis": 13,
    "deepnote_app_coordinates": {
     "x": 0,
     "y": 222,
     "w": 12,
     "h": 5
    },
    "deepnote_cell_type": "code",
    "deepnote_cell_height": 207
   },
   "source": "simplified_reasons = np.array([\"COPD as any diagnosis for Medicare patients aged >=65\", \n    \"COPD as a first listed diagnosis for Medicare patients aged >=65\",\n    \"COPD as an underlying cause among adults aged >=45\",\n    \"COPD as underlying or contributing cause among adults aged >=45\",\n    \"COPD as any diagnosis\",\n    \"COPD as first-listed diagnosis\",\n    \"Emergency visit rate for COPD as any diagnosis\", \n    \"Emergency visit rate for COPD as first-listed diagnosis\"])",
   "execution_count": 18,
   "outputs": []
  },
  {
   "cell_type": "code",
   "metadata": {
    "cell_id": "d9ea5282f06e4fdbbc267c901250e334",
    "tags": [],
    "deepnote_to_be_reexecuted": false,
    "source_hash": "9306747d",
    "execution_start": 1652130547092,
    "execution_millis": 1870,
    "deepnote_app_coordinates": {
     "x": 0,
     "y": 192,
     "w": 12,
     "h": 5
    },
    "deepnote_cell_type": "code",
    "deepnote_cell_height": 638.4375,
    "deepnote_output_heights": [
     415.4375
    ]
   },
   "source": "# COPD rates based on hospitalization reasons\n#sns.set(rc = {'figure.figsize':(15,8)})\nqs = sns.barplot( x = 'Question', y='DataValue', data = merged_df)\nqs.set_xticklabels(simplified_reasons, \n                          rotation=45, \n                          horizontalalignment='right')\nqs.set(xlabel='Hospitalization Reason', ylabel='COPD rate')\nplt.savefig('hospitalization');",
   "execution_count": 19,
   "outputs": [
    {
     "data": {
      "text/plain": "<Figure size 1080x576 with 1 Axes>",
      "image/png": "[encoded data removed]"
     },
     "metadata": {
      "image/png": {
       "width": 1029,
       "height": 749
      }
     },
     "output_type": "display_data"
    }
   ]
  },
  {
   "cell_type": "code",
   "metadata": {
    "cell_id": "b83a617ed68b4a03af2fba68254467a3",
    "tags": [],
    "deepnote_to_be_reexecuted": false,
    "source_hash": "32142aac",
    "execution_start": 1652130548916,
    "execution_millis": 46,
    "deepnote_app_coordinates": {
     "x": 0,
     "y": 198,
     "w": 12,
     "h": 5
    },
    "deepnote_cell_type": "code",
    "deepnote_cell_height": 271.75,
    "deepnote_output_heights": [
     174.75
    ]
   },
   "source": "merged_df['Question'].unique()",
   "execution_count": 20,
   "outputs": [
    {
     "output_type": "execute_result",
     "execution_count": 20,
     "data": {
      "text/plain": "array(['Hospitalization for chronic obstructive pulmonary disease as any diagnosis among Medicare-eligible persons aged >= 65 years',\n       'Hospitalization for chronic obstructive pulmonary disease as first-listed diagnosis among Medicare-eligible persons aged >= 65 years',\n       'Mortality with chronic obstructive pulmonary disease as underlying cause among adults aged >= 45 years',\n       'Mortality with chronic obstructive pulmonary disease as underlying or contributing cause among adults aged >= 45 years',\n       'Hospitalization for chronic obstructive pulmonary disease as any diagnosis',\n       'Hospitalization for chronic obstructive pulmonary disease as first-listed diagnosis',\n       'Emergency department visit rate for chronic obstructive pulmonary disease as any diagnosis',\n       'Emergency department visit rate for chronic obstructive pulmonary disease as first-listed diagnosis'],\n      dtype=object)"
     },
     "metadata": {}
    }
   ]
  },
  {
   "cell_type": "code",
   "metadata": {
    "cell_id": "8d7f17ec8e8c41e2805f662b22ec7533",
    "tags": [],
    "deepnote_to_be_reexecuted": false,
    "source_hash": "13f57f62",
    "execution_start": 1652130548926,
    "execution_millis": 5266,
    "deepnote_app_coordinates": {
     "x": 0,
     "y": 204,
     "w": 12,
     "h": 5
    },
    "deepnote_cell_type": "code",
    "deepnote_cell_height": 629.015625,
    "deepnote_output_heights": [
     21,
     372.015625
    ]
   },
   "source": "# avg COPD rates based on state\n#sns.set(rc = {'figure.figsize':(15,8)})\nqs = sns.barplot( x = 'LocationDesc', y='DataValue', data = merged_df)\nqs.set_xticklabels(qs.get_xticklabels(), \n                          rotation=90, \n                          horizontalalignment='right')\nqs.set(xlabel='State', ylabel='COPD rate')",
   "execution_count": 21,
   "outputs": [
    {
     "output_type": "execute_result",
     "execution_count": 21,
     "data": {
      "text/plain": "[Text(0.5, 0, 'State'), Text(0, 0.5, 'COPD rate')]"
     },
     "metadata": {}
    },
    {
     "data": {
      "text/plain": "<Figure size 1080x576 with 1 Axes>",
      "image/png": "[encoded data removed]"
     },
     "metadata": {
      "image/png": {
       "width": 898,
       "height": 585
      }
     },
     "output_type": "display_data"
    }
   ]
  },
  {
   "cell_type": "code",
   "metadata": {
    "cell_id": "398f694057124a698513b0a4443ae0de",
    "tags": [],
    "deepnote_to_be_reexecuted": false,
    "source_hash": "a1bb6825",
    "execution_start": 1652130554266,
    "execution_millis": 6469,
    "deepnote_app_coordinates": {
     "x": 0,
     "y": 210,
     "w": 12,
     "h": 5
    },
    "deepnote_cell_type": "code",
    "deepnote_cell_height": 627.375,
    "deepnote_output_heights": [
     21,
     370.375
    ]
   },
   "source": "# yearly pm25 rates based on state\n#sns.set(rc = {'figure.figsize':(15,8)})\nqs = sns.barplot( x = 'LocationDesc', y='ds_pm_pred', data = merged_df)\nqs.set_xticklabels(qs.get_xticklabels(), \n                          rotation=90, \n                          horizontalalignment='right')\nqs.set(xlabel='State', ylabel='PM25 Concentration (avg/year)')",
   "execution_count": 22,
   "outputs": [
    {
     "output_type": "execute_result",
     "execution_count": 22,
     "data": {
      "text/plain": "[Text(0.5, 0, 'State'), Text(0, 0.5, 'PM25 Concentration (avg/year)')]"
     },
     "metadata": {}
    },
    {
     "data": {
      "text/plain": "<Figure size 1080x576 with 1 Axes>",
      "image/png": "[encoded data removed]"
     },
     "metadata": {
      "image/png": {
       "width": 902,
       "height": 585
      }
     },
     "output_type": "display_data"
    }
   ]
  },
  {
   "cell_type": "markdown",
   "source": "### Causal Inference\n\nQuestion: Do increased levels of air pollution correspond with increased levels of Chronic Obstructive Pulmonary Disease (COPD)?\n\nhttps://www.sciencedirect.com/science/article/pii/S0160412020319668#:~:text=5%20concentration%2C%20and%20High%20Safety,than%2010%20%CE%BCg%2Fm3.  \n",
   "metadata": {
    "cell_id": "43b73efb27b841a4bae7039f0498795d",
    "tags": [],
    "deepnote_app_coordinates": {
     "x": 0,
     "y": 216,
     "w": 12,
     "h": 5
    },
    "deepnote_cell_type": "markdown",
    "deepnote_cell_height": 203.984375
   }
  },
  {
   "cell_type": "markdown",
   "source": "##### Methods <br> \n__•Describe which variables correspond to treatment and outcome.__ <br>\nOur Control Group consists of Low air pollution values and our Treatment Group consists of High air pollution values. In the article above, 10 ug/m^3 is listed as the threshold for \"low\" air pollution. The variables that correspond to the outcome of this test are the rates of COPD. <br>\n\n__•Describe which variables (if any) are confounders. If the unconfoundedness assumption holds, make a convincing argument for why.__ <br>\nThe confounders in our dataset include location, year, race/ethnicity, and hospitalization reasoning. The unconfoundedness assumption means we observe all the relevant confounding variables. I.e. there are no unobserved confounders. The unconfoundedness assumption does not hold. Intuitively and based on our results there should be other variables that have an effect on both treatment and outcome. <br>\n\n\n__•What methods will you use to adjust for confounders?__ <br>\nOne technique introduced in lecture used to adjust for confounders we will use is matching. We will need to check the matching algorithm works for our dataset. Each observation will need to have an exact match otherwise the data points will be skewed. (note: Could not figure out how to do the matching algorithm with this dataset, may not work for our particular dataset.) <br>\nTo combat our confounders, we will use a linear model: COPD Rate = tau + a∗Location ID + b∗Race/Ethnicity + c∗Hospitalization reason + d∗year. This will account for our prediction of the 2 main confounders: Race and Location. However, after further analysis, a linear regression approach and inverse propensity score weighting were better techniques for adjusting for our confounders. <br> \n\n__•Are there any colliders in the dataset? If so, what are they?__ <br>\nIn our dataset location and race/ethnicity are are independent causes of hospitalization – the collider (since the two arrowheads collide into hospitalization). <br>\n\n##### Results <br>\n__•Summarize and interpret your results, providing a clear statement about causality (or a lack thereof) including any assumptions necessary.__ <br>\nWe saw that linear regression will not produce an accurate prediction because we got small $R^2$ values and a very negative log-likelihood. After using logistic regression and inverse propensity weighting, we came up with an ATE value of \n-0.75. This result indicates very low casuality between PM2.5 concentration and COPD rates. We used yearly state averages of COPD rates, which may have decreased the accuracy of our regression due to over-smoothing of the data.\n\n__• Where possible, discuss the uncertainty in your estimate and/or the evidence against the hypotheses you are investigating.__ <br>\nOur hypothesis was disproven by the investigation we did. Our ATE value of -0.75 indicates that increased levels of air pollution does not correspond to increased rates of COPD. We find this result surprising and we think there are other confounders that we did not account for that are adjusting our results. Without a more robust dataset, we struggled to find a result consistent with our common-sense expectation: that air pollution increases COPD rates.\n\n##### Discussion <br>\n__• Elaborate on the limitations of your methods.__<br>\nOne of the limitations of our analysis is that we did not control for gender, which is a confounder. One of the limitations of matching is that for each observation we need to have an exact match otherwise the data would be skewed. Since our dataset is very complex, we could not use this approach. Therefore, we were limited to a linear model approach, logisitc regression, and inverse propensity weighting. \n\n__• What additional data would be useful for answering this causal question, and why?__<br>\nIt may be useful to include an additional column that accounts for gender when answering our causual question because it may be a confounder that has a significant impact on the outcome. Additionally, we could look at county level data as opposed to state level data to improve our accuracy.\n\n__• How confident are you that there’s a causal relationship between your chosen treatment and outcome? Why?__<br>\nWe are not confident about our causal relationship because of our strange ATE value. It is likely that there are more confounding variables that we did not consider that are affecting our predictions because our ATE value does not line up at all with our hypothesis.\n",
   "metadata": {
    "cell_id": "49a3fa2bd9ce4d62a6ddbc043b4dae4d",
    "tags": [],
    "deepnote_app_coordinates": {
     "x": 0,
     "y": 0,
     "w": 12,
     "h": 5
    },
    "deepnote_cell_type": "markdown",
    "deepnote_cell_height": 1605.90625
   }
  },
  {
   "cell_type": "code",
   "metadata": {
    "cell_id": "f5da5706bfe14dc093b27e302cbd9f4b",
    "tags": [],
    "deepnote_app_coordinates": {
     "x": 0,
     "y": 0,
     "w": 12,
     "h": 5
    },
    "deepnote_to_be_reexecuted": false,
    "source_hash": "6a999b95",
    "execution_start": 1652130560060,
    "execution_millis": 701,
    "deepnote_cell_type": "code",
    "deepnote_cell_height": 154.1875,
    "deepnote_output_heights": [
     21.1875
    ]
   },
   "source": "#adding a treatment column with true = treatment group and false = control\nmerged_df[\"treatment\"] = np.where(merged_df[\"ds_pm_pred\"] < 10, False, True)\nlen(merged_df[merged_df[\"treatment\"] == True]), len(merged_df[merged_df[\"treatment\"] == False])",
   "execution_count": 23,
   "outputs": [
    {
     "output_type": "execute_result",
     "execution_count": 23,
     "data": {
      "text/plain": "(1361, 1755)"
     },
     "metadata": {}
    }
   ]
  },
  {
   "cell_type": "code",
   "metadata": {
    "cell_id": "bae64b91ecf6417e8164f1979f26ca97",
    "tags": [],
    "deepnote_app_coordinates": {
     "x": 0,
     "y": 0,
     "w": 12,
     "h": 5
    },
    "deepnote_to_be_reexecuted": false,
    "source_hash": "6b6ef24c",
    "execution_start": 1652130560066,
    "execution_millis": 1502,
    "deepnote_cell_type": "code",
    "deepnote_cell_height": 454.046875,
    "deepnote_output_heights": [
     21,
     305.046875
    ]
   },
   "source": "sns.histplot(data=merged_df, x='DataValue', hue='treatment', stat='density', common_norm=False)",
   "execution_count": 24,
   "outputs": [
    {
     "output_type": "execute_result",
     "execution_count": 24,
     "data": {
      "text/plain": "<AxesSubplot:xlabel='DataValue', ylabel='Density'>"
     },
     "metadata": {}
    },
    {
     "data": {
      "text/plain": "<Figure size 1080x576 with 1 Axes>",
      "image/png": "[encoded data removed]"
     },
     "metadata": {
      "image/png": {
       "width": 909,
       "height": 485
      }
     },
     "output_type": "display_data"
    }
   ]
  },
  {
   "cell_type": "code",
   "metadata": {
    "cell_id": "2a0cc4b86a494d6bb74e8e9fdca58855",
    "tags": [],
    "deepnote_app_coordinates": {
     "x": 0,
     "y": 0,
     "w": 12,
     "h": 5
    },
    "deepnote_to_be_reexecuted": false,
    "source_hash": "ed386d38",
    "execution_start": 1652130561557,
    "execution_millis": 11,
    "deepnote_cell_type": "code",
    "deepnote_cell_height": 136.1875,
    "deepnote_output_heights": [
     21.1875
    ]
   },
   "source": "inital_tau = merged_df.loc[merged_df['treatment'] == 1, 'DataValue'].mean() - merged_df.loc[merged_df['treatment'] == 0, 'DataValue'].mean()\ninital_tau",
   "execution_count": 25,
   "outputs": [
    {
     "output_type": "execute_result",
     "execution_count": 25,
     "data": {
      "text/plain": "-10.936345493405028"
     },
     "metadata": {}
    }
   ]
  },
  {
   "cell_type": "markdown",
   "source": "The negative results leads us to believe there are confounders at work, because we expect rates of COPD to be higher when PM2.5 concentration is higher. To combat our confounders, we will use a linear model:\n\nCOPD Rate = $\\tau$ + $a*$Location ID + $b*$Race/Ethnicity + $c*$Hospitalization reason + $d*$year\n\nThis will account for our prediction of the 2 main confounders: Race and Location.",
   "metadata": {
    "cell_id": "9990e0f94b9f48e1988b8001fa8d7d22",
    "tags": [],
    "deepnote_app_coordinates": {
     "x": 0,
     "y": 0,
     "w": 12,
     "h": 5
    },
    "deepnote_cell_type": "markdown",
    "deepnote_cell_height": 192.390625
   }
  },
  {
   "cell_type": "code",
   "metadata": {
    "cell_id": "e412244461d04e50b8eb176ec92e51fd",
    "tags": [],
    "deepnote_app_coordinates": {
     "x": 0,
     "y": 0,
     "w": 12,
     "h": 5
    },
    "deepnote_to_be_reexecuted": false,
    "source_hash": "d695e810",
    "execution_start": 1652130561558,
    "execution_millis": 13,
    "deepnote_cell_type": "code",
    "deepnote_cell_height": 657
   },
   "source": "#code taken from lab 8\ndef fit_OLS_model(df, target_variable, explanatory_variables, intercept = False):\n    \"\"\"\n    Fits an OLS model from data.\n    \n    Inputs:\n        df: pandas DataFrame\n        target_variable: string, name of the target variable\n        explanatory_variables: list of strings, names of the explanatory variables\n        intercept: bool, if True add intercept term\n    Outputs:\n        fitted_model: model containing OLS regression results\n    \"\"\"\n    \n    target = df[target_variable]\n    inputs = df[explanatory_variables]\n    if intercept:\n        inputs = sm.add_constant(inputs)\n    \n    fitted_model = sm.OLS(target, inputs).fit()\n    return(fitted_model)\n\ndef mean_squared_error(true_vals, predicted_vals):\n    \"\"\"\n    Return the mean squared error\n    \n    Inputs:\n        true_vals: array of true labels\n        predicted_vals: array labels predicted from the data\n    Output:\n        float, mean squared error of the predicted values\n    \"\"\"\n    return np.mean((true_vals - predicted_vals) ** 2)",
   "execution_count": 26,
   "outputs": []
  },
  {
   "cell_type": "markdown",
   "source": "We can see here that linear regression will not produce an accurate prediction because we have a small $R^2$ values and a very negative log-likelihood.",
   "metadata": {
    "cell_id": "ea7b083e21324fb8b593d00e3fc62ab5",
    "tags": [],
    "deepnote_app_coordinates": {
     "x": 0,
     "y": 0,
     "w": 12,
     "h": 5
    },
    "deepnote_cell_type": "markdown",
    "deepnote_cell_height": 74.796875
   }
  },
  {
   "cell_type": "code",
   "metadata": {
    "cell_id": "39f25e78bde742bea5d6b101e41afbf3",
    "tags": [],
    "deepnote_app_coordinates": {
     "x": 0,
     "y": 0,
     "w": 12,
     "h": 5
    },
    "deepnote_to_be_reexecuted": false,
    "source_hash": "32adf943",
    "execution_start": 1652130561571,
    "execution_millis": 86,
    "deepnote_cell_type": "code",
    "deepnote_cell_height": 175.78125,
    "deepnote_output_heights": [
     78.78125
    ]
   },
   "source": "merged_df.index",
   "execution_count": 27,
   "outputs": [
    {
     "output_type": "execute_result",
     "execution_count": 27,
     "data": {
      "text/plain": "Int64Index([   0,    1,    2,    3,    4,    5,    6,    7,    8,    9,\n            ...\n            3106, 3107, 3108, 3109, 3110, 3111, 3112, 3113, 3114, 3115],\n           dtype='int64', length=3116)"
     },
     "metadata": {}
    }
   ]
  },
  {
   "cell_type": "code",
   "metadata": {
    "cell_id": "0e234889cbac49cdb6bc21f82757cf50",
    "tags": [],
    "deepnote_app_coordinates": {
     "x": 0,
     "y": 0,
     "w": 12,
     "h": 5
    },
    "deepnote_to_be_reexecuted": false,
    "source_hash": "62e020a4",
    "execution_start": 1652130561658,
    "execution_millis": 35,
    "deepnote_cell_type": "code",
    "deepnote_cell_height": 233.359375,
    "deepnote_output_heights": [
     136.359375
    ]
   },
   "source": "CDC_COPD_clean.columns",
   "execution_count": 28,
   "outputs": [
    {
     "output_type": "execute_result",
     "execution_count": 28,
     "data": {
      "text/plain": "Index(['YearStart', 'YearEnd', 'LocationAbbr', 'LocationDesc', 'DataSource',\n       'Topic', 'Question', 'DataValueUnit', 'DataValueType', 'DataValue',\n       'DataValueAlt', 'DataValueFootnoteSymbol', 'DatavalueFootnote',\n       'LowConfidenceLimit', 'HighConfidenceLimit', 'StratificationCategory1',\n       'Stratification1', 'LocationID', 'TopicID', 'QuestionID',\n       'DataValueTypeID', 'StratificationCategoryID1', 'StratificationID1'],\n      dtype='object')"
     },
     "metadata": {}
    }
   ]
  },
  {
   "cell_type": "code",
   "metadata": {
    "cell_id": "57ec1af12a564a20bf3c88eb36785af2",
    "tags": [],
    "deepnote_app_coordinates": {
     "x": 0,
     "y": 0,
     "w": 12,
     "h": 5
    },
    "deepnote_to_be_reexecuted": false,
    "source_hash": "465470de",
    "execution_start": 1652130561659,
    "execution_millis": 85,
    "deepnote_cell_type": "code",
    "deepnote_cell_height": 137.390625,
    "deepnote_output_heights": [
     40.390625
    ]
   },
   "source": "CDC_COPD_clean['DataValueUnit'].unique()",
   "execution_count": 29,
   "outputs": [
    {
     "output_type": "execute_result",
     "execution_count": 29,
     "data": {
      "text/plain": "array(['cases per 100,000', 'cases per 1,000', nan, 'cases per 10,000',\n       'Number', '%'], dtype=object)"
     },
     "metadata": {}
    }
   ]
  },
  {
   "cell_type": "code",
   "metadata": {
    "cell_id": "9cb814ffed184717825018c30e778dbe",
    "tags": [],
    "deepnote_app_coordinates": {
     "x": 0,
     "y": 0,
     "w": 12,
     "h": 5
    },
    "deepnote_to_be_reexecuted": false,
    "source_hash": "d8779575",
    "execution_start": 1652130561694,
    "execution_millis": 70,
    "deepnote_cell_type": "code",
    "deepnote_cell_height": 233.359375,
    "deepnote_output_heights": [
     136.359375
    ]
   },
   "source": "merged_df.columns",
   "execution_count": 30,
   "outputs": [
    {
     "output_type": "execute_result",
     "execution_count": 30,
     "data": {
      "text/plain": "Index(['year', 'LocationDesc', 'Topic', 'Question', 'DataValue',\n       'Race/Ethnicity', 'LocationID', 'QuestionID',\n       'Stratification_American Indian or Alaska Native',\n       'Stratification_Asian or Pacific Islander',\n       'Stratification_Black, non-Hispanic', 'Stratification_Hispanic',\n       'Stratification_White, non-Hispanic', 'ds_pm_pred', 'treatment'],\n      dtype='object')"
     },
     "metadata": {}
    }
   ]
  },
  {
   "cell_type": "code",
   "metadata": {
    "cell_id": "135d1e7682f2477da13ed21c9c32771c",
    "tags": [],
    "deepnote_app_coordinates": {
     "x": 0,
     "y": 0,
     "w": 12,
     "h": 5
    },
    "deepnote_to_be_reexecuted": false,
    "source_hash": "d7a53275",
    "execution_start": 1652130561745,
    "execution_millis": 337,
    "deepnote_table_state": {
     "pageSize": 10,
     "pageIndex": 4,
     "filters": [],
     "sortBy": []
    },
    "deepnote_table_loading": false,
    "deepnote_cell_type": "code",
    "deepnote_cell_height": 690
   },
   "source": "#new merged data table\nCOPD_PM25_merge = CDC_COPD_clean.merge(pm25_mean_merged, left_on = ['YearStart', 'LocationID'], right_on = ['year', 'LocationID'])\nCOPD_PM25_merge = COPD_PM25_merge.drop(labels = ['YearStart', 'YearEnd', 'LocationAbbr', 'LocationDesc', 'DataSource', 'Topic', 'DataValueFootnoteSymbol', \"LowConfidenceLimit\", 'HighConfidenceLimit'], axis = 1)\nCOPD_PM25_merge = COPD_PM25_merge[COPD_PM25_merge['DataValue'].notnull()]\nCOPD_PM25_merge = COPD_PM25_merge[COPD_PM25_merge['DataValueUnit'].notnull()]\nCOPD_PM25_merge",
   "execution_count": 31,
   "outputs": [
    {
     "output_type": "execute_result",
     "execution_count": 31,
     "data": {
      "application/vnd.deepnote.dataframe.v3+json": {
       "column_count": 16,
       "row_count": 27160,
       "columns": [
        {
         "name": "Question",
         "dtype": "object",
         "stats": {
          "unique_count": 16,
          "nan_count": 0,
          "categories": [
           {
            "name": "Hospitalization for chronic obstructive pulmonary disease as any diagnosis among Medicare-eligible persons aged >= 65 years",
            "count": 2874
           },
           {
            "name": "Mortality with chronic obstructive pulmonary disease as underlying or contributing cause among adults aged >= 45 years",
            "count": 2396
           },
           {
            "name": "14 others",
            "count": 21890
           }
          ]
         }
        },
        {
         "name": "DataValueUnit",
         "dtype": "object",
         "stats": {
          "unique_count": 4,
          "nan_count": 0,
          "categories": [
           {
            "name": "%",
            "count": 15348
           },
           {
            "name": "cases per 1,000",
            "count": 5206
           },
           {
            "name": "2 others",
            "count": 6606
           }
          ]
         }
        },
        {
         "name": "DataValueType",
         "dtype": "object",
         "stats": {
          "unique_count": 4,
          "nan_count": 0,
          "categories": [
           {
            "name": "Age-adjusted Prevalence",
            "count": 7733
           },
           {
            "name": "Crude Prevalence",
            "count": 7615
           },
           {
            "name": "2 others",
            "count": 11812
           }
          ]
         }
        },
        {
         "name": "DataValue",
         "dtype": "float64"
        },
        {
         "name": "DataValueAlt",
         "dtype": "float64"
        },
        {
         "name": "DatavalueFootnote",
         "dtype": "object"
        },
        {
         "name": "StratificationCategory1",
         "dtype": "object"
        },
        {
         "name": "Stratification1",
         "dtype": "object"
        },
        {
         "name": "LocationID",
         "dtype": "int64"
        },
        {
         "name": "TopicID",
         "dtype": "object"
        },
        {
         "name": "QuestionID",
         "dtype": "object"
        },
        {
         "name": "DataValueTypeID",
         "dtype": "object"
        },
        {
         "name": "StratificationCategoryID1",
         "dtype": "object"
        },
        {
         "name": "StratificationID1",
         "dtype": "object"
        },
        {
         "name": "year",
         "dtype": "float64"
        },
        {
         "name": "ds_pm_pred",
         "dtype": "float64"
        },
        {
         "name": "_deepnote_index_column",
         "dtype": "int64"
        }
       ],
       "rows": [
        {
         "Question": "Mortality with chronic obstructive pulmonary disease as underlying or contributing cause among adults aged >= 45 years",
         "DataValueUnit": "cases per 100,000",
         "DataValueType": "Age-adjusted Rate",
         "DataValue": 343.4,
         "DataValueAlt": 343.4,
         "DatavalueFootnote": "nan",
         "StratificationCategory1": "Gender",
         "Stratification1": "Male",
         "LocationID": 1,
         "TopicID": "COPD",
         "QuestionID": "COPD1_2",
         "DataValueTypeID": "AGEADJRATE",
         "StratificationCategoryID1": "GENDER",
         "StratificationID1": "GENM",
         "year": 2011,
         "ds_pm_pred": 10.80122384603192,
         "_deepnote_index_column": 90
        },
        {
         "Question": "Hospitalization for chronic obstructive pulmonary disease as first-listed diagnosis among Medicare-eligible persons aged >= 65 years",
         "DataValueUnit": "cases per 1,000",
         "DataValueType": "Crude Rate",
         "DataValue": 17.66,
         "DataValueAlt": 17.66,
         "DatavalueFootnote": "nan",
         "StratificationCategory1": "Gender",
         "Stratification1": "Female",
         "LocationID": 1,
         "TopicID": "COPD",
         "QuestionID": "COPD5_3",
         "DataValueTypeID": "CRDRATE",
         "StratificationCategoryID1": "GENDER",
         "StratificationID1": "GENF",
         "year": 2011,
         "ds_pm_pred": 10.80122384603192,
         "_deepnote_index_column": 92
        },
        {
         "Question": "Hospitalization for chronic obstructive pulmonary disease as any diagnosis among Medicare-eligible persons aged >= 65 years",
         "DataValueUnit": "cases per 1,000",
         "DataValueType": "Age-adjusted Rate",
         "DataValue": 108.47,
         "DataValueAlt": 108.47,
         "DatavalueFootnote": "nan",
         "StratificationCategory1": "Race/Ethnicity",
         "Stratification1": "White, non-Hispanic",
         "LocationID": 1,
         "TopicID": "COPD",
         "QuestionID": "COPD5_4",
         "DataValueTypeID": "AGEADJRATE",
         "StratificationCategoryID1": "RACE",
         "StratificationID1": "WHT",
         "year": 2011,
         "ds_pm_pred": 10.80122384603192,
         "_deepnote_index_column": 94
        },
        {
         "Question": "Hospitalization for chronic obstructive pulmonary disease as any diagnosis among Medicare-eligible persons aged >= 65 years",
         "DataValueUnit": "cases per 1,000",
         "DataValueType": "Crude Rate",
         "DataValue": 119.15,
         "DataValueAlt": 119.15,
         "DatavalueFootnote": "nan",
         "StratificationCategory1": "Gender",
         "Stratification1": "Male",
         "LocationID": 1,
         "TopicID": "COPD",
         "QuestionID": "COPD5_4",
         "DataValueTypeID": "CRDRATE",
         "StratificationCategoryID1": "GENDER",
         "StratificationID1": "GENM",
         "year": 2011,
         "ds_pm_pred": 10.80122384603192,
         "_deepnote_index_column": 95
        },
        {
         "Question": "Pneumococcal vaccination among noninstitutionalized adults aged >= 45 years with chronic obstructive pulmonary disease",
         "DataValueUnit": "%",
         "DataValueType": "Crude Prevalence",
         "DataValue": 66.5,
         "DataValueAlt": 66.5,
         "DatavalueFootnote": "nan",
         "StratificationCategory1": "Gender",
         "Stratification1": "Female",
         "LocationID": 1,
         "TopicID": "COPD",
         "QuestionID": "COPD8_0",
         "DataValueTypeID": "CRDPREV",
         "StratificationCategoryID1": "GENDER",
         "StratificationID1": "GENF",
         "year": 2011,
         "ds_pm_pred": 10.80122384603192,
         "_deepnote_index_column": 96
        },
        {
         "Question": "Prevalence of current smoking among adults >= 45 years with diagnosed chronic obstructive pulmonary disease",
         "DataValueUnit": "%",
         "DataValueType": "Crude Prevalence",
         "DataValue": 50.5,
         "DataValueAlt": 50.5,
         "DatavalueFootnote": "nan",
         "StratificationCategory1": "Gender",
         "Stratification1": "Male",
         "LocationID": 1,
         "TopicID": "COPD",
         "QuestionID": "COPD3_0_1",
         "DataValueTypeID": "CRDPREV",
         "StratificationCategoryID1": "GENDER",
         "StratificationID1": "GENM",
         "year": 2011,
         "ds_pm_pred": 10.80122384603192,
         "_deepnote_index_column": 97
        },
        {
         "Question": "Prevalence of current smoking among adults >= 45 years with diagnosed chronic obstructive pulmonary disease",
         "DataValueUnit": "%",
         "DataValueType": "Age-adjusted Prevalence",
         "DataValue": 45.1,
         "DataValueAlt": 45.1,
         "DatavalueFootnote": "nan",
         "StratificationCategory1": "Gender",
         "Stratification1": "Female",
         "LocationID": 1,
         "TopicID": "COPD",
         "QuestionID": "COPD3_0_1",
         "DataValueTypeID": "AGEADJPREV",
         "StratificationCategoryID1": "GENDER",
         "StratificationID1": "GENF",
         "year": 2011,
         "ds_pm_pred": 10.80122384603192,
         "_deepnote_index_column": 98
        },
        {
         "Question": "Prevalence of chronic obstructive pulmonary disease among adults >= 18",
         "DataValueUnit": "%",
         "DataValueType": "Age-adjusted Prevalence",
         "DataValue": 10.3,
         "DataValueAlt": 10.3,
         "DatavalueFootnote": "nan",
         "StratificationCategory1": "Gender",
         "Stratification1": "Female",
         "LocationID": 1,
         "TopicID": "COPD",
         "QuestionID": "COPD2_0",
         "DataValueTypeID": "AGEADJPREV",
         "StratificationCategoryID1": "GENDER",
         "StratificationID1": "GENF",
         "year": 2011,
         "ds_pm_pred": 10.80122384603192,
         "_deepnote_index_column": 101
        },
        {
         "Question": "Prevalence of current smoking among adults >= 18 with diagnosed chronic obstructive pulmonary disease",
         "DataValueUnit": "%",
         "DataValueType": "Age-adjusted Prevalence",
         "DataValue": 46.2,
         "DataValueAlt": 46.2,
         "DatavalueFootnote": "nan",
         "StratificationCategory1": "Gender",
         "Stratification1": "Female",
         "LocationID": 1,
         "TopicID": "COPD",
         "QuestionID": "COPD3_0",
         "DataValueTypeID": "AGEADJPREV",
         "StratificationCategoryID1": "GENDER",
         "StratificationID1": "GENF",
         "year": 2011,
         "ds_pm_pred": 10.80122384603192,
         "_deepnote_index_column": 103
        },
        {
         "Question": "Prevalence of chronic obstructive pulmonary disease among adults >= 18",
         "DataValueUnit": "%",
         "DataValueType": "Age-adjusted Prevalence",
         "DataValue": 8.1,
         "DataValueAlt": 8.1,
         "DatavalueFootnote": "nan",
         "StratificationCategory1": "Gender",
         "Stratification1": "Male",
         "LocationID": 1,
         "TopicID": "COPD",
         "QuestionID": "COPD2_0",
         "DataValueTypeID": "AGEADJPREV",
         "StratificationCategoryID1": "GENDER",
         "StratificationID1": "GENM",
         "year": 2011,
         "ds_pm_pred": 10.80122384603192,
         "_deepnote_index_column": 107
        }
       ]
      },
      "text/plain": "                                                Question      DataValueUnit  \\\n0      Mortality with chronic obstructive pulmonary d...  cases per 100,000   \n2      Hospitalization for chronic obstructive pulmon...    cases per 1,000   \n5      Hospitalization for chronic obstructive pulmon...    cases per 1,000   \n8      Hospitalization for chronic obstructive pulmon...    cases per 1,000   \n9      Mortality with chronic obstructive pulmonary d...  cases per 100,000   \n...                                                  ...                ...   \n50534  Prevalence of current smoking among adults >= ...                  %   \n50535  Prevalence of activity limitation among adults...                  %   \n50536  Influenza vaccination among noninstitutionaliz...                  %   \n50537  Prevalence of chronic obstructive pulmonary di...                  %   \n50539  Prevalence of chronic obstructive pulmonary di...                  %   \n\n                 DataValueType  DataValue  DataValueAlt DatavalueFootnote  \\\n0                   Crude Rate     172.40        172.40               NaN   \n2                   Crude Rate      18.99         18.99               NaN   \n5            Age-adjusted Rate      90.31         90.31               NaN   \n8                   Crude Rate      14.33         14.33               NaN   \n9            Age-adjusted Rate     193.50        193.50               NaN   \n...                        ...        ...           ...               ...   \n50534  Age-adjusted Prevalence      41.20         41.20               NaN   \n50535  Age-adjusted Prevalence      58.40         58.40               NaN   \n50536         Crude Prevalence      62.50         62.50               NaN   \n50537  Age-adjusted Prevalence       6.80          6.80               NaN   \n50539  Age-adjusted Prevalence       9.40          9.40               NaN   \n\n      StratificationCategory1      Stratification1  LocationID TopicID  \\\n0              Race/Ethnicity  White, non-Hispanic           1    COPD   \n2              Race/Ethnicity  White, non-Hispanic           1    COPD   \n5              Race/Ethnicity  Black, non-Hispanic           1    COPD   \n8              Race/Ethnicity  Black, non-Hispanic           1    COPD   \n9                      Gender                 Male           1    COPD   \n...                       ...                  ...         ...     ...   \n50534                  Gender                 Male          56    COPD   \n50535                  Gender               Female          56    COPD   \n50536                  Gender                 Male          56    COPD   \n50537                 Overall              Overall          56    COPD   \n50539                  Gender               Female          56    COPD   \n\n      QuestionID DataValueTypeID StratificationCategoryID1 StratificationID1  \\\n0        COPD1_1         CRDRATE                      RACE               WHT   \n2        COPD5_3         CRDRATE                      RACE               WHT   \n5        COPD5_4      AGEADJRATE                      RACE               BLK   \n8        COPD5_3         CRDRATE                      RACE               BLK   \n9        COPD1_1      AGEADJRATE                    GENDER              GENM   \n...          ...             ...                       ...               ...   \n50534    COPD3_0      AGEADJPREV                    GENDER              GENM   \n50535  COPD4_0_1      AGEADJPREV                    GENDER              GENF   \n50536    COPD7_0         CRDPREV                    GENDER              GENM   \n50537    COPD2_0      AGEADJPREV                   OVERALL               OVR   \n50539  COPD2_0_1      AGEADJPREV                    GENDER              GENF   \n\n         year  ds_pm_pred  \n0      2011.0   10.801224  \n2      2011.0   10.801224  \n5      2011.0   10.801224  \n8      2011.0   10.801224  \n9      2011.0   10.801224  \n...       ...         ...  \n50534  2012.0    5.019771  \n50535  2012.0    5.019771  \n50536  2012.0    5.019771  \n50537  2012.0    5.019771  \n50539  2012.0    5.019771  \n\n[27160 rows x 16 columns]",
      "text/html": "<div>\n<style scoped>\n    .dataframe tbody tr th:only-of-type {\n        vertical-align: middle;\n    }\n\n    .dataframe tbody tr th {\n        vertical-align: top;\n    }\n\n    .dataframe thead th {\n        text-align: right;\n    }\n</style>\n<table border=\"1\" class=\"dataframe\">\n  <thead>\n    <tr style=\"text-align: right;\">\n      <th></th>\n      <th>Question</th>\n      <th>DataValueUnit</th>\n      <th>DataValueType</th>\n      <th>DataValue</th>\n      <th>DataValueAlt</th>\n      <th>DatavalueFootnote</th>\n      <th>StratificationCategory1</th>\n      <th>Stratification1</th>\n      <th>LocationID</th>\n      <th>TopicID</th>\n      <th>QuestionID</th>\n      <th>DataValueTypeID</th>\n      <th>StratificationCategoryID1</th>\n      <th>StratificationID1</th>\n      <th>year</th>\n      <th>ds_pm_pred</th>\n    </tr>\n  </thead>\n  <tbody>\n    <tr>\n      <th>0</th>\n      <td>Mortality with chronic obstructive pulmonary d...</td>\n      <td>cases per 100,000</td>\n      <td>Crude Rate</td>\n      <td>172.40</td>\n      <td>172.40</td>\n      <td>NaN</td>\n      <td>Race/Ethnicity</td>\n      <td>White, non-Hispanic</td>\n      <td>1</td>\n      <td>COPD</td>\n      <td>COPD1_1</td>\n      <td>CRDRATE</td>\n      <td>RACE</td>\n      <td>WHT</td>\n      <td>2011.0</td>\n      <td>10.801224</td>\n    </tr>\n    <tr>\n      <th>2</th>\n      <td>Hospitalization for chronic obstructive pulmon...</td>\n      <td>cases per 1,000</td>\n      <td>Crude Rate</td>\n      <td>18.99</td>\n      <td>18.99</td>\n      <td>NaN</td>\n      <td>Race/Ethnicity</td>\n      <td>White, non-Hispanic</td>\n      <td>1</td>\n      <td>COPD</td>\n      <td>COPD5_3</td>\n      <td>CRDRATE</td>\n      <td>RACE</td>\n      <td>WHT</td>\n      <td>2011.0</td>\n      <td>10.801224</td>\n    </tr>\n    <tr>\n      <th>5</th>\n      <td>Hospitalization for chronic obstructive pulmon...</td>\n      <td>cases per 1,000</td>\n      <td>Age-adjusted Rate</td>\n      <td>90.31</td>\n      <td>90.31</td>\n      <td>NaN</td>\n      <td>Race/Ethnicity</td>\n      <td>Black, non-Hispanic</td>\n      <td>1</td>\n      <td>COPD</td>\n      <td>COPD5_4</td>\n      <td>AGEADJRATE</td>\n      <td>RACE</td>\n      <td>BLK</td>\n      <td>2011.0</td>\n      <td>10.801224</td>\n    </tr>\n    <tr>\n      <th>8</th>\n      <td>Hospitalization for chronic obstructive pulmon...</td>\n      <td>cases per 1,000</td>\n      <td>Crude Rate</td>\n      <td>14.33</td>\n      <td>14.33</td>\n      <td>NaN</td>\n      <td>Race/Ethnicity</td>\n      <td>Black, non-Hispanic</td>\n      <td>1</td>\n      <td>COPD</td>\n      <td>COPD5_3</td>\n      <td>CRDRATE</td>\n      <td>RACE</td>\n      <td>BLK</td>\n      <td>2011.0</td>\n      <td>10.801224</td>\n    </tr>\n    <tr>\n      <th>9</th>\n      <td>Mortality with chronic obstructive pulmonary d...</td>\n      <td>cases per 100,000</td>\n      <td>Age-adjusted Rate</td>\n      <td>193.50</td>\n      <td>193.50</td>\n      <td>NaN</td>\n      <td>Gender</td>\n      <td>Male</td>\n      <td>1</td>\n      <td>COPD</td>\n      <td>COPD1_1</td>\n      <td>AGEADJRATE</td>\n      <td>GENDER</td>\n      <td>GENM</td>\n      <td>2011.0</td>\n      <td>10.801224</td>\n    </tr>\n    <tr>\n      <th>...</th>\n      <td>...</td>\n      <td>...</td>\n      <td>...</td>\n      <td>...</td>\n      <td>...</td>\n      <td>...</td>\n      <td>...</td>\n      <td>...</td>\n      <td>...</td>\n      <td>...</td>\n      <td>...</td>\n      <td>...</td>\n      <td>...</td>\n      <td>...</td>\n      <td>...</td>\n      <td>...</td>\n    </tr>\n    <tr>\n      <th>50534</th>\n      <td>Prevalence of current smoking among adults &gt;= ...</td>\n      <td>%</td>\n      <td>Age-adjusted Prevalence</td>\n      <td>41.20</td>\n      <td>41.20</td>\n      <td>NaN</td>\n      <td>Gender</td>\n      <td>Male</td>\n      <td>56</td>\n      <td>COPD</td>\n      <td>COPD3_0</td>\n      <td>AGEADJPREV</td>\n      <td>GENDER</td>\n      <td>GENM</td>\n      <td>2012.0</td>\n      <td>5.019771</td>\n    </tr>\n    <tr>\n      <th>50535</th>\n      <td>Prevalence of activity limitation among adults...</td>\n      <td>%</td>\n      <td>Age-adjusted Prevalence</td>\n      <td>58.40</td>\n      <td>58.40</td>\n      <td>NaN</td>\n      <td>Gender</td>\n      <td>Female</td>\n      <td>56</td>\n      <td>COPD</td>\n      <td>COPD4_0_1</td>\n      <td>AGEADJPREV</td>\n      <td>GENDER</td>\n      <td>GENF</td>\n      <td>2012.0</td>\n      <td>5.019771</td>\n    </tr>\n    <tr>\n      <th>50536</th>\n      <td>Influenza vaccination among noninstitutionaliz...</td>\n      <td>%</td>\n      <td>Crude Prevalence</td>\n      <td>62.50</td>\n      <td>62.50</td>\n      <td>NaN</td>\n      <td>Gender</td>\n      <td>Male</td>\n      <td>56</td>\n      <td>COPD</td>\n      <td>COPD7_0</td>\n      <td>CRDPREV</td>\n      <td>GENDER</td>\n      <td>GENM</td>\n      <td>2012.0</td>\n      <td>5.019771</td>\n    </tr>\n    <tr>\n      <th>50537</th>\n      <td>Prevalence of chronic obstructive pulmonary di...</td>\n      <td>%</td>\n      <td>Age-adjusted Prevalence</td>\n      <td>6.80</td>\n      <td>6.80</td>\n      <td>NaN</td>\n      <td>Overall</td>\n      <td>Overall</td>\n      <td>56</td>\n      <td>COPD</td>\n      <td>COPD2_0</td>\n      <td>AGEADJPREV</td>\n      <td>OVERALL</td>\n      <td>OVR</td>\n      <td>2012.0</td>\n      <td>5.019771</td>\n    </tr>\n    <tr>\n      <th>50539</th>\n      <td>Prevalence of chronic obstructive pulmonary di...</td>\n      <td>%</td>\n      <td>Age-adjusted Prevalence</td>\n      <td>9.40</td>\n      <td>9.40</td>\n      <td>NaN</td>\n      <td>Gender</td>\n      <td>Female</td>\n      <td>56</td>\n      <td>COPD</td>\n      <td>COPD2_0_1</td>\n      <td>AGEADJPREV</td>\n      <td>GENDER</td>\n      <td>GENF</td>\n      <td>2012.0</td>\n      <td>5.019771</td>\n    </tr>\n  </tbody>\n</table>\n<p>27160 rows × 16 columns</p>\n</div>"
     },
     "metadata": {}
    }
   ]
  },
  {
   "cell_type": "code",
   "metadata": {
    "cell_id": "fcd0998d501540ca8a1f92cbe552ff91",
    "tags": [],
    "deepnote_app_coordinates": {
     "x": 0,
     "y": 0,
     "w": 12,
     "h": 5
    },
    "deepnote_to_be_reexecuted": false,
    "source_hash": "b6b31e98",
    "execution_start": 1652130562089,
    "execution_millis": 251,
    "deepnote_cell_type": "code",
    "deepnote_cell_height": 726
   },
   "source": "#adding treatment vals and encoding race and reason\nCOPD_PM25_merge[\"treatment\"] = np.where(COPD_PM25_merge[\"ds_pm_pred\"] < 10, False, True)\n\nrace_vals = dict(zip(COPD_PM25_merge['StratificationID1'].unique(), np.arange(0, len(COPD_PM25_merge['StratificationID1'].unique()))))\nquestion_code_vals = dict(zip(merged_df['Question'].unique(), np.arange(0, len(merged_df['Question'].unique()))))\nCOPD_PM25_merge[\"RaceID\"] = COPD_PM25_merge['StratificationID1'].map(race_vals) \nCOPD_PM25_merge['reasonID'] = COPD_PM25_merge[\"Question\"].map(question_code_vals)\nCOPD_PM25_merge",
   "execution_count": 32,
   "outputs": [
    {
     "output_type": "execute_result",
     "execution_count": 32,
     "data": {
      "application/vnd.deepnote.dataframe.v3+json": {
       "column_count": 19,
       "row_count": 27160,
       "columns": [
        {
         "name": "Question",
         "dtype": "object",
         "stats": {
          "unique_count": 16,
          "nan_count": 0,
          "categories": [
           {
            "name": "Hospitalization for chronic obstructive pulmonary disease as any diagnosis among Medicare-eligible persons aged >= 65 years",
            "count": 2874
           },
           {
            "name": "Mortality with chronic obstructive pulmonary disease as underlying or contributing cause among adults aged >= 45 years",
            "count": 2396
           },
           {
            "name": "14 others",
            "count": 21890
           }
          ]
         }
        },
        {
         "name": "DataValueUnit",
         "dtype": "object",
         "stats": {
          "unique_count": 4,
          "nan_count": 0,
          "categories": [
           {
            "name": "%",
            "count": 15348
           },
           {
            "name": "cases per 1,000",
            "count": 5206
           },
           {
            "name": "2 others",
            "count": 6606
           }
          ]
         }
        },
        {
         "name": "DataValueType",
         "dtype": "object",
         "stats": {
          "unique_count": 4,
          "nan_count": 0,
          "categories": [
           {
            "name": "Age-adjusted Prevalence",
            "count": 7733
           },
           {
            "name": "Crude Prevalence",
            "count": 7615
           },
           {
            "name": "2 others",
            "count": 11812
           }
          ]
         }
        },
        {
         "name": "DataValue",
         "dtype": "float64"
        },
        {
         "name": "DataValueAlt",
         "dtype": "float64"
        },
        {
         "name": "DatavalueFootnote",
         "dtype": "object"
        },
        {
         "name": "StratificationCategory1",
         "dtype": "object"
        },
        {
         "name": "Stratification1",
         "dtype": "object"
        },
        {
         "name": "LocationID",
         "dtype": "int64"
        },
        {
         "name": "TopicID",
         "dtype": "object"
        },
        {
         "name": "QuestionID",
         "dtype": "object"
        },
        {
         "name": "DataValueTypeID",
         "dtype": "object"
        },
        {
         "name": "StratificationCategoryID1",
         "dtype": "object"
        },
        {
         "name": "StratificationID1",
         "dtype": "object"
        },
        {
         "name": "year",
         "dtype": "float64"
        },
        {
         "name": "ds_pm_pred",
         "dtype": "float64"
        },
        {
         "name": "treatment",
         "dtype": "bool"
        },
        {
         "name": "RaceID",
         "dtype": "int64"
        },
        {
         "name": "reasonID",
         "dtype": "float64"
        },
        {
         "name": "_deepnote_index_column",
         "dtype": "int64"
        }
       ],
       "rows": [
        {
         "Question": "Mortality with chronic obstructive pulmonary disease as underlying cause among adults aged >= 45 years",
         "DataValueUnit": "cases per 100,000",
         "DataValueType": "Crude Rate",
         "DataValue": 172.4,
         "DataValueAlt": 172.4,
         "DatavalueFootnote": "nan",
         "StratificationCategory1": "Race/Ethnicity",
         "Stratification1": "White, non-Hispanic",
         "LocationID": 1,
         "TopicID": "COPD",
         "QuestionID": "COPD1_1",
         "DataValueTypeID": "CRDRATE",
         "StratificationCategoryID1": "RACE",
         "StratificationID1": "WHT",
         "year": 2011,
         "ds_pm_pred": 10.80122384603192,
         "treatment": true,
         "RaceID": 0,
         "reasonID": 2,
         "_deepnote_index_column": 0
        },
        {
         "Question": "Hospitalization for chronic obstructive pulmonary disease as first-listed diagnosis among Medicare-eligible persons aged >= 65 years",
         "DataValueUnit": "cases per 1,000",
         "DataValueType": "Crude Rate",
         "DataValue": 18.99,
         "DataValueAlt": 18.99,
         "DatavalueFootnote": "nan",
         "StratificationCategory1": "Race/Ethnicity",
         "Stratification1": "White, non-Hispanic",
         "LocationID": 1,
         "TopicID": "COPD",
         "QuestionID": "COPD5_3",
         "DataValueTypeID": "CRDRATE",
         "StratificationCategoryID1": "RACE",
         "StratificationID1": "WHT",
         "year": 2011,
         "ds_pm_pred": 10.80122384603192,
         "treatment": true,
         "RaceID": 0,
         "reasonID": 1,
         "_deepnote_index_column": 2
        },
        {
         "Question": "Hospitalization for chronic obstructive pulmonary disease as any diagnosis among Medicare-eligible persons aged >= 65 years",
         "DataValueUnit": "cases per 1,000",
         "DataValueType": "Age-adjusted Rate",
         "DataValue": 90.31,
         "DataValueAlt": 90.31,
         "DatavalueFootnote": "nan",
         "StratificationCategory1": "Race/Ethnicity",
         "Stratification1": "Black, non-Hispanic",
         "LocationID": 1,
         "TopicID": "COPD",
         "QuestionID": "COPD5_4",
         "DataValueTypeID": "AGEADJRATE",
         "StratificationCategoryID1": "RACE",
         "StratificationID1": "BLK",
         "year": 2011,
         "ds_pm_pred": 10.80122384603192,
         "treatment": true,
         "RaceID": 1,
         "reasonID": 0,
         "_deepnote_index_column": 5
        },
        {
         "Question": "Hospitalization for chronic obstructive pulmonary disease as first-listed diagnosis among Medicare-eligible persons aged >= 65 years",
         "DataValueUnit": "cases per 1,000",
         "DataValueType": "Crude Rate",
         "DataValue": 14.33,
         "DataValueAlt": 14.33,
         "DatavalueFootnote": "nan",
         "StratificationCategory1": "Race/Ethnicity",
         "Stratification1": "Black, non-Hispanic",
         "LocationID": 1,
         "TopicID": "COPD",
         "QuestionID": "COPD5_3",
         "DataValueTypeID": "CRDRATE",
         "StratificationCategoryID1": "RACE",
         "StratificationID1": "BLK",
         "year": 2011,
         "ds_pm_pred": 10.80122384603192,
         "treatment": true,
         "RaceID": 1,
         "reasonID": 1,
         "_deepnote_index_column": 8
        },
        {
         "Question": "Mortality with chronic obstructive pulmonary disease as underlying cause among adults aged >= 45 years",
         "DataValueUnit": "cases per 100,000",
         "DataValueType": "Age-adjusted Rate",
         "DataValue": 193.5,
         "DataValueAlt": 193.5,
         "DatavalueFootnote": "nan",
         "StratificationCategory1": "Gender",
         "Stratification1": "Male",
         "LocationID": 1,
         "TopicID": "COPD",
         "QuestionID": "COPD1_1",
         "DataValueTypeID": "AGEADJRATE",
         "StratificationCategoryID1": "GENDER",
         "StratificationID1": "GENM",
         "year": 2011,
         "ds_pm_pred": 10.80122384603192,
         "treatment": true,
         "RaceID": 2,
         "reasonID": 2,
         "_deepnote_index_column": 9
        },
        {
         "Question": "Hospitalization for chronic obstructive pulmonary disease as any diagnosis among Medicare-eligible persons aged >= 65 years",
         "DataValueUnit": "cases per 1,000",
         "DataValueType": "Age-adjusted Rate",
         "DataValue": 124.24,
         "DataValueAlt": 124.24,
         "DatavalueFootnote": "nan",
         "StratificationCategory1": "Gender",
         "Stratification1": "Male",
         "LocationID": 1,
         "TopicID": "COPD",
         "QuestionID": "COPD5_4",
         "DataValueTypeID": "AGEADJRATE",
         "StratificationCategoryID1": "GENDER",
         "StratificationID1": "GENM",
         "year": 2011,
         "ds_pm_pred": 10.80122384603192,
         "treatment": true,
         "RaceID": 2,
         "reasonID": 0,
         "_deepnote_index_column": 13
        },
        {
         "Question": "Hospitalization for chronic obstructive pulmonary disease as first-listed diagnosis among Medicare-eligible persons aged >= 65 years",
         "DataValueUnit": "cases per 1,000",
         "DataValueType": "Crude Rate",
         "DataValue": 19.03,
         "DataValueAlt": 19.03,
         "DatavalueFootnote": "nan",
         "StratificationCategory1": "Gender",
         "Stratification1": "Male",
         "LocationID": 1,
         "TopicID": "COPD",
         "QuestionID": "COPD5_3",
         "DataValueTypeID": "CRDRATE",
         "StratificationCategoryID1": "GENDER",
         "StratificationID1": "GENM",
         "year": 2011,
         "ds_pm_pred": 10.80122384603192,
         "treatment": true,
         "RaceID": 2,
         "reasonID": 1,
         "_deepnote_index_column": 16
        },
        {
         "Question": "Mortality with chronic obstructive pulmonary disease as underlying or contributing cause among adults aged >= 45 years",
         "DataValueUnit": "cases per 100,000",
         "DataValueType": "Crude Rate",
         "DataValue": 248,
         "DataValueAlt": 248,
         "DatavalueFootnote": "nan",
         "StratificationCategory1": "Overall",
         "Stratification1": "Overall",
         "LocationID": 1,
         "TopicID": "COPD",
         "QuestionID": "COPD1_2",
         "DataValueTypeID": "CRDRATE",
         "StratificationCategoryID1": "OVERALL",
         "StratificationID1": "OVR",
         "year": 2011,
         "ds_pm_pred": 10.80122384603192,
         "treatment": true,
         "RaceID": 3,
         "reasonID": 3,
         "_deepnote_index_column": 17
        },
        {
         "Question": "Mortality with chronic obstructive pulmonary disease as underlying cause among adults aged >= 45 years",
         "DataValueUnit": "cases per 100,000",
         "DataValueType": "Crude Rate",
         "DataValue": 157.7,
         "DataValueAlt": 157.7,
         "DatavalueFootnote": "nan",
         "StratificationCategory1": "Gender",
         "Stratification1": "Male",
         "LocationID": 1,
         "TopicID": "COPD",
         "QuestionID": "COPD1_1",
         "DataValueTypeID": "CRDRATE",
         "StratificationCategoryID1": "GENDER",
         "StratificationID1": "GENM",
         "year": 2011,
         "ds_pm_pred": 10.80122384603192,
         "treatment": true,
         "RaceID": 2,
         "reasonID": 2,
         "_deepnote_index_column": 18
        },
        {
         "Question": "Hospitalization for chronic obstructive pulmonary disease as first-listed diagnosis among Medicare-eligible persons aged >= 65 years",
         "DataValueUnit": "cases per 1,000",
         "DataValueType": "Age-adjusted Rate",
         "DataValue": 19.13,
         "DataValueAlt": 19.13,
         "DatavalueFootnote": "nan",
         "StratificationCategory1": "Race/Ethnicity",
         "Stratification1": "White, non-Hispanic",
         "LocationID": 1,
         "TopicID": "COPD",
         "QuestionID": "COPD5_3",
         "DataValueTypeID": "AGEADJRATE",
         "StratificationCategoryID1": "RACE",
         "StratificationID1": "WHT",
         "year": 2011,
         "ds_pm_pred": 10.80122384603192,
         "treatment": true,
         "RaceID": 0,
         "reasonID": 1,
         "_deepnote_index_column": 19
        }
       ]
      },
      "text/plain": "                                                Question      DataValueUnit  \\\n0      Mortality with chronic obstructive pulmonary d...  cases per 100,000   \n2      Hospitalization for chronic obstructive pulmon...    cases per 1,000   \n5      Hospitalization for chronic obstructive pulmon...    cases per 1,000   \n8      Hospitalization for chronic obstructive pulmon...    cases per 1,000   \n9      Mortality with chronic obstructive pulmonary d...  cases per 100,000   \n...                                                  ...                ...   \n50534  Prevalence of current smoking among adults >= ...                  %   \n50535  Prevalence of activity limitation among adults...                  %   \n50536  Influenza vaccination among noninstitutionaliz...                  %   \n50537  Prevalence of chronic obstructive pulmonary di...                  %   \n50539  Prevalence of chronic obstructive pulmonary di...                  %   \n\n                 DataValueType  DataValue  DataValueAlt DatavalueFootnote  \\\n0                   Crude Rate     172.40        172.40               NaN   \n2                   Crude Rate      18.99         18.99               NaN   \n5            Age-adjusted Rate      90.31         90.31               NaN   \n8                   Crude Rate      14.33         14.33               NaN   \n9            Age-adjusted Rate     193.50        193.50               NaN   \n...                        ...        ...           ...               ...   \n50534  Age-adjusted Prevalence      41.20         41.20               NaN   \n50535  Age-adjusted Prevalence      58.40         58.40               NaN   \n50536         Crude Prevalence      62.50         62.50               NaN   \n50537  Age-adjusted Prevalence       6.80          6.80               NaN   \n50539  Age-adjusted Prevalence       9.40          9.40               NaN   \n\n      StratificationCategory1      Stratification1  LocationID TopicID  \\\n0              Race/Ethnicity  White, non-Hispanic           1    COPD   \n2              Race/Ethnicity  White, non-Hispanic           1    COPD   \n5              Race/Ethnicity  Black, non-Hispanic           1    COPD   \n8              Race/Ethnicity  Black, non-Hispanic           1    COPD   \n9                      Gender                 Male           1    COPD   \n...                       ...                  ...         ...     ...   \n50534                  Gender                 Male          56    COPD   \n50535                  Gender               Female          56    COPD   \n50536                  Gender                 Male          56    COPD   \n50537                 Overall              Overall          56    COPD   \n50539                  Gender               Female          56    COPD   \n\n      QuestionID DataValueTypeID StratificationCategoryID1 StratificationID1  \\\n0        COPD1_1         CRDRATE                      RACE               WHT   \n2        COPD5_3         CRDRATE                      RACE               WHT   \n5        COPD5_4      AGEADJRATE                      RACE               BLK   \n8        COPD5_3         CRDRATE                      RACE               BLK   \n9        COPD1_1      AGEADJRATE                    GENDER              GENM   \n...          ...             ...                       ...               ...   \n50534    COPD3_0      AGEADJPREV                    GENDER              GENM   \n50535  COPD4_0_1      AGEADJPREV                    GENDER              GENF   \n50536    COPD7_0         CRDPREV                    GENDER              GENM   \n50537    COPD2_0      AGEADJPREV                   OVERALL               OVR   \n50539  COPD2_0_1      AGEADJPREV                    GENDER              GENF   \n\n         year  ds_pm_pred  treatment  RaceID  reasonID  \n0      2011.0   10.801224       True       0       2.0  \n2      2011.0   10.801224       True       0       1.0  \n5      2011.0   10.801224       True       1       0.0  \n8      2011.0   10.801224       True       1       1.0  \n9      2011.0   10.801224       True       2       2.0  \n...       ...         ...        ...     ...       ...  \n50534  2012.0    5.019771      False       2       NaN  \n50535  2012.0    5.019771      False       5       NaN  \n50536  2012.0    5.019771      False       2       NaN  \n50537  2012.0    5.019771      False       3       NaN  \n50539  2012.0    5.019771      False       5       NaN  \n\n[27160 rows x 19 columns]",
      "text/html": "<div>\n<style scoped>\n    .dataframe tbody tr th:only-of-type {\n        vertical-align: middle;\n    }\n\n    .dataframe tbody tr th {\n        vertical-align: top;\n    }\n\n    .dataframe thead th {\n        text-align: right;\n    }\n</style>\n<table border=\"1\" class=\"dataframe\">\n  <thead>\n    <tr style=\"text-align: right;\">\n      <th></th>\n      <th>Question</th>\n      <th>DataValueUnit</th>\n      <th>DataValueType</th>\n      <th>DataValue</th>\n      <th>DataValueAlt</th>\n      <th>DatavalueFootnote</th>\n      <th>StratificationCategory1</th>\n      <th>Stratification1</th>\n      <th>LocationID</th>\n      <th>TopicID</th>\n      <th>QuestionID</th>\n      <th>DataValueTypeID</th>\n      <th>StratificationCategoryID1</th>\n      <th>StratificationID1</th>\n      <th>year</th>\n      <th>ds_pm_pred</th>\n      <th>treatment</th>\n      <th>RaceID</th>\n      <th>reasonID</th>\n    </tr>\n  </thead>\n  <tbody>\n    <tr>\n      <th>0</th>\n      <td>Mortality with chronic obstructive pulmonary d...</td>\n      <td>cases per 100,000</td>\n      <td>Crude Rate</td>\n      <td>172.40</td>\n      <td>172.40</td>\n      <td>NaN</td>\n      <td>Race/Ethnicity</td>\n      <td>White, non-Hispanic</td>\n      <td>1</td>\n      <td>COPD</td>\n      <td>COPD1_1</td>\n      <td>CRDRATE</td>\n      <td>RACE</td>\n      <td>WHT</td>\n      <td>2011.0</td>\n      <td>10.801224</td>\n      <td>True</td>\n      <td>0</td>\n      <td>2.0</td>\n    </tr>\n    <tr>\n      <th>2</th>\n      <td>Hospitalization for chronic obstructive pulmon...</td>\n      <td>cases per 1,000</td>\n      <td>Crude Rate</td>\n      <td>18.99</td>\n      <td>18.99</td>\n      <td>NaN</td>\n      <td>Race/Ethnicity</td>\n      <td>White, non-Hispanic</td>\n      <td>1</td>\n      <td>COPD</td>\n      <td>COPD5_3</td>\n      <td>CRDRATE</td>\n      <td>RACE</td>\n      <td>WHT</td>\n      <td>2011.0</td>\n      <td>10.801224</td>\n      <td>True</td>\n      <td>0</td>\n      <td>1.0</td>\n    </tr>\n    <tr>\n      <th>5</th>\n      <td>Hospitalization for chronic obstructive pulmon...</td>\n      <td>cases per 1,000</td>\n      <td>Age-adjusted Rate</td>\n      <td>90.31</td>\n      <td>90.31</td>\n      <td>NaN</td>\n      <td>Race/Ethnicity</td>\n      <td>Black, non-Hispanic</td>\n      <td>1</td>\n      <td>COPD</td>\n      <td>COPD5_4</td>\n      <td>AGEADJRATE</td>\n      <td>RACE</td>\n      <td>BLK</td>\n      <td>2011.0</td>\n      <td>10.801224</td>\n      <td>True</td>\n      <td>1</td>\n      <td>0.0</td>\n    </tr>\n    <tr>\n      <th>8</th>\n      <td>Hospitalization for chronic obstructive pulmon...</td>\n      <td>cases per 1,000</td>\n      <td>Crude Rate</td>\n      <td>14.33</td>\n      <td>14.33</td>\n      <td>NaN</td>\n      <td>Race/Ethnicity</td>\n      <td>Black, non-Hispanic</td>\n      <td>1</td>\n      <td>COPD</td>\n      <td>COPD5_3</td>\n      <td>CRDRATE</td>\n      <td>RACE</td>\n      <td>BLK</td>\n      <td>2011.0</td>\n      <td>10.801224</td>\n      <td>True</td>\n      <td>1</td>\n      <td>1.0</td>\n    </tr>\n    <tr>\n      <th>9</th>\n      <td>Mortality with chronic obstructive pulmonary d...</td>\n      <td>cases per 100,000</td>\n      <td>Age-adjusted Rate</td>\n      <td>193.50</td>\n      <td>193.50</td>\n      <td>NaN</td>\n      <td>Gender</td>\n      <td>Male</td>\n      <td>1</td>\n      <td>COPD</td>\n      <td>COPD1_1</td>\n      <td>AGEADJRATE</td>\n      <td>GENDER</td>\n      <td>GENM</td>\n      <td>2011.0</td>\n      <td>10.801224</td>\n      <td>True</td>\n      <td>2</td>\n      <td>2.0</td>\n    </tr>\n    <tr>\n      <th>...</th>\n      <td>...</td>\n      <td>...</td>\n      <td>...</td>\n      <td>...</td>\n      <td>...</td>\n      <td>...</td>\n      <td>...</td>\n      <td>...</td>\n      <td>...</td>\n      <td>...</td>\n      <td>...</td>\n      <td>...</td>\n      <td>...</td>\n      <td>...</td>\n      <td>...</td>\n      <td>...</td>\n      <td>...</td>\n      <td>...</td>\n      <td>...</td>\n    </tr>\n    <tr>\n      <th>50534</th>\n      <td>Prevalence of current smoking among adults &gt;= ...</td>\n      <td>%</td>\n      <td>Age-adjusted Prevalence</td>\n      <td>41.20</td>\n      <td>41.20</td>\n      <td>NaN</td>\n      <td>Gender</td>\n      <td>Male</td>\n      <td>56</td>\n      <td>COPD</td>\n      <td>COPD3_0</td>\n      <td>AGEADJPREV</td>\n      <td>GENDER</td>\n      <td>GENM</td>\n      <td>2012.0</td>\n      <td>5.019771</td>\n      <td>False</td>\n      <td>2</td>\n      <td>NaN</td>\n    </tr>\n    <tr>\n      <th>50535</th>\n      <td>Prevalence of activity limitation among adults...</td>\n      <td>%</td>\n      <td>Age-adjusted Prevalence</td>\n      <td>58.40</td>\n      <td>58.40</td>\n      <td>NaN</td>\n      <td>Gender</td>\n      <td>Female</td>\n      <td>56</td>\n      <td>COPD</td>\n      <td>COPD4_0_1</td>\n      <td>AGEADJPREV</td>\n      <td>GENDER</td>\n      <td>GENF</td>\n      <td>2012.0</td>\n      <td>5.019771</td>\n      <td>False</td>\n      <td>5</td>\n      <td>NaN</td>\n    </tr>\n    <tr>\n      <th>50536</th>\n      <td>Influenza vaccination among noninstitutionaliz...</td>\n      <td>%</td>\n      <td>Crude Prevalence</td>\n      <td>62.50</td>\n      <td>62.50</td>\n      <td>NaN</td>\n      <td>Gender</td>\n      <td>Male</td>\n      <td>56</td>\n      <td>COPD</td>\n      <td>COPD7_0</td>\n      <td>CRDPREV</td>\n      <td>GENDER</td>\n      <td>GENM</td>\n      <td>2012.0</td>\n      <td>5.019771</td>\n      <td>False</td>\n      <td>2</td>\n      <td>NaN</td>\n    </tr>\n    <tr>\n      <th>50537</th>\n      <td>Prevalence of chronic obstructive pulmonary di...</td>\n      <td>%</td>\n      <td>Age-adjusted Prevalence</td>\n      <td>6.80</td>\n      <td>6.80</td>\n      <td>NaN</td>\n      <td>Overall</td>\n      <td>Overall</td>\n      <td>56</td>\n      <td>COPD</td>\n      <td>COPD2_0</td>\n      <td>AGEADJPREV</td>\n      <td>OVERALL</td>\n      <td>OVR</td>\n      <td>2012.0</td>\n      <td>5.019771</td>\n      <td>False</td>\n      <td>3</td>\n      <td>NaN</td>\n    </tr>\n    <tr>\n      <th>50539</th>\n      <td>Prevalence of chronic obstructive pulmonary di...</td>\n      <td>%</td>\n      <td>Age-adjusted Prevalence</td>\n      <td>9.40</td>\n      <td>9.40</td>\n      <td>NaN</td>\n      <td>Gender</td>\n      <td>Female</td>\n      <td>56</td>\n      <td>COPD</td>\n      <td>COPD2_0_1</td>\n      <td>AGEADJPREV</td>\n      <td>GENDER</td>\n      <td>GENF</td>\n      <td>2012.0</td>\n      <td>5.019771</td>\n      <td>False</td>\n      <td>5</td>\n      <td>NaN</td>\n    </tr>\n  </tbody>\n</table>\n<p>27160 rows × 19 columns</p>\n</div>"
     },
     "metadata": {}
    }
   ]
  },
  {
   "cell_type": "code",
   "metadata": {
    "cell_id": "b5420327ff7a43e9b53b85c6e48c1a72",
    "tags": [],
    "deepnote_app_coordinates": {
     "x": 0,
     "y": 0,
     "w": 12,
     "h": 5
    },
    "deepnote_to_be_reexecuted": false,
    "source_hash": "c5d10ae0",
    "execution_start": 1652130562344,
    "execution_millis": 24,
    "deepnote_cell_type": "code",
    "deepnote_cell_height": 137.390625,
    "deepnote_output_heights": [
     40.390625
    ]
   },
   "source": "COPD_PM25_merge['DataValueUnit'].unique()",
   "execution_count": 33,
   "outputs": [
    {
     "output_type": "execute_result",
     "execution_count": 33,
     "data": {
      "text/plain": "array(['cases per 100,000', 'cases per 1,000', '%', 'cases per 10,000'],\n      dtype=object)"
     },
     "metadata": {}
    }
   ]
  },
  {
   "cell_type": "code",
   "metadata": {
    "cell_id": "9f1d603fefdc4bbab12ee2a691d852e4",
    "tags": [],
    "deepnote_app_coordinates": {
     "x": 0,
     "y": 0,
     "w": 12,
     "h": 5
    },
    "deepnote_to_be_reexecuted": false,
    "source_hash": "2aad0cc5",
    "execution_start": 1652130562370,
    "execution_millis": 1016,
    "deepnote_table_state": {
     "pageSize": 10,
     "pageIndex": 4,
     "filters": [],
     "sortBy": []
    },
    "deepnote_table_loading": false,
    "deepnote_cell_type": "code",
    "deepnote_cell_height": 974.1875
   },
   "source": "#changing all COPD rates to percents where we can\ncases100thou = COPD_PM25_merge.where(COPD_PM25_merge[\"DataValueUnit\"] == 'cases per 100,000')\ncases10thou = COPD_PM25_merge.where(COPD_PM25_merge[\"DataValueUnit\"] == 'cases per 10,000')\ncases1thou = COPD_PM25_merge.where(COPD_PM25_merge[\"DataValueUnit\"] == 'cases per 1,000')\n\npercent100thou = cases100thou['DataValue'] / 100000 * 100\npercent10thou = cases10thou['DataValue'] / 10000 * 100\npercent1thou = cases1thou['DataValue'] / 1000 * 100\n\ncases100thou['PercentRateCOPD'] = percent100thou\ncases10thou['PercentRateCOPD'] = percent10thou\ncases1thou['PercentRateCOPD'] = percent10thou\n\ncases100thou = cases100thou[cases100thou['DataValue'].notnull()]\ncases10thou = cases10thou[cases10thou['DataValue'].notnull()]\ncases1thou = cases100thou[cases1thou['DataValue'].notnull()]\n\nadjusted_combined = pd.concat([cases100thou, cases10thou, cases1thou])\nadjusted_combined",
   "execution_count": 34,
   "outputs": [
    {
     "name": "stderr",
     "text": "/shared-libs/python3.7/py-core/lib/python3.7/site-packages/ipykernel_launcher.py:17: UserWarning: Boolean Series key will be reindexed to match DataFrame index.\n",
     "output_type": "stream"
    },
    {
     "output_type": "execute_result",
     "execution_count": 34,
     "data": {
      "application/vnd.deepnote.dataframe.v3+json": {
       "column_count": 20,
       "row_count": 6606,
       "columns": [
        {
         "name": "Question",
         "dtype": "object",
         "stats": {
          "unique_count": 6,
          "nan_count": 0,
          "categories": [
           {
            "name": "Mortality with chronic obstructive pulmonary disease as underlying or contributing cause among adults aged >= 45 years",
            "count": 2396
           },
           {
            "name": "Mortality with chronic obstructive pulmonary disease as underlying cause among adults aged >= 45 years",
            "count": 2140
           },
           {
            "name": "4 others",
            "count": 2070
           }
          ]
         }
        },
        {
         "name": "DataValueUnit",
         "dtype": "object",
         "stats": {
          "unique_count": 2,
          "nan_count": 0,
          "categories": [
           {
            "name": "cases per 100,000",
            "count": 4536
           },
           {
            "name": "cases per 10,000",
            "count": 2070
           }
          ]
         }
        },
        {
         "name": "DataValueType",
         "dtype": "object",
         "stats": {
          "unique_count": 2,
          "nan_count": 0,
          "categories": [
           {
            "name": "Crude Rate",
            "count": 3303
           },
           {
            "name": "Age-adjusted Rate",
            "count": 3303
           }
          ]
         }
        },
        {
         "name": "DataValue",
         "dtype": "float64",
         "stats": {
          "unique_count": 4283,
          "nan_count": 0,
          "min": "3.73",
          "max": "1429.88",
          "histogram": [
           {
            "bin_start": 3.73,
            "bin_end": 146.345,
            "count": 3396
           },
           {
            "bin_start": 146.345,
            "bin_end": 288.96000000000004,
            "count": 2265
           },
           {
            "bin_start": 288.96000000000004,
            "bin_end": 431.57500000000005,
            "count": 686
           },
           {
            "bin_start": 431.57500000000005,
            "bin_end": 574.19,
            "count": 148
           },
           {
            "bin_start": 574.19,
            "bin_end": 716.8050000000001,
            "count": 57
           },
           {
            "bin_start": 716.8050000000001,
            "bin_end": 859.4200000000001,
            "count": 18
           },
           {
            "bin_start": 859.4200000000001,
            "bin_end": 1002.0350000000001,
            "count": 25
           },
           {
            "bin_start": 1002.0350000000001,
            "bin_end": 1144.65,
            "count": 5
           },
           {
            "bin_start": 1144.65,
            "bin_end": 1287.265,
            "count": 3
           },
           {
            "bin_start": 1287.265,
            "bin_end": 1429.88,
            "count": 3
           }
          ]
         }
        },
        {
         "name": "DataValueAlt",
         "dtype": "float64",
         "stats": {
          "unique_count": 4283,
          "nan_count": 0,
          "min": "3.73",
          "max": "1429.88",
          "histogram": [
           {
            "bin_start": 3.73,
            "bin_end": 146.345,
            "count": 3396
           },
           {
            "bin_start": 146.345,
            "bin_end": 288.96000000000004,
            "count": 2265
           },
           {
            "bin_start": 288.96000000000004,
            "bin_end": 431.57500000000005,
            "count": 686
           },
           {
            "bin_start": 431.57500000000005,
            "bin_end": 574.19,
            "count": 148
           },
           {
            "bin_start": 574.19,
            "bin_end": 716.8050000000001,
            "count": 57
           },
           {
            "bin_start": 716.8050000000001,
            "bin_end": 859.4200000000001,
            "count": 18
           },
           {
            "bin_start": 859.4200000000001,
            "bin_end": 1002.0350000000001,
            "count": 25
           },
           {
            "bin_start": 1002.0350000000001,
            "bin_end": 1144.65,
            "count": 5
           },
           {
            "bin_start": 1144.65,
            "bin_end": 1287.265,
            "count": 3
           },
           {
            "bin_start": 1287.265,
            "bin_end": 1429.88,
            "count": 3
           }
          ]
         }
        },
        {
         "name": "DatavalueFootnote",
         "dtype": "object",
         "stats": {
          "unique_count": 0,
          "nan_count": 6606,
          "categories": [
           {
            "name": "Missing",
            "count": 6606
           }
          ]
         }
        },
        {
         "name": "StratificationCategory1",
         "dtype": "object",
         "stats": {
          "unique_count": 3,
          "nan_count": 0,
          "categories": [
           {
            "name": "Race/Ethnicity",
            "count": 3378
           },
           {
            "name": "Gender",
            "count": 2152
           },
           {
            "name": "Overall",
            "count": 1076
           }
          ]
         }
        },
        {
         "name": "Stratification1",
         "dtype": "object",
         "stats": {
          "unique_count": 8,
          "nan_count": 0,
          "categories": [
           {
            "name": "Male",
            "count": 1076
           },
           {
            "name": "Overall",
            "count": 1076
           },
           {
            "name": "6 others",
            "count": 4454
           }
          ]
         }
        },
        {
         "name": "LocationID",
         "dtype": "float64",
         "stats": {
          "unique_count": 49,
          "nan_count": 0,
          "min": "1.0",
          "max": "56.0",
          "histogram": [
           {
            "bin_start": 1,
            "bin_end": 6.5,
            "count": 630
           },
           {
            "bin_start": 6.5,
            "bin_end": 12,
            "count": 446
           },
           {
            "bin_start": 12,
            "bin_end": 17.5,
            "count": 586
           },
           {
            "bin_start": 17.5,
            "bin_end": 23,
            "count": 674
           },
           {
            "bin_start": 23,
            "bin_end": 28.5,
            "count": 720
           },
           {
            "bin_start": 28.5,
            "bin_end": 34,
            "count": 596
           },
           {
            "bin_start": 34,
            "bin_end": 39.5,
            "count": 1016
           },
           {
            "bin_start": 39.5,
            "bin_end": 45,
            "count": 500
           },
           {
            "bin_start": 45,
            "bin_end": 50.5,
            "count": 742
           },
           {
            "bin_start": 50.5,
            "bin_end": 56,
            "count": 696
           }
          ]
         }
        },
        {
         "name": "TopicID",
         "dtype": "object",
         "stats": {
          "unique_count": 1,
          "nan_count": 0,
          "categories": [
           {
            "name": "COPD",
            "count": 6606
           }
          ]
         }
        },
        {
         "name": "QuestionID",
         "dtype": "object",
         "stats": {
          "unique_count": 6,
          "nan_count": 0,
          "categories": [
           {
            "name": "COPD1_2",
            "count": 2396
           },
           {
            "name": "COPD1_1",
            "count": 2140
           },
           {
            "name": "4 others",
            "count": 2070
           }
          ]
         }
        },
        {
         "name": "DataValueTypeID",
         "dtype": "object",
         "stats": {
          "unique_count": 2,
          "nan_count": 0,
          "categories": [
           {
            "name": "CRDRATE",
            "count": 3303
           },
           {
            "name": "AGEADJRATE",
            "count": 3303
           }
          ]
         }
        },
        {
         "name": "StratificationCategoryID1",
         "dtype": "object",
         "stats": {
          "unique_count": 3,
          "nan_count": 0,
          "categories": [
           {
            "name": "RACE",
            "count": 3378
           },
           {
            "name": "GENDER",
            "count": 2152
           },
           {
            "name": "OVERALL",
            "count": 1076
           }
          ]
         }
        },
        {
         "name": "StratificationID1",
         "dtype": "object",
         "stats": {
          "unique_count": 8,
          "nan_count": 0,
          "categories": [
           {
            "name": "GENM",
            "count": 1076
           },
           {
            "name": "OVR",
            "count": 1076
           },
           {
            "name": "6 others",
            "count": 4454
           }
          ]
         }
        },
        {
         "name": "year",
         "dtype": "float64",
         "stats": {
          "unique_count": 4,
          "nan_count": 0,
          "min": "2011.0",
          "max": "2014.0",
          "histogram": [
           {
            "bin_start": 2011,
            "bin_end": 2011.3,
            "count": 1118
           },
           {
            "bin_start": 2011.3,
            "bin_end": 2011.6,
            "count": 0
           },
           {
            "bin_start": 2011.6,
            "bin_end": 2011.9,
            "count": 0
           },
           {
            "bin_start": 2011.9,
            "bin_end": 2012.2,
            "count": 1126
           },
           {
            "bin_start": 2012.2,
            "bin_end": 2012.5,
            "count": 0
           },
           {
            "bin_start": 2012.5,
            "bin_end": 2012.8,
            "count": 0
           },
           {
            "bin_start": 2012.8,
            "bin_end": 2013.1,
            "count": 2054
           },
           {
            "bin_start": 2013.1,
            "bin_end": 2013.4,
            "count": 0
           },
           {
            "bin_start": 2013.4,
            "bin_end": 2013.7,
            "count": 0
           },
           {
            "bin_start": 2013.7,
            "bin_end": 2014,
            "count": 2308
           }
          ]
         }
        },
        {
         "name": "ds_pm_pred",
         "dtype": "float64"
        },
        {
         "name": "treatment",
         "dtype": "float64"
        },
        {
         "name": "RaceID",
         "dtype": "float64"
        },
        {
         "name": "reasonID",
         "dtype": "float64"
        },
        {
         "name": "PercentRateCOPD",
         "dtype": "float64"
        },
        {
         "name": "_deepnote_index_column",
         "dtype": "int64"
        }
       ],
       "rows": [
        {
         "Question": "Mortality with chronic obstructive pulmonary disease as underlying cause among adults aged >= 45 years",
         "DataValueUnit": "cases per 100,000",
         "DataValueType": "Crude Rate",
         "DataValue": 147.3,
         "DataValueAlt": 147.3,
         "DatavalueFootnote": "nan",
         "StratificationCategory1": "Overall",
         "Stratification1": "Overall",
         "LocationID": 1,
         "TopicID": "COPD",
         "QuestionID": "COPD1_1",
         "DataValueTypeID": "CRDRATE",
         "StratificationCategoryID1": "OVERALL",
         "StratificationID1": "OVR",
         "year": 2012,
         "ds_pm_pred": 8.74730579031762,
         "treatment": 0,
         "RaceID": 3,
         "reasonID": 2,
         "PercentRateCOPD": 0.14730000000000001,
         "_deepnote_index_column": 503
        },
        {
         "Question": "Mortality with chronic obstructive pulmonary disease as underlying cause among adults aged >= 45 years",
         "DataValueUnit": "cases per 100,000",
         "DataValueType": "Age-adjusted Rate",
         "DataValue": 131.3,
         "DataValueAlt": 131.3,
         "DatavalueFootnote": "nan",
         "StratificationCategory1": "Gender",
         "Stratification1": "Female",
         "LocationID": 1,
         "TopicID": "COPD",
         "QuestionID": "COPD1_1",
         "DataValueTypeID": "AGEADJRATE",
         "StratificationCategoryID1": "GENDER",
         "StratificationID1": "GENF",
         "year": 2012,
         "ds_pm_pred": 8.74730579031762,
         "treatment": 0,
         "RaceID": 5,
         "reasonID": 2,
         "PercentRateCOPD": 0.13130000000000003,
         "_deepnote_index_column": 514
        },
        {
         "Question": "Mortality with chronic obstructive pulmonary disease as underlying cause among adults aged >= 45 years",
         "DataValueUnit": "cases per 100,000",
         "DataValueType": "Crude Rate",
         "DataValue": 159.5,
         "DataValueAlt": 159.5,
         "DatavalueFootnote": "nan",
         "StratificationCategory1": "Gender",
         "Stratification1": "Male",
         "LocationID": 1,
         "TopicID": "COPD",
         "QuestionID": "COPD1_1",
         "DataValueTypeID": "CRDRATE",
         "StratificationCategoryID1": "GENDER",
         "StratificationID1": "GENM",
         "year": 2012,
         "ds_pm_pred": 8.74730579031762,
         "treatment": 0,
         "RaceID": 2,
         "reasonID": 2,
         "PercentRateCOPD": 0.1595,
         "_deepnote_index_column": 524
        },
        {
         "Question": "Mortality with chronic obstructive pulmonary disease as underlying or contributing cause among adults aged >= 45 years",
         "DataValueUnit": "cases per 100,000",
         "DataValueType": "Age-adjusted Rate",
         "DataValue": 329.6,
         "DataValueAlt": 329.6,
         "DatavalueFootnote": "nan",
         "StratificationCategory1": "Gender",
         "Stratification1": "Male",
         "LocationID": 1,
         "TopicID": "COPD",
         "QuestionID": "COPD1_2",
         "DataValueTypeID": "AGEADJRATE",
         "StratificationCategoryID1": "GENDER",
         "StratificationID1": "GENM",
         "year": 2012,
         "ds_pm_pred": 8.74730579031762,
         "treatment": 0,
         "RaceID": 2,
         "reasonID": 3,
         "PercentRateCOPD": 0.3296,
         "_deepnote_index_column": 532
        },
        {
         "Question": "Mortality with chronic obstructive pulmonary disease as underlying or contributing cause among adults aged >= 45 years",
         "DataValueUnit": "cases per 100,000",
         "DataValueType": "Crude Rate",
         "DataValue": 279.9,
         "DataValueAlt": 279.9,
         "DatavalueFootnote": "nan",
         "StratificationCategory1": "Gender",
         "Stratification1": "Male",
         "LocationID": 1,
         "TopicID": "COPD",
         "QuestionID": "COPD1_2",
         "DataValueTypeID": "CRDRATE",
         "StratificationCategoryID1": "GENDER",
         "StratificationID1": "GENM",
         "year": 2012,
         "ds_pm_pred": 8.74730579031762,
         "treatment": 0,
         "RaceID": 2,
         "reasonID": 3,
         "PercentRateCOPD": 0.2799,
         "_deepnote_index_column": 539
        },
        {
         "Question": "Mortality with chronic obstructive pulmonary disease as underlying or contributing cause among adults aged >= 45 years",
         "DataValueUnit": "cases per 100,000",
         "DataValueType": "Age-adjusted Rate",
         "DataValue": 287.5,
         "DataValueAlt": 287.5,
         "DatavalueFootnote": "nan",
         "StratificationCategory1": "Race/Ethnicity",
         "Stratification1": "White, non-Hispanic",
         "LocationID": 1,
         "TopicID": "COPD",
         "QuestionID": "COPD1_2",
         "DataValueTypeID": "AGEADJRATE",
         "StratificationCategoryID1": "RACE",
         "StratificationID1": "WHT",
         "year": 2012,
         "ds_pm_pred": 8.74730579031762,
         "treatment": 0,
         "RaceID": 0,
         "reasonID": 3,
         "PercentRateCOPD": 0.2875,
         "_deepnote_index_column": 543
        },
        {
         "Question": "Mortality with chronic obstructive pulmonary disease as underlying or contributing cause among adults aged >= 45 years",
         "DataValueUnit": "cases per 100,000",
         "DataValueType": "Age-adjusted Rate",
         "DataValue": 137.3,
         "DataValueAlt": 137.3,
         "DatavalueFootnote": "nan",
         "StratificationCategory1": "Race/Ethnicity",
         "Stratification1": "Black, non-Hispanic",
         "LocationID": 1,
         "TopicID": "COPD",
         "QuestionID": "COPD1_2",
         "DataValueTypeID": "AGEADJRATE",
         "StratificationCategoryID1": "RACE",
         "StratificationID1": "BLK",
         "year": 2012,
         "ds_pm_pred": 8.74730579031762,
         "treatment": 0,
         "RaceID": 1,
         "reasonID": 3,
         "PercentRateCOPD": 0.1373,
         "_deepnote_index_column": 547
        },
        {
         "Question": "Mortality with chronic obstructive pulmonary disease as underlying or contributing cause among adults aged >= 45 years",
         "DataValueUnit": "cases per 100,000",
         "DataValueType": "Age-adjusted Rate",
         "DataValue": 255.2,
         "DataValueAlt": 255.2,
         "DatavalueFootnote": "nan",
         "StratificationCategory1": "Overall",
         "Stratification1": "Overall",
         "LocationID": 1,
         "TopicID": "COPD",
         "QuestionID": "COPD1_2",
         "DataValueTypeID": "AGEADJRATE",
         "StratificationCategoryID1": "OVERALL",
         "StratificationID1": "OVR",
         "year": 2012,
         "ds_pm_pred": 8.74730579031762,
         "treatment": 0,
         "RaceID": 3,
         "reasonID": 3,
         "PercentRateCOPD": 0.2552,
         "_deepnote_index_column": 550
        },
        {
         "Question": "Mortality with chronic obstructive pulmonary disease as underlying or contributing cause among adults aged >= 45 years",
         "DataValueUnit": "cases per 100,000",
         "DataValueType": "Crude Rate",
         "DataValue": 215.4,
         "DataValueAlt": 215.4,
         "DatavalueFootnote": "nan",
         "StratificationCategory1": "Gender",
         "Stratification1": "Female",
         "LocationID": 1,
         "TopicID": "COPD",
         "QuestionID": "COPD1_2",
         "DataValueTypeID": "CRDRATE",
         "StratificationCategoryID1": "GENDER",
         "StratificationID1": "GENF",
         "year": 2012,
         "ds_pm_pred": 8.74730579031762,
         "treatment": 0,
         "RaceID": 5,
         "reasonID": 3,
         "PercentRateCOPD": 0.2154,
         "_deepnote_index_column": 564
        },
        {
         "Question": "Mortality with chronic obstructive pulmonary disease as underlying cause among adults aged >= 45 years",
         "DataValueUnit": "cases per 100,000",
         "DataValueType": "Age-adjusted Rate",
         "DataValue": 68.8,
         "DataValueAlt": 68.8,
         "DatavalueFootnote": "nan",
         "StratificationCategory1": "Race/Ethnicity",
         "Stratification1": "Black, non-Hispanic",
         "LocationID": 1,
         "TopicID": "COPD",
         "QuestionID": "COPD1_1",
         "DataValueTypeID": "AGEADJRATE",
         "StratificationCategoryID1": "RACE",
         "StratificationID1": "BLK",
         "year": 2012,
         "ds_pm_pred": 8.74730579031762,
         "treatment": 0,
         "RaceID": 1,
         "reasonID": 2,
         "PercentRateCOPD": 0.06879999999999999,
         "_deepnote_index_column": 565
        }
       ]
      },
      "text/plain": "                                                Question      DataValueUnit  \\\n0      Mortality with chronic obstructive pulmonary d...  cases per 100,000   \n9      Mortality with chronic obstructive pulmonary d...  cases per 100,000   \n17     Mortality with chronic obstructive pulmonary d...  cases per 100,000   \n18     Mortality with chronic obstructive pulmonary d...  cases per 100,000   \n31     Mortality with chronic obstructive pulmonary d...  cases per 100,000   \n...                                                  ...                ...   \n49150  Hospitalization for chronic obstructive pulmon...   cases per 10,000   \n49167  Hospitalization for chronic obstructive pulmon...   cases per 10,000   \n49170  Hospitalization for chronic obstructive pulmon...   cases per 10,000   \n49178  Hospitalization for chronic obstructive pulmon...   cases per 10,000   \n49179  Hospitalization for chronic obstructive pulmon...   cases per 10,000   \n\n           DataValueType  DataValue  DataValueAlt DatavalueFootnote  \\\n0             Crude Rate     172.40        172.40               NaN   \n9      Age-adjusted Rate     193.50        193.50               NaN   \n17            Crude Rate     248.00        248.00               NaN   \n18            Crude Rate     157.70        157.70               NaN   \n31            Crude Rate     129.20        129.20               NaN   \n...                  ...        ...           ...               ...   \n49150  Age-adjusted Rate      82.94         82.94               NaN   \n49167         Crude Rate     113.12        113.12               NaN   \n49170  Age-adjusted Rate     256.34        256.34               NaN   \n49178         Crude Rate      32.83         32.83               NaN   \n49179  Age-adjusted Rate     539.05        539.05               NaN   \n\n      StratificationCategory1      Stratification1  LocationID TopicID  \\\n0              Race/Ethnicity  White, non-Hispanic         1.0    COPD   \n9                      Gender                 Male         1.0    COPD   \n17                    Overall              Overall         1.0    COPD   \n18                     Gender                 Male         1.0    COPD   \n31             Race/Ethnicity  Black, non-Hispanic         1.0    COPD   \n...                       ...                  ...         ...     ...   \n49150                 Overall              Overall        54.0    COPD   \n49167          Race/Ethnicity             Hispanic        54.0    COPD   \n49170          Race/Ethnicity  Black, non-Hispanic        54.0    COPD   \n49178          Race/Ethnicity  Black, non-Hispanic        54.0    COPD   \n49179                 Overall              Overall        54.0    COPD   \n\n      QuestionID DataValueTypeID StratificationCategoryID1 StratificationID1  \\\n0        COPD1_1         CRDRATE                      RACE               WHT   \n9        COPD1_1      AGEADJRATE                    GENDER              GENM   \n17       COPD1_2         CRDRATE                   OVERALL               OVR   \n18       COPD1_1         CRDRATE                    GENDER              GENM   \n31       COPD1_2         CRDRATE                      RACE               BLK   \n...          ...             ...                       ...               ...   \n49150    COPD5_1      AGEADJRATE                   OVERALL               OVR   \n49167    COPD5_1         CRDRATE                      RACE               HIS   \n49170    COPD5_2      AGEADJRATE                      RACE               BLK   \n49178    COPD5_1         CRDRATE                      RACE               BLK   \n49179    COPD5_2      AGEADJRATE                   OVERALL               OVR   \n\n         year  ds_pm_pred  treatment  RaceID  reasonID  PercentRateCOPD  \n0      2011.0   10.801224        1.0     0.0       2.0           0.1724  \n9      2011.0   10.801224        1.0     2.0       2.0           0.1935  \n17     2011.0   10.801224        1.0     3.0       3.0           0.2480  \n18     2011.0   10.801224        1.0     2.0       2.0           0.1577  \n31     2011.0   10.801224        1.0     1.0       3.0           0.1292  \n...       ...         ...        ...     ...       ...              ...  \n49150  2014.0    8.627988        0.0     3.0       5.0           0.8294  \n49167  2014.0    8.627988        0.0     8.0       5.0           1.1312  \n49170  2014.0    8.627988        0.0     1.0       4.0           2.5634  \n49178  2014.0    8.627988        0.0     1.0       5.0           0.3283  \n49179  2014.0    8.627988        0.0     3.0       4.0           5.3905  \n\n[6606 rows x 20 columns]",
      "text/html": "<div>\n<style scoped>\n    .dataframe tbody tr th:only-of-type {\n        vertical-align: middle;\n    }\n\n    .dataframe tbody tr th {\n        vertical-align: top;\n    }\n\n    .dataframe thead th {\n        text-align: right;\n    }\n</style>\n<table border=\"1\" class=\"dataframe\">\n  <thead>\n    <tr style=\"text-align: right;\">\n      <th></th>\n      <th>Question</th>\n      <th>DataValueUnit</th>\n      <th>DataValueType</th>\n      <th>DataValue</th>\n      <th>DataValueAlt</th>\n      <th>DatavalueFootnote</th>\n      <th>StratificationCategory1</th>\n      <th>Stratification1</th>\n      <th>LocationID</th>\n      <th>TopicID</th>\n      <th>QuestionID</th>\n      <th>DataValueTypeID</th>\n      <th>StratificationCategoryID1</th>\n      <th>StratificationID1</th>\n      <th>year</th>\n      <th>ds_pm_pred</th>\n      <th>treatment</th>\n      <th>RaceID</th>\n      <th>reasonID</th>\n      <th>PercentRateCOPD</th>\n    </tr>\n  </thead>\n  <tbody>\n    <tr>\n      <th>0</th>\n      <td>Mortality with chronic obstructive pulmonary d...</td>\n      <td>cases per 100,000</td>\n      <td>Crude Rate</td>\n      <td>172.40</td>\n      <td>172.40</td>\n      <td>NaN</td>\n      <td>Race/Ethnicity</td>\n      <td>White, non-Hispanic</td>\n      <td>1.0</td>\n      <td>COPD</td>\n      <td>COPD1_1</td>\n      <td>CRDRATE</td>\n      <td>RACE</td>\n      <td>WHT</td>\n      <td>2011.0</td>\n      <td>10.801224</td>\n      <td>1.0</td>\n      <td>0.0</td>\n      <td>2.0</td>\n      <td>0.1724</td>\n    </tr>\n    <tr>\n      <th>9</th>\n      <td>Mortality with chronic obstructive pulmonary d...</td>\n      <td>cases per 100,000</td>\n      <td>Age-adjusted Rate</td>\n      <td>193.50</td>\n      <td>193.50</td>\n      <td>NaN</td>\n      <td>Gender</td>\n      <td>Male</td>\n      <td>1.0</td>\n      <td>COPD</td>\n      <td>COPD1_1</td>\n      <td>AGEADJRATE</td>\n      <td>GENDER</td>\n      <td>GENM</td>\n      <td>2011.0</td>\n      <td>10.801224</td>\n      <td>1.0</td>\n      <td>2.0</td>\n      <td>2.0</td>\n      <td>0.1935</td>\n    </tr>\n    <tr>\n      <th>17</th>\n      <td>Mortality with chronic obstructive pulmonary d...</td>\n      <td>cases per 100,000</td>\n      <td>Crude Rate</td>\n      <td>248.00</td>\n      <td>248.00</td>\n      <td>NaN</td>\n      <td>Overall</td>\n      <td>Overall</td>\n      <td>1.0</td>\n      <td>COPD</td>\n      <td>COPD1_2</td>\n      <td>CRDRATE</td>\n      <td>OVERALL</td>\n      <td>OVR</td>\n      <td>2011.0</td>\n      <td>10.801224</td>\n      <td>1.0</td>\n      <td>3.0</td>\n      <td>3.0</td>\n      <td>0.2480</td>\n    </tr>\n    <tr>\n      <th>18</th>\n      <td>Mortality with chronic obstructive pulmonary d...</td>\n      <td>cases per 100,000</td>\n      <td>Crude Rate</td>\n      <td>157.70</td>\n      <td>157.70</td>\n      <td>NaN</td>\n      <td>Gender</td>\n      <td>Male</td>\n      <td>1.0</td>\n      <td>COPD</td>\n      <td>COPD1_1</td>\n      <td>CRDRATE</td>\n      <td>GENDER</td>\n      <td>GENM</td>\n      <td>2011.0</td>\n      <td>10.801224</td>\n      <td>1.0</td>\n      <td>2.0</td>\n      <td>2.0</td>\n      <td>0.1577</td>\n    </tr>\n    <tr>\n      <th>31</th>\n      <td>Mortality with chronic obstructive pulmonary d...</td>\n      <td>cases per 100,000</td>\n      <td>Crude Rate</td>\n      <td>129.20</td>\n      <td>129.20</td>\n      <td>NaN</td>\n      <td>Race/Ethnicity</td>\n      <td>Black, non-Hispanic</td>\n      <td>1.0</td>\n      <td>COPD</td>\n      <td>COPD1_2</td>\n      <td>CRDRATE</td>\n      <td>RACE</td>\n      <td>BLK</td>\n      <td>2011.0</td>\n      <td>10.801224</td>\n      <td>1.0</td>\n      <td>1.0</td>\n      <td>3.0</td>\n      <td>0.1292</td>\n    </tr>\n    <tr>\n      <th>...</th>\n      <td>...</td>\n      <td>...</td>\n      <td>...</td>\n      <td>...</td>\n      <td>...</td>\n      <td>...</td>\n      <td>...</td>\n      <td>...</td>\n      <td>...</td>\n      <td>...</td>\n      <td>...</td>\n      <td>...</td>\n      <td>...</td>\n      <td>...</td>\n      <td>...</td>\n      <td>...</td>\n      <td>...</td>\n      <td>...</td>\n      <td>...</td>\n      <td>...</td>\n    </tr>\n    <tr>\n      <th>49150</th>\n      <td>Hospitalization for chronic obstructive pulmon...</td>\n      <td>cases per 10,000</td>\n      <td>Age-adjusted Rate</td>\n      <td>82.94</td>\n      <td>82.94</td>\n      <td>NaN</td>\n      <td>Overall</td>\n      <td>Overall</td>\n      <td>54.0</td>\n      <td>COPD</td>\n      <td>COPD5_1</td>\n      <td>AGEADJRATE</td>\n      <td>OVERALL</td>\n      <td>OVR</td>\n      <td>2014.0</td>\n      <td>8.627988</td>\n      <td>0.0</td>\n      <td>3.0</td>\n      <td>5.0</td>\n      <td>0.8294</td>\n    </tr>\n    <tr>\n      <th>49167</th>\n      <td>Hospitalization for chronic obstructive pulmon...</td>\n      <td>cases per 10,000</td>\n      <td>Crude Rate</td>\n      <td>113.12</td>\n      <td>113.12</td>\n      <td>NaN</td>\n      <td>Race/Ethnicity</td>\n      <td>Hispanic</td>\n      <td>54.0</td>\n      <td>COPD</td>\n      <td>COPD5_1</td>\n      <td>CRDRATE</td>\n      <td>RACE</td>\n      <td>HIS</td>\n      <td>2014.0</td>\n      <td>8.627988</td>\n      <td>0.0</td>\n      <td>8.0</td>\n      <td>5.0</td>\n      <td>1.1312</td>\n    </tr>\n    <tr>\n      <th>49170</th>\n      <td>Hospitalization for chronic obstructive pulmon...</td>\n      <td>cases per 10,000</td>\n      <td>Age-adjusted Rate</td>\n      <td>256.34</td>\n      <td>256.34</td>\n      <td>NaN</td>\n      <td>Race/Ethnicity</td>\n      <td>Black, non-Hispanic</td>\n      <td>54.0</td>\n      <td>COPD</td>\n      <td>COPD5_2</td>\n      <td>AGEADJRATE</td>\n      <td>RACE</td>\n      <td>BLK</td>\n      <td>2014.0</td>\n      <td>8.627988</td>\n      <td>0.0</td>\n      <td>1.0</td>\n      <td>4.0</td>\n      <td>2.5634</td>\n    </tr>\n    <tr>\n      <th>49178</th>\n      <td>Hospitalization for chronic obstructive pulmon...</td>\n      <td>cases per 10,000</td>\n      <td>Crude Rate</td>\n      <td>32.83</td>\n      <td>32.83</td>\n      <td>NaN</td>\n      <td>Race/Ethnicity</td>\n      <td>Black, non-Hispanic</td>\n      <td>54.0</td>\n      <td>COPD</td>\n      <td>COPD5_1</td>\n      <td>CRDRATE</td>\n      <td>RACE</td>\n      <td>BLK</td>\n      <td>2014.0</td>\n      <td>8.627988</td>\n      <td>0.0</td>\n      <td>1.0</td>\n      <td>5.0</td>\n      <td>0.3283</td>\n    </tr>\n    <tr>\n      <th>49179</th>\n      <td>Hospitalization for chronic obstructive pulmon...</td>\n      <td>cases per 10,000</td>\n      <td>Age-adjusted Rate</td>\n      <td>539.05</td>\n      <td>539.05</td>\n      <td>NaN</td>\n      <td>Overall</td>\n      <td>Overall</td>\n      <td>54.0</td>\n      <td>COPD</td>\n      <td>COPD5_2</td>\n      <td>AGEADJRATE</td>\n      <td>OVERALL</td>\n      <td>OVR</td>\n      <td>2014.0</td>\n      <td>8.627988</td>\n      <td>0.0</td>\n      <td>3.0</td>\n      <td>4.0</td>\n      <td>5.3905</td>\n    </tr>\n  </tbody>\n</table>\n<p>6606 rows × 20 columns</p>\n</div>"
     },
     "metadata": {}
    }
   ]
  },
  {
   "cell_type": "code",
   "metadata": {
    "cell_id": "4631ef4243954f1ea6149b4d5ba3e855",
    "tags": [],
    "deepnote_app_coordinates": {
     "x": 0,
     "y": 0,
     "w": 12,
     "h": 5
    },
    "deepnote_to_be_reexecuted": false,
    "source_hash": "ff6f1e59",
    "execution_start": 1652130562758,
    "execution_millis": 634,
    "deepnote_cell_type": "code",
    "deepnote_cell_height": 233.359375,
    "deepnote_output_heights": [
     136.359375
    ]
   },
   "source": "adjusted_combined.columns",
   "execution_count": 35,
   "outputs": [
    {
     "output_type": "execute_result",
     "execution_count": 35,
     "data": {
      "text/plain": "Index(['Question', 'DataValueUnit', 'DataValueType', 'DataValue',\n       'DataValueAlt', 'DatavalueFootnote', 'StratificationCategory1',\n       'Stratification1', 'LocationID', 'TopicID', 'QuestionID',\n       'DataValueTypeID', 'StratificationCategoryID1', 'StratificationID1',\n       'year', 'ds_pm_pred', 'treatment', 'RaceID', 'reasonID',\n       'PercentRateCOPD'],\n      dtype='object')"
     },
     "metadata": {}
    }
   ]
  },
  {
   "cell_type": "code",
   "metadata": {
    "cell_id": "3650d352d21c4bb1bee54de0fec537b0",
    "tags": [],
    "deepnote_app_coordinates": {
     "x": 0,
     "y": 0,
     "w": 12,
     "h": 5
    },
    "deepnote_to_be_reexecuted": false,
    "source_hash": "24ef1434",
    "execution_start": 1652130562793,
    "execution_millis": 25,
    "deepnote_cell_type": "code",
    "deepnote_cell_height": 117
   },
   "source": "minimal_data = adjusted_combined.drop(['Question', 'TopicID', \"QuestionID\", 'DataValueUnit', 'DataValueType', 'DataValueAlt', 'DatavalueFootnote', 'StratificationCategory1', 'Stratification1', 'StratificationCategoryID1', 'DataValueTypeID', 'StratificationID1', 'DataValue'], axis = 1)\nminimal_data.columns\nminimal_data[\"row\"] = minimal_data.index",
   "execution_count": 36,
   "outputs": []
  },
  {
   "cell_type": "code",
   "metadata": {
    "cell_id": "e3d4246d16e444b79ce4755043670a27",
    "tags": [],
    "deepnote_app_coordinates": {
     "x": 0,
     "y": 0,
     "w": 12,
     "h": 5
    },
    "deepnote_to_be_reexecuted": false,
    "source_hash": "d532a2c2",
    "execution_start": 1652130562829,
    "execution_millis": 614,
    "deepnote_cell_type": "code",
    "deepnote_cell_height": 719
   },
   "source": "linear_model_adjusted = fit_OLS_model(adjusted_combined, 'PercentRateCOPD', ['ds_pm_pred', 'RaceID', 'LocationID', 'reasonID', 'year'])\nprint(linear_model_adjusted.summary())",
   "execution_count": 37,
   "outputs": [
    {
     "name": "stdout",
     "text": "                                 OLS Regression Results                                \n=======================================================================================\nDep. Variable:        PercentRateCOPD   R-squared (uncentered):                   0.448\nModel:                            OLS   Adj. R-squared (uncentered):              0.448\nMethod:                 Least Squares   F-statistic:                              1072.\nDate:                Mon, 09 May 2022   Prob (F-statistic):                        0.00\nTime:                        21:09:22   Log-Likelihood:                         -10613.\nNo. Observations:                6606   AIC:                                  2.124e+04\nDf Residuals:                    6601   BIC:                                  2.127e+04\nDf Model:                           5                                                  \nCovariance Type:            nonrobust                                                  \n==============================================================================\n                 coef    std err          t      P>|t|      [0.025      0.975]\n------------------------------------------------------------------------------\nds_pm_pred    -0.0214      0.005     -3.970      0.000      -0.032      -0.011\nRaceID        -0.0263      0.006     -4.186      0.000      -0.039      -0.014\nLocationID    -0.0009      0.001     -0.950      0.342      -0.003       0.001\nreasonID       0.5311      0.010     52.336      0.000       0.511       0.551\nyear          -0.0004   3.46e-05    -10.272      0.000      -0.000      -0.000\n==============================================================================\nOmnibus:                     4495.534   Durbin-Watson:                   1.863\nProb(Omnibus):                  0.000   Jarque-Bera (JB):            79574.078\nSkew:                           3.047   Prob(JB):                         0.00\nKurtosis:                      18.873   Cond. No.                     1.38e+03\n==============================================================================\n\nNotes:\n[1] R² is computed without centering (uncentered) since the model does not contain a constant.\n[2] Standard Errors assume that the covariance matrix of the errors is correctly specified.\n[3] The condition number is large, 1.38e+03. This might indicate that there are\nstrong multicollinearity or other numerical problems.\n",
     "output_type": "stream"
    }
   ]
  },
  {
   "cell_type": "code",
   "metadata": {
    "cell_id": "2d611cb9f8c24278b781ace28dda2fc8",
    "tags": [],
    "deepnote_app_coordinates": {
     "x": 0,
     "y": 0,
     "w": 12,
     "h": 5
    },
    "deepnote_to_be_reexecuted": false,
    "source_hash": "1ff66c72",
    "execution_start": 1652130562913,
    "execution_millis": 782,
    "deepnote_cell_type": "code",
    "deepnote_cell_height": 896.0625
   },
   "source": "from sklearn.linear_model import LogisticRegression\nT, Y = 'treatment', 'PercentRateCOPD'\nX = minimal_data.columns.drop([T, Y])\nlog_model = LogisticRegression(C=1e6).fit(minimal_data[X], minimal_data[T])\n\ndata_log_reg = minimal_data.assign(propensity_score=log_model.predict_proba(minimal_data[X])[:, 1])\ndata_log_reg",
   "execution_count": 38,
   "outputs": [
    {
     "name": "stderr",
     "text": "/shared-libs/python3.7/py/lib/python3.7/site-packages/sklearn/linear_model/_logistic.py:818: ConvergenceWarning: lbfgs failed to converge (status=1):\nSTOP: TOTAL NO. of ITERATIONS REACHED LIMIT.\n\nIncrease the number of iterations (max_iter) or scale the data as shown in:\n    https://scikit-learn.org/stable/modules/preprocessing.html\nPlease also refer to the documentation for alternative solver options:\n    https://scikit-learn.org/stable/modules/linear_model.html#logistic-regression\n  extra_warning_msg=_LOGISTIC_SOLVER_CONVERGENCE_MSG,\n",
     "output_type": "stream"
    },
    {
     "output_type": "execute_result",
     "execution_count": 38,
     "data": {
      "application/vnd.deepnote.dataframe.v3+json": {
       "column_count": 9,
       "row_count": 6606,
       "columns": [
        {
         "name": "LocationID",
         "dtype": "float64",
         "stats": {
          "unique_count": 49,
          "nan_count": 0,
          "min": "1.0",
          "max": "56.0",
          "histogram": [
           {
            "bin_start": 1,
            "bin_end": 6.5,
            "count": 630
           },
           {
            "bin_start": 6.5,
            "bin_end": 12,
            "count": 446
           },
           {
            "bin_start": 12,
            "bin_end": 17.5,
            "count": 586
           },
           {
            "bin_start": 17.5,
            "bin_end": 23,
            "count": 674
           },
           {
            "bin_start": 23,
            "bin_end": 28.5,
            "count": 720
           },
           {
            "bin_start": 28.5,
            "bin_end": 34,
            "count": 596
           },
           {
            "bin_start": 34,
            "bin_end": 39.5,
            "count": 1016
           },
           {
            "bin_start": 39.5,
            "bin_end": 45,
            "count": 500
           },
           {
            "bin_start": 45,
            "bin_end": 50.5,
            "count": 742
           },
           {
            "bin_start": 50.5,
            "bin_end": 56,
            "count": 696
           }
          ]
         }
        },
        {
         "name": "year",
         "dtype": "float64",
         "stats": {
          "unique_count": 4,
          "nan_count": 0,
          "min": "2011.0",
          "max": "2014.0",
          "histogram": [
           {
            "bin_start": 2011,
            "bin_end": 2011.3,
            "count": 1118
           },
           {
            "bin_start": 2011.3,
            "bin_end": 2011.6,
            "count": 0
           },
           {
            "bin_start": 2011.6,
            "bin_end": 2011.9,
            "count": 0
           },
           {
            "bin_start": 2011.9,
            "bin_end": 2012.2,
            "count": 1126
           },
           {
            "bin_start": 2012.2,
            "bin_end": 2012.5,
            "count": 0
           },
           {
            "bin_start": 2012.5,
            "bin_end": 2012.8,
            "count": 0
           },
           {
            "bin_start": 2012.8,
            "bin_end": 2013.1,
            "count": 2054
           },
           {
            "bin_start": 2013.1,
            "bin_end": 2013.4,
            "count": 0
           },
           {
            "bin_start": 2013.4,
            "bin_end": 2013.7,
            "count": 0
           },
           {
            "bin_start": 2013.7,
            "bin_end": 2014,
            "count": 2308
           }
          ]
         }
        },
        {
         "name": "ds_pm_pred",
         "dtype": "float64",
         "stats": {
          "unique_count": 196,
          "nan_count": 0,
          "min": "3.33372839465972",
          "max": "34.121102464814285",
          "histogram": [
           {
            "bin_start": 3.33372839465972,
            "bin_end": 6.412465801675177,
            "count": 326
           },
           {
            "bin_start": 6.412465801675177,
            "bin_end": 9.491203208690633,
            "count": 2964
           },
           {
            "bin_start": 9.491203208690633,
            "bin_end": 12.569940615706091,
            "count": 2524
           },
           {
            "bin_start": 12.569940615706091,
            "bin_end": 15.648678022721548,
            "count": 648
           },
           {
            "bin_start": 15.648678022721548,
            "bin_end": 18.727415429737004,
            "count": 16
           },
           {
            "bin_start": 18.727415429737004,
            "bin_end": 21.80615283675246,
            "count": 110
           },
           {
            "bin_start": 21.80615283675246,
            "bin_end": 24.884890243767916,
            "count": 0
           },
           {
            "bin_start": 24.884890243767916,
            "bin_end": 27.963627650783373,
            "count": 0
           },
           {
            "bin_start": 27.963627650783373,
            "bin_end": 31.04236505779883,
            "count": 0
           },
           {
            "bin_start": 31.04236505779883,
            "bin_end": 34.121102464814285,
            "count": 18
           }
          ]
         }
        },
        {
         "name": "treatment",
         "dtype": "float64",
         "stats": {
          "unique_count": 2,
          "nan_count": 0,
          "min": "0.0",
          "max": "1.0",
          "histogram": [
           {
            "bin_start": 0,
            "bin_end": 0.1,
            "count": 3840
           },
           {
            "bin_start": 0.1,
            "bin_end": 0.2,
            "count": 0
           },
           {
            "bin_start": 0.2,
            "bin_end": 0.30000000000000004,
            "count": 0
           },
           {
            "bin_start": 0.30000000000000004,
            "bin_end": 0.4,
            "count": 0
           },
           {
            "bin_start": 0.4,
            "bin_end": 0.5,
            "count": 0
           },
           {
            "bin_start": 0.5,
            "bin_end": 0.6000000000000001,
            "count": 0
           },
           {
            "bin_start": 0.6000000000000001,
            "bin_end": 0.7000000000000001,
            "count": 0
           },
           {
            "bin_start": 0.7000000000000001,
            "bin_end": 0.8,
            "count": 0
           },
           {
            "bin_start": 0.8,
            "bin_end": 0.9,
            "count": 0
           },
           {
            "bin_start": 0.9,
            "bin_end": 1,
            "count": 2766
           }
          ]
         }
        },
        {
         "name": "RaceID",
         "dtype": "float64",
         "stats": {
          "unique_count": 8,
          "nan_count": 0,
          "min": "0.0",
          "max": "8.0",
          "histogram": [
           {
            "bin_start": 0,
            "bin_end": 0.8,
            "count": 1048
           },
           {
            "bin_start": 0.8,
            "bin_end": 1.6,
            "count": 852
           },
           {
            "bin_start": 1.6,
            "bin_end": 2.4000000000000004,
            "count": 1076
           },
           {
            "bin_start": 2.4000000000000004,
            "bin_end": 3.2,
            "count": 1076
           },
           {
            "bin_start": 3.2,
            "bin_end": 4,
            "count": 0
           },
           {
            "bin_start": 4,
            "bin_end": 4.800000000000001,
            "count": 440
           },
           {
            "bin_start": 4.800000000000001,
            "bin_end": 5.6000000000000005,
            "count": 1076
           },
           {
            "bin_start": 5.6000000000000005,
            "bin_end": 6.4,
            "count": 440
           },
           {
            "bin_start": 6.4,
            "bin_end": 7.2,
            "count": 0
           },
           {
            "bin_start": 7.2,
            "bin_end": 8,
            "count": 598
           }
          ]
         }
        },
        {
         "name": "reasonID",
         "dtype": "float64",
         "stats": {
          "unique_count": 6,
          "nan_count": 0,
          "min": "2.0",
          "max": "7.0",
          "histogram": [
           {
            "bin_start": 2,
            "bin_end": 2.5,
            "count": 2140
           },
           {
            "bin_start": 2.5,
            "bin_end": 3,
            "count": 0
           },
           {
            "bin_start": 3,
            "bin_end": 3.5,
            "count": 2396
           },
           {
            "bin_start": 3.5,
            "bin_end": 4,
            "count": 0
           },
           {
            "bin_start": 4,
            "bin_end": 4.5,
            "count": 654
           },
           {
            "bin_start": 4.5,
            "bin_end": 5,
            "count": 0
           },
           {
            "bin_start": 5,
            "bin_end": 5.5,
            "count": 602
           },
           {
            "bin_start": 5.5,
            "bin_end": 6,
            "count": 0
           },
           {
            "bin_start": 6,
            "bin_end": 6.5,
            "count": 412
           },
           {
            "bin_start": 6.5,
            "bin_end": 7,
            "count": 402
           }
          ]
         }
        },
        {
         "name": "PercentRateCOPD",
         "dtype": "float64",
         "stats": {
          "unique_count": 4242,
          "nan_count": 0,
          "min": "0.0105",
          "max": "14.2988",
          "histogram": [
           {
            "bin_start": 0.0105,
            "bin_end": 1.43933,
            "count": 5610
           },
           {
            "bin_start": 1.43933,
            "bin_end": 2.86816,
            "count": 420
           },
           {
            "bin_start": 2.86816,
            "bin_end": 4.296990000000001,
            "count": 329
           },
           {
            "bin_start": 4.296990000000001,
            "bin_end": 5.725820000000001,
            "count": 138
           },
           {
            "bin_start": 5.725820000000001,
            "bin_end": 7.15465,
            "count": 55
           },
           {
            "bin_start": 7.15465,
            "bin_end": 8.583480000000002,
            "count": 18
           },
           {
            "bin_start": 8.583480000000002,
            "bin_end": 10.012310000000001,
            "count": 25
           },
           {
            "bin_start": 10.012310000000001,
            "bin_end": 11.44114,
            "count": 5
           },
           {
            "bin_start": 11.44114,
            "bin_end": 12.86997,
            "count": 3
           },
           {
            "bin_start": 12.86997,
            "bin_end": 14.2988,
            "count": 3
           }
          ]
         }
        },
        {
         "name": "row",
         "dtype": "int64",
         "stats": {
          "unique_count": 6606,
          "nan_count": 0,
          "min": "0",
          "max": "50408",
          "histogram": [
           {
            "bin_start": 0,
            "bin_end": 5040.8,
            "count": 753
           },
           {
            "bin_start": 5040.8,
            "bin_end": 10081.6,
            "count": 705
           },
           {
            "bin_start": 10081.6,
            "bin_end": 15122.400000000001,
            "count": 652
           },
           {
            "bin_start": 15122.400000000001,
            "bin_end": 20163.2,
            "count": 490
           },
           {
            "bin_start": 20163.2,
            "bin_end": 25204,
            "count": 660
           },
           {
            "bin_start": 25204,
            "bin_end": 30244.800000000003,
            "count": 622
           },
           {
            "bin_start": 30244.800000000003,
            "bin_end": 35285.6,
            "count": 846
           },
           {
            "bin_start": 35285.6,
            "bin_end": 40326.4,
            "count": 624
           },
           {
            "bin_start": 40326.4,
            "bin_end": 45367.200000000004,
            "count": 535
           },
           {
            "bin_start": 45367.200000000004,
            "bin_end": 50408,
            "count": 719
           }
          ]
         }
        },
        {
         "name": "propensity_score",
         "dtype": "float64",
         "stats": {
          "unique_count": 3348,
          "nan_count": 0,
          "min": "0.0",
          "max": "1.0",
          "histogram": [
           {
            "bin_start": 0,
            "bin_end": 0.1,
            "count": 3840
           },
           {
            "bin_start": 0.1,
            "bin_end": 0.2,
            "count": 0
           },
           {
            "bin_start": 0.2,
            "bin_end": 0.30000000000000004,
            "count": 0
           },
           {
            "bin_start": 0.30000000000000004,
            "bin_end": 0.4,
            "count": 0
           },
           {
            "bin_start": 0.4,
            "bin_end": 0.5,
            "count": 0
           },
           {
            "bin_start": 0.5,
            "bin_end": 0.6000000000000001,
            "count": 0
           },
           {
            "bin_start": 0.6000000000000001,
            "bin_end": 0.7000000000000001,
            "count": 0
           },
           {
            "bin_start": 0.7000000000000001,
            "bin_end": 0.8,
            "count": 0
           },
           {
            "bin_start": 0.8,
            "bin_end": 0.9,
            "count": 0
           },
           {
            "bin_start": 0.9,
            "bin_end": 1,
            "count": 2766
           }
          ]
         }
        },
        {
         "name": "_deepnote_index_column",
         "dtype": "int64"
        }
       ],
       "rows": [
        {
         "LocationID": 1,
         "year": 2011,
         "ds_pm_pred": 10.80122384603192,
         "treatment": 1,
         "RaceID": 0,
         "reasonID": 2,
         "PercentRateCOPD": 0.1724,
         "row": 0,
         "propensity_score": 1,
         "_deepnote_index_column": 0
        },
        {
         "LocationID": 1,
         "year": 2011,
         "ds_pm_pred": 10.80122384603192,
         "treatment": 1,
         "RaceID": 2,
         "reasonID": 2,
         "PercentRateCOPD": 0.1935,
         "row": 9,
         "propensity_score": 1,
         "_deepnote_index_column": 9
        },
        {
         "LocationID": 1,
         "year": 2011,
         "ds_pm_pred": 10.80122384603192,
         "treatment": 1,
         "RaceID": 3,
         "reasonID": 3,
         "PercentRateCOPD": 0.248,
         "row": 17,
         "propensity_score": 1,
         "_deepnote_index_column": 17
        },
        {
         "LocationID": 1,
         "year": 2011,
         "ds_pm_pred": 10.80122384603192,
         "treatment": 1,
         "RaceID": 2,
         "reasonID": 2,
         "PercentRateCOPD": 0.15769999999999998,
         "row": 18,
         "propensity_score": 1,
         "_deepnote_index_column": 18
        },
        {
         "LocationID": 1,
         "year": 2011,
         "ds_pm_pred": 10.80122384603192,
         "treatment": 1,
         "RaceID": 1,
         "reasonID": 3,
         "PercentRateCOPD": 0.1292,
         "row": 31,
         "propensity_score": 1,
         "_deepnote_index_column": 31
        },
        {
         "LocationID": 1,
         "year": 2011,
         "ds_pm_pred": 10.80122384603192,
         "treatment": 1,
         "RaceID": 0,
         "reasonID": 3,
         "PercentRateCOPD": 0.2913,
         "row": 33,
         "propensity_score": 1,
         "_deepnote_index_column": 33
        },
        {
         "LocationID": 1,
         "year": 2011,
         "ds_pm_pred": 10.80122384603192,
         "treatment": 1,
         "RaceID": 3,
         "reasonID": 3,
         "PercentRateCOPD": 0.2632,
         "row": 43,
         "propensity_score": 1,
         "_deepnote_index_column": 43
        },
        {
         "LocationID": 1,
         "year": 2011,
         "ds_pm_pred": 10.80122384603192,
         "treatment": 1,
         "RaceID": 3,
         "reasonID": 2,
         "PercentRateCOPD": 0.1444,
         "row": 50,
         "propensity_score": 1,
         "_deepnote_index_column": 50
        },
        {
         "LocationID": 1,
         "year": 2011,
         "ds_pm_pred": 10.80122384603192,
         "treatment": 1,
         "RaceID": 0,
         "reasonID": 3,
         "PercentRateCOPD": 0.2924,
         "row": 51,
         "propensity_score": 1,
         "_deepnote_index_column": 51
        },
        {
         "LocationID": 1,
         "year": 2011,
         "ds_pm_pred": 10.80122384603192,
         "treatment": 1,
         "RaceID": 5,
         "reasonID": 3,
         "PercentRateCOPD": 0.21719999999999998,
         "row": 53,
         "propensity_score": 1,
         "_deepnote_index_column": 53
        }
       ]
      },
      "text/plain": "       LocationID    year  ds_pm_pred  treatment  RaceID  reasonID  \\\n0             1.0  2011.0   10.801224        1.0     0.0       2.0   \n9             1.0  2011.0   10.801224        1.0     2.0       2.0   \n17            1.0  2011.0   10.801224        1.0     3.0       3.0   \n18            1.0  2011.0   10.801224        1.0     2.0       2.0   \n31            1.0  2011.0   10.801224        1.0     1.0       3.0   \n...           ...     ...         ...        ...     ...       ...   \n49150        54.0  2014.0    8.627988        0.0     3.0       5.0   \n49167        54.0  2014.0    8.627988        0.0     8.0       5.0   \n49170        54.0  2014.0    8.627988        0.0     1.0       4.0   \n49178        54.0  2014.0    8.627988        0.0     1.0       5.0   \n49179        54.0  2014.0    8.627988        0.0     3.0       4.0   \n\n       PercentRateCOPD    row  propensity_score  \n0               0.1724      0      1.000000e+00  \n9               0.1935      9      1.000000e+00  \n17              0.2480     17      1.000000e+00  \n18              0.1577     18      1.000000e+00  \n31              0.1292     31      1.000000e+00  \n...                ...    ...               ...  \n49150           0.8294  49150     8.019353e-162  \n49167           1.1312  49167     1.807711e-162  \n49170           2.5634  49170     5.210211e-159  \n49178           0.3283  49178     1.738496e-161  \n49179           5.3905  49179     2.903578e-159  \n\n[6606 rows x 9 columns]",
      "text/html": "<div>\n<style scoped>\n    .dataframe tbody tr th:only-of-type {\n        vertical-align: middle;\n    }\n\n    .dataframe tbody tr th {\n        vertical-align: top;\n    }\n\n    .dataframe thead th {\n        text-align: right;\n    }\n</style>\n<table border=\"1\" class=\"dataframe\">\n  <thead>\n    <tr style=\"text-align: right;\">\n      <th></th>\n      <th>LocationID</th>\n      <th>year</th>\n      <th>ds_pm_pred</th>\n      <th>treatment</th>\n      <th>RaceID</th>\n      <th>reasonID</th>\n      <th>PercentRateCOPD</th>\n      <th>row</th>\n      <th>propensity_score</th>\n    </tr>\n  </thead>\n  <tbody>\n    <tr>\n      <th>0</th>\n      <td>1.0</td>\n      <td>2011.0</td>\n      <td>10.801224</td>\n      <td>1.0</td>\n      <td>0.0</td>\n      <td>2.0</td>\n      <td>0.1724</td>\n      <td>0</td>\n      <td>1.000000e+00</td>\n    </tr>\n    <tr>\n      <th>9</th>\n      <td>1.0</td>\n      <td>2011.0</td>\n      <td>10.801224</td>\n      <td>1.0</td>\n      <td>2.0</td>\n      <td>2.0</td>\n      <td>0.1935</td>\n      <td>9</td>\n      <td>1.000000e+00</td>\n    </tr>\n    <tr>\n      <th>17</th>\n      <td>1.0</td>\n      <td>2011.0</td>\n      <td>10.801224</td>\n      <td>1.0</td>\n      <td>3.0</td>\n      <td>3.0</td>\n      <td>0.2480</td>\n      <td>17</td>\n      <td>1.000000e+00</td>\n    </tr>\n    <tr>\n      <th>18</th>\n      <td>1.0</td>\n      <td>2011.0</td>\n      <td>10.801224</td>\n      <td>1.0</td>\n      <td>2.0</td>\n      <td>2.0</td>\n      <td>0.1577</td>\n      <td>18</td>\n      <td>1.000000e+00</td>\n    </tr>\n    <tr>\n      <th>31</th>\n      <td>1.0</td>\n      <td>2011.0</td>\n      <td>10.801224</td>\n      <td>1.0</td>\n      <td>1.0</td>\n      <td>3.0</td>\n      <td>0.1292</td>\n      <td>31</td>\n      <td>1.000000e+00</td>\n    </tr>\n    <tr>\n      <th>...</th>\n      <td>...</td>\n      <td>...</td>\n      <td>...</td>\n      <td>...</td>\n      <td>...</td>\n      <td>...</td>\n      <td>...</td>\n      <td>...</td>\n      <td>...</td>\n    </tr>\n    <tr>\n      <th>49150</th>\n      <td>54.0</td>\n      <td>2014.0</td>\n      <td>8.627988</td>\n      <td>0.0</td>\n      <td>3.0</td>\n      <td>5.0</td>\n      <td>0.8294</td>\n      <td>49150</td>\n      <td>8.019353e-162</td>\n    </tr>\n    <tr>\n      <th>49167</th>\n      <td>54.0</td>\n      <td>2014.0</td>\n      <td>8.627988</td>\n      <td>0.0</td>\n      <td>8.0</td>\n      <td>5.0</td>\n      <td>1.1312</td>\n      <td>49167</td>\n      <td>1.807711e-162</td>\n    </tr>\n    <tr>\n      <th>49170</th>\n      <td>54.0</td>\n      <td>2014.0</td>\n      <td>8.627988</td>\n      <td>0.0</td>\n      <td>1.0</td>\n      <td>4.0</td>\n      <td>2.5634</td>\n      <td>49170</td>\n      <td>5.210211e-159</td>\n    </tr>\n    <tr>\n      <th>49178</th>\n      <td>54.0</td>\n      <td>2014.0</td>\n      <td>8.627988</td>\n      <td>0.0</td>\n      <td>1.0</td>\n      <td>5.0</td>\n      <td>0.3283</td>\n      <td>49178</td>\n      <td>1.738496e-161</td>\n    </tr>\n    <tr>\n      <th>49179</th>\n      <td>54.0</td>\n      <td>2014.0</td>\n      <td>8.627988</td>\n      <td>0.0</td>\n      <td>3.0</td>\n      <td>4.0</td>\n      <td>5.3905</td>\n      <td>49179</td>\n      <td>2.903578e-159</td>\n    </tr>\n  </tbody>\n</table>\n<p>6606 rows × 9 columns</p>\n</div>"
     },
     "metadata": {}
    }
   ]
  },
  {
   "cell_type": "code",
   "metadata": {
    "cell_id": "239e891f22244200a900e64f2b30fdc9",
    "tags": [],
    "deepnote_app_coordinates": {
     "x": 0,
     "y": 0,
     "w": 12,
     "h": 5
    },
    "deepnote_to_be_reexecuted": false,
    "source_hash": "68bb83a1",
    "execution_start": 1652130563701,
    "execution_millis": 43,
    "deepnote_cell_type": "code",
    "deepnote_cell_height": 291.6875
   },
   "source": "weight_t1 = 1/data_log_reg.query(\"treatment==1\")[\"propensity_score\"]\nweight_nt1 = 1/(1-data_log_reg.query(\"treatment==0\")[\"propensity_score\"])\nweight1 = ((data_log_reg[\"treatment\"]-data_log_reg[\"propensity_score\"]) /\n          (data_log_reg[\"propensity_score\"]*(1-data_log_reg[\"propensity_score\"])))\n\nnewy1 = sum(data_log_reg.query(\"treatment==1\")[\"PercentRateCOPD\"]*weight_t1) / len(minimal_data)\nnewy0 = sum(data_log_reg.query(\"treatment==0\")[\"PercentRateCOPD\"]*weight_nt1) / len(minimal_data)\n\nate1 = np.mean(weight1 * data_log_reg[\"PercentRateCOPD\"])\n\nprint(\"ATE\", ate1)",
   "execution_count": 39,
   "outputs": [
    {
     "name": "stdout",
     "text": "ATE -0.7586362682431123\n",
     "output_type": "stream"
    }
   ]
  },
  {
   "cell_type": "code",
   "metadata": {
    "cell_id": "d52d5679b5a14660b27369457648caec",
    "tags": [],
    "deepnote_app_coordinates": {
     "x": 0,
     "y": 0,
     "w": 12,
     "h": 5
    },
    "deepnote_to_be_reexecuted": false,
    "source_hash": "c6766a73",
    "execution_start": 1652130563750,
    "execution_millis": 24,
    "deepnote_cell_type": "code",
    "deepnote_cell_height": 118.1875,
    "deepnote_output_heights": [
     21.1875
    ]
   },
   "source": "inital_tau",
   "execution_count": 40,
   "outputs": [
    {
     "output_type": "execute_result",
     "execution_count": 40,
     "data": {
      "text/plain": "-10.936345493405028"
     },
     "metadata": {}
    }
   ]
  },
  {
   "cell_type": "markdown",
   "source": "### Multiple Hypothesis Testing/ Decision Making\n\nQuestion 2: Do increased regulations correspond with decreased chronic illnesses? \n\nIn this section, we use the ELI Database of State IAQ Laws dataset from the folllowing website: https://www.eli.org/buildings/database-state-indoor-air-quality-laws. This dataset gives us access to the various state policies that have been implemented to improve indoor air quality.",
   "metadata": {
    "cell_id": "e6c8db01ffa94590a24bad850f00d575",
    "tags": [],
    "deepnote_app_coordinates": {
     "x": 0,
     "y": 0,
     "w": 12,
     "h": 5
    },
    "deepnote_cell_type": "markdown",
    "deepnote_cell_height": 203.984375
   }
  },
  {
   "cell_type": "code",
   "metadata": {
    "cell_id": "90fd0f3745e84f02b57485c5e6dce7c3",
    "tags": [],
    "deepnote_app_coordinates": {
     "x": 0,
     "y": 0,
     "w": 12,
     "h": 5
    },
    "deepnote_to_be_reexecuted": false,
    "source_hash": "9c8b7657",
    "execution_start": 1652130563778,
    "execution_millis": 12,
    "owner_user_id": "d38f04ce-f581-429b-a2f1-bd553b35426e",
    "deepnote_cell_type": "code",
    "deepnote_cell_height": 1161
   },
   "source": "#pulled from https://gist.github.com/JeffPaine/3083347\nstates_abbr = ['AK', 'AL', 'AR', 'AZ', 'CA', 'CO', 'CT', 'DC', 'DE', 'FL', 'GA',\n'HI', 'IA', 'ID', 'IL', 'IN', 'KS', 'KY', 'LA', 'MA', 'MD', 'ME',\n'MI', 'MN', 'MO', 'MS', 'MT', 'NC', 'ND', 'NE', 'NH', 'NJ', 'NM',\n'NV', 'NY', 'OH', 'OK', 'OR', 'PA', 'RI', 'SC', 'SD', 'TN', 'TX',\n'UT', 'VA', 'VT', 'WA', 'WI', 'WV', 'WY']\n\nstates_dict = {\n    'AK': 'Alaska',\n    'AL': 'Alabama',\n    'AR': 'Arkansas',\n    'AZ': 'Arizona',\n    'CA': 'California',\n    'CO': 'Colorado',\n    'CT': 'Connecticut',\n    'DC': 'District of Columbia',\n    'DE': 'Delaware',\n    'FL': 'Florida',\n    'GA': 'Georgia',\n    'HI': 'Hawaii',\n    'IA': 'Iowa',\n    'ID': 'Idaho',\n    'IL': 'Illinois',\n    'IN': 'Indiana',\n    'KS': 'Kansas',\n    'KY': 'Kentucky',\n    'LA': 'Louisiana',\n    'MA': 'Massachusetts',\n    'MD': 'Maryland',\n    'ME': 'Maine',\n    'MI': 'Michigan',\n    'MN': 'Minnesota',\n    'MO': 'Missouri',\n    'MS': 'Mississippi',\n    'MT': 'Montana',\n    'NC': 'North Carolina',\n    'ND': 'North Dakota',\n    'NE': 'Nebraska',\n    'NH': 'New Hampshire',\n    'NJ': 'New Jersey',\n    'NM': 'New Mexico',\n    'NV': 'Nevada',\n    'NY': 'New York',\n    'OH': 'Ohio',\n    'OK': 'Oklahoma',\n    'OR': 'Oregon',\n    'PA': 'Pennsylvania',\n    'RI': 'Rhode Island',\n    'SC': 'South Carolina',\n    'SD': 'South Dakota',\n    'TN': 'Tennessee',\n    'TX': 'Texas',\n    'UT': 'Utah',\n    'VA': 'Virginia',\n    'VT': 'Vermont',\n    'WA': 'Washington',\n    'WI': 'Wisconsin',\n    'WV': 'West Virginia',\n    'WY': 'Wyoming'\n}\n",
   "execution_count": 41,
   "outputs": []
  },
  {
   "cell_type": "code",
   "metadata": {
    "cell_id": "656be147bee44c439059502a3494e854",
    "tags": [],
    "deepnote_app_coordinates": {
     "x": 0,
     "y": 0,
     "w": 12,
     "h": 5
    },
    "deepnote_to_be_reexecuted": false,
    "source_hash": "9407c31a",
    "execution_start": 1652130563797,
    "execution_millis": 20,
    "deepnote_cell_type": "code",
    "deepnote_cell_height": 99
   },
   "source": "#dictionary to track number of state laws\nstate_counts = dict(zip(states_abbr, np.zeros(51)))",
   "execution_count": 42,
   "outputs": []
  },
  {
   "cell_type": "code",
   "metadata": {
    "cell_id": "3403fc489cfd44df953c24ff58336c9e",
    "tags": [],
    "deepnote_app_coordinates": {
     "x": 0,
     "y": 0,
     "w": 12,
     "h": 5
    },
    "deepnote_to_be_reexecuted": false,
    "source_hash": "93ecaf8c",
    "execution_start": 1652130563841,
    "execution_millis": 124633,
    "deepnote_cell_type": "code",
    "deepnote_cell_height": 189
   },
   "source": "#function to count state laws\ndef scrape_page(text):\n    for state in states_abbr:\n        state_name = state + '\\n'\n        count = text.count(state_name)\n        state_counts[state] += count\n    return",
   "execution_count": 43,
   "outputs": []
  },
  {
   "cell_type": "code",
   "metadata": {
    "cell_id": "3e27f22afc114940bebc3efed9494a4e",
    "tags": [],
    "deepnote_app_coordinates": {
     "x": 0,
     "y": 0,
     "w": 12,
     "h": 5
    },
    "deepnote_to_be_reexecuted": false,
    "source_hash": "7f3e6dd4",
    "execution_start": 1652130563895,
    "execution_millis": 442,
    "deepnote_cell_type": "code",
    "deepnote_cell_height": 171,
    "deepnote_output_heights": [
     193.953125
    ]
   },
   "source": "import fitz\n#getting number of state laws for every page of doc\nwith fitz.open(\"2022 IAQ Database.pdf\") as doc:\n    for page in doc:\n        text = page.get_text()\n        scrape_page(text)",
   "execution_count": 44,
   "outputs": []
  },
  {
   "cell_type": "code",
   "metadata": {
    "cell_id": "5813c66b563b4a14bf89129f2ec5c0ac",
    "tags": [],
    "deepnote_app_coordinates": {
     "x": 0,
     "y": 0,
     "w": 12,
     "h": 5
    },
    "deepnote_to_be_reexecuted": false,
    "source_hash": "7e8201dc",
    "execution_start": 1652130564337,
    "execution_millis": 72,
    "owner_user_id": "3ab29968-1f9b-41fa-a4e3-206dd80802e8",
    "deepnote_cell_type": "code",
    "deepnote_cell_height": 485
   },
   "source": "# Dataset 2: Number of State Regulations\n#convert dictionary to dataframe\ndata_items = state_counts.items()\ndata_list = list(data_items)\nstate_laws = pd.DataFrame(data_list, columns=['State', 'NumLaws'])\nstate_laws.head()",
   "execution_count": 45,
   "outputs": [
    {
     "output_type": "execute_result",
     "execution_count": 45,
     "data": {
      "application/vnd.deepnote.dataframe.v3+json": {
       "column_count": 2,
       "row_count": 5,
       "columns": [
        {
         "name": "State",
         "dtype": "object",
         "stats": {
          "unique_count": 5,
          "nan_count": 0,
          "categories": [
           {
            "name": "AK",
            "count": 1
           },
           {
            "name": "AL",
            "count": 1
           },
           {
            "name": "3 others",
            "count": 3
           }
          ]
         }
        },
        {
         "name": "NumLaws",
         "dtype": "float64",
         "stats": {
          "unique_count": 4,
          "nan_count": 0,
          "min": "0.0",
          "max": "25.0",
          "histogram": [
           {
            "bin_start": 0,
            "bin_end": 2.5,
            "count": 2
           },
           {
            "bin_start": 2.5,
            "bin_end": 5,
            "count": 2
           },
           {
            "bin_start": 5,
            "bin_end": 7.5,
            "count": 0
           },
           {
            "bin_start": 7.5,
            "bin_end": 10,
            "count": 0
           },
           {
            "bin_start": 10,
            "bin_end": 12.5,
            "count": 0
           },
           {
            "bin_start": 12.5,
            "bin_end": 15,
            "count": 0
           },
           {
            "bin_start": 15,
            "bin_end": 17.5,
            "count": 0
           },
           {
            "bin_start": 17.5,
            "bin_end": 20,
            "count": 0
           },
           {
            "bin_start": 20,
            "bin_end": 22.5,
            "count": 0
           },
           {
            "bin_start": 22.5,
            "bin_end": 25,
            "count": 1
           }
          ]
         }
        },
        {
         "name": "_deepnote_index_column",
         "dtype": "int64"
        }
       ],
       "rows": [
        {
         "State": "AK",
         "NumLaws": 2,
         "_deepnote_index_column": 0
        },
        {
         "State": "AL",
         "NumLaws": 0,
         "_deepnote_index_column": 1
        },
        {
         "State": "AR",
         "NumLaws": 4,
         "_deepnote_index_column": 2
        },
        {
         "State": "AZ",
         "NumLaws": 4,
         "_deepnote_index_column": 3
        },
        {
         "State": "CA",
         "NumLaws": 25,
         "_deepnote_index_column": 4
        }
       ]
      },
      "text/plain": "  State  NumLaws\n0    AK      2.0\n1    AL      0.0\n2    AR      4.0\n3    AZ      4.0\n4    CA     25.0",
      "text/html": "<div>\n<style scoped>\n    .dataframe tbody tr th:only-of-type {\n        vertical-align: middle;\n    }\n\n    .dataframe tbody tr th {\n        vertical-align: top;\n    }\n\n    .dataframe thead th {\n        text-align: right;\n    }\n</style>\n<table border=\"1\" class=\"dataframe\">\n  <thead>\n    <tr style=\"text-align: right;\">\n      <th></th>\n      <th>State</th>\n      <th>NumLaws</th>\n    </tr>\n  </thead>\n  <tbody>\n    <tr>\n      <th>0</th>\n      <td>AK</td>\n      <td>2.0</td>\n    </tr>\n    <tr>\n      <th>1</th>\n      <td>AL</td>\n      <td>0.0</td>\n    </tr>\n    <tr>\n      <th>2</th>\n      <td>AR</td>\n      <td>4.0</td>\n    </tr>\n    <tr>\n      <th>3</th>\n      <td>AZ</td>\n      <td>4.0</td>\n    </tr>\n    <tr>\n      <th>4</th>\n      <td>CA</td>\n      <td>25.0</td>\n    </tr>\n  </tbody>\n</table>\n</div>"
     },
     "metadata": {}
    }
   ]
  },
  {
   "cell_type": "code",
   "metadata": {
    "cell_id": "0a81b9dc128d45a48cfeb1a3d96d1df6",
    "tags": [],
    "deepnote_app_coordinates": {
     "x": 0,
     "y": 0,
     "w": 12,
     "h": 5
    },
    "deepnote_to_be_reexecuted": false,
    "source_hash": "fde3b433",
    "execution_start": 1652130564423,
    "execution_millis": 255,
    "deepnote_cell_type": "code",
    "deepnote_cell_height": 214.171875,
    "deepnote_output_heights": [
     117.171875
    ]
   },
   "source": "CDC_chronic_diseases['Topic'].unique()",
   "execution_count": 46,
   "outputs": [
    {
     "output_type": "execute_result",
     "execution_count": 46,
     "data": {
      "text/plain": "array(['Cardiovascular Disease', 'Asthma', 'Alcohol', 'Tobacco',\n       'Overarching Conditions', 'Chronic Kidney Disease', 'Diabetes',\n       'Reproductive Health', 'Cancer', 'Arthritis', 'Oral Health',\n       'Chronic Obstructive Pulmonary Disease',\n       'Nutrition, Physical Activity, and Weight Status', 'Older Adults',\n       'Disability', 'Mental Health', 'Immunization'], dtype=object)"
     },
     "metadata": {}
    }
   ]
  },
  {
   "cell_type": "markdown",
   "source": "The 6 diseases we will use in our tests are:\n- Cardiovascular Disease\n- Asthma\n- Chronic Obstructive Pulmonary Disease\n- Cancer\n- Tobacco\n- Alcohol\n\nWe divide the data into 2 groups: states with high number of regulations and states with low number of regulations, which are the treatment and control groups respectively.\n\nThe threshold we set is that states with 5 or more regulations correspond to \"highly regulated states\" (treatment group) and states with less than 5 regulations correspond to \"low regulated states\" (control group).\n\nOur test statistic is the difference in means of the highly regulated group and low regulated group (treatment group and control group respectively).",
   "metadata": {
    "cell_id": "957b12e05c6b44e085449dc6ea67bb51",
    "tags": [],
    "deepnote_app_coordinates": {
     "x": 0,
     "y": 0,
     "w": 12,
     "h": 5
    },
    "deepnote_cell_type": "markdown",
    "deepnote_cell_height": 436.96875
   }
  },
  {
   "cell_type": "code",
   "metadata": {
    "cell_id": "2130379dc7d040cfab8bf7cf3f52c17e",
    "tags": [],
    "deepnote_to_be_reexecuted": false,
    "source_hash": "25b493ca",
    "execution_start": 1652130564621,
    "execution_millis": 0,
    "deepnote_cell_type": "code",
    "deepnote_cell_height": 99
   },
   "source": "diseases_to_test = np.array(['Cardiovascular Disease', 'Asthma', 'Chronic Obstructive Pulmonary Disease', 'Cancer', 'Tobacco', 'Alcohol'])\np_vals = [] #will be filled in same order as above",
   "execution_count": 47,
   "outputs": []
  },
  {
   "cell_type": "code",
   "metadata": {
    "cell_id": "fbdeb3fddfb94ca3b5bbdb2750588c7a",
    "tags": [],
    "deepnote_app_coordinates": {
     "x": 0,
     "y": 0,
     "w": 12,
     "h": 5
    },
    "deepnote_to_be_reexecuted": false,
    "source_hash": "c9e0a9ab",
    "execution_start": 1652130564739,
    "execution_millis": 4204,
    "deepnote_cell_type": "code",
    "deepnote_cell_height": 459.828125,
    "deepnote_output_heights": [
     21,
     310.828125
    ]
   },
   "source": "sns.barplot( x = 'State', y='NumLaws', data = state_laws)",
   "execution_count": 48,
   "outputs": [
    {
     "output_type": "execute_result",
     "execution_count": 48,
     "data": {
      "text/plain": "<AxesSubplot:xlabel='State', ylabel='NumLaws'>"
     },
     "metadata": {}
    },
    {
     "data": {
      "text/plain": "<Figure size 1080x576 with 1 Axes>",
      "image/png": "[encoded data removed]"
     },
     "metadata": {
      "image/png": {
       "width": 892,
       "height": 485
      }
     },
     "output_type": "display_data"
    }
   ]
  },
  {
   "cell_type": "code",
   "metadata": {
    "cell_id": "54fa2369ba214f47b87465a4d0f25d75",
    "tags": [],
    "deepnote_to_be_reexecuted": false,
    "source_hash": "5d05cb2",
    "execution_start": 1652130568293,
    "execution_millis": 651,
    "deepnote_cell_type": "code",
    "deepnote_cell_height": 190.1875,
    "deepnote_output_heights": [
     21.1875
    ]
   },
   "source": "treatment_states = state_laws.where(state_laws['NumLaws'] > 5).dropna()\ncontrol_states = state_laws.where(state_laws['NumLaws'] <= 5).dropna()\ntreatment_state_names = np.array(treatment_states['State'])\ncontrol_state_names = np.array(control_states['State'])\nlen(control_state_names), len(treatment_state_names)",
   "execution_count": 49,
   "outputs": [
    {
     "output_type": "execute_result",
     "execution_count": 49,
     "data": {
      "text/plain": "(29, 22)"
     },
     "metadata": {}
    }
   ]
  },
  {
   "cell_type": "code",
   "metadata": {
    "cell_id": "f1652cd213a449fdb6afa377fec07940",
    "tags": [],
    "deepnote_app_coordinates": {
     "x": 0,
     "y": 0,
     "w": 12,
     "h": 5
    },
    "deepnote_to_be_reexecuted": false,
    "source_hash": "4f41d8ce",
    "execution_start": 1652130568331,
    "execution_millis": 2645,
    "deepnote_cell_type": "code",
    "deepnote_cell_height": 99
   },
   "source": "#getting only cardio disease for first p-val\ncardio_disease_big = CDC_chronic_diseases.where(CDC_chronic_diseases['Topic'] == 'Cardiovascular Disease')",
   "execution_count": 50,
   "outputs": []
  },
  {
   "cell_type": "code",
   "source": "cardio_disease = cardio_disease_big.where(cardio_disease_big['DataValueType'] == 'Number')",
   "metadata": {
    "cell_id": "4893dc01f0124b86abe659fa3fb50e1b",
    "tags": [],
    "deepnote_to_be_reexecuted": false,
    "source_hash": "25a2aee8",
    "execution_start": 1652130570991,
    "execution_millis": 2833,
    "deepnote_cell_type": "code",
    "deepnote_cell_height": 81
   },
   "outputs": [],
   "execution_count": 51
  },
  {
   "cell_type": "code",
   "source": "cardio_disease = cardio_disease[cardio_disease['DataValueType'].notnull()]",
   "metadata": {
    "cell_id": "6a2620edc5ce43c58d7ea0caa2088335",
    "tags": [],
    "deepnote_to_be_reexecuted": false,
    "source_hash": "269f52ac",
    "execution_start": 1652130573824,
    "execution_millis": 2,
    "deepnote_cell_type": "code",
    "deepnote_cell_height": 81
   },
   "outputs": [],
   "execution_count": 52
  },
  {
   "cell_type": "code",
   "metadata": {
    "cell_id": "ca1261e55af2431286a3a957b6b9c9bc",
    "tags": [],
    "deepnote_app_coordinates": {
     "x": 0,
     "y": 0,
     "w": 12,
     "h": 5
    },
    "deepnote_to_be_reexecuted": false,
    "source_hash": "1a7f2f36",
    "execution_start": 1652130573828,
    "execution_millis": 353,
    "deepnote_cell_type": "code",
    "deepnote_cell_height": 153
   },
   "source": "# dividing cardiovascular disease dataset into control and treatment groups\ncardio_control = cardio_disease.where(cardio_disease[\"LocationAbbr\"].isin(control_state_names))\ncardio_control = cardio_control[cardio_control['DataValue'].notnull()]\ncardio_treatment = cardio_disease.where(cardio_disease[\"LocationAbbr\"].isin(treatment_state_names))\ncardio_treatment = cardio_treatment[cardio_treatment['DataValue'].notnull()]",
   "execution_count": 53,
   "outputs": []
  },
  {
   "cell_type": "code",
   "metadata": {
    "cell_id": "5583d36ea7ce42ba871f2bc623efc5d8",
    "tags": [],
    "deepnote_app_coordinates": {
     "x": 0,
     "y": 0,
     "w": 12,
     "h": 5
    },
    "deepnote_to_be_reexecuted": false,
    "source_hash": "b3869509",
    "execution_start": 1652130574182,
    "execution_millis": 0,
    "deepnote_cell_type": "code",
    "deepnote_cell_height": 99,
    "deepnote_output_heights": [
     21.1875
    ]
   },
   "source": "cardio_control['DataValue'] = cardio_control['DataValue'].astype('float64')\ncardio_treatment['DataValue'] = cardio_treatment['DataValue'].astype('float64')",
   "execution_count": 54,
   "outputs": []
  },
  {
   "cell_type": "code",
   "metadata": {
    "cell_id": "45d2b0c8b1204d77a1b65d633a57f1b6",
    "tags": [],
    "deepnote_to_be_reexecuted": false,
    "source_hash": "e269fc99",
    "execution_start": 1652130574182,
    "execution_millis": 597,
    "deepnote_cell_type": "code",
    "deepnote_cell_height": 201.6875
   },
   "source": "import scipy.stats as stats\n\n#conducting t-test and retrieving the p-value for our analysis\nt_stat_cardio, p_val_cardio = stats.ttest_ind(np.array(cardio_control['DataValue']), np.array(cardio_treatment['DataValue']), equal_var = False, alternative='greater', random_state=38)\np_vals.append(p_val_cardio)\nprint(t_stat_cardio, p_val_cardio)",
   "execution_count": 55,
   "outputs": [
    {
     "name": "stdout",
     "text": "-17.220806411635518 1.0\n",
     "output_type": "stream"
    }
   ]
  },
  {
   "cell_type": "markdown",
   "source": "asthma:",
   "metadata": {
    "cell_id": "f2aa838557a447c19b2e2cd636cae3c9",
    "tags": [],
    "deepnote_cell_type": "markdown",
    "deepnote_cell_height": 52.390625
   }
  },
  {
   "cell_type": "code",
   "metadata": {
    "cell_id": "96af44854caf4cefadbc8abbd83cf7c7",
    "tags": [],
    "deepnote_to_be_reexecuted": false,
    "source_hash": "5ceb549f",
    "execution_start": 1652130574183,
    "execution_millis": 4670,
    "deepnote_cell_type": "code",
    "deepnote_cell_height": 135
   },
   "source": "#getting only asthma for second p-val\nasthma_disease_big = CDC_chronic_diseases.where(CDC_chronic_diseases['Topic'] == 'Asthma')\nasthma_disease = asthma_disease_big.where(asthma_disease_big['DataValueType'] == 'Number')\nasthma_disease = asthma_disease[asthma_disease['DataValue'].notnull()]",
   "execution_count": 56,
   "outputs": []
  },
  {
   "cell_type": "code",
   "metadata": {
    "cell_id": "0f0c09acb5dd474d9c80bd277862ea5a",
    "tags": [],
    "deepnote_to_be_reexecuted": false,
    "source_hash": "d033822f",
    "execution_start": 1652130578858,
    "execution_millis": 41,
    "deepnote_cell_type": "code",
    "deepnote_cell_height": 153
   },
   "source": "# dividing asthma dataset into control and treatment groups\nasthma_control = asthma_disease.where(asthma_disease[\"LocationAbbr\"].isin(control_state_names))\nasthma_control = asthma_control[asthma_control['DataValue'].notnull()]\nasthma_treatment = asthma_disease.where(asthma_disease[\"LocationAbbr\"].isin(treatment_state_names))\nasthma_treatment = asthma_treatment[asthma_treatment['DataValue'].notnull()]",
   "execution_count": 57,
   "outputs": []
  },
  {
   "cell_type": "code",
   "metadata": {
    "cell_id": "6025c1f32100416592a889c922c18d46",
    "tags": [],
    "deepnote_to_be_reexecuted": false,
    "source_hash": "7b92e9e9",
    "execution_start": 1652130578903,
    "execution_millis": 30,
    "deepnote_cell_type": "code",
    "deepnote_cell_height": 219.6875
   },
   "source": "asthma_control['DataValue'] = asthma_control['DataValue'].astype('float64')\nasthma_treatment['DataValue'] = asthma_treatment['DataValue'].astype('float64')\n\n#conducting t-test and retrieving the p-value for our analysis\nt_stat_asthma, p_val_asthma = stats.ttest_ind(np.array(asthma_control['DataValue']), np.array(asthma_treatment['DataValue']), equal_var = False, alternative='greater', random_state=38)\np_vals.append(p_val_asthma)\nprint(t_stat_asthma, p_val_asthma)",
   "execution_count": 58,
   "outputs": [
    {
     "name": "stdout",
     "text": "-5.252987298437799 0.9999999185150269\n",
     "output_type": "stream"
    }
   ]
  },
  {
   "cell_type": "markdown",
   "source": "COPD:",
   "metadata": {
    "cell_id": "cfe33031e4bb444d8bb387a605c9e07e",
    "tags": [],
    "deepnote_cell_type": "markdown",
    "deepnote_cell_height": 52.390625
   }
  },
  {
   "cell_type": "code",
   "metadata": {
    "cell_id": "8b96e0af7d044c5497ff75b9fa008059",
    "tags": [],
    "deepnote_to_be_reexecuted": false,
    "source_hash": "866f803f",
    "execution_start": 1652130578935,
    "execution_millis": 2355,
    "deepnote_cell_type": "code",
    "deepnote_cell_height": 99
   },
   "source": "#getting only COPD for third p-val\nCOPD_big = CDC_chronic_diseases.where(CDC_chronic_diseases['Topic'] == 'Chronic Obstructive Pulmonary Disease')",
   "execution_count": 59,
   "outputs": []
  },
  {
   "cell_type": "code",
   "source": "COPD_disease = COPD_big.where(COPD_big['DataValueType'] == 'Number')",
   "metadata": {
    "cell_id": "b97a5e99f609408481e1e65fae3a69cb",
    "tags": [],
    "deepnote_to_be_reexecuted": false,
    "source_hash": "f8a119c7",
    "execution_start": 1652130581297,
    "execution_millis": 2157,
    "deepnote_cell_type": "code",
    "deepnote_cell_height": 81
   },
   "outputs": [],
   "execution_count": 60
  },
  {
   "cell_type": "code",
   "source": "COPD_disease = COPD_disease[COPD_disease['DataValue'].notnull()]",
   "metadata": {
    "cell_id": "1703176ab73b43e79d53cc81b785d28e",
    "tags": [],
    "deepnote_to_be_reexecuted": false,
    "source_hash": "14b7a953",
    "execution_start": 1652130583461,
    "execution_millis": 400,
    "deepnote_cell_type": "code",
    "deepnote_cell_height": 81
   },
   "outputs": [],
   "execution_count": 61
  },
  {
   "cell_type": "code",
   "metadata": {
    "cell_id": "29918ff3348d480db16d5502e7063fd6",
    "tags": [],
    "deepnote_to_be_reexecuted": false,
    "source_hash": "a7d0901",
    "execution_start": 1652130583874,
    "execution_millis": 109,
    "deepnote_cell_type": "code",
    "deepnote_cell_height": 153
   },
   "source": "# dividing COPD dataset into control and treatment groups\nCOPD_control = COPD_disease.where(COPD_disease[\"LocationAbbr\"].isin(control_state_names))\nCOPD_control = COPD_control[COPD_control['DataValue'].notnull()]\nCOPD_treatment = COPD_disease.where(COPD_disease[\"LocationAbbr\"].isin(treatment_state_names))\nCOPD_treatment = COPD_treatment[COPD_treatment['DataValue'].notnull()]",
   "execution_count": 62,
   "outputs": []
  },
  {
   "cell_type": "code",
   "metadata": {
    "cell_id": "0cc0a0c601bf48a9bc0a47e4c1202b0b",
    "tags": [],
    "deepnote_to_be_reexecuted": false,
    "source_hash": "86119c89",
    "execution_start": 1652130583995,
    "execution_millis": 58,
    "deepnote_cell_type": "code",
    "deepnote_cell_height": 219.6875
   },
   "source": "COPD_control['DataValue'] = COPD_control['DataValue'].astype('float64')\nCOPD_treatment['DataValue'] = COPD_treatment['DataValue'].astype('float64')\n\n#conducting t-test and retrieving the p-value for our analysis\nt_stat_COPD, p_val_COPD = stats.ttest_ind(np.array(COPD_control['DataValue']), np.array(COPD_treatment['DataValue']), equal_var = False, alternative='greater', random_state=38)\np_vals.append(p_val_COPD)\nprint(t_stat_COPD, p_val_COPD)",
   "execution_count": 63,
   "outputs": [
    {
     "name": "stdout",
     "text": "-7.5170359843061965 0.9999999999999701\n",
     "output_type": "stream"
    }
   ]
  },
  {
   "cell_type": "markdown",
   "source": "Cancer:",
   "metadata": {
    "cell_id": "8d42f56ff1f142dba30a27a59dde69ef",
    "tags": [],
    "deepnote_cell_type": "markdown",
    "deepnote_cell_height": 52.390625
   }
  },
  {
   "cell_type": "code",
   "metadata": {
    "cell_id": "325ae2895d0049648aeebc5a37c2dc4d",
    "tags": [],
    "deepnote_to_be_reexecuted": false,
    "source_hash": "394be19f",
    "execution_start": 1652130584067,
    "execution_millis": 2391,
    "deepnote_cell_type": "code",
    "deepnote_cell_height": 99
   },
   "source": "#getting only cancer for fourth p-val\ncancer_big = CDC_chronic_diseases.where(CDC_chronic_diseases['Topic'] == 'Cancer')",
   "execution_count": 64,
   "outputs": []
  },
  {
   "cell_type": "code",
   "source": "cancer_disease = cancer_big.where(cancer_big['DataValueType'] == 'Average Annual Number')\n",
   "metadata": {
    "cell_id": "74f0aa25f387467b8c633f1c36dcdb10",
    "tags": [],
    "deepnote_to_be_reexecuted": false,
    "source_hash": "9557c46e",
    "execution_start": 1652130586572,
    "execution_millis": 2314,
    "deepnote_cell_type": "code",
    "deepnote_cell_height": 99
   },
   "outputs": [],
   "execution_count": 65
  },
  {
   "cell_type": "code",
   "source": "cancer_disease = cancer_disease[cancer_disease['DataValue'].notnull()]",
   "metadata": {
    "cell_id": "ae06d61112d246bf8a801ec0ef924e70",
    "tags": [],
    "deepnote_to_be_reexecuted": false,
    "source_hash": "a7225462",
    "execution_start": 1652130588886,
    "execution_millis": 478,
    "deepnote_cell_type": "code",
    "deepnote_cell_height": 81
   },
   "outputs": [],
   "execution_count": 66
  },
  {
   "cell_type": "code",
   "metadata": {
    "cell_id": "6e814a1bc58d4e3fb11e3f5dc3e475f2",
    "tags": [],
    "deepnote_to_be_reexecuted": false,
    "source_hash": "b773acfb",
    "execution_start": 1652130589371,
    "execution_millis": 181,
    "deepnote_cell_type": "code",
    "deepnote_cell_height": 153
   },
   "source": "# dividing cancer dataset into control and treatment groups\ncancer_control = cancer_disease.where(cancer_disease[\"LocationAbbr\"].isin(control_state_names))\ncancer_control = cancer_control[cancer_control['DataValue'].notnull()]\ncancer_treatment = cancer_disease.where(cancer_disease[\"LocationAbbr\"].isin(treatment_state_names))\ncancer_treatment = cancer_treatment[cancer_treatment['DataValue'].notnull()]",
   "execution_count": 67,
   "outputs": []
  },
  {
   "cell_type": "code",
   "metadata": {
    "cell_id": "55a87af88db5476d9617746c81ae8d6e",
    "tags": [],
    "deepnote_to_be_reexecuted": false,
    "source_hash": "293f262e",
    "execution_start": 1652130589553,
    "execution_millis": 56,
    "deepnote_cell_type": "code",
    "deepnote_cell_height": 219.6875
   },
   "source": "cancer_control['DataValue'] = cancer_control['DataValue'].astype('float64')\ncancer_treatment['DataValue'] = cancer_treatment['DataValue'].astype('float64')\n\n#conducting t-test and retrieving the p-value for our analysis\nt_stat_cancer, p_val_cancer = stats.ttest_ind(np.array(cancer_control['DataValue']), np.array(cancer_treatment['DataValue']), equal_var = False, alternative='greater', random_state=38)\np_vals.append(p_val_cancer)\nprint(t_stat_cancer, p_val_cancer)",
   "execution_count": 68,
   "outputs": [
    {
     "name": "stdout",
     "text": "-12.479354926322683 1.0\n",
     "output_type": "stream"
    }
   ]
  },
  {
   "cell_type": "markdown",
   "source": "Tobacco:",
   "metadata": {
    "cell_id": "7c8c96d7814a4c118faca78957ae61f6",
    "tags": [],
    "deepnote_cell_type": "markdown",
    "deepnote_cell_height": 52.390625
   }
  },
  {
   "cell_type": "code",
   "metadata": {
    "cell_id": "01dbed234dbd4facb62d5c63f192e5d2",
    "tags": [],
    "deepnote_to_be_reexecuted": false,
    "source_hash": "98295237",
    "execution_start": 1652130589597,
    "execution_millis": 2049,
    "deepnote_cell_type": "code",
    "deepnote_cell_height": 99
   },
   "source": "#getting only tobacco for fifth p-val\ntobacco_big = CDC_chronic_diseases.where(CDC_chronic_diseases['Topic'] == 'Tobacco')",
   "execution_count": 69,
   "outputs": []
  },
  {
   "cell_type": "code",
   "source": "tobacco_disease = tobacco_big[tobacco_big['DataValueType'] == 'Number']",
   "metadata": {
    "cell_id": "51ef86dde217429e80f4e8624a88b869",
    "tags": [],
    "deepnote_to_be_reexecuted": false,
    "source_hash": "8b2bb607",
    "execution_start": 1652130591650,
    "execution_millis": 337,
    "deepnote_cell_type": "code",
    "deepnote_cell_height": 81
   },
   "outputs": [],
   "execution_count": 70
  },
  {
   "cell_type": "code",
   "metadata": {
    "cell_id": "7c257c6ddae346b79de45c102aaa0431",
    "tags": [],
    "deepnote_to_be_reexecuted": false,
    "source_hash": "b6cf802a",
    "execution_start": 1652130591992,
    "execution_millis": 19,
    "deepnote_cell_type": "code",
    "deepnote_cell_height": 81
   },
   "source": "tobacco_disease = tobacco_disease[tobacco_disease['DataValue'].notnull()]",
   "execution_count": 71,
   "outputs": []
  },
  {
   "cell_type": "code",
   "metadata": {
    "cell_id": "edab9ed845aa4e3f93dfb7662c481793",
    "tags": [],
    "deepnote_to_be_reexecuted": false,
    "source_hash": "de198d9d",
    "execution_start": 1652130592043,
    "execution_millis": 11,
    "deepnote_cell_type": "code",
    "deepnote_cell_height": 153
   },
   "source": "# dividing tobacco dataset into control and treatment groups\ntobacco_control = tobacco_disease.where(tobacco_disease[\"LocationAbbr\"].isin(control_state_names))\ntobacco_control = tobacco_control[tobacco_control['DataValue'].notnull()]\ntobacco_treatment = tobacco_disease.where(tobacco_disease[\"LocationAbbr\"].isin(treatment_state_names))\ntobacco_treatment = tobacco_treatment[tobacco_treatment['DataValue'].notnull()]",
   "execution_count": 72,
   "outputs": []
  },
  {
   "cell_type": "code",
   "source": "tobacco_control['DataValue'] = tobacco_control['DataValue'].astype('float64')\ntobacco_treatment['DataValue'] = tobacco_treatment['DataValue'].astype('float64')\n\n#conducting t-test and retrieving the p-value for our analysis\nt_stat_tobacco, p_val_tobacco = stats.ttest_ind(np.array(tobacco_control['DataValue']), np.array(tobacco_treatment['DataValue']), equal_var = False, alternative='greater', random_state=38)\np_vals.append(p_val_tobacco)\nprint(t_stat_tobacco, p_val_tobacco)",
   "metadata": {
    "cell_id": "fedffda919e74fa59dd1d097136ae767",
    "tags": [],
    "deepnote_to_be_reexecuted": false,
    "source_hash": "e6b16fd7",
    "execution_start": 1652130592078,
    "execution_millis": 9574970,
    "deepnote_cell_type": "code",
    "deepnote_cell_height": 219.6875
   },
   "outputs": [
    {
     "name": "stdout",
     "text": "7.323323104881993 1.231665596463852e-12\n",
     "output_type": "stream"
    }
   ],
   "execution_count": 73
  },
  {
   "cell_type": "markdown",
   "source": "Alcohol:",
   "metadata": {
    "cell_id": "2b8139ca6d3a4a16badabc9ac1281b59",
    "tags": [],
    "deepnote_cell_type": "markdown",
    "deepnote_cell_height": 52.390625
   }
  },
  {
   "cell_type": "code",
   "metadata": {
    "cell_id": "bb911af16ede484abea9d3c03bb20797",
    "tags": [],
    "deepnote_to_be_reexecuted": false,
    "source_hash": "c7db1f92",
    "execution_start": 1652130592094,
    "execution_millis": 254,
    "deepnote_cell_type": "code",
    "deepnote_cell_height": 99
   },
   "source": "#getting only alc for sixth p-val\nalcohol_big = CDC_chronic_diseases[CDC_chronic_diseases['Topic'] == 'Alcohol']",
   "execution_count": 74,
   "outputs": []
  },
  {
   "cell_type": "code",
   "metadata": {
    "cell_id": "d51984131d6b416088aa7d43ac5bd4bf",
    "tags": [],
    "deepnote_to_be_reexecuted": false,
    "source_hash": "1e820c42",
    "execution_start": 1652130592350,
    "execution_millis": 79,
    "deepnote_cell_type": "code",
    "deepnote_cell_height": 81
   },
   "source": "alcohol_disease = alcohol_big.where(alcohol_big['DataValueType'] == 'Number')",
   "execution_count": 75,
   "outputs": []
  },
  {
   "cell_type": "code",
   "metadata": {
    "cell_id": "43d935c2adb843b39a02f4a98f926d80",
    "tags": [],
    "deepnote_to_be_reexecuted": false,
    "source_hash": "35ebf948",
    "execution_start": 1652130592439,
    "execution_millis": 23,
    "deepnote_cell_type": "code",
    "deepnote_cell_height": 81
   },
   "source": "alcohol_disease = alcohol_disease[alcohol_disease['DataValue'].notnull()]",
   "execution_count": 76,
   "outputs": []
  },
  {
   "cell_type": "code",
   "metadata": {
    "cell_id": "2dd7e30f854e49be9ca7b3d89277754b",
    "tags": [],
    "deepnote_to_be_reexecuted": false,
    "source_hash": "a1c50af5",
    "execution_start": 1652130592468,
    "execution_millis": 43,
    "deepnote_cell_type": "code",
    "deepnote_cell_height": 153
   },
   "source": "# dividing alcohol dataset into control and treatment groups\nalcohol_control = alcohol_disease.where(alcohol_disease[\"LocationAbbr\"].isin(control_state_names))\nalcohol_control = alcohol_control[alcohol_control['DataValue'].notnull()]\nalcohol_treatment = alcohol_disease.where(alcohol_disease[\"LocationAbbr\"].isin(treatment_state_names))\nalcohol_treatment = alcohol_treatment[alcohol_treatment['DataValue'].notnull()]",
   "execution_count": 77,
   "outputs": []
  },
  {
   "cell_type": "code",
   "metadata": {
    "cell_id": "1b2a0696a6bc4e3ba4b070bc1a00735a",
    "tags": [],
    "deepnote_to_be_reexecuted": false,
    "source_hash": "cc815c69",
    "execution_start": 1652130592517,
    "execution_millis": 26,
    "deepnote_cell_type": "code",
    "deepnote_cell_height": 219.6875
   },
   "source": "alcohol_control['DataValue'] = alcohol_control['DataValue'].astype('float64')\nalcohol_treatment['DataValue'] = alcohol_treatment['DataValue'].astype('float64')\n\n#conducting t-test and retrieving the p-value for our analysis\nt_stat_alcohol, p_val_alcohol = stats.ttest_ind(np.array(alcohol_control['DataValue']), np.array(alcohol_treatment['DataValue']), equal_var = False, alternative='greater', random_state=38)\np_vals.append(p_val_alcohol)\nprint(t_stat_alcohol, p_val_alcohol)",
   "execution_count": 78,
   "outputs": [
    {
     "name": "stdout",
     "text": "-8.721961998664998 1.0\n",
     "output_type": "stream"
    }
   ]
  },
  {
   "cell_type": "code",
   "source": "diseases_to_test",
   "metadata": {
    "cell_id": "f1798ba028ad4592bacb0afccb78aa97",
    "tags": [],
    "deepnote_to_be_reexecuted": false,
    "source_hash": "a1f030ae",
    "execution_start": 1652130592550,
    "execution_millis": 60,
    "deepnote_cell_type": "code",
    "deepnote_cell_height": 156.578125,
    "deepnote_output_heights": [
     59.578125
    ]
   },
   "outputs": [
    {
     "output_type": "execute_result",
     "execution_count": 79,
     "data": {
      "text/plain": "array(['Cardiovascular Disease', 'Asthma',\n       'Chronic Obstructive Pulmonary Disease', 'Cancer', 'Tobacco',\n       'Alcohol'], dtype='<U37')"
     },
     "metadata": {}
    }
   ],
   "execution_count": 79
  },
  {
   "cell_type": "code",
   "source": "# compare p-values to diseases_to_test array. The p-values correspond to the diseases in that array and can be\n# matched by their indexes\np_vals = np.array(p_vals)\np_vals ",
   "metadata": {
    "cell_id": "04b5acf003404ce1ba5d49688aa05502",
    "tags": [],
    "deepnote_to_be_reexecuted": false,
    "source_hash": "b2a396b0",
    "execution_start": 1652130592608,
    "execution_millis": 3,
    "deepnote_cell_type": "code",
    "deepnote_cell_height": 191.390625,
    "deepnote_output_heights": [
     40.390625
    ]
   },
   "outputs": [
    {
     "output_type": "execute_result",
     "execution_count": 80,
     "data": {
      "text/plain": "array([1.00000000e+00, 9.99999919e-01, 1.00000000e+00, 1.00000000e+00,\n       1.23166560e-12, 1.00000000e+00])"
     },
     "metadata": {}
    }
   ],
   "execution_count": 80
  },
  {
   "cell_type": "markdown",
   "source": "Now we will control alpha.",
   "metadata": {
    "cell_id": "75d068983d9944a0b1b93c633cfa910b",
    "tags": [],
    "deepnote_cell_type": "markdown",
    "deepnote_cell_height": 52.390625
   }
  },
  {
   "cell_type": "code",
   "source": "# code produced in lab 1\ndef benjamini_hochberg(p_values, alpha):\n    \"\"\"\n    Returns decisions on p-values using Benjamini-Hochberg.\n    \n    Inputs:\n        p_values: array of p-values\n        alpha: desired FDR (FDR = E[# false positives / # positives])\n    \n    Returns:\n        decisions: binary array of same length as p-values, where `decisions[i]` is 1\n        if `p_values[i]` is deemed significant, and 0 otherwise\n    \"\"\"\n    sorted_p_values = np.sort(p_values) \n    threshold = sorted_p_values[0]\n    for i in range(len(p_values)):\n        if sorted_p_values[i] < (i+1) * alpha / len(p_values):\n            threshold = sorted_p_values[i]\n    decisions = p_values <= threshold\n    return decisions",
   "metadata": {
    "cell_id": "ab0300999d4940f080a243750f0c06af",
    "tags": [],
    "deepnote_to_be_reexecuted": false,
    "source_hash": "5eb4648e",
    "execution_start": 1652130592609,
    "execution_millis": 0,
    "deepnote_cell_type": "code",
    "deepnote_cell_height": 423
   },
   "outputs": [],
   "execution_count": 81
  },
  {
   "cell_type": "code",
   "source": "#code produced in lab 1\ndef bonferroni(p_values, alpha_total):\n    \"\"\"\n    Returns decisions on p-values using the Bonferroni correction.\n    \n    Inputs:\n        p_values: array of p-values\n        alpha_total: desired family-wise error rate (FWER = P(at least one false discovery))\n    \n    Returns:\n        decisions: binary array of same length as p-values, where `decisions[i]` is 1\n        if `p_values[i]` is deemed significant, and 0 otherwise\n    \"\"\"\n\n    decisions = p_values <= (alpha_total / len(p_values))\n    return decisions",
   "metadata": {
    "cell_id": "f2e04f8159c7416e994837915dd08694",
    "tags": [],
    "deepnote_to_be_reexecuted": false,
    "source_hash": "f1671ba0",
    "execution_start": 1652130592694,
    "execution_millis": 4,
    "deepnote_cell_type": "code",
    "deepnote_cell_height": 351
   },
   "outputs": [],
   "execution_count": 82
  },
  {
   "cell_type": "code",
   "source": "bonferroni_decisions = bonferroni(p_vals, 0.05)\nBH_decisions = benjamini_hochberg(p_vals, 0.05)",
   "metadata": {
    "cell_id": "92d19e1caaa943f38cc9aaf5b5bdaaec",
    "tags": [],
    "deepnote_to_be_reexecuted": false,
    "source_hash": "eed15629",
    "execution_start": 1652130592699,
    "execution_millis": 9575366,
    "deepnote_cell_type": "code",
    "deepnote_cell_height": 99
   },
   "outputs": [],
   "execution_count": 83
  },
  {
   "cell_type": "code",
   "source": "bonferroni_decisions",
   "metadata": {
    "cell_id": "228c935b398b441681c0e9cd83f3813b",
    "tags": [],
    "deepnote_to_be_reexecuted": false,
    "source_hash": "9f27b00b",
    "execution_start": 1652130592700,
    "execution_millis": 9575360,
    "deepnote_cell_type": "code",
    "deepnote_cell_height": 118.1875,
    "deepnote_output_heights": [
     21.1875
    ]
   },
   "outputs": [
    {
     "output_type": "execute_result",
     "execution_count": 84,
     "data": {
      "text/plain": "array([False, False, False, False,  True, False])"
     },
     "metadata": {}
    }
   ],
   "execution_count": 84
  },
  {
   "cell_type": "code",
   "source": "BH_decisions",
   "metadata": {
    "cell_id": "9412a8bbb5e14a489e9353ef67659e6f",
    "tags": [],
    "deepnote_to_be_reexecuted": false,
    "source_hash": "c5e0fd19",
    "execution_start": 1652130592729,
    "execution_millis": 25,
    "deepnote_cell_type": "code",
    "deepnote_cell_height": 118.1875,
    "deepnote_output_heights": [
     21.1875
    ]
   },
   "outputs": [
    {
     "output_type": "execute_result",
     "execution_count": 85,
     "data": {
      "text/plain": "array([False, False, False, False,  True, False])"
     },
     "metadata": {}
    }
   ],
   "execution_count": 85
  },
  {
   "cell_type": "code",
   "source": "diseases_to_test",
   "metadata": {
    "cell_id": "65a5f647d41f4299bed64d8929690d9e",
    "tags": [],
    "deepnote_to_be_reexecuted": false,
    "source_hash": "a1f030ae",
    "execution_start": 1652130592740,
    "execution_millis": 9575383,
    "deepnote_cell_type": "code",
    "deepnote_cell_height": 156.578125,
    "deepnote_output_heights": [
     59.578125
    ]
   },
   "outputs": [
    {
     "output_type": "execute_result",
     "execution_count": 86,
     "data": {
      "text/plain": "array(['Cardiovascular Disease', 'Asthma',\n       'Chronic Obstructive Pulmonary Disease', 'Cancer', 'Tobacco',\n       'Alcohol'], dtype='<U37')"
     },
     "metadata": {}
    }
   ],
   "execution_count": 86
  },
  {
   "cell_type": "code",
   "source": "p_vals",
   "metadata": {
    "cell_id": "1212a9fa9d3e43989015a96958f2e7db",
    "tags": [],
    "deepnote_to_be_reexecuted": false,
    "source_hash": "fcde4f05",
    "execution_start": 1652130592815,
    "execution_millis": 14,
    "deepnote_cell_type": "code",
    "deepnote_cell_height": 137.390625,
    "deepnote_output_heights": [
     40.390625
    ]
   },
   "outputs": [
    {
     "output_type": "execute_result",
     "execution_count": 87,
     "data": {
      "text/plain": "array([1.00000000e+00, 9.99999919e-01, 1.00000000e+00, 1.00000000e+00,\n       1.23166560e-12, 1.00000000e+00])"
     },
     "metadata": {}
    }
   ],
   "execution_count": 87
  },
  {
   "cell_type": "code",
   "source": "#decisions: binary array of same length as p-values, where `decisions[i]` is true\n# if `p_values[i]` is deemed significant, and false otherwise\ndecisions = pd.DataFrame()\ndecisions[\"diseases\"] = diseases_to_test\ndecisions[\"p-value\"] = p_vals\ndecisions[\"Bonferroni decisions\"] = bonferroni_decisions\ndecisions[\"B-H decisions\"] = BH_decisions\ndecisions",
   "metadata": {
    "cell_id": "20d852aad1d7483bbb6882590181786f",
    "tags": [],
    "deepnote_to_be_reexecuted": false,
    "source_hash": "6ad106b4",
    "execution_start": 1652130592822,
    "execution_millis": 1129,
    "deepnote_cell_type": "code",
    "deepnote_cell_height": 562
   },
   "outputs": [
    {
     "output_type": "execute_result",
     "execution_count": 88,
     "data": {
      "application/vnd.deepnote.dataframe.v3+json": {
       "column_count": 4,
       "row_count": 6,
       "columns": [
        {
         "name": "diseases",
         "dtype": "object",
         "stats": {
          "unique_count": 6,
          "nan_count": 0,
          "categories": [
           {
            "name": "Cardiovascular Disease",
            "count": 1
           },
           {
            "name": "Asthma",
            "count": 1
           },
           {
            "name": "4 others",
            "count": 4
           }
          ]
         }
        },
        {
         "name": "p-value",
         "dtype": "float64",
         "stats": {
          "unique_count": 4,
          "nan_count": 0,
          "min": "1.231665596463852e-12",
          "max": "1.0",
          "histogram": [
           {
            "bin_start": 1.231665596463852e-12,
            "bin_end": 0.1000000000011085,
            "count": 1
           },
           {
            "bin_start": 0.1000000000011085,
            "bin_end": 0.2000000000009853,
            "count": 0
           },
           {
            "bin_start": 0.2000000000009853,
            "bin_end": 0.30000000000086213,
            "count": 0
           },
           {
            "bin_start": 0.30000000000086213,
            "bin_end": 0.400000000000739,
            "count": 0
           },
           {
            "bin_start": 0.400000000000739,
            "bin_end": 0.5000000000006158,
            "count": 0
           },
           {
            "bin_start": 0.5000000000006158,
            "bin_end": 0.6000000000004926,
            "count": 0
           },
           {
            "bin_start": 0.6000000000004926,
            "bin_end": 0.7000000000003694,
            "count": 0
           },
           {
            "bin_start": 0.7000000000003694,
            "bin_end": 0.8000000000002463,
            "count": 0
           },
           {
            "bin_start": 0.8000000000002463,
            "bin_end": 0.9000000000001231,
            "count": 0
           },
           {
            "bin_start": 0.9000000000001231,
            "bin_end": 1,
            "count": 5
           }
          ]
         }
        },
        {
         "name": "Bonferroni decisions",
         "dtype": "bool",
         "stats": {
          "unique_count": 2,
          "nan_count": 0,
          "categories": [
           {
            "name": "False",
            "count": 5
           },
           {
            "name": "True",
            "count": 1
           }
          ]
         }
        },
        {
         "name": "B-H decisions",
         "dtype": "bool",
         "stats": {
          "unique_count": 2,
          "nan_count": 0,
          "categories": [
           {
            "name": "False",
            "count": 5
           },
           {
            "name": "True",
            "count": 1
           }
          ]
         }
        },
        {
         "name": "_deepnote_index_column",
         "dtype": "int64"
        }
       ],
       "rows": [
        {
         "diseases": "Cardiovascular Disease",
         "p-value": 1,
         "Bonferroni decisions": false,
         "B-H decisions": false,
         "_deepnote_index_column": 0
        },
        {
         "diseases": "Asthma",
         "p-value": 0.9999999185150269,
         "Bonferroni decisions": false,
         "B-H decisions": false,
         "_deepnote_index_column": 1
        },
        {
         "diseases": "Chronic Obstructive Pulmonary Disease",
         "p-value": 0.9999999999999701,
         "Bonferroni decisions": false,
         "B-H decisions": false,
         "_deepnote_index_column": 2
        },
        {
         "diseases": "Cancer",
         "p-value": 1,
         "Bonferroni decisions": false,
         "B-H decisions": false,
         "_deepnote_index_column": 3
        },
        {
         "diseases": "Tobacco",
         "p-value": 1.231665596463852e-12,
         "Bonferroni decisions": true,
         "B-H decisions": true,
         "_deepnote_index_column": 4
        },
        {
         "diseases": "Alcohol",
         "p-value": 1,
         "Bonferroni decisions": false,
         "B-H decisions": false,
         "_deepnote_index_column": 5
        }
       ]
      },
      "text/plain": "                                diseases       p-value  Bonferroni decisions  \\\n0                 Cardiovascular Disease  1.000000e+00                 False   \n1                                 Asthma  9.999999e-01                 False   \n2  Chronic Obstructive Pulmonary Disease  1.000000e+00                 False   \n3                                 Cancer  1.000000e+00                 False   \n4                                Tobacco  1.231666e-12                  True   \n5                                Alcohol  1.000000e+00                 False   \n\n   B-H decisions  \n0          False  \n1          False  \n2          False  \n3          False  \n4           True  \n5          False  ",
      "text/html": "<div>\n<style scoped>\n    .dataframe tbody tr th:only-of-type {\n        vertical-align: middle;\n    }\n\n    .dataframe tbody tr th {\n        vertical-align: top;\n    }\n\n    .dataframe thead th {\n        text-align: right;\n    }\n</style>\n<table border=\"1\" class=\"dataframe\">\n  <thead>\n    <tr style=\"text-align: right;\">\n      <th></th>\n      <th>diseases</th>\n      <th>p-value</th>\n      <th>Bonferroni decisions</th>\n      <th>B-H decisions</th>\n    </tr>\n  </thead>\n  <tbody>\n    <tr>\n      <th>0</th>\n      <td>Cardiovascular Disease</td>\n      <td>1.000000e+00</td>\n      <td>False</td>\n      <td>False</td>\n    </tr>\n    <tr>\n      <th>1</th>\n      <td>Asthma</td>\n      <td>9.999999e-01</td>\n      <td>False</td>\n      <td>False</td>\n    </tr>\n    <tr>\n      <th>2</th>\n      <td>Chronic Obstructive Pulmonary Disease</td>\n      <td>1.000000e+00</td>\n      <td>False</td>\n      <td>False</td>\n    </tr>\n    <tr>\n      <th>3</th>\n      <td>Cancer</td>\n      <td>1.000000e+00</td>\n      <td>False</td>\n      <td>False</td>\n    </tr>\n    <tr>\n      <th>4</th>\n      <td>Tobacco</td>\n      <td>1.231666e-12</td>\n      <td>True</td>\n      <td>True</td>\n    </tr>\n    <tr>\n      <th>5</th>\n      <td>Alcohol</td>\n      <td>1.000000e+00</td>\n      <td>False</td>\n      <td>False</td>\n    </tr>\n  </tbody>\n</table>\n</div>"
     },
     "metadata": {}
    }
   ],
   "execution_count": 88
  },
  {
   "cell_type": "code",
   "source": "",
   "metadata": {
    "cell_id": "b931311f39d04c09999943adedde3ba4",
    "tags": [],
    "deepnote_to_be_reexecuted": false,
    "source_hash": "b623e53d",
    "execution_start": 1652130592942,
    "execution_millis": 11,
    "deepnote_cell_type": "code",
    "deepnote_cell_height": 81
   },
   "outputs": [],
   "execution_count": 88
  },
  {
   "cell_type": "markdown",
   "source": "<a style='text-decoration:none;line-height:16px;display:flex;color:#5B5B62;padding:10px;justify-content:end;' href='https://deepnote.com?utm_source=created-in-deepnote-cell&projectId=03c36464-3e18-408f-9bf1-2a80c504b533' target=\"_blank\">\n<img alt='Created in deepnote.com' style='display:inline;max-height:16px;margin:0px;margin-right:7.5px;' src='data:image/svg+xml;base64,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' > </img>\nCreated in <span style='font-weight:600;margin-left:4px;'>Deepnote</span></a>",
   "metadata": {
    "tags": [],
    "created_in_deepnote_cell": true,
    "deepnote_cell_type": "markdown"
   }
  }
 ],
 "nbformat": 4,
 "nbformat_minor": 2,
 "metadata": {
  "orig_nbformat": 2,
  "deepnote": {
   "is_reactive": false
  },
  "deepnote_notebook_id": "83128ddf-02ba-4d1b-b6c8-6332062ab6a6",
  "deepnote_execution_queue": [],
  "deepnote_app_layout": "article"
 }
}